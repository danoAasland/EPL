{
 "cells": [
  {
   "cell_type": "markdown",
   "metadata": {},
   "source": [
    "# Predicting EPL Result Using Classification"
   ]
  },
  {
   "cell_type": "markdown",
   "metadata": {},
   "source": [
    "## Notebook Contents:\n",
    "\n",
    "[Objective](#Objective)  \n",
    "[Data Prep/Summary](#DPS)  \n",
    "[Model](#model)"
   ]
  },
  {
   "cell_type": "markdown",
   "metadata": {},
   "source": [
    "<a id='Objective'></a>\n",
    "### Objective:\n",
    "Predict the probability of each matches results of English Premier League using past season and Pro Evolution Soccer data using classification.<br>\n",
    "We train seasons from 12/13 to 17/18 to predict 18/19 season. New teams promoted on 18/19 will be ignored."
   ]
  },
  {
   "cell_type": "code",
   "execution_count": 1,
   "metadata": {},
   "outputs": [
    {
     "name": "stderr",
     "output_type": "stream",
     "text": [
      "/anaconda3/lib/python3.6/site-packages/sklearn/ensemble/weight_boosting.py:29: DeprecationWarning: numpy.core.umath_tests is an internal NumPy module and should not be imported. It will be removed in a future NumPy release.\n",
      "  from numpy.core.umath_tests import inner1d\n"
     ]
    }
   ],
   "source": [
    "import pandas as pd\n",
    "from sklearn.linear_model import LogisticRegression\n",
    "from sklearn.ensemble import RandomForestClassifier, VotingClassifier, BaggingClassifier, ExtraTreesClassifier, AdaBoostClassifier, GradientBoostingClassifier\n",
    "from sklearn.neighbors import KNeighborsClassifier\n",
    "from sklearn.preprocessing import StandardScaler\n",
    "from sklearn.model_selection import train_test_split, GridSearchCV\n",
    "from scipy.stats import poisson"
   ]
  },
  {
   "cell_type": "markdown",
   "metadata": {},
   "source": [
    "<a id='DPS'></a>\n",
    "### Data Prep/Summary:\n",
    "- Pro Evloution Soccer Data (PES 14 - PES 19)\n",
    "- English Premier League Stats (2012 - Present)\n",
    "- English Premier League Fixtures (2012 - Present)"
   ]
  },
  {
   "cell_type": "code",
   "execution_count": 2,
   "metadata": {},
   "outputs": [],
   "source": [
    "# Current season Roster Power Index(RPI) from PES Database.\n",
    "# Each data is used to predict each season.\n",
    "# For example, use pes14 to predict (train) 14/15 season.\n",
    "# Merge PES 15 data with epl 1314 table in order to predict EPL 14/15 season.\n",
    "\n",
    "pes_data = pd.read_csv('./Data/pes_data.csv')"
   ]
  },
  {
   "cell_type": "code",
   "execution_count": 3,
   "metadata": {},
   "outputs": [],
   "source": [
    "# Past season RPIs and Match Power Index(MPI)from past season.\n",
    "\n",
    "epl_data = pd.read_csv('./Data/epl_data.csv')[['Season', 'Team', 'H_Att', 'A_Att', 'H_Def', 'A_Def', 'CS', 'YC', 'RC']]"
   ]
  },
  {
   "cell_type": "code",
   "execution_count": 4,
   "metadata": {
    "scrolled": true
   },
   "outputs": [],
   "source": [
    "# Merge two RPIs.\n",
    "# Merge PES 15 database and EPL 13/14 table.\n",
    "# Train 5 merged data to predict 18/19 season.\n",
    "\n",
    "# Add 1 to epl_data season to sync with PES data. \n",
    "# For example, we are using PES 19 data with stats from EPL 17/18(we saved this as Season = 18)\n",
    "epl_data['Season'] = epl_data['Season'] + 1\n",
    "\n",
    "pes_data = pd.merge(pes_data, epl_data, on=['Team','Season'], how='right')"
   ]
  },
  {
   "cell_type": "code",
   "execution_count": 5,
   "metadata": {},
   "outputs": [],
   "source": [
    "# Load EPL fixtures.\n",
    "epl_fixture = pd.read_csv('./Data/epl_fixture.csv')[['Season', 'HomeTeam', 'AwayTeam', 'FTR']]"
   ]
  },
  {
   "cell_type": "code",
   "execution_count": 6,
   "metadata": {},
   "outputs": [],
   "source": [
    "# Merge all features to fixture data\n",
    "\n",
    "def mergedata(epl_fixture):\n",
    "    for i in range(len(epl_fixture)):\n",
    "        season = epl_fixture.loc[i, 'Season']\n",
    "        hometeam = epl_fixture.loc[i, 'HomeTeam']\n",
    "        awayteam = epl_fixture.loc[i, 'AwayTeam']\n",
    "        try:\n",
    "            epl_fixture.loc[i, 'HtOff'] = pes_data[(pes_data['Season'] == season) & (pes_data['Team'] == hometeam)]['H_Att'].values[0]\n",
    "            epl_fixture.loc[i, 'HtDef'] = pes_data[(pes_data['Season'] == season) & (pes_data['Team'] == hometeam)]['H_Def'].values[0]\n",
    "            epl_fixture.loc[i, 'HtPesOvr'] = pes_data[(pes_data['Season'] == season) & (pes_data['Team'] == hometeam)]['Ovr'].values[0]\n",
    "            epl_fixture.loc[i, 'HtPesDef'] = pes_data[(pes_data['Season'] == season) & (pes_data['Team'] == hometeam)]['Def'].values[0]\n",
    "            epl_fixture.loc[i, 'HtPesOff'] = pes_data[(pes_data['Season'] == season) & (pes_data['Team'] == hometeam)]['Fwd'].values[0]\n",
    "            epl_fixture.loc[i, 'HtPesMid'] = pes_data[(pes_data['Season'] == season) & (pes_data['Team'] == hometeam)]['Mid'].values[0]\n",
    "            epl_fixture.loc[i, 'HtPesPhy'] = pes_data[(pes_data['Season'] == season) & (pes_data['Team'] == hometeam)]['Phy'].values[0]\n",
    "            epl_fixture.loc[i, 'HtPesSpd'] = pes_data[(pes_data['Season'] == season) & (pes_data['Team'] == hometeam)]['Spd'].values[0]\n",
    "            epl_fixture.loc[i, 'HtYC'] = pes_data[(pes_data['Season'] == season) & (pes_data['Team'] == hometeam)]['YC'].values[0]\n",
    "            epl_fixture.loc[i, 'HtRC'] = pes_data[(pes_data['Season'] == season) & (pes_data['Team'] == hometeam)]['RC'].values[0]\n",
    "            epl_fixture.loc[i, 'HtCS'] = pes_data[(pes_data['Season'] == season) & (pes_data['Team'] == hometeam)]['CS'].values[0]\n",
    "\n",
    "            epl_fixture.loc[i, 'AtOff'] = pes_data[(pes_data['Season'] == season) & (pes_data['Team'] == awayteam)]['A_Att'].values[0]\n",
    "            epl_fixture.loc[i, 'AtDef'] = pes_data[(pes_data['Season'] == season) & (pes_data['Team'] == awayteam)]['A_Def'].values[0]\n",
    "            epl_fixture.loc[i, 'AtPesOvr'] = pes_data[(pes_data['Season'] == season) & (pes_data['Team'] == awayteam)]['Ovr'].values[0]\n",
    "            epl_fixture.loc[i, 'AtPesDef'] = pes_data[(pes_data['Season'] == season) & (pes_data['Team'] == awayteam)]['Def'].values[0]\n",
    "            epl_fixture.loc[i, 'AtPesOff'] = pes_data[(pes_data['Season'] == season) & (pes_data['Team'] == awayteam)]['Fwd'].values[0]\n",
    "            epl_fixture.loc[i, 'AtPesMid'] = pes_data[(pes_data['Season'] == season) & (pes_data['Team'] == awayteam)]['Mid'].values[0]\n",
    "            epl_fixture.loc[i, 'AtPesPhy'] = pes_data[(pes_data['Season'] == season) & (pes_data['Team'] == awayteam)]['Phy'].values[0]\n",
    "            epl_fixture.loc[i, 'AtPesSpd'] = pes_data[(pes_data['Season'] == season) & (pes_data['Team'] == awayteam)]['Spd'].values[0]\n",
    "            epl_fixture.loc[i, 'AtYC'] = pes_data[(pes_data['Season'] == season) & (pes_data['Team'] == awayteam)]['YC'].values[0]\n",
    "            epl_fixture.loc[i, 'AtRC'] = pes_data[(pes_data['Season'] == season) & (pes_data['Team'] == awayteam)]['RC'].values[0]\n",
    "            epl_fixture.loc[i, 'AtCS'] = pes_data[(pes_data['Season'] == season) & (pes_data['Team'] == awayteam)]['CS'].values[0]\n",
    "\n",
    "        except IndexError:\n",
    "            pass\n",
    "        \n",
    "    return epl_fixture"
   ]
  },
  {
   "cell_type": "code",
   "execution_count": 9,
   "metadata": {},
   "outputs": [],
   "source": [
    "# Our final dataset for the classification\n",
    "# drop promoted teams\n",
    "mergedata(epl_fixture).dropna(inplace=True)"
   ]
  },
  {
   "cell_type": "code",
   "execution_count": 27,
   "metadata": {},
   "outputs": [
    {
     "data": {
      "text/html": [
       "<div>\n",
       "<style scoped>\n",
       "    .dataframe tbody tr th:only-of-type {\n",
       "        vertical-align: middle;\n",
       "    }\n",
       "\n",
       "    .dataframe tbody tr th {\n",
       "        vertical-align: top;\n",
       "    }\n",
       "\n",
       "    .dataframe thead th {\n",
       "        text-align: right;\n",
       "    }\n",
       "</style>\n",
       "<table border=\"1\" class=\"dataframe\">\n",
       "  <thead>\n",
       "    <tr style=\"text-align: right;\">\n",
       "      <th></th>\n",
       "      <th>Season</th>\n",
       "      <th>HomeTeam</th>\n",
       "      <th>AwayTeam</th>\n",
       "      <th>FTR</th>\n",
       "      <th>HtOff</th>\n",
       "      <th>HtDef</th>\n",
       "      <th>HtPesOvr</th>\n",
       "      <th>HtPesDef</th>\n",
       "      <th>HtPesOff</th>\n",
       "      <th>HtPesMid</th>\n",
       "      <th>...</th>\n",
       "      <th>AtDef</th>\n",
       "      <th>AtPesOvr</th>\n",
       "      <th>AtPesDef</th>\n",
       "      <th>AtPesOff</th>\n",
       "      <th>AtPesMid</th>\n",
       "      <th>AtPesPhy</th>\n",
       "      <th>AtPesSpd</th>\n",
       "      <th>AtYC</th>\n",
       "      <th>AtRC</th>\n",
       "      <th>AtCS</th>\n",
       "    </tr>\n",
       "  </thead>\n",
       "  <tbody>\n",
       "    <tr>\n",
       "      <th>0</th>\n",
       "      <td>14</td>\n",
       "      <td>Arsenal</td>\n",
       "      <td>Aston Villa</td>\n",
       "      <td>A</td>\n",
       "      <td>1.587838</td>\n",
       "      <td>0.976645</td>\n",
       "      <td>84.0</td>\n",
       "      <td>84.0</td>\n",
       "      <td>82.0</td>\n",
       "      <td>85.0</td>\n",
       "      <td>...</td>\n",
       "      <td>1.385135</td>\n",
       "      <td>79.0</td>\n",
       "      <td>79.0</td>\n",
       "      <td>81.0</td>\n",
       "      <td>79.0</td>\n",
       "      <td>78.0</td>\n",
       "      <td>79.0</td>\n",
       "      <td>70.0</td>\n",
       "      <td>3.0</td>\n",
       "      <td>5.0</td>\n",
       "    </tr>\n",
       "    <tr>\n",
       "      <th>1</th>\n",
       "      <td>14</td>\n",
       "      <td>Liverpool</td>\n",
       "      <td>Stoke City</td>\n",
       "      <td>H</td>\n",
       "      <td>1.114865</td>\n",
       "      <td>0.679406</td>\n",
       "      <td>82.0</td>\n",
       "      <td>82.0</td>\n",
       "      <td>83.0</td>\n",
       "      <td>82.0</td>\n",
       "      <td>...</td>\n",
       "      <td>0.777027</td>\n",
       "      <td>81.0</td>\n",
       "      <td>79.0</td>\n",
       "      <td>82.0</td>\n",
       "      <td>80.0</td>\n",
       "      <td>81.0</td>\n",
       "      <td>76.0</td>\n",
       "      <td>73.0</td>\n",
       "      <td>4.0</td>\n",
       "      <td>12.0</td>\n",
       "    </tr>\n",
       "    <tr>\n",
       "      <th>2</th>\n",
       "      <td>14</td>\n",
       "      <td>Norwich City</td>\n",
       "      <td>Everton</td>\n",
       "      <td>D</td>\n",
       "      <td>0.844595</td>\n",
       "      <td>0.849257</td>\n",
       "      <td>79.0</td>\n",
       "      <td>80.0</td>\n",
       "      <td>80.0</td>\n",
       "      <td>79.0</td>\n",
       "      <td>...</td>\n",
       "      <td>0.777027</td>\n",
       "      <td>80.0</td>\n",
       "      <td>81.0</td>\n",
       "      <td>79.0</td>\n",
       "      <td>83.0</td>\n",
       "      <td>79.0</td>\n",
       "      <td>77.0</td>\n",
       "      <td>57.0</td>\n",
       "      <td>3.0</td>\n",
       "      <td>11.0</td>\n",
       "    </tr>\n",
       "    <tr>\n",
       "      <th>3</th>\n",
       "      <td>14</td>\n",
       "      <td>Sunderland</td>\n",
       "      <td>Fulham</td>\n",
       "      <td>A</td>\n",
       "      <td>0.675676</td>\n",
       "      <td>0.806794</td>\n",
       "      <td>80.0</td>\n",
       "      <td>79.0</td>\n",
       "      <td>81.0</td>\n",
       "      <td>81.0</td>\n",
       "      <td>...</td>\n",
       "      <td>1.013514</td>\n",
       "      <td>80.0</td>\n",
       "      <td>80.0</td>\n",
       "      <td>84.0</td>\n",
       "      <td>80.0</td>\n",
       "      <td>78.0</td>\n",
       "      <td>76.0</td>\n",
       "      <td>48.0</td>\n",
       "      <td>3.0</td>\n",
       "      <td>8.0</td>\n",
       "    </tr>\n",
       "    <tr>\n",
       "      <th>4</th>\n",
       "      <td>14</td>\n",
       "      <td>Swansea City</td>\n",
       "      <td>Manchester Utd</td>\n",
       "      <td>A</td>\n",
       "      <td>0.945946</td>\n",
       "      <td>1.104034</td>\n",
       "      <td>79.0</td>\n",
       "      <td>78.0</td>\n",
       "      <td>80.0</td>\n",
       "      <td>80.0</td>\n",
       "      <td>...</td>\n",
       "      <td>0.810811</td>\n",
       "      <td>85.0</td>\n",
       "      <td>83.0</td>\n",
       "      <td>89.0</td>\n",
       "      <td>85.0</td>\n",
       "      <td>79.0</td>\n",
       "      <td>78.0</td>\n",
       "      <td>57.0</td>\n",
       "      <td>1.0</td>\n",
       "      <td>13.0</td>\n",
       "    </tr>\n",
       "  </tbody>\n",
       "</table>\n",
       "<p>5 rows × 26 columns</p>\n",
       "</div>"
      ],
      "text/plain": [
       "   Season      HomeTeam        AwayTeam FTR     HtOff     HtDef  HtPesOvr  \\\n",
       "0      14       Arsenal     Aston Villa   A  1.587838  0.976645      84.0   \n",
       "1      14     Liverpool      Stoke City   H  1.114865  0.679406      82.0   \n",
       "2      14  Norwich City         Everton   D  0.844595  0.849257      79.0   \n",
       "3      14    Sunderland          Fulham   A  0.675676  0.806794      80.0   \n",
       "4      14  Swansea City  Manchester Utd   A  0.945946  1.104034      79.0   \n",
       "\n",
       "   HtPesDef  HtPesOff  HtPesMid  ...      AtDef  AtPesOvr  AtPesDef  AtPesOff  \\\n",
       "0      84.0      82.0      85.0  ...   1.385135      79.0      79.0      81.0   \n",
       "1      82.0      83.0      82.0  ...   0.777027      81.0      79.0      82.0   \n",
       "2      80.0      80.0      79.0  ...   0.777027      80.0      81.0      79.0   \n",
       "3      79.0      81.0      81.0  ...   1.013514      80.0      80.0      84.0   \n",
       "4      78.0      80.0      80.0  ...   0.810811      85.0      83.0      89.0   \n",
       "\n",
       "   AtPesMid  AtPesPhy  AtPesSpd  AtYC  AtRC  AtCS  \n",
       "0      79.0      78.0      79.0  70.0   3.0   5.0  \n",
       "1      80.0      81.0      76.0  73.0   4.0  12.0  \n",
       "2      83.0      79.0      77.0  57.0   3.0  11.0  \n",
       "3      80.0      78.0      76.0  48.0   3.0   8.0  \n",
       "4      85.0      79.0      78.0  57.0   1.0  13.0  \n",
       "\n",
       "[5 rows x 26 columns]"
      ]
     },
     "execution_count": 27,
     "metadata": {},
     "output_type": "execute_result"
    }
   ],
   "source": [
    "epl_fixture.head()"
   ]
  },
  {
   "cell_type": "markdown",
   "metadata": {},
   "source": [
    "<a id='model'></a>\n",
    "### Model\n",
    "- KNN\n",
    "- Logistic Regression\n",
    "- Random Forest\n",
    "- Bagging Classifier\n",
    "- ExtraTrees Classifier\n",
    "- AdaBoost Classifier\n",
    "- Gradient Boosting Classifier\n",
    "- VC"
   ]
  },
  {
   "cell_type": "code",
   "execution_count": 11,
   "metadata": {},
   "outputs": [],
   "source": [
    "# Divide EPL fixtures from Season 13 to 18 and Season 19 (Games played current season so far)\n",
    "epl_past_fixture = epl_fixture[epl_fixture['Season'] < 19]\n",
    "epl_current_fixture = epl_fixture[epl_fixture['Season'] == 19]"
   ]
  },
  {
   "cell_type": "code",
   "execution_count": 12,
   "metadata": {},
   "outputs": [],
   "source": [
    "X = epl_past_fixture.drop(columns=(['HomeTeam', 'AwayTeam', 'FTR', 'Season']))\n",
    "y = epl_past_fixture['FTR']"
   ]
  },
  {
   "cell_type": "code",
   "execution_count": 13,
   "metadata": {},
   "outputs": [
    {
     "data": {
      "text/plain": [
       "Index(['HtOff', 'HtDef', 'HtPesOvr', 'HtPesDef', 'HtPesOff', 'HtPesMid',\n",
       "       'HtPesPhy', 'HtPesSpd', 'HtYC', 'HtRC', 'HtCS', 'AtOff', 'AtDef',\n",
       "       'AtPesOvr', 'AtPesDef', 'AtPesOff', 'AtPesMid', 'AtPesPhy', 'AtPesSpd',\n",
       "       'AtYC', 'AtRC', 'AtCS'],\n",
       "      dtype='object')"
      ]
     },
     "execution_count": 13,
     "metadata": {},
     "output_type": "execute_result"
    }
   ],
   "source": [
    "X.columns"
   ]
  },
  {
   "cell_type": "code",
   "execution_count": 14,
   "metadata": {},
   "outputs": [],
   "source": [
    "# Train test split our data\n",
    "X_train, X_test, y_train, y_test = train_test_split(X, y, random_state=42, stratify=y, test_size=.33)"
   ]
  },
  {
   "cell_type": "code",
   "execution_count": 15,
   "metadata": {},
   "outputs": [],
   "source": [
    "ss = StandardScaler()\n",
    "X_train = ss.fit_transform(X_train)\n",
    "X_test = ss.fit_transform(X_test)\n",
    "\n",
    "knn = KNeighborsClassifier(n_neighbors=5)\n",
    "lr = LogisticRegression(random_state=42)\n",
    "rf = RandomForestClassifier(random_state=42)\n",
    "bag = BaggingClassifier(random_state=42)\n",
    "etc = ExtraTreesClassifier(random_state=42)\n",
    "ada = AdaBoostClassifier(random_state=42)\n",
    "gbc = GradientBoostingClassifier(random_state=42)\n",
    "vc = VotingClassifier(estimators=[('lr', LogisticRegression()), ('knn', KNeighborsClassifier()),\n",
    "                                 ('bag', BaggingClassifier(n_estimators=5)), ('etc', ExtraTreesClassifier()),\n",
    "                                  ('ada', AdaBoostClassifier()), ('gbc', GradientBoostingClassifier())], voting='soft')\n",
    "\n",
    "knn.fit(X_train, y_train)\n",
    "lr.fit(X_train, y_train)\n",
    "rf.fit(X_train, y_train)\n",
    "bag.fit(X_train, y_train)\n",
    "etc.fit(X_train, y_train)\n",
    "ada.fit(X_train, y_train)\n",
    "gbc.fit(X_train, y_train)\n",
    "vc.fit(X_train, y_train);"
   ]
  },
  {
   "cell_type": "code",
   "execution_count": 16,
   "metadata": {},
   "outputs": [
    {
     "name": "stdout",
     "output_type": "stream",
     "text": [
      "---- Score on Train (Past Data) ----\n",
      "KNN:0.6081229418221734\n",
      "LR:0.5246981339187706\n",
      "RF:0.9791437980241493\n",
      "BAG:0.9780461031833151\n",
      "ETC:1.0\n",
      "ADA:0.58397365532382\n",
      "GBC:0.7552140504939627\n",
      "VC:0.9747530186608123\n",
      "---- Score on Test (Past Data)  ----\n",
      "KNN:0.42761692650334077\n",
      "LR:0.49443207126948774\n",
      "RF:0.4521158129175947\n",
      "BAG:0.43875278396436523\n",
      "ETC:0.44320712694877507\n",
      "ADA:0.45879732739420936\n",
      "GBC:0.48329621380846327\n",
      "VC:0.47216035634743875\n"
     ]
    },
    {
     "name": "stderr",
     "output_type": "stream",
     "text": [
      "/anaconda3/lib/python3.6/site-packages/sklearn/preprocessing/label.py:151: DeprecationWarning: The truth value of an empty array is ambiguous. Returning False, but in future this will result in an error. Use `array.size > 0` to check that an array is not empty.\n",
      "  if diff:\n",
      "/anaconda3/lib/python3.6/site-packages/sklearn/preprocessing/label.py:151: DeprecationWarning: The truth value of an empty array is ambiguous. Returning False, but in future this will result in an error. Use `array.size > 0` to check that an array is not empty.\n",
      "  if diff:\n"
     ]
    }
   ],
   "source": [
    "print('---- Score on Train (Past Data) ----')\n",
    "print('KNN:' + str(knn.score(X_train, y_train)))\n",
    "print('LR:' + str(lr.score(X_train, y_train)))\n",
    "print('RF:' + str(rf.score(X_train, y_train)))\n",
    "print('BAG:' + str(bag.score(X_train, y_train)))\n",
    "print('ETC:' + str(etc.score(X_train, y_train)))\n",
    "print('ADA:' + str(ada.score(X_train, y_train)))\n",
    "print('GBC:' + str(gbc.score(X_train, y_train)))\n",
    "print('VC:' + str(vc.score(X_train, y_train)))\n",
    "\n",
    "print('---- Score on Test (Past Data)  ----')\n",
    "print('KNN:' + str(knn.score(X_test, y_test)))\n",
    "print('LR:' + str(lr.score(X_test, y_test)))\n",
    "print('RF:' + str(rf.score(X_test, y_test)))\n",
    "print('BAG:' + str(bag.score(X_test, y_test)))\n",
    "print('ETC:' + str(etc.score(X_test, y_test)))\n",
    "print('ADA:' + str(ada.score(X_test, y_test)))\n",
    "print('GBC:' + str(gbc.score(X_test, y_test)))\n",
    "print('VC:' + str(vc.score(X_test, y_test)))"
   ]
  },
  {
   "cell_type": "code",
   "execution_count": 17,
   "metadata": {},
   "outputs": [],
   "source": [
    "# Predicting current season games\n",
    "cs_X = epl_current_fixture.drop(columns=(['HomeTeam', 'AwayTeam', 'FTR', 'Season']))\n",
    "cs_y = epl_current_fixture['FTR']"
   ]
  },
  {
   "cell_type": "code",
   "execution_count": 18,
   "metadata": {},
   "outputs": [],
   "source": [
    "ss = StandardScaler()\n",
    "cs_X = ss.fit_transform(cs_X)"
   ]
  },
  {
   "cell_type": "code",
   "execution_count": 19,
   "metadata": {},
   "outputs": [
    {
     "name": "stdout",
     "output_type": "stream",
     "text": [
      "---- Score on Test (Past Data)  ----\n",
      "KNN:0.5178571428571429\n",
      "LR:0.6071428571428571\n",
      "GBC:0.5714285714285714\n"
     ]
    }
   ],
   "source": [
    "print('---- Score on Test (Past Data)  ----')\n",
    "print('KNN:' + str(knn.score(cs_X, cs_y)))\n",
    "print('LR:' + str(lr.score(cs_X, cs_y)))\n",
    "print('GBC:' + str(gbc.score(cs_X, cs_y)))"
   ]
  },
  {
   "cell_type": "code",
   "execution_count": 20,
   "metadata": {},
   "outputs": [],
   "source": [
    "# Empty full fixture for 18/19\n",
    "# Create 380 rows(games) between teams\n",
    "\n",
    "teams = sorted(set(pd.read_csv('./Data/matchday.csv')['Team']))\n",
    "fixture_1819 = pd.DataFrame(columns=['HomeTeam', 'AwayTeam'])\n",
    "fixture_1819['HomeTeam'] = teams * 20\n",
    "for i in range(0, 400):\n",
    "     fixture_1819.loc[i, 'AwayTeam'] = teams[int(i/20)]\n",
    "fixture_1819 = fixture_1819[fixture_1819['HomeTeam'] != fixture_1819['AwayTeam']].reset_index(drop=True)\n",
    "fixture_1819['Season'] = 19"
   ]
  },
  {
   "cell_type": "code",
   "execution_count": 26,
   "metadata": {},
   "outputs": [],
   "source": [
    "mergedata(fixture_1819).dropna(inplace=True)"
   ]
  },
  {
   "cell_type": "code",
   "execution_count": 28,
   "metadata": {},
   "outputs": [
    {
     "data": {
      "text/plain": [
       "272"
      ]
     },
     "execution_count": 28,
     "metadata": {},
     "output_type": "execute_result"
    }
   ],
   "source": [
    "len(fixture_1819)"
   ]
  },
  {
   "cell_type": "code",
   "execution_count": 29,
   "metadata": {},
   "outputs": [],
   "source": [
    "fixture_X = fixture_1819.drop(columns=(['HomeTeam', 'AwayTeam', 'Season']))"
   ]
  },
  {
   "cell_type": "code",
   "execution_count": 35,
   "metadata": {},
   "outputs": [],
   "source": [
    "fixture_1819.loc[:, 'Result'] = lr.predict(fixture_X)\n",
    "fixture_1819.reset_index(inplace=True, drop=True)"
   ]
  },
  {
   "cell_type": "code",
   "execution_count": 36,
   "metadata": {},
   "outputs": [],
   "source": [
    "standing = pd.DataFrame(columns=(['Team', 'W', 'D', 'L', 'PTS', 'Rank']))\n",
    "standing['Team'] = teams\n",
    "standing[['PTS', 'W', 'L', 'D', 'Rank']]= 0"
   ]
  },
  {
   "cell_type": "code",
   "execution_count": 37,
   "metadata": {},
   "outputs": [],
   "source": [
    "for i in range(len(fixture_1819)):\n",
    "    if fixture_1819.loc[i, 'Result'] == 'H':\n",
    "        standing.loc[standing['Team'] == fixture_1819.loc[i, 'HomeTeam'], 'PTS'] += 3\n",
    "        standing.loc[standing['Team'] == fixture_1819.loc[i, 'HomeTeam'], 'W'] += 1\n",
    "        standing.loc[standing['Team'] == fixture_1819.loc[i, 'AwayTeam'], 'L'] += 1\n",
    "\n",
    "    if fixture_1819.loc[i, 'Result'] == 'A':\n",
    "        standing.loc[standing['Team'] == fixture_1819.loc[i, 'AwayTeam'], 'PTS'] += 3\n",
    "        standing.loc[standing['Team'] == fixture_1819.loc[i, 'AwayTeam'], 'W'] += 1\n",
    "        standing.loc[standing['Team'] == fixture_1819.loc[i, 'HomeTeam'], 'L'] += 1\n",
    "        \n",
    "    if fixture_1819.loc[i, 'Result'] == 'D':\n",
    "        standing.loc[standing['Team'] == fixture_1819.loc[i, 'HomeTeam'], 'PTS'] += 1\n",
    "        standing.loc[standing['Team'] == fixture_1819.loc[i, 'AwayTeam'], 'PTS'] += 1\n",
    "        standing.loc[standing['Team'] == fixture_1819.loc[i, 'AwayTeam'], 'D'] += 1\n",
    "        standing.loc[standing['Team'] == fixture_1819.loc[i, 'HomeTeam'], 'D'] += 1\n"
   ]
  },
  {
   "cell_type": "code",
   "execution_count": 38,
   "metadata": {},
   "outputs": [],
   "source": [
    "standing = standing.sort_values('PTS', ascending=False)\n",
    "standing = standing.reset_index(drop=True)\n",
    "for i in range(len(standing)):\n",
    "    standing.loc[i, 'Rank'] = i + 1\n",
    "standing = standing.set_index('Rank')"
   ]
  },
  {
   "cell_type": "code",
   "execution_count": 39,
   "metadata": {},
   "outputs": [
    {
     "data": {
      "text/html": [
       "<div>\n",
       "<style scoped>\n",
       "    .dataframe tbody tr th:only-of-type {\n",
       "        vertical-align: middle;\n",
       "    }\n",
       "\n",
       "    .dataframe tbody tr th {\n",
       "        vertical-align: top;\n",
       "    }\n",
       "\n",
       "    .dataframe thead th {\n",
       "        text-align: right;\n",
       "    }\n",
       "</style>\n",
       "<table border=\"1\" class=\"dataframe\">\n",
       "  <thead>\n",
       "    <tr style=\"text-align: right;\">\n",
       "      <th></th>\n",
       "      <th>Team</th>\n",
       "      <th>W</th>\n",
       "      <th>D</th>\n",
       "      <th>L</th>\n",
       "      <th>PTS</th>\n",
       "    </tr>\n",
       "    <tr>\n",
       "      <th>Rank</th>\n",
       "      <th></th>\n",
       "      <th></th>\n",
       "      <th></th>\n",
       "      <th></th>\n",
       "      <th></th>\n",
       "    </tr>\n",
       "  </thead>\n",
       "  <tbody>\n",
       "    <tr>\n",
       "      <th>1</th>\n",
       "      <td>Liverpool</td>\n",
       "      <td>28</td>\n",
       "      <td>0</td>\n",
       "      <td>4</td>\n",
       "      <td>84</td>\n",
       "    </tr>\n",
       "    <tr>\n",
       "      <th>2</th>\n",
       "      <td>Arsenal</td>\n",
       "      <td>27</td>\n",
       "      <td>0</td>\n",
       "      <td>5</td>\n",
       "      <td>81</td>\n",
       "    </tr>\n",
       "    <tr>\n",
       "      <th>3</th>\n",
       "      <td>Manchester Utd</td>\n",
       "      <td>27</td>\n",
       "      <td>0</td>\n",
       "      <td>5</td>\n",
       "      <td>81</td>\n",
       "    </tr>\n",
       "    <tr>\n",
       "      <th>4</th>\n",
       "      <td>Chelsea</td>\n",
       "      <td>27</td>\n",
       "      <td>0</td>\n",
       "      <td>5</td>\n",
       "      <td>81</td>\n",
       "    </tr>\n",
       "    <tr>\n",
       "      <th>5</th>\n",
       "      <td>Manchester City</td>\n",
       "      <td>27</td>\n",
       "      <td>0</td>\n",
       "      <td>5</td>\n",
       "      <td>81</td>\n",
       "    </tr>\n",
       "    <tr>\n",
       "      <th>6</th>\n",
       "      <td>Tottenham</td>\n",
       "      <td>25</td>\n",
       "      <td>0</td>\n",
       "      <td>7</td>\n",
       "      <td>75</td>\n",
       "    </tr>\n",
       "    <tr>\n",
       "      <th>7</th>\n",
       "      <td>Everton</td>\n",
       "      <td>19</td>\n",
       "      <td>0</td>\n",
       "      <td>13</td>\n",
       "      <td>57</td>\n",
       "    </tr>\n",
       "    <tr>\n",
       "      <th>8</th>\n",
       "      <td>West Ham Utd</td>\n",
       "      <td>15</td>\n",
       "      <td>0</td>\n",
       "      <td>17</td>\n",
       "      <td>45</td>\n",
       "    </tr>\n",
       "    <tr>\n",
       "      <th>9</th>\n",
       "      <td>Leicester City</td>\n",
       "      <td>13</td>\n",
       "      <td>0</td>\n",
       "      <td>19</td>\n",
       "      <td>39</td>\n",
       "    </tr>\n",
       "    <tr>\n",
       "      <th>10</th>\n",
       "      <td>Bournemouth</td>\n",
       "      <td>10</td>\n",
       "      <td>0</td>\n",
       "      <td>22</td>\n",
       "      <td>30</td>\n",
       "    </tr>\n",
       "    <tr>\n",
       "      <th>11</th>\n",
       "      <td>Newcastle Utd</td>\n",
       "      <td>10</td>\n",
       "      <td>0</td>\n",
       "      <td>22</td>\n",
       "      <td>30</td>\n",
       "    </tr>\n",
       "    <tr>\n",
       "      <th>12</th>\n",
       "      <td>Brighton &amp; Hove</td>\n",
       "      <td>10</td>\n",
       "      <td>0</td>\n",
       "      <td>22</td>\n",
       "      <td>30</td>\n",
       "    </tr>\n",
       "    <tr>\n",
       "      <th>13</th>\n",
       "      <td>Crystal Palace</td>\n",
       "      <td>9</td>\n",
       "      <td>0</td>\n",
       "      <td>23</td>\n",
       "      <td>27</td>\n",
       "    </tr>\n",
       "    <tr>\n",
       "      <th>14</th>\n",
       "      <td>Watford</td>\n",
       "      <td>9</td>\n",
       "      <td>0</td>\n",
       "      <td>23</td>\n",
       "      <td>27</td>\n",
       "    </tr>\n",
       "    <tr>\n",
       "      <th>15</th>\n",
       "      <td>Southampton</td>\n",
       "      <td>6</td>\n",
       "      <td>0</td>\n",
       "      <td>26</td>\n",
       "      <td>18</td>\n",
       "    </tr>\n",
       "    <tr>\n",
       "      <th>16</th>\n",
       "      <td>Burnley</td>\n",
       "      <td>6</td>\n",
       "      <td>0</td>\n",
       "      <td>26</td>\n",
       "      <td>18</td>\n",
       "    </tr>\n",
       "    <tr>\n",
       "      <th>17</th>\n",
       "      <td>Huddersfield</td>\n",
       "      <td>4</td>\n",
       "      <td>0</td>\n",
       "      <td>28</td>\n",
       "      <td>12</td>\n",
       "    </tr>\n",
       "    <tr>\n",
       "      <th>18</th>\n",
       "      <td>Fulham</td>\n",
       "      <td>0</td>\n",
       "      <td>0</td>\n",
       "      <td>0</td>\n",
       "      <td>0</td>\n",
       "    </tr>\n",
       "    <tr>\n",
       "      <th>19</th>\n",
       "      <td>Cardiff City</td>\n",
       "      <td>0</td>\n",
       "      <td>0</td>\n",
       "      <td>0</td>\n",
       "      <td>0</td>\n",
       "    </tr>\n",
       "    <tr>\n",
       "      <th>20</th>\n",
       "      <td>Wolves</td>\n",
       "      <td>0</td>\n",
       "      <td>0</td>\n",
       "      <td>0</td>\n",
       "      <td>0</td>\n",
       "    </tr>\n",
       "  </tbody>\n",
       "</table>\n",
       "</div>"
      ],
      "text/plain": [
       "                 Team   W  D   L PTS\n",
       "Rank                                \n",
       "1           Liverpool  28  0   4  84\n",
       "2             Arsenal  27  0   5  81\n",
       "3      Manchester Utd  27  0   5  81\n",
       "4             Chelsea  27  0   5  81\n",
       "5     Manchester City  27  0   5  81\n",
       "6           Tottenham  25  0   7  75\n",
       "7             Everton  19  0  13  57\n",
       "8        West Ham Utd  15  0  17  45\n",
       "9      Leicester City  13  0  19  39\n",
       "10        Bournemouth  10  0  22  30\n",
       "11      Newcastle Utd  10  0  22  30\n",
       "12    Brighton & Hove  10  0  22  30\n",
       "13     Crystal Palace   9  0  23  27\n",
       "14            Watford   9  0  23  27\n",
       "15        Southampton   6  0  26  18\n",
       "16            Burnley   6  0  26  18\n",
       "17       Huddersfield   4  0  28  12\n",
       "18             Fulham   0  0   0   0\n",
       "19       Cardiff City   0  0   0   0\n",
       "20             Wolves   0  0   0   0"
      ]
     },
     "execution_count": 39,
     "metadata": {},
     "output_type": "execute_result"
    }
   ],
   "source": [
    "standing"
   ]
  },
  {
   "cell_type": "code",
   "execution_count": null,
   "metadata": {},
   "outputs": [],
   "source": []
  }
 ],
 "metadata": {
  "kernelspec": {
   "display_name": "Python 3",
   "language": "python",
   "name": "python3"
  },
  "language_info": {
   "codemirror_mode": {
    "name": "ipython",
    "version": 3
   },
   "file_extension": ".py",
   "mimetype": "text/x-python",
   "name": "python",
   "nbconvert_exporter": "python",
   "pygments_lexer": "ipython3",
   "version": "3.6.5"
  }
 },
 "nbformat": 4,
 "nbformat_minor": 2
}
