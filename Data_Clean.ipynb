{
 "cells": [
  {
   "cell_type": "code",
   "execution_count": 1,
   "metadata": {},
   "outputs": [],
   "source": [
    "# import libaries\n",
    "from bs4 import BeautifulSoup\n",
    "import requests\n",
    "import pandas as pd\n",
    "import re\n",
    "import time\n",
    "import matplotlib.pyplot as plt\n",
    "from scipy.stats import poisson"
   ]
  },
  {
   "cell_type": "markdown",
   "metadata": {},
   "source": [
    "### Step 1: Get EPL Team Overall Stats from web\n",
    "Get EPL teams' stats using database in www.pesmaster.com.\n",
    "The result dictionary will have 6 seasons' stats from 13/14 ~ 18/19 EPL.\n",
    "PES 14 to PES 19"
   ]
  },
  {
   "cell_type": "code",
   "execution_count": 2,
   "metadata": {},
   "outputs": [],
   "source": [
    "# list of the teams (12/13 ~ 18/19)\n",
    "# data from three different sources use different names for teams. \n",
    "# manually making a dictionary to rename teams\n",
    "team_name = {\n",
    "            'Arsenal FC': 'Arsenal',\n",
    "            'Burnley FC': 'Burnley',\n",
    "            'Liverpool FC': 'Liverpool',\n",
    "            'Everton FC': 'Everton',\n",
    "            'Fulham FC': 'Fulham',\n",
    "            'Southampton FC': 'Southampton',\n",
    "            'Chelsea FC': 'Chelsea',\n",
    "            'West Bromwich Albion': 'West Bromwich',\n",
    "            'Manchester United': 'Manchester Utd',\n",
    "            'Man United': 'Manchester Utd',\n",
    "            'Man City': 'Manchester City', \n",
    "            'Newcastle': 'Newcastle Utd',\n",
    "            'Newcastle United': 'Newcastle Utd',\n",
    "            'West Ham United': 'West Ham Utd', \n",
    "            'Tottenham Hotspur': 'Tottenham',\n",
    "            'Queens Park Rangers': 'QP Rangers',\n",
    "            'Watford FC': 'Watford',\n",
    "            'AFC Bournemouth': 'Bournemouth',\n",
    "            'Sunderland AFC': 'Sunderland',\n",
    "            'Middlesbrough FC': 'Middlesbrough',\n",
    "            'Brighton & Hove Albion': 'Brighton & Hove',\n",
    "            'Brighton': 'Brighton & Hove',\n",
    "            'Huddersfield Town': 'Huddersfield',\n",
    "            'QPR': 'QP Rangers',\n",
    "            'Cardiff': 'Cardiff City',\n",
    "            'Hull': 'Hull City',\n",
    "            'Norwich': 'Norwich City',\n",
    "            'Stoke': 'Stoke City',\n",
    "            'Swansea': 'Swansea City',\n",
    "            'West Brom': 'West Bromwich',\n",
    "            'West Ham': 'West Ham Utd',\n",
    "            'Reading FC': 'Reading',\n",
    "            'Leicester': 'Leicester City',\n",
    "            'Wolverhampton Wanderers': 'Wolves',\n",
    "            'Wigan Athletic': 'Wigan',\n",
    "            }"
   ]
  },
  {
   "cell_type": "code",
   "execution_count": 3,
   "metadata": {},
   "outputs": [],
   "source": [
    "teams_seasons = []\n",
    "for year in range(2014, 2020):\n",
    "    url = 'https://www.pesmaster.com/english-league/pes-' + str(year) + '/league/9/'\n",
    "    res = requests.get(url, headers={'User-agent': 'slsl'})\n",
    "    \n",
    "    if res.status_code != 200:\n",
    "        print('Status not 200', res.status_code)\n",
    "        break\n",
    "\n",
    "    soup = BeautifulSoup(res.content, 'lxml')\n",
    "    table = soup.find(\"table\", {\"id\" : \"search-result-table\"})\n",
    "    tr = table.find_all('tr')\n",
    "    \n",
    "    teams = []\n",
    "\n",
    "    for i in range(1,(len(tr))):\n",
    "            result = {}\n",
    "\n",
    "            td = tr[i].find_all('td')\n",
    "            \n",
    "            if td:\n",
    "                result['Team'] = td[0].text\n",
    "                result['Ovr'] = td[1].text\n",
    "                result['Def'] = td[2].text\n",
    "                result['Mid'] = td[3].text\n",
    "                result['Fwd'] = td[4].text\n",
    "                result['Phy'] = td[5].text\n",
    "                result['Spd'] = (td[6].text)\n",
    "                result['Season'] = year - 2000\n",
    "\n",
    "            if len(result) == 8:\n",
    "                teams.append(result)\n",
    "                \n",
    "    time.sleep(3)\n",
    "    \n",
    "    teams_df = pd.DataFrame(teams, columns=(['Season', 'Team', 'Ovr', 'Def', 'Mid', 'Fwd', 'Phy', 'Spd']))\n",
    "    teams_df = teams_df.set_index('Team')\n",
    "    teams_df.rename(index=team_name, inplace=True)\n",
    "    teams_df.sort_index(inplace=True)\n",
    "\n",
    "    # put all seasons into a list\n",
    "    teams_seasons.append(teams_df)"
   ]
  },
  {
   "cell_type": "code",
   "execution_count": 4,
   "metadata": {},
   "outputs": [],
   "source": [
    "# Merge all PES data in one dataframe\n",
    "pes_data = teams_seasons[0].append([teams_seasons[1], teams_seasons[2], teams_seasons[3], teams_seasons[4], teams_seasons[5]])"
   ]
  },
  {
   "cell_type": "code",
   "execution_count": 5,
   "metadata": {},
   "outputs": [],
   "source": [
    "pes_data.to_csv('./Data/pes_data.csv')"
   ]
  },
  {
   "cell_type": "markdown",
   "metadata": {},
   "source": [
    "### Step 2: Get EPL Tables of Last 5 Seasons (2012/13~2017/18)"
   ]
  },
  {
   "cell_type": "code",
   "execution_count": 6,
   "metadata": {},
   "outputs": [],
   "source": [
    "season_tables = []\n",
    "\n",
    "for year in range(2013, 2019):\n",
    "    # load data from soccerstats.com by years (2013 will mean 12/13)\n",
    "    table_url = 'https://www.soccerstats.com/widetable.asp?league=england_' + str(year)\n",
    "    res = requests.get(table_url, headers={'User-agent': 'slsl'})\n",
    "\n",
    "    if res.status_code != 200:\n",
    "        print('Status not 200', res.status_code)\n",
    "        break\n",
    "\n",
    "    soup = BeautifulSoup(res.content, 'lxml')\n",
    "    \n",
    "    # get a table\n",
    "    table = soup.find('table', {'id': 'btable'})\n",
    "    tr = table.find_all('tr', {'class': 'trow8'})\n",
    "\n",
    "    final_table = []\n",
    "\n",
    "    for i in range(0,(len(tr))):\n",
    "        result = {}\n",
    "\n",
    "        td = tr[i].find_all('td')\n",
    "\n",
    "        if td:\n",
    "            result['Rank'] = int(td[0].text)        # final rank\n",
    "            result['Team'] = td[1].text.strip()     # team name\n",
    "            result['P'] = int(td[2].text)           # number of games\n",
    "            result['W'] = int(td[3].text)           # wins\n",
    "            result['D'] = int(td[4].text)           # draws\n",
    "            result['L'] = int(td[5].text)           # loses\n",
    "            result['HW'] = int(td[13].text)         # home wins\n",
    "            result['HGF'] = int(td[16].text)        # home goals scored\n",
    "            result['HGA'] = int(td[17].text)        # home goals conceded\n",
    "            result['AGF'] = int(td[27].text)        # away goals scored\n",
    "            result['AGA'] = int(td[28].text)        # away goals conceded\n",
    "            result['AW'] = int(td[24].text)         # away wins\n",
    "            result['GF'] = int(td[6].text)          # goals for\n",
    "            result['GA'] = int(td[7].text)          # goals allowed\n",
    "            result['GD'] = int(td[8].text)          # goal difference\n",
    "            result['PTS'] = int(td[9].text)         # total points end of the season\n",
    "            result['Season'] = year - 2000\n",
    "\n",
    "            # put them into one dictionary\n",
    "            if len(result) == 17:\n",
    "                final_table.append(result)\n",
    "\n",
    "    time.sleep(3)\n",
    "\n",
    "    # put dictionary into a pandas dataframe with column names\n",
    "    final_table = pd.DataFrame(final_table, columns=(['Season', 'Rank', 'Team', 'P', 'W', 'D', 'L', 'GF', 'GA', 'GD', 'HW', 'HGF', 'HGA', 'AW', 'AGF', 'AGA', 'PTS']))\n",
    "    \n",
    "    # Create features to generate poisson distribution\n",
    "    final_table['H_Att'] = final_table['HGF'] / 19 / (final_table['HGF'].sum() / 380)\n",
    "    final_table['A_Att'] = final_table['AGF'] / 19 / (final_table['AGF'].sum() / 380)\n",
    "    final_table['H_Def'] = final_table['HGA'] / 19 / (final_table['HGA'].sum() / 380)\n",
    "    final_table['A_Def'] = final_table['AGA'] / 19 / (final_table['AGA'].sum() / 380) \n",
    "    \n",
    "    # change index as a team names\n",
    "    final_table = final_table.set_index('Team')\n",
    "    final_table.rename(index=team_name, inplace=True)\n",
    "    final_table.sort_index(inplace=True)\n",
    "    # put all seasons into a list\n",
    "    season_tables.append(final_table)"
   ]
  },
  {
   "cell_type": "code",
   "execution_count": 7,
   "metadata": {},
   "outputs": [],
   "source": [
    "# Merge all season tables in one dataframe\n",
    "epl_season_table = season_tables[0].append([season_tables[1], season_tables[2], season_tables[3], season_tables[4], season_tables[5]])"
   ]
  },
  {
   "cell_type": "markdown",
   "metadata": {},
   "source": [
    "### Step 3: Getting Cleans Sheets"
   ]
  },
  {
   "cell_type": "code",
   "execution_count": 8,
   "metadata": {},
   "outputs": [],
   "source": [
    "cs_tables = []\n",
    "seasons = ['2012-13', '2013-14', '2014-15', '2015-16', '2016-17', '2017-18']\n",
    "for year in seasons:\n",
    "    #load data from soccerstats.com by years (2013 will mean 13/14)\n",
    "    table_url = 'https://www.sportsmole.co.uk/football/premier-league/' + year + '/best-defence.html'\n",
    "    res = requests.get(table_url, headers={'User-agent': 'slee'})\n",
    "   \n",
    "    if res.status_code != 200:\n",
    "        print('Status not 200', res.status_code)\n",
    "        break\n",
    "        \n",
    "    soup = BeautifulSoup(res.content, 'lxml')\n",
    "\n",
    "    # get a table\n",
    "    table = soup.find('table', {'class':'leaguetable full'})\n",
    "    tr = table.find_all('tr')\n",
    "    cs_table = []\n",
    "\n",
    "    for i in range(1,(len(tr))):\n",
    "        result = {}\n",
    "\n",
    "        td = tr[i].find_all('td')\n",
    "\n",
    "        if td:\n",
    "            result['Team'] = td[1].text.strip()          # goals allowed\n",
    "            result['CS'] = int(td[4].text)               # total points end of the season\n",
    "            result['Season'] = year.split('-')[1]\n",
    "            # put them into one dictionary\n",
    "            if len(result) == 3:\n",
    "                cs_table.append(result)\n",
    "\n",
    "    time.sleep(3)\n",
    "\n",
    "    # put dictionary into a pandas dataframe with column names\n",
    "    cs_table = pd.DataFrame(cs_table, columns=(['Team', 'Season', 'CS']))\n",
    "    # change index as a team names\n",
    "    cs_table = cs_table.set_index('Team')\n",
    "    cs_table.rename(index=team_name, inplace=True)\n",
    "    cs_table.sort_index(inplace=True)\n",
    "    # put all seasons into a list\n",
    "    cs_tables.append(cs_table)"
   ]
  },
  {
   "cell_type": "code",
   "execution_count": 9,
   "metadata": {},
   "outputs": [],
   "source": [
    "# Merge all seasons' clean sheet data in one dataframe\n",
    "epl_cs_table = cs_tables[0].append([cs_tables[1], cs_tables[2], cs_tables[3], cs_tables[4], cs_tables[5]])"
   ]
  },
  {
   "cell_type": "markdown",
   "metadata": {},
   "source": [
    "### Step 4: Getting the Number of Cards"
   ]
  },
  {
   "cell_type": "code",
   "execution_count": 10,
   "metadata": {},
   "outputs": [],
   "source": [
    "dis_tables = []\n",
    "\n",
    "for year in range(2012, 2018):\n",
    "    # load data from transfermarkt.co.uk by years (2012 means 12/13)\n",
    "    table_url = 'https://www.transfermarkt.co.uk/premier-league/fairnesstabelle/wettbewerb/GB1/saison_id/' + str(year) + '/plus/1'\n",
    "    res = requests.get(table_url, headers={'User-agent': 'slsl'})\n",
    "\n",
    "    if res.status_code != 200:\n",
    "        print('Status not 200', res.status_code)\n",
    "\n",
    "    soup = BeautifulSoup(res.content, 'lxml')\n",
    "\n",
    "    # get a table\n",
    "    table = soup.find('table', {'class': 'items'})\n",
    "    tbody = table.find('tbody')\n",
    "    tr = tbody.find_all('tr')\n",
    "\n",
    "    dis_table = []\n",
    "\n",
    "    for i in range(0,(len(tr))):\n",
    "        result = {}\n",
    "\n",
    "        td = tr[i].find_all('td')\n",
    "\n",
    "        if td:\n",
    "            result['Team'] = td[2].text.strip()     # team name\n",
    "            result['YC'] = int(td[5].text)          # total number of yellow cards during the season\n",
    "            result['RC'] = int(td[8].text)          # red cards\n",
    "            result['Season'] = year - 1999\n",
    "            # put them into one dictionary\n",
    "            if len(result) == 4:\n",
    "                dis_table.append(result)\n",
    "\n",
    "    time.sleep(3)\n",
    "\n",
    "    # put dictionary into a pandas dataframe with column names\n",
    "    dis_table = pd.DataFrame(dis_table, columns=(['Team', 'Season', 'YC', 'RC']))\n",
    "    # change index as a team names\n",
    "    dis_table = dis_table.set_index('Team')\n",
    "    dis_table.rename(index=team_name, inplace=True)\n",
    "    dis_table.sort_index(inplace=True)\n",
    "    # put all seasons into a list\n",
    "    dis_tables.append(dis_table)"
   ]
  },
  {
   "cell_type": "code",
   "execution_count": 11,
   "metadata": {},
   "outputs": [],
   "source": [
    "# Merge all seasons' cards data in one dataframe\n",
    "epl_dis_table = dis_tables[0].append([dis_tables[1], dis_tables[2], dis_tables[3], dis_tables[4], dis_tables[5]])"
   ]
  },
  {
   "cell_type": "markdown",
   "metadata": {},
   "source": [
    "### Step 5: Concatenate All Data Frame"
   ]
  },
  {
   "cell_type": "code",
   "execution_count": 12,
   "metadata": {},
   "outputs": [],
   "source": [
    "epl_data = pd.concat([epl_season_table, epl_cs_table['CS'], epl_dis_table[['YC', 'RC']]], axis=1)"
   ]
  },
  {
   "cell_type": "code",
   "execution_count": 13,
   "metadata": {},
   "outputs": [],
   "source": [
    "epl_data.to_csv('./Data/epl_data.csv')"
   ]
  },
  {
   "cell_type": "markdown",
   "metadata": {},
   "source": [
    "### Step 6: EPL Fixture (Result) Data\n",
    "Saves all games during each season from 12/13 to 17/18, and 18/19 (present)"
   ]
  },
  {
   "cell_type": "code",
   "execution_count": 14,
   "metadata": {},
   "outputs": [],
   "source": [
    "seasons = ['1314', '1415', '1516', '1617', '1718', '1819']\n",
    "fixture = []\n",
    "for season in seasons:\n",
    "    fix = pd.read_csv('http://www.football-data.co.uk/mmz4281/' + season + '/E0.csv').replace(team_name)[['HomeTeam', 'AwayTeam', 'FTR', 'FTHG', 'FTAG']]\n",
    "    fix['Season'] = int(season[2:])\n",
    "    fixture.append(fix)"
   ]
  },
  {
   "cell_type": "code",
   "execution_count": 15,
   "metadata": {},
   "outputs": [],
   "source": [
    "# Merge all seasons' cards data in one dataframe\n",
    "epl_fixture = fixture[0].append([fixture[1], fixture[2], fixture[3], fixture[4], fixture[5]]).dropna()"
   ]
  },
  {
   "cell_type": "code",
   "execution_count": 16,
   "metadata": {},
   "outputs": [],
   "source": [
    "epl_fixture.to_csv('./Data/epl_fixture.csv')"
   ]
  },
  {
   "cell_type": "code",
   "execution_count": null,
   "metadata": {},
   "outputs": [],
   "source": []
  }
 ],
 "metadata": {
  "kernelspec": {
   "display_name": "Python 3",
   "language": "python",
   "name": "python3"
  },
  "language_info": {
   "codemirror_mode": {
    "name": "ipython",
    "version": 3
   },
   "file_extension": ".py",
   "mimetype": "text/x-python",
   "name": "python",
   "nbconvert_exporter": "python",
   "pygments_lexer": "ipython3",
   "version": "3.6.5"
  }
 },
 "nbformat": 4,
 "nbformat_minor": 2
}
