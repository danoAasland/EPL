{
 "cells": [
  {
   "cell_type": "code",
   "execution_count": 1,
   "metadata": {},
   "outputs": [
    {
     "data": {
      "text/html": [
       "<script>requirejs.config({paths: { 'plotly': ['https://cdn.plot.ly/plotly-latest.min']},});if(!window.Plotly) {{require(['plotly'],function(plotly) {window.Plotly=plotly;});}}</script>"
      ],
      "text/vnd.plotly.v1+html": [
       "<script>requirejs.config({paths: { 'plotly': ['https://cdn.plot.ly/plotly-latest.min']},});if(!window.Plotly) {{require(['plotly'],function(plotly) {window.Plotly=plotly;});}}</script>"
      ]
     },
     "metadata": {},
     "output_type": "display_data"
    }
   ],
   "source": [
    "import pandas as pd\n",
    "import numpy as np\n",
    "import matplotlib.pyplot as plt\n",
    "import seaborn as sns\n",
    "import plotly as py\n",
    "from plotly.offline import download_plotlyjs, init_notebook_mode, plot, iplot\n",
    "import plotly.graph_objs as go\n",
    "init_notebook_mode(connected=True)\n",
    "\n",
    "# import plotly\n",
    "# import plotly.plotly as py\n",
    "#plotly.tools.set_credentials_file(username='slee279', api_key='DO9WykAlIOkNO8fzqmqv')\n"
   ]
  },
  {
   "cell_type": "code",
   "execution_count": 2,
   "metadata": {},
   "outputs": [],
   "source": [
    "epl_1314 = pd.read_csv('./Data/epl1314.csv')"
   ]
  },
  {
   "cell_type": "code",
   "execution_count": 3,
   "metadata": {},
   "outputs": [],
   "source": [
    "epl_1314 = epl_1314[['HomeTeam', 'AwayTeam', 'FTHG', 'FTAG']]\n",
    "\n",
    "# TG = homegoal + awaygoal = total goals scored in a match\n",
    "epl_1314['TG'] = epl_1314['FTHG'] + epl_1314['FTAG']"
   ]
  },
  {
   "cell_type": "code",
   "execution_count": 4,
   "metadata": {},
   "outputs": [
    {
     "data": {
      "text/html": [
       "<div>\n",
       "<style scoped>\n",
       "    .dataframe tbody tr th:only-of-type {\n",
       "        vertical-align: middle;\n",
       "    }\n",
       "\n",
       "    .dataframe tbody tr th {\n",
       "        vertical-align: top;\n",
       "    }\n",
       "\n",
       "    .dataframe thead th {\n",
       "        text-align: right;\n",
       "    }\n",
       "</style>\n",
       "<table border=\"1\" class=\"dataframe\">\n",
       "  <thead>\n",
       "    <tr style=\"text-align: right;\">\n",
       "      <th></th>\n",
       "      <th>Home</th>\n",
       "      <th>Away</th>\n",
       "      <th>HG</th>\n",
       "      <th>AG</th>\n",
       "      <th>TG</th>\n",
       "    </tr>\n",
       "  </thead>\n",
       "  <tbody>\n",
       "    <tr>\n",
       "      <th>0</th>\n",
       "      <td>Arsenal</td>\n",
       "      <td>Aston Villa</td>\n",
       "      <td>1</td>\n",
       "      <td>3</td>\n",
       "      <td>4</td>\n",
       "    </tr>\n",
       "    <tr>\n",
       "      <th>1</th>\n",
       "      <td>Liverpool</td>\n",
       "      <td>Stoke</td>\n",
       "      <td>1</td>\n",
       "      <td>0</td>\n",
       "      <td>1</td>\n",
       "    </tr>\n",
       "    <tr>\n",
       "      <th>2</th>\n",
       "      <td>Norwich</td>\n",
       "      <td>Everton</td>\n",
       "      <td>2</td>\n",
       "      <td>2</td>\n",
       "      <td>4</td>\n",
       "    </tr>\n",
       "    <tr>\n",
       "      <th>3</th>\n",
       "      <td>Sunderland</td>\n",
       "      <td>Fulham</td>\n",
       "      <td>0</td>\n",
       "      <td>1</td>\n",
       "      <td>1</td>\n",
       "    </tr>\n",
       "    <tr>\n",
       "      <th>4</th>\n",
       "      <td>Swansea</td>\n",
       "      <td>Man United</td>\n",
       "      <td>1</td>\n",
       "      <td>4</td>\n",
       "      <td>5</td>\n",
       "    </tr>\n",
       "  </tbody>\n",
       "</table>\n",
       "</div>"
      ],
      "text/plain": [
       "         Home         Away  HG  AG  TG\n",
       "0     Arsenal  Aston Villa   1   3   4\n",
       "1   Liverpool        Stoke   1   0   1\n",
       "2     Norwich      Everton   2   2   4\n",
       "3  Sunderland       Fulham   0   1   1\n",
       "4     Swansea   Man United   1   4   5"
      ]
     },
     "execution_count": 4,
     "metadata": {},
     "output_type": "execute_result"
    }
   ],
   "source": [
    "# 380 games during epl 13/14 season with Fulltime HomeGoal and AwayGoal\n",
    "epl_1314 = epl_1314.rename(columns=({'HomeTeam': 'Home', 'AwayTeam': 'Away', 'FTHG': 'HG', 'FTAG': 'AG'}))\n",
    "epl_1314.head()"
   ]
  },
  {
   "cell_type": "code",
   "execution_count": 5,
   "metadata": {},
   "outputs": [
    {
     "data": {
      "text/plain": [
       "27"
      ]
     },
     "execution_count": 5,
     "metadata": {},
     "output_type": "execute_result"
    }
   ],
   "source": [
    "(epl_1314['TG']==0).sum()"
   ]
  },
  {
   "cell_type": "code",
   "execution_count": 6,
   "metadata": {
    "scrolled": true
   },
   "outputs": [
    {
     "data": {
      "image/png": "[encoded data removed]",
      "text/plain": [
       "<Figure size 432x288 with 1 Axes>"
      ]
     },
     "metadata": {},
     "output_type": "display_data"
    }
   ],
   "source": [
    "# total goals distribution\n",
    "plt.hist(epl_1314['TG']);\n",
    "plt.title(\"Total Goals\");"
   ]
  },
  {
   "cell_type": "code",
   "execution_count": 7,
   "metadata": {},
   "outputs": [
    {
     "data": {
      "image/png": "[encoded data removed]",
      "text/plain": [
       "<Figure size 432x288 with 1 Axes>"
      ]
     },
     "metadata": {},
     "output_type": "display_data"
    }
   ],
   "source": [
    "# difference of goal scored\n",
    "plt.hist(epl_1314['HG'] - epl_1314['AG']);\n",
    "plt.title(\"Difference of Goals Scored (Hometeam - Awayteam)\");"
   ]
  },
  {
   "cell_type": "code",
   "execution_count": 8,
   "metadata": {},
   "outputs": [],
   "source": [
    "df = pd.read_csv('./Data/EPL_Table.csv')"
   ]
  },
  {
   "cell_type": "code",
   "execution_count": 23,
   "metadata": {},
   "outputs": [
    {
     "data": {
      "application/vnd.plotly.v1+json": {
       "data": [
        {
         "hoverinfo": "text",
         "marker": {
          "color": "red",
          "opacity": 0.5,
          "size": 9
         },
         "mode": "markers",
         "name": "Season 12/13 GA",
         "text": [
          "QP Rangers<br>Season 12/13<br>Rank: 20<br>GA: 60",
          "Reading<br>Season 12/13<br>Rank: 19<br>GA: 73",
          "Wigan Athletic<br>Season 12/13<br>Rank: 18<br>GA: 73",
          "Sunderland<br>Season 12/13<br>Rank: 17<br>GA: 54",
          "Newcastle Utd<br>Season 12/13<br>Rank: 16<br>GA: 68",
          "Aston Villa<br>Season 12/13<br>Rank: 15<br>GA: 69",
          "Southampton<br>Season 12/13<br>Rank: 14<br>GA: 60",
          "Stoke City<br>Season 12/13<br>Rank: 13<br>GA: 45",
          "Fulham<br>Season 12/13<br>Rank: 12<br>GA: 60",
          "Norwich City<br>Season 12/13<br>Rank: 11<br>GA: 58",
          "West Ham Utd<br>Season 12/13<br>Rank: 10<br>GA: 53",
          "Swansea City<br>Season 12/13<br>Rank: 9<br>GA: 51",
          "West Bromwich<br>Season 12/13<br>Rank: 8<br>GA: 57",
          "Liverpool<br>Season 12/13<br>Rank: 7<br>GA: 43",
          "Everton<br>Season 12/13<br>Rank: 6<br>GA: 40",
          "Tottenham<br>Season 12/13<br>Rank: 5<br>GA: 46",
          "Arsenal<br>Season 12/13<br>Rank: 4<br>GA: 37",
          "Chelsea<br>Season 12/13<br>Rank: 3<br>GA: 39",
          "Manchester City<br>Season 12/13<br>Rank: 2<br>GA: 34",
          "Manchester Utd<br>Season 12/13<br>Rank: 1<br>GA: 43"
         ],
         "type": "scatter",
         "uid": "6d25e17e-d2e6-11e8-9887-acde48001122",
         "x": [
          60,
          73,
          73,
          54,
          68,
          69,
          60,
          45,
          60,
          58,
          53,
          51,
          57,
          43,
          40,
          46,
          37,
          39,
          34,
          43
         ],
         "y": [
          25,
          28,
          36,
          39,
          41,
          41,
          41,
          42,
          43,
          44,
          46,
          46,
          49,
          61,
          63,
          72,
          73,
          75,
          78,
          89
         ]
        },
        {
         "hoverinfo": "text",
         "marker": {
          "color": "blue",
          "opacity": 0.5,
          "size": 9
         },
         "mode": "markers",
         "name": "Season 12/13 GF",
         "text": [
          "QP Rangers<br>Season 12/13<br>Rank: 20<br>GF: 30",
          "Reading<br>Season 12/13<br>Rank: 19<br>GF: 43",
          "Wigan Athletic<br>Season 12/13<br>Rank: 18<br>GF: 47",
          "Sunderland<br>Season 12/13<br>Rank: 17<br>GF: 41",
          "Newcastle Utd<br>Season 12/13<br>Rank: 16<br>GF: 45",
          "Aston Villa<br>Season 12/13<br>Rank: 15<br>GF: 47",
          "Southampton<br>Season 12/13<br>Rank: 14<br>GF: 49",
          "Stoke City<br>Season 12/13<br>Rank: 13<br>GF: 34",
          "Fulham<br>Season 12/13<br>Rank: 12<br>GF: 50",
          "Norwich City<br>Season 12/13<br>Rank: 11<br>GF: 41",
          "West Ham Utd<br>Season 12/13<br>Rank: 10<br>GF: 45",
          "Swansea City<br>Season 12/13<br>Rank: 9<br>GF: 47",
          "West Bromwich<br>Season 12/13<br>Rank: 8<br>GF: 53",
          "Liverpool<br>Season 12/13<br>Rank: 7<br>GF: 71",
          "Everton<br>Season 12/13<br>Rank: 6<br>GF: 55",
          "Tottenham<br>Season 12/13<br>Rank: 5<br>GF: 66",
          "Arsenal<br>Season 12/13<br>Rank: 4<br>GF: 72",
          "Chelsea<br>Season 12/13<br>Rank: 3<br>GF: 75",
          "Manchester City<br>Season 12/13<br>Rank: 2<br>GF: 66",
          "Manchester Utd<br>Season 12/13<br>Rank: 1<br>GF: 86"
         ],
         "type": "scatter",
         "uid": "6d25e2f0-d2e6-11e8-be0e-acde48001122",
         "x": [
          30,
          43,
          47,
          41,
          45,
          47,
          49,
          34,
          50,
          41,
          45,
          47,
          53,
          71,
          55,
          66,
          72,
          75,
          66,
          86
         ],
         "y": [
          25,
          28,
          36,
          39,
          41,
          41,
          41,
          42,
          43,
          44,
          46,
          46,
          49,
          61,
          63,
          72,
          73,
          75,
          78,
          89
         ]
        },
        {
         "hoverinfo": "text",
         "marker": {
          "color": "red",
          "opacity": 0.5,
          "size": 9
         },
         "mode": "markers",
         "name": "Season 13/14 GA",
         "text": [
          "Cardiff City<br>Season 13/14<br>Rank: 20<br>GA: 74",
          "Fulham<br>Season 13/14<br>Rank: 19<br>GA: 85",
          "Norwich City<br>Season 13/14<br>Rank: 18<br>GA: 62",
          "West Bromwich<br>Season 13/14<br>Rank: 17<br>GA: 59",
          "Hull City<br>Season 13/14<br>Rank: 16<br>GA: 53",
          "Aston Villa<br>Season 13/14<br>Rank: 15<br>GA: 61",
          "Sunderland<br>Season 13/14<br>Rank: 14<br>GA: 60",
          "West Ham Utd<br>Season 13/14<br>Rank: 13<br>GA: 51",
          "Swansea City<br>Season 13/14<br>Rank: 12<br>GA: 54",
          "Crystal Palace<br>Season 13/14<br>Rank: 11<br>GA: 48",
          "Newcastle Utd<br>Season 13/14<br>Rank: 10<br>GA: 59",
          "Stoke City<br>Season 13/14<br>Rank: 9<br>GA: 52",
          "Southampton<br>Season 13/14<br>Rank: 8<br>GA: 46",
          "Manchester Utd<br>Season 13/14<br>Rank: 7<br>GA: 43",
          "Tottenham<br>Season 13/14<br>Rank: 6<br>GA: 51",
          "Everton<br>Season 13/14<br>Rank: 5<br>GA: 39",
          "Arsenal<br>Season 13/14<br>Rank: 4<br>GA: 41",
          "Chelsea<br>Season 13/14<br>Rank: 3<br>GA: 27",
          "Liverpool<br>Season 13/14<br>Rank: 2<br>GA: 50",
          "Manchester City<br>Season 13/14<br>Rank: 1<br>GA: 37"
         ],
         "type": "scatter",
         "uid": "6d25e3ae-d2e6-11e8-9c74-acde48001122",
         "x": [
          74,
          85,
          62,
          59,
          53,
          61,
          60,
          51,
          54,
          48,
          59,
          52,
          46,
          43,
          51,
          39,
          41,
          27,
          50,
          37
         ],
         "y": [
          30,
          32,
          33,
          36,
          37,
          38,
          38,
          40,
          42,
          45,
          49,
          50,
          56,
          64,
          69,
          72,
          79,
          82,
          84,
          86
         ]
        },
        {
         "hoverinfo": "text",
         "marker": {
          "color": "blue",
          "opacity": 0.5,
          "size": 9
         },
         "mode": "markers",
         "name": "Season 13/14 GF",
         "text": [
          "Cardiff City<br>Season 13/14<br>Rank: 20<br>GF: 32",
          "Fulham<br>Season 13/14<br>Rank: 19<br>GF: 40",
          "Norwich City<br>Season 13/14<br>Rank: 18<br>GF: 28",
          "West Bromwich<br>Season 13/14<br>Rank: 17<br>GF: 43",
          "Hull City<br>Season 13/14<br>Rank: 16<br>GF: 38",
          "Aston Villa<br>Season 13/14<br>Rank: 15<br>GF: 39",
          "Sunderland<br>Season 13/14<br>Rank: 14<br>GF: 41",
          "West Ham Utd<br>Season 13/14<br>Rank: 13<br>GF: 40",
          "Swansea City<br>Season 13/14<br>Rank: 12<br>GF: 54",
          "Crystal Palace<br>Season 13/14<br>Rank: 11<br>GF: 33",
          "Newcastle Utd<br>Season 13/14<br>Rank: 10<br>GF: 43",
          "Stoke City<br>Season 13/14<br>Rank: 9<br>GF: 45",
          "Southampton<br>Season 13/14<br>Rank: 8<br>GF: 54",
          "Manchester Utd<br>Season 13/14<br>Rank: 7<br>GF: 64",
          "Tottenham<br>Season 13/14<br>Rank: 6<br>GF: 55",
          "Everton<br>Season 13/14<br>Rank: 5<br>GF: 61",
          "Arsenal<br>Season 13/14<br>Rank: 4<br>GF: 68",
          "Chelsea<br>Season 13/14<br>Rank: 3<br>GF: 71",
          "Liverpool<br>Season 13/14<br>Rank: 2<br>GF: 101",
          "Manchester City<br>Season 13/14<br>Rank: 1<br>GF: 102"
         ],
         "type": "scatter",
         "uid": "6d25e446-d2e6-11e8-9ebf-acde48001122",
         "x": [
          32,
          40,
          28,
          43,
          38,
          39,
          41,
          40,
          54,
          33,
          43,
          45,
          54,
          64,
          55,
          61,
          68,
          71,
          101,
          102
         ],
         "y": [
          30,
          32,
          33,
          36,
          37,
          38,
          38,
          40,
          42,
          45,
          49,
          50,
          56,
          64,
          69,
          72,
          79,
          82,
          84,
          86
         ]
        },
        {
         "hoverinfo": "text",
         "marker": {
          "color": "red",
          "opacity": 0.5,
          "size": 9
         },
         "mode": "markers",
         "name": "Season 14/15 GA",
         "text": [
          "QP Rangers<br>Season 14/15<br>Rank: 20<br>GA: 73",
          "Burnley<br>Season 14/15<br>Rank: 19<br>GA: 53",
          "Hull City<br>Season 14/15<br>Rank: 18<br>GA: 51",
          "Aston Villa<br>Season 14/15<br>Rank: 17<br>GA: 57",
          "Sunderland<br>Season 14/15<br>Rank: 16<br>GA: 53",
          "Newcastle Utd<br>Season 14/15<br>Rank: 15<br>GA: 63",
          "Leicester City<br>Season 14/15<br>Rank: 14<br>GA: 55",
          "West Bromwich<br>Season 14/15<br>Rank: 13<br>GA: 51",
          "West Ham Utd<br>Season 14/15<br>Rank: 12<br>GA: 47",
          "Everton<br>Season 14/15<br>Rank: 11<br>GA: 50",
          "Crystal Palace<br>Season 14/15<br>Rank: 10<br>GA: 51",
          "Stoke City<br>Season 14/15<br>Rank: 9<br>GA: 45",
          "Swansea City<br>Season 14/15<br>Rank: 8<br>GA: 49",
          "Southampton<br>Season 14/15<br>Rank: 7<br>GA: 33",
          "Liverpool<br>Season 14/15<br>Rank: 6<br>GA: 48",
          "Tottenham<br>Season 14/15<br>Rank: 5<br>GA: 53",
          "Manchester Utd<br>Season 14/15<br>Rank: 4<br>GA: 37",
          "Arsenal<br>Season 14/15<br>Rank: 3<br>GA: 36",
          "Manchester City<br>Season 14/15<br>Rank: 2<br>GA: 38",
          "Chelsea<br>Season 14/15<br>Rank: 1<br>GA: 32"
         ],
         "type": "scatter",
         "uid": "6d25e4d0-d2e6-11e8-814e-acde48001122",
         "x": [
          73,
          53,
          51,
          57,
          53,
          63,
          55,
          51,
          47,
          50,
          51,
          45,
          49,
          33,
          48,
          53,
          37,
          36,
          38,
          32
         ],
         "y": [
          30,
          33,
          35,
          38,
          38,
          39,
          41,
          44,
          47,
          47,
          48,
          54,
          56,
          60,
          62,
          64,
          70,
          75,
          79,
          87
         ]
        },
        {
         "hoverinfo": "text",
         "marker": {
          "color": "blue",
          "opacity": 0.5,
          "size": 9
         },
         "mode": "markers",
         "name": "Season 14/15 GF",
         "text": [
          "QP Rangers<br>Season 14/15<br>Rank: 20<br>GF: 42",
          "Burnley<br>Season 14/15<br>Rank: 19<br>GF: 28",
          "Hull City<br>Season 14/15<br>Rank: 18<br>GF: 33",
          "Aston Villa<br>Season 14/15<br>Rank: 17<br>GF: 31",
          "Sunderland<br>Season 14/15<br>Rank: 16<br>GF: 31",
          "Newcastle Utd<br>Season 14/15<br>Rank: 15<br>GF: 40",
          "Leicester City<br>Season 14/15<br>Rank: 14<br>GF: 46",
          "West Bromwich<br>Season 14/15<br>Rank: 13<br>GF: 38",
          "West Ham Utd<br>Season 14/15<br>Rank: 12<br>GF: 44",
          "Everton<br>Season 14/15<br>Rank: 11<br>GF: 48",
          "Crystal Palace<br>Season 14/15<br>Rank: 10<br>GF: 47",
          "Stoke City<br>Season 14/15<br>Rank: 9<br>GF: 48",
          "Swansea City<br>Season 14/15<br>Rank: 8<br>GF: 46",
          "Southampton<br>Season 14/15<br>Rank: 7<br>GF: 54",
          "Liverpool<br>Season 14/15<br>Rank: 6<br>GF: 52",
          "Tottenham<br>Season 14/15<br>Rank: 5<br>GF: 58",
          "Manchester Utd<br>Season 14/15<br>Rank: 4<br>GF: 62",
          "Arsenal<br>Season 14/15<br>Rank: 3<br>GF: 71",
          "Manchester City<br>Season 14/15<br>Rank: 2<br>GF: 83",
          "Chelsea<br>Season 14/15<br>Rank: 1<br>GF: 73"
         ],
         "type": "scatter",
         "uid": "6d25e55c-d2e6-11e8-aba9-acde48001122",
         "x": [
          42,
          28,
          33,
          31,
          31,
          40,
          46,
          38,
          44,
          48,
          47,
          48,
          46,
          54,
          52,
          58,
          62,
          71,
          83,
          73
         ],
         "y": [
          30,
          33,
          35,
          38,
          38,
          39,
          41,
          44,
          47,
          47,
          48,
          54,
          56,
          60,
          62,
          64,
          70,
          75,
          79,
          87
         ]
        },
        {
         "hoverinfo": "text",
         "marker": {
          "color": "red",
          "opacity": 0.5,
          "size": 9
         },
         "mode": "markers",
         "name": "Season 15/16 GA",
         "text": [
          "Aston Villa<br>Season 15/16<br>Rank: 20<br>GA: 76",
          "Norwich City<br>Season 15/16<br>Rank: 19<br>GA: 67",
          "Newcastle Utd<br>Season 15/16<br>Rank: 18<br>GA: 65",
          "Sunderland<br>Season 15/16<br>Rank: 17<br>GA: 62",
          "Bournemouth<br>Season 15/16<br>Rank: 16<br>GA: 67",
          "Crystal Palace<br>Season 15/16<br>Rank: 15<br>GA: 51",
          "West Bromwich<br>Season 15/16<br>Rank: 14<br>GA: 48",
          "Watford<br>Season 15/16<br>Rank: 13<br>GA: 50",
          "Swansea City<br>Season 15/16<br>Rank: 12<br>GA: 52",
          "Everton<br>Season 15/16<br>Rank: 11<br>GA: 55",
          "Chelsea<br>Season 15/16<br>Rank: 10<br>GA: 53",
          "Stoke City<br>Season 15/16<br>Rank: 9<br>GA: 55",
          "Liverpool<br>Season 15/16<br>Rank: 8<br>GA: 50",
          "West Ham Utd<br>Season 15/16<br>Rank: 7<br>GA: 51",
          "Southampton<br>Season 15/16<br>Rank: 6<br>GA: 41",
          "Manchester Utd<br>Season 15/16<br>Rank: 5<br>GA: 35",
          "Manchester City<br>Season 15/16<br>Rank: 4<br>GA: 41",
          "Tottenham<br>Season 15/16<br>Rank: 3<br>GA: 35",
          "Arsenal<br>Season 15/16<br>Rank: 2<br>GA: 36",
          "Leicester City<br>Season 15/16<br>Rank: 1<br>GA: 36"
         ],
         "type": "scatter",
         "uid": "6d25e5e8-d2e6-11e8-ae5a-acde48001122",
         "x": [
          76,
          67,
          65,
          62,
          67,
          51,
          48,
          50,
          52,
          55,
          53,
          55,
          50,
          51,
          41,
          35,
          41,
          35,
          36,
          36
         ],
         "y": [
          17,
          34,
          37,
          39,
          42,
          42,
          43,
          45,
          47,
          47,
          50,
          51,
          60,
          62,
          63,
          66,
          66,
          70,
          71,
          81
         ]
        },
        {
         "hoverinfo": "text",
         "marker": {
          "color": "blue",
          "opacity": 0.5,
          "size": 9
         },
         "mode": "markers",
         "name": "Season 15/16 GF",
         "text": [
          "Aston Villa<br>Season 15/16<br>Rank: 20<br>GF: 27",
          "Norwich City<br>Season 15/16<br>Rank: 19<br>GF: 39",
          "Newcastle Utd<br>Season 15/16<br>Rank: 18<br>GF: 44",
          "Sunderland<br>Season 15/16<br>Rank: 17<br>GF: 48",
          "Bournemouth<br>Season 15/16<br>Rank: 16<br>GF: 45",
          "Crystal Palace<br>Season 15/16<br>Rank: 15<br>GF: 39",
          "West Bromwich<br>Season 15/16<br>Rank: 14<br>GF: 34",
          "Watford<br>Season 15/16<br>Rank: 13<br>GF: 40",
          "Swansea City<br>Season 15/16<br>Rank: 12<br>GF: 42",
          "Everton<br>Season 15/16<br>Rank: 11<br>GF: 59",
          "Chelsea<br>Season 15/16<br>Rank: 10<br>GF: 59",
          "Stoke City<br>Season 15/16<br>Rank: 9<br>GF: 41",
          "Liverpool<br>Season 15/16<br>Rank: 8<br>GF: 63",
          "West Ham Utd<br>Season 15/16<br>Rank: 7<br>GF: 65",
          "Southampton<br>Season 15/16<br>Rank: 6<br>GF: 59",
          "Manchester Utd<br>Season 15/16<br>Rank: 5<br>GF: 49",
          "Manchester City<br>Season 15/16<br>Rank: 4<br>GF: 71",
          "Tottenham<br>Season 15/16<br>Rank: 3<br>GF: 69",
          "Arsenal<br>Season 15/16<br>Rank: 2<br>GF: 65",
          "Leicester City<br>Season 15/16<br>Rank: 1<br>GF: 68"
         ],
         "type": "scatter",
         "uid": "6d25e674-d2e6-11e8-823a-acde48001122",
         "x": [
          27,
          39,
          44,
          48,
          45,
          39,
          34,
          40,
          42,
          59,
          59,
          41,
          63,
          65,
          59,
          49,
          71,
          69,
          65,
          68
         ],
         "y": [
          17,
          34,
          37,
          39,
          42,
          42,
          43,
          45,
          47,
          47,
          50,
          51,
          60,
          62,
          63,
          66,
          66,
          70,
          71,
          81
         ]
        },
        {
         "hoverinfo": "text",
         "marker": {
          "color": "red",
          "opacity": 0.5,
          "size": 9
         },
         "mode": "markers",
         "name": "Season 16/17 GA",
         "text": [
          "Sunderland<br>Season 16/17<br>Rank: 20<br>GA: 69",
          "Middlesbrough<br>Season 16/17<br>Rank: 19<br>GA: 53",
          "Hull City<br>Season 16/17<br>Rank: 18<br>GA: 80",
          "Watford<br>Season 16/17<br>Rank: 17<br>GA: 68",
          "Burnley<br>Season 16/17<br>Rank: 16<br>GA: 55",
          "Swansea City<br>Season 16/17<br>Rank: 15<br>GA: 70",
          "Crystal Palace<br>Season 16/17<br>Rank: 14<br>GA: 63",
          "Leicester City<br>Season 16/17<br>Rank: 13<br>GA: 63",
          "Stoke City<br>Season 16/17<br>Rank: 12<br>GA: 56",
          "West Ham Utd<br>Season 16/17<br>Rank: 11<br>GA: 64",
          "West Bromwich<br>Season 16/17<br>Rank: 10<br>GA: 51",
          "Bournemouth<br>Season 16/17<br>Rank: 9<br>GA: 67",
          "Southampton<br>Season 16/17<br>Rank: 8<br>GA: 48",
          "Everton<br>Season 16/17<br>Rank: 7<br>GA: 44",
          "Manchester Utd<br>Season 16/17<br>Rank: 6<br>GA: 29",
          "Arsenal<br>Season 16/17<br>Rank: 5<br>GA: 44",
          "Liverpool<br>Season 16/17<br>Rank: 4<br>GA: 42",
          "Manchester City<br>Season 16/17<br>Rank: 3<br>GA: 39",
          "Tottenham<br>Season 16/17<br>Rank: 2<br>GA: 26",
          "Chelsea<br>Season 16/17<br>Rank: 1<br>GA: 33"
         ],
         "type": "scatter",
         "uid": "6d25e70a-d2e6-11e8-b9a4-acde48001122",
         "x": [
          69,
          53,
          80,
          68,
          55,
          70,
          63,
          63,
          56,
          64,
          51,
          67,
          48,
          44,
          29,
          44,
          42,
          39,
          26,
          33
         ],
         "y": [
          24,
          28,
          34,
          40,
          40,
          41,
          41,
          44,
          44,
          45,
          45,
          46,
          46,
          61,
          69,
          75,
          76,
          78,
          86,
          93
         ]
        },
        {
         "hoverinfo": "text",
         "marker": {
          "color": "blue",
          "opacity": 0.5,
          "size": 9
         },
         "mode": "markers",
         "name": "Season 16/17 GF",
         "text": [
          "Sunderland<br>Season 16/17<br>Rank: 20<br>GF: 29",
          "Middlesbrough<br>Season 16/17<br>Rank: 19<br>GF: 27",
          "Hull City<br>Season 16/17<br>Rank: 18<br>GF: 37",
          "Watford<br>Season 16/17<br>Rank: 17<br>GF: 40",
          "Burnley<br>Season 16/17<br>Rank: 16<br>GF: 39",
          "Swansea City<br>Season 16/17<br>Rank: 15<br>GF: 45",
          "Crystal Palace<br>Season 16/17<br>Rank: 14<br>GF: 50",
          "Leicester City<br>Season 16/17<br>Rank: 13<br>GF: 48",
          "Stoke City<br>Season 16/17<br>Rank: 12<br>GF: 41",
          "West Ham Utd<br>Season 16/17<br>Rank: 11<br>GF: 47",
          "West Bromwich<br>Season 16/17<br>Rank: 10<br>GF: 43",
          "Bournemouth<br>Season 16/17<br>Rank: 9<br>GF: 55",
          "Southampton<br>Season 16/17<br>Rank: 8<br>GF: 41",
          "Everton<br>Season 16/17<br>Rank: 7<br>GF: 62",
          "Manchester Utd<br>Season 16/17<br>Rank: 6<br>GF: 54",
          "Arsenal<br>Season 16/17<br>Rank: 5<br>GF: 77",
          "Liverpool<br>Season 16/17<br>Rank: 4<br>GF: 78",
          "Manchester City<br>Season 16/17<br>Rank: 3<br>GF: 80",
          "Tottenham<br>Season 16/17<br>Rank: 2<br>GF: 86",
          "Chelsea<br>Season 16/17<br>Rank: 1<br>GF: 85"
         ],
         "type": "scatter",
         "uid": "6d25e798-d2e6-11e8-8663-acde48001122",
         "x": [
          29,
          27,
          37,
          40,
          39,
          45,
          50,
          48,
          41,
          47,
          43,
          55,
          41,
          62,
          54,
          77,
          78,
          80,
          86,
          85
         ],
         "y": [
          24,
          28,
          34,
          40,
          40,
          41,
          41,
          44,
          44,
          45,
          45,
          46,
          46,
          61,
          69,
          75,
          76,
          78,
          86,
          93
         ]
        },
        {
         "hoverinfo": "text",
         "marker": {
          "color": "red",
          "opacity": 0.5,
          "size": 9
         },
         "mode": "markers",
         "name": "Season 17/18 GA",
         "text": [
          "West Bromwich<br>Season 17/18<br>Rank: 20<br>GA: 56",
          "Stoke City<br>Season 17/18<br>Rank: 19<br>GA: 68",
          "Swansea City<br>Season 17/18<br>Rank: 18<br>GA: 56",
          "Southampton<br>Season 17/18<br>Rank: 17<br>GA: 56",
          "Huddersfield<br>Season 17/18<br>Rank: 16<br>GA: 58",
          "Brighton & Hove<br>Season 17/18<br>Rank: 15<br>GA: 54",
          "Watford<br>Season 17/18<br>Rank: 14<br>GA: 64",
          "West Ham Utd<br>Season 17/18<br>Rank: 13<br>GA: 68",
          "Bournemouth<br>Season 17/18<br>Rank: 12<br>GA: 61",
          "Crystal Palace<br>Season 17/18<br>Rank: 11<br>GA: 55",
          "Newcastle Utd<br>Season 17/18<br>Rank: 10<br>GA: 47",
          "Leicester City<br>Season 17/18<br>Rank: 9<br>GA: 60",
          "Everton<br>Season 17/18<br>Rank: 8<br>GA: 58",
          "Burnley<br>Season 17/18<br>Rank: 7<br>GA: 39",
          "Arsenal<br>Season 17/18<br>Rank: 6<br>GA: 51",
          "Chelsea<br>Season 17/18<br>Rank: 5<br>GA: 38",
          "Liverpool<br>Season 17/18<br>Rank: 4<br>GA: 38",
          "Tottenham<br>Season 17/18<br>Rank: 3<br>GA: 36",
          "Manchester Utd<br>Season 17/18<br>Rank: 2<br>GA: 28",
          "Manchester City<br>Season 17/18<br>Rank: 1<br>GA: 27"
         ],
         "type": "scatter",
         "uid": "6d25e818-d2e6-11e8-bbdf-acde48001122",
         "x": [
          56,
          68,
          56,
          56,
          58,
          54,
          64,
          68,
          61,
          55,
          47,
          60,
          58,
          39,
          51,
          38,
          38,
          36,
          28,
          27
         ],
         "y": [
          31,
          33,
          33,
          36,
          37,
          40,
          41,
          42,
          44,
          44,
          44,
          47,
          49,
          54,
          63,
          70,
          75,
          77,
          81,
          100
         ]
        },
        {
         "hoverinfo": "text",
         "marker": {
          "color": "blue",
          "opacity": 0.5,
          "size": 9
         },
         "mode": "markers",
         "name": "Season 17/18 GF",
         "text": [
          "West Bromwich<br>Season 17/18<br>Rank: 20<br>GF: 31",
          "Stoke City<br>Season 17/18<br>Rank: 19<br>GF: 35",
          "Swansea City<br>Season 17/18<br>Rank: 18<br>GF: 28",
          "Southampton<br>Season 17/18<br>Rank: 17<br>GF: 37",
          "Huddersfield<br>Season 17/18<br>Rank: 16<br>GF: 28",
          "Brighton & Hove<br>Season 17/18<br>Rank: 15<br>GF: 34",
          "Watford<br>Season 17/18<br>Rank: 14<br>GF: 44",
          "West Ham Utd<br>Season 17/18<br>Rank: 13<br>GF: 48",
          "Bournemouth<br>Season 17/18<br>Rank: 12<br>GF: 45",
          "Crystal Palace<br>Season 17/18<br>Rank: 11<br>GF: 45",
          "Newcastle Utd<br>Season 17/18<br>Rank: 10<br>GF: 39",
          "Leicester City<br>Season 17/18<br>Rank: 9<br>GF: 56",
          "Everton<br>Season 17/18<br>Rank: 8<br>GF: 44",
          "Burnley<br>Season 17/18<br>Rank: 7<br>GF: 36",
          "Arsenal<br>Season 17/18<br>Rank: 6<br>GF: 74",
          "Chelsea<br>Season 17/18<br>Rank: 5<br>GF: 62",
          "Liverpool<br>Season 17/18<br>Rank: 4<br>GF: 84",
          "Tottenham<br>Season 17/18<br>Rank: 3<br>GF: 74",
          "Manchester Utd<br>Season 17/18<br>Rank: 2<br>GF: 68",
          "Manchester City<br>Season 17/18<br>Rank: 1<br>GF: 106"
         ],
         "type": "scatter",
         "uid": "6d25e89a-d2e6-11e8-a2c2-acde48001122",
         "x": [
          31,
          35,
          28,
          37,
          28,
          34,
          44,
          48,
          45,
          45,
          39,
          56,
          44,
          36,
          74,
          62,
          84,
          74,
          68,
          106
         ],
         "y": [
          31,
          33,
          33,
          36,
          37,
          40,
          41,
          42,
          44,
          44,
          44,
          47,
          49,
          54,
          63,
          70,
          75,
          77,
          81,
          100
         ]
        }
       ],
       "layout": {
        "hovermode": "closest",
        "title": "GF/GA vs PTS",
        "updatemenus": [
         {
          "buttons": [
           {
            "args": [
             {
              "visible": [
               1
              ]
             }
            ],
            "label": "All Seasons",
            "method": "update"
           },
           {
            "args": [
             {
              "visible": [
               true,
               true,
               false,
               false,
               false,
               false,
               false,
               false,
               false,
               false,
               false,
               false
              ]
             }
            ],
            "label": "Season 12/13",
            "method": "update"
           },
           {
            "args": [
             {
              "visible": [
               false,
               false,
               true,
               true,
               false,
               false,
               false,
               false,
               false,
               false,
               false,
               false
              ]
             }
            ],
            "label": "Season 13/14",
            "method": "update"
           },
           {
            "args": [
             {
              "visible": [
               false,
               false,
               false,
               false,
               true,
               true,
               false,
               false,
               false,
               false,
               false,
               false
              ]
             }
            ],
            "label": "Season 14/15",
            "method": "update"
           },
           {
            "args": [
             {
              "visible": [
               false,
               false,
               false,
               false,
               false,
               false,
               true,
               true,
               false,
               false,
               false,
               false
              ]
             }
            ],
            "label": "Season 15/16",
            "method": "update"
           },
           {
            "args": [
             {
              "visible": [
               false,
               false,
               false,
               false,
               false,
               false,
               false,
               false,
               true,
               true,
               false,
               false
              ]
             }
            ],
            "label": "Season 16/17",
            "method": "update"
           },
           {
            "args": [
             {
              "visible": [
               false,
               false,
               false,
               false,
               false,
               false,
               false,
               false,
               false,
               false,
               true,
               true
              ]
             }
            ],
            "label": "Season 17/18",
            "method": "update"
           }
          ],
          "direction": "down",
          "x": 0.01,
          "xanchor": "left",
          "y": 1.05,
          "yanchor": "bottom"
         }
        ],
        "xaxis": {
         "range": [
          20,
          110
         ],
         "title": "GF/GA"
        },
        "yaxis": {
         "range": [
          20,
          105
         ],
         "title": "PTS"
        }
       }
      },
      "text/html": [
       "<div id=\"4224cec6-6754-41a7-a9f2-ae3413ccb4b6\" style=\"height: 525px; width: 100%;\" class=\"plotly-graph-div\"></div><script type=\"text/javascript\">require([\"plotly\"], function(Plotly) { window.PLOTLYENV=window.PLOTLYENV || {};window.PLOTLYENV.BASE_URL=\"https://plot.ly\";Plotly.newPlot(\"4224cec6-6754-41a7-a9f2-ae3413ccb4b6\", [{\"hoverinfo\": \"text\", \"marker\": {\"color\": \"red\", \"opacity\": 0.5, \"size\": 9}, \"mode\": \"markers\", \"name\": \"Season 12/13 GA\", \"text\": [\"QP Rangers<br>Season 12/13<br>Rank: 20<br>GA: 60\", \"Reading<br>Season 12/13<br>Rank: 19<br>GA: 73\", \"Wigan Athletic<br>Season 12/13<br>Rank: 18<br>GA: 73\", \"Sunderland<br>Season 12/13<br>Rank: 17<br>GA: 54\", \"Newcastle Utd<br>Season 12/13<br>Rank: 16<br>GA: 68\", \"Aston Villa<br>Season 12/13<br>Rank: 15<br>GA: 69\", \"Southampton<br>Season 12/13<br>Rank: 14<br>GA: 60\", \"Stoke City<br>Season 12/13<br>Rank: 13<br>GA: 45\", \"Fulham<br>Season 12/13<br>Rank: 12<br>GA: 60\", \"Norwich City<br>Season 12/13<br>Rank: 11<br>GA: 58\", \"West Ham Utd<br>Season 12/13<br>Rank: 10<br>GA: 53\", \"Swansea City<br>Season 12/13<br>Rank: 9<br>GA: 51\", \"West Bromwich<br>Season 12/13<br>Rank: 8<br>GA: 57\", \"Liverpool<br>Season 12/13<br>Rank: 7<br>GA: 43\", \"Everton<br>Season 12/13<br>Rank: 6<br>GA: 40\", \"Tottenham<br>Season 12/13<br>Rank: 5<br>GA: 46\", \"Arsenal<br>Season 12/13<br>Rank: 4<br>GA: 37\", \"Chelsea<br>Season 12/13<br>Rank: 3<br>GA: 39\", \"Manchester City<br>Season 12/13<br>Rank: 2<br>GA: 34\", \"Manchester Utd<br>Season 12/13<br>Rank: 1<br>GA: 43\"], \"x\": [60, 73, 73, 54, 68, 69, 60, 45, 60, 58, 53, 51, 57, 43, 40, 46, 37, 39, 34, 43], \"y\": [25, 28, 36, 39, 41, 41, 41, 42, 43, 44, 46, 46, 49, 61, 63, 72, 73, 75, 78, 89], \"type\": \"scatter\", \"uid\": \"6d25e17e-d2e6-11e8-9887-acde48001122\"}, {\"hoverinfo\": \"text\", \"marker\": {\"color\": \"blue\", \"opacity\": 0.5, \"size\": 9}, \"mode\": \"markers\", \"name\": \"Season 12/13 GF\", \"text\": [\"QP Rangers<br>Season 12/13<br>Rank: 20<br>GF: 30\", \"Reading<br>Season 12/13<br>Rank: 19<br>GF: 43\", \"Wigan Athletic<br>Season 12/13<br>Rank: 18<br>GF: 47\", \"Sunderland<br>Season 12/13<br>Rank: 17<br>GF: 41\", \"Newcastle Utd<br>Season 12/13<br>Rank: 16<br>GF: 45\", \"Aston Villa<br>Season 12/13<br>Rank: 15<br>GF: 47\", \"Southampton<br>Season 12/13<br>Rank: 14<br>GF: 49\", \"Stoke City<br>Season 12/13<br>Rank: 13<br>GF: 34\", \"Fulham<br>Season 12/13<br>Rank: 12<br>GF: 50\", \"Norwich City<br>Season 12/13<br>Rank: 11<br>GF: 41\", \"West Ham Utd<br>Season 12/13<br>Rank: 10<br>GF: 45\", \"Swansea City<br>Season 12/13<br>Rank: 9<br>GF: 47\", \"West Bromwich<br>Season 12/13<br>Rank: 8<br>GF: 53\", \"Liverpool<br>Season 12/13<br>Rank: 7<br>GF: 71\", \"Everton<br>Season 12/13<br>Rank: 6<br>GF: 55\", \"Tottenham<br>Season 12/13<br>Rank: 5<br>GF: 66\", \"Arsenal<br>Season 12/13<br>Rank: 4<br>GF: 72\", \"Chelsea<br>Season 12/13<br>Rank: 3<br>GF: 75\", \"Manchester City<br>Season 12/13<br>Rank: 2<br>GF: 66\", \"Manchester Utd<br>Season 12/13<br>Rank: 1<br>GF: 86\"], \"x\": [30, 43, 47, 41, 45, 47, 49, 34, 50, 41, 45, 47, 53, 71, 55, 66, 72, 75, 66, 86], \"y\": [25, 28, 36, 39, 41, 41, 41, 42, 43, 44, 46, 46, 49, 61, 63, 72, 73, 75, 78, 89], \"type\": \"scatter\", \"uid\": \"6d25e2f0-d2e6-11e8-be0e-acde48001122\"}, {\"hoverinfo\": \"text\", \"marker\": {\"color\": \"red\", \"opacity\": 0.5, \"size\": 9}, \"mode\": \"markers\", \"name\": \"Season 13/14 GA\", \"text\": [\"Cardiff City<br>Season 13/14<br>Rank: 20<br>GA: 74\", \"Fulham<br>Season 13/14<br>Rank: 19<br>GA: 85\", \"Norwich City<br>Season 13/14<br>Rank: 18<br>GA: 62\", \"West Bromwich<br>Season 13/14<br>Rank: 17<br>GA: 59\", \"Hull City<br>Season 13/14<br>Rank: 16<br>GA: 53\", \"Aston Villa<br>Season 13/14<br>Rank: 15<br>GA: 61\", \"Sunderland<br>Season 13/14<br>Rank: 14<br>GA: 60\", \"West Ham Utd<br>Season 13/14<br>Rank: 13<br>GA: 51\", \"Swansea City<br>Season 13/14<br>Rank: 12<br>GA: 54\", \"Crystal Palace<br>Season 13/14<br>Rank: 11<br>GA: 48\", \"Newcastle Utd<br>Season 13/14<br>Rank: 10<br>GA: 59\", \"Stoke City<br>Season 13/14<br>Rank: 9<br>GA: 52\", \"Southampton<br>Season 13/14<br>Rank: 8<br>GA: 46\", \"Manchester Utd<br>Season 13/14<br>Rank: 7<br>GA: 43\", \"Tottenham<br>Season 13/14<br>Rank: 6<br>GA: 51\", \"Everton<br>Season 13/14<br>Rank: 5<br>GA: 39\", \"Arsenal<br>Season 13/14<br>Rank: 4<br>GA: 41\", \"Chelsea<br>Season 13/14<br>Rank: 3<br>GA: 27\", \"Liverpool<br>Season 13/14<br>Rank: 2<br>GA: 50\", \"Manchester City<br>Season 13/14<br>Rank: 1<br>GA: 37\"], \"x\": [74, 85, 62, 59, 53, 61, 60, 51, 54, 48, 59, 52, 46, 43, 51, 39, 41, 27, 50, 37], \"y\": [30, 32, 33, 36, 37, 38, 38, 40, 42, 45, 49, 50, 56, 64, 69, 72, 79, 82, 84, 86], \"type\": \"scatter\", \"uid\": \"6d25e3ae-d2e6-11e8-9c74-acde48001122\"}, {\"hoverinfo\": \"text\", \"marker\": {\"color\": \"blue\", \"opacity\": 0.5, \"size\": 9}, \"mode\": \"markers\", \"name\": \"Season 13/14 GF\", \"text\": [\"Cardiff City<br>Season 13/14<br>Rank: 20<br>GF: 32\", \"Fulham<br>Season 13/14<br>Rank: 19<br>GF: 40\", \"Norwich City<br>Season 13/14<br>Rank: 18<br>GF: 28\", \"West Bromwich<br>Season 13/14<br>Rank: 17<br>GF: 43\", \"Hull City<br>Season 13/14<br>Rank: 16<br>GF: 38\", \"Aston Villa<br>Season 13/14<br>Rank: 15<br>GF: 39\", \"Sunderland<br>Season 13/14<br>Rank: 14<br>GF: 41\", \"West Ham Utd<br>Season 13/14<br>Rank: 13<br>GF: 40\", \"Swansea City<br>Season 13/14<br>Rank: 12<br>GF: 54\", \"Crystal Palace<br>Season 13/14<br>Rank: 11<br>GF: 33\", \"Newcastle Utd<br>Season 13/14<br>Rank: 10<br>GF: 43\", \"Stoke City<br>Season 13/14<br>Rank: 9<br>GF: 45\", \"Southampton<br>Season 13/14<br>Rank: 8<br>GF: 54\", \"Manchester Utd<br>Season 13/14<br>Rank: 7<br>GF: 64\", \"Tottenham<br>Season 13/14<br>Rank: 6<br>GF: 55\", \"Everton<br>Season 13/14<br>Rank: 5<br>GF: 61\", \"Arsenal<br>Season 13/14<br>Rank: 4<br>GF: 68\", \"Chelsea<br>Season 13/14<br>Rank: 3<br>GF: 71\", \"Liverpool<br>Season 13/14<br>Rank: 2<br>GF: 101\", \"Manchester City<br>Season 13/14<br>Rank: 1<br>GF: 102\"], \"x\": [32, 40, 28, 43, 38, 39, 41, 40, 54, 33, 43, 45, 54, 64, 55, 61, 68, 71, 101, 102], \"y\": [30, 32, 33, 36, 37, 38, 38, 40, 42, 45, 49, 50, 56, 64, 69, 72, 79, 82, 84, 86], \"type\": \"scatter\", \"uid\": \"6d25e446-d2e6-11e8-9ebf-acde48001122\"}, {\"hoverinfo\": \"text\", \"marker\": {\"color\": \"red\", \"opacity\": 0.5, \"size\": 9}, \"mode\": \"markers\", \"name\": \"Season 14/15 GA\", \"text\": [\"QP Rangers<br>Season 14/15<br>Rank: 20<br>GA: 73\", \"Burnley<br>Season 14/15<br>Rank: 19<br>GA: 53\", \"Hull City<br>Season 14/15<br>Rank: 18<br>GA: 51\", \"Aston Villa<br>Season 14/15<br>Rank: 17<br>GA: 57\", \"Sunderland<br>Season 14/15<br>Rank: 16<br>GA: 53\", \"Newcastle Utd<br>Season 14/15<br>Rank: 15<br>GA: 63\", \"Leicester City<br>Season 14/15<br>Rank: 14<br>GA: 55\", \"West Bromwich<br>Season 14/15<br>Rank: 13<br>GA: 51\", \"West Ham Utd<br>Season 14/15<br>Rank: 12<br>GA: 47\", \"Everton<br>Season 14/15<br>Rank: 11<br>GA: 50\", \"Crystal Palace<br>Season 14/15<br>Rank: 10<br>GA: 51\", \"Stoke City<br>Season 14/15<br>Rank: 9<br>GA: 45\", \"Swansea City<br>Season 14/15<br>Rank: 8<br>GA: 49\", \"Southampton<br>Season 14/15<br>Rank: 7<br>GA: 33\", \"Liverpool<br>Season 14/15<br>Rank: 6<br>GA: 48\", \"Tottenham<br>Season 14/15<br>Rank: 5<br>GA: 53\", \"Manchester Utd<br>Season 14/15<br>Rank: 4<br>GA: 37\", \"Arsenal<br>Season 14/15<br>Rank: 3<br>GA: 36\", \"Manchester City<br>Season 14/15<br>Rank: 2<br>GA: 38\", \"Chelsea<br>Season 14/15<br>Rank: 1<br>GA: 32\"], \"x\": [73, 53, 51, 57, 53, 63, 55, 51, 47, 50, 51, 45, 49, 33, 48, 53, 37, 36, 38, 32], \"y\": [30, 33, 35, 38, 38, 39, 41, 44, 47, 47, 48, 54, 56, 60, 62, 64, 70, 75, 79, 87], \"type\": \"scatter\", \"uid\": \"6d25e4d0-d2e6-11e8-814e-acde48001122\"}, {\"hoverinfo\": \"text\", \"marker\": {\"color\": \"blue\", \"opacity\": 0.5, \"size\": 9}, \"mode\": \"markers\", \"name\": \"Season 14/15 GF\", \"text\": [\"QP Rangers<br>Season 14/15<br>Rank: 20<br>GF: 42\", \"Burnley<br>Season 14/15<br>Rank: 19<br>GF: 28\", \"Hull City<br>Season 14/15<br>Rank: 18<br>GF: 33\", \"Aston Villa<br>Season 14/15<br>Rank: 17<br>GF: 31\", \"Sunderland<br>Season 14/15<br>Rank: 16<br>GF: 31\", \"Newcastle Utd<br>Season 14/15<br>Rank: 15<br>GF: 40\", \"Leicester City<br>Season 14/15<br>Rank: 14<br>GF: 46\", \"West Bromwich<br>Season 14/15<br>Rank: 13<br>GF: 38\", \"West Ham Utd<br>Season 14/15<br>Rank: 12<br>GF: 44\", \"Everton<br>Season 14/15<br>Rank: 11<br>GF: 48\", \"Crystal Palace<br>Season 14/15<br>Rank: 10<br>GF: 47\", \"Stoke City<br>Season 14/15<br>Rank: 9<br>GF: 48\", \"Swansea City<br>Season 14/15<br>Rank: 8<br>GF: 46\", \"Southampton<br>Season 14/15<br>Rank: 7<br>GF: 54\", \"Liverpool<br>Season 14/15<br>Rank: 6<br>GF: 52\", \"Tottenham<br>Season 14/15<br>Rank: 5<br>GF: 58\", \"Manchester Utd<br>Season 14/15<br>Rank: 4<br>GF: 62\", \"Arsenal<br>Season 14/15<br>Rank: 3<br>GF: 71\", \"Manchester City<br>Season 14/15<br>Rank: 2<br>GF: 83\", \"Chelsea<br>Season 14/15<br>Rank: 1<br>GF: 73\"], \"x\": [42, 28, 33, 31, 31, 40, 46, 38, 44, 48, 47, 48, 46, 54, 52, 58, 62, 71, 83, 73], \"y\": [30, 33, 35, 38, 38, 39, 41, 44, 47, 47, 48, 54, 56, 60, 62, 64, 70, 75, 79, 87], \"type\": \"scatter\", \"uid\": \"6d25e55c-d2e6-11e8-aba9-acde48001122\"}, {\"hoverinfo\": \"text\", \"marker\": {\"color\": \"red\", \"opacity\": 0.5, \"size\": 9}, \"mode\": \"markers\", \"name\": \"Season 15/16 GA\", \"text\": [\"Aston Villa<br>Season 15/16<br>Rank: 20<br>GA: 76\", \"Norwich City<br>Season 15/16<br>Rank: 19<br>GA: 67\", \"Newcastle Utd<br>Season 15/16<br>Rank: 18<br>GA: 65\", \"Sunderland<br>Season 15/16<br>Rank: 17<br>GA: 62\", \"Bournemouth<br>Season 15/16<br>Rank: 16<br>GA: 67\", \"Crystal Palace<br>Season 15/16<br>Rank: 15<br>GA: 51\", \"West Bromwich<br>Season 15/16<br>Rank: 14<br>GA: 48\", \"Watford<br>Season 15/16<br>Rank: 13<br>GA: 50\", \"Swansea City<br>Season 15/16<br>Rank: 12<br>GA: 52\", \"Everton<br>Season 15/16<br>Rank: 11<br>GA: 55\", \"Chelsea<br>Season 15/16<br>Rank: 10<br>GA: 53\", \"Stoke City<br>Season 15/16<br>Rank: 9<br>GA: 55\", \"Liverpool<br>Season 15/16<br>Rank: 8<br>GA: 50\", \"West Ham Utd<br>Season 15/16<br>Rank: 7<br>GA: 51\", \"Southampton<br>Season 15/16<br>Rank: 6<br>GA: 41\", \"Manchester Utd<br>Season 15/16<br>Rank: 5<br>GA: 35\", \"Manchester City<br>Season 15/16<br>Rank: 4<br>GA: 41\", \"Tottenham<br>Season 15/16<br>Rank: 3<br>GA: 35\", \"Arsenal<br>Season 15/16<br>Rank: 2<br>GA: 36\", \"Leicester City<br>Season 15/16<br>Rank: 1<br>GA: 36\"], \"x\": [76, 67, 65, 62, 67, 51, 48, 50, 52, 55, 53, 55, 50, 51, 41, 35, 41, 35, 36, 36], \"y\": [17, 34, 37, 39, 42, 42, 43, 45, 47, 47, 50, 51, 60, 62, 63, 66, 66, 70, 71, 81], \"type\": \"scatter\", \"uid\": \"6d25e5e8-d2e6-11e8-ae5a-acde48001122\"}, {\"hoverinfo\": \"text\", \"marker\": {\"color\": \"blue\", \"opacity\": 0.5, \"size\": 9}, \"mode\": \"markers\", \"name\": \"Season 15/16 GF\", \"text\": [\"Aston Villa<br>Season 15/16<br>Rank: 20<br>GF: 27\", \"Norwich City<br>Season 15/16<br>Rank: 19<br>GF: 39\", \"Newcastle Utd<br>Season 15/16<br>Rank: 18<br>GF: 44\", \"Sunderland<br>Season 15/16<br>Rank: 17<br>GF: 48\", \"Bournemouth<br>Season 15/16<br>Rank: 16<br>GF: 45\", \"Crystal Palace<br>Season 15/16<br>Rank: 15<br>GF: 39\", \"West Bromwich<br>Season 15/16<br>Rank: 14<br>GF: 34\", \"Watford<br>Season 15/16<br>Rank: 13<br>GF: 40\", \"Swansea City<br>Season 15/16<br>Rank: 12<br>GF: 42\", \"Everton<br>Season 15/16<br>Rank: 11<br>GF: 59\", \"Chelsea<br>Season 15/16<br>Rank: 10<br>GF: 59\", \"Stoke City<br>Season 15/16<br>Rank: 9<br>GF: 41\", \"Liverpool<br>Season 15/16<br>Rank: 8<br>GF: 63\", \"West Ham Utd<br>Season 15/16<br>Rank: 7<br>GF: 65\", \"Southampton<br>Season 15/16<br>Rank: 6<br>GF: 59\", \"Manchester Utd<br>Season 15/16<br>Rank: 5<br>GF: 49\", \"Manchester City<br>Season 15/16<br>Rank: 4<br>GF: 71\", \"Tottenham<br>Season 15/16<br>Rank: 3<br>GF: 69\", \"Arsenal<br>Season 15/16<br>Rank: 2<br>GF: 65\", \"Leicester City<br>Season 15/16<br>Rank: 1<br>GF: 68\"], \"x\": [27, 39, 44, 48, 45, 39, 34, 40, 42, 59, 59, 41, 63, 65, 59, 49, 71, 69, 65, 68], \"y\": [17, 34, 37, 39, 42, 42, 43, 45, 47, 47, 50, 51, 60, 62, 63, 66, 66, 70, 71, 81], \"type\": \"scatter\", \"uid\": \"6d25e674-d2e6-11e8-823a-acde48001122\"}, {\"hoverinfo\": \"text\", \"marker\": {\"color\": \"red\", \"opacity\": 0.5, \"size\": 9}, \"mode\": \"markers\", \"name\": \"Season 16/17 GA\", \"text\": [\"Sunderland<br>Season 16/17<br>Rank: 20<br>GA: 69\", \"Middlesbrough<br>Season 16/17<br>Rank: 19<br>GA: 53\", \"Hull City<br>Season 16/17<br>Rank: 18<br>GA: 80\", \"Watford<br>Season 16/17<br>Rank: 17<br>GA: 68\", \"Burnley<br>Season 16/17<br>Rank: 16<br>GA: 55\", \"Swansea City<br>Season 16/17<br>Rank: 15<br>GA: 70\", \"Crystal Palace<br>Season 16/17<br>Rank: 14<br>GA: 63\", \"Leicester City<br>Season 16/17<br>Rank: 13<br>GA: 63\", \"Stoke City<br>Season 16/17<br>Rank: 12<br>GA: 56\", \"West Ham Utd<br>Season 16/17<br>Rank: 11<br>GA: 64\", \"West Bromwich<br>Season 16/17<br>Rank: 10<br>GA: 51\", \"Bournemouth<br>Season 16/17<br>Rank: 9<br>GA: 67\", \"Southampton<br>Season 16/17<br>Rank: 8<br>GA: 48\", \"Everton<br>Season 16/17<br>Rank: 7<br>GA: 44\", \"Manchester Utd<br>Season 16/17<br>Rank: 6<br>GA: 29\", \"Arsenal<br>Season 16/17<br>Rank: 5<br>GA: 44\", \"Liverpool<br>Season 16/17<br>Rank: 4<br>GA: 42\", \"Manchester City<br>Season 16/17<br>Rank: 3<br>GA: 39\", \"Tottenham<br>Season 16/17<br>Rank: 2<br>GA: 26\", \"Chelsea<br>Season 16/17<br>Rank: 1<br>GA: 33\"], \"x\": [69, 53, 80, 68, 55, 70, 63, 63, 56, 64, 51, 67, 48, 44, 29, 44, 42, 39, 26, 33], \"y\": [24, 28, 34, 40, 40, 41, 41, 44, 44, 45, 45, 46, 46, 61, 69, 75, 76, 78, 86, 93], \"type\": \"scatter\", \"uid\": \"6d25e70a-d2e6-11e8-b9a4-acde48001122\"}, {\"hoverinfo\": \"text\", \"marker\": {\"color\": \"blue\", \"opacity\": 0.5, \"size\": 9}, \"mode\": \"markers\", \"name\": \"Season 16/17 GF\", \"text\": [\"Sunderland<br>Season 16/17<br>Rank: 20<br>GF: 29\", \"Middlesbrough<br>Season 16/17<br>Rank: 19<br>GF: 27\", \"Hull City<br>Season 16/17<br>Rank: 18<br>GF: 37\", \"Watford<br>Season 16/17<br>Rank: 17<br>GF: 40\", \"Burnley<br>Season 16/17<br>Rank: 16<br>GF: 39\", \"Swansea City<br>Season 16/17<br>Rank: 15<br>GF: 45\", \"Crystal Palace<br>Season 16/17<br>Rank: 14<br>GF: 50\", \"Leicester City<br>Season 16/17<br>Rank: 13<br>GF: 48\", \"Stoke City<br>Season 16/17<br>Rank: 12<br>GF: 41\", \"West Ham Utd<br>Season 16/17<br>Rank: 11<br>GF: 47\", \"West Bromwich<br>Season 16/17<br>Rank: 10<br>GF: 43\", \"Bournemouth<br>Season 16/17<br>Rank: 9<br>GF: 55\", \"Southampton<br>Season 16/17<br>Rank: 8<br>GF: 41\", \"Everton<br>Season 16/17<br>Rank: 7<br>GF: 62\", \"Manchester Utd<br>Season 16/17<br>Rank: 6<br>GF: 54\", \"Arsenal<br>Season 16/17<br>Rank: 5<br>GF: 77\", \"Liverpool<br>Season 16/17<br>Rank: 4<br>GF: 78\", \"Manchester City<br>Season 16/17<br>Rank: 3<br>GF: 80\", \"Tottenham<br>Season 16/17<br>Rank: 2<br>GF: 86\", \"Chelsea<br>Season 16/17<br>Rank: 1<br>GF: 85\"], \"x\": [29, 27, 37, 40, 39, 45, 50, 48, 41, 47, 43, 55, 41, 62, 54, 77, 78, 80, 86, 85], \"y\": [24, 28, 34, 40, 40, 41, 41, 44, 44, 45, 45, 46, 46, 61, 69, 75, 76, 78, 86, 93], \"type\": \"scatter\", \"uid\": \"6d25e798-d2e6-11e8-8663-acde48001122\"}, {\"hoverinfo\": \"text\", \"marker\": {\"color\": \"red\", \"opacity\": 0.5, \"size\": 9}, \"mode\": \"markers\", \"name\": \"Season 17/18 GA\", \"text\": [\"West Bromwich<br>Season 17/18<br>Rank: 20<br>GA: 56\", \"Stoke City<br>Season 17/18<br>Rank: 19<br>GA: 68\", \"Swansea City<br>Season 17/18<br>Rank: 18<br>GA: 56\", \"Southampton<br>Season 17/18<br>Rank: 17<br>GA: 56\", \"Huddersfield<br>Season 17/18<br>Rank: 16<br>GA: 58\", \"Brighton & Hove<br>Season 17/18<br>Rank: 15<br>GA: 54\", \"Watford<br>Season 17/18<br>Rank: 14<br>GA: 64\", \"West Ham Utd<br>Season 17/18<br>Rank: 13<br>GA: 68\", \"Bournemouth<br>Season 17/18<br>Rank: 12<br>GA: 61\", \"Crystal Palace<br>Season 17/18<br>Rank: 11<br>GA: 55\", \"Newcastle Utd<br>Season 17/18<br>Rank: 10<br>GA: 47\", \"Leicester City<br>Season 17/18<br>Rank: 9<br>GA: 60\", \"Everton<br>Season 17/18<br>Rank: 8<br>GA: 58\", \"Burnley<br>Season 17/18<br>Rank: 7<br>GA: 39\", \"Arsenal<br>Season 17/18<br>Rank: 6<br>GA: 51\", \"Chelsea<br>Season 17/18<br>Rank: 5<br>GA: 38\", \"Liverpool<br>Season 17/18<br>Rank: 4<br>GA: 38\", \"Tottenham<br>Season 17/18<br>Rank: 3<br>GA: 36\", \"Manchester Utd<br>Season 17/18<br>Rank: 2<br>GA: 28\", \"Manchester City<br>Season 17/18<br>Rank: 1<br>GA: 27\"], \"x\": [56, 68, 56, 56, 58, 54, 64, 68, 61, 55, 47, 60, 58, 39, 51, 38, 38, 36, 28, 27], \"y\": [31, 33, 33, 36, 37, 40, 41, 42, 44, 44, 44, 47, 49, 54, 63, 70, 75, 77, 81, 100], \"type\": \"scatter\", \"uid\": \"6d25e818-d2e6-11e8-bbdf-acde48001122\"}, {\"hoverinfo\": \"text\", \"marker\": {\"color\": \"blue\", \"opacity\": 0.5, \"size\": 9}, \"mode\": \"markers\", \"name\": \"Season 17/18 GF\", \"text\": [\"West Bromwich<br>Season 17/18<br>Rank: 20<br>GF: 31\", \"Stoke City<br>Season 17/18<br>Rank: 19<br>GF: 35\", \"Swansea City<br>Season 17/18<br>Rank: 18<br>GF: 28\", \"Southampton<br>Season 17/18<br>Rank: 17<br>GF: 37\", \"Huddersfield<br>Season 17/18<br>Rank: 16<br>GF: 28\", \"Brighton & Hove<br>Season 17/18<br>Rank: 15<br>GF: 34\", \"Watford<br>Season 17/18<br>Rank: 14<br>GF: 44\", \"West Ham Utd<br>Season 17/18<br>Rank: 13<br>GF: 48\", \"Bournemouth<br>Season 17/18<br>Rank: 12<br>GF: 45\", \"Crystal Palace<br>Season 17/18<br>Rank: 11<br>GF: 45\", \"Newcastle Utd<br>Season 17/18<br>Rank: 10<br>GF: 39\", \"Leicester City<br>Season 17/18<br>Rank: 9<br>GF: 56\", \"Everton<br>Season 17/18<br>Rank: 8<br>GF: 44\", \"Burnley<br>Season 17/18<br>Rank: 7<br>GF: 36\", \"Arsenal<br>Season 17/18<br>Rank: 6<br>GF: 74\", \"Chelsea<br>Season 17/18<br>Rank: 5<br>GF: 62\", \"Liverpool<br>Season 17/18<br>Rank: 4<br>GF: 84\", \"Tottenham<br>Season 17/18<br>Rank: 3<br>GF: 74\", \"Manchester Utd<br>Season 17/18<br>Rank: 2<br>GF: 68\", \"Manchester City<br>Season 17/18<br>Rank: 1<br>GF: 106\"], \"x\": [31, 35, 28, 37, 28, 34, 44, 48, 45, 45, 39, 56, 44, 36, 74, 62, 84, 74, 68, 106], \"y\": [31, 33, 33, 36, 37, 40, 41, 42, 44, 44, 44, 47, 49, 54, 63, 70, 75, 77, 81, 100], \"type\": \"scatter\", \"uid\": \"6d25e89a-d2e6-11e8-a2c2-acde48001122\"}], {\"hovermode\": \"closest\", \"title\": \"GF/GA vs PTS\", \"updatemenus\": [{\"buttons\": [{\"args\": [{\"visible\": [1]}], \"label\": \"All Seasons\", \"method\": \"update\"}, {\"args\": [{\"visible\": [true, true, false, false, false, false, false, false, false, false, false, false]}], \"label\": \"Season 12/13\", \"method\": \"update\"}, {\"args\": [{\"visible\": [false, false, true, true, false, false, false, false, false, false, false, false]}], \"label\": \"Season 13/14\", \"method\": \"update\"}, {\"args\": [{\"visible\": [false, false, false, false, true, true, false, false, false, false, false, false]}], \"label\": \"Season 14/15\", \"method\": \"update\"}, {\"args\": [{\"visible\": [false, false, false, false, false, false, true, true, false, false, false, false]}], \"label\": \"Season 15/16\", \"method\": \"update\"}, {\"args\": [{\"visible\": [false, false, false, false, false, false, false, false, true, true, false, false]}], \"label\": \"Season 16/17\", \"method\": \"update\"}, {\"args\": [{\"visible\": [false, false, false, false, false, false, false, false, false, false, true, true]}], \"label\": \"Season 17/18\", \"method\": \"update\"}], \"direction\": \"down\", \"x\": 0.01, \"xanchor\": \"left\", \"y\": 1.05, \"yanchor\": \"bottom\"}], \"xaxis\": {\"range\": [20, 110], \"title\": \"GF/GA\"}, \"yaxis\": {\"range\": [20, 105], \"title\": \"PTS\"}}, {\"showLink\": true, \"linkText\": \"Export to plot.ly\"})});</script>"
      ],
      "text/vnd.plotly.v1+html": [
       "<div id=\"4224cec6-6754-41a7-a9f2-ae3413ccb4b6\" style=\"height: 525px; width: 100%;\" class=\"plotly-graph-div\"></div><script type=\"text/javascript\">require([\"plotly\"], function(Plotly) { window.PLOTLYENV=window.PLOTLYENV || {};window.PLOTLYENV.BASE_URL=\"https://plot.ly\";Plotly.newPlot(\"4224cec6-6754-41a7-a9f2-ae3413ccb4b6\", [{\"hoverinfo\": \"text\", \"marker\": {\"color\": \"red\", \"opacity\": 0.5, \"size\": 9}, \"mode\": \"markers\", \"name\": \"Season 12/13 GA\", \"text\": [\"QP Rangers<br>Season 12/13<br>Rank: 20<br>GA: 60\", \"Reading<br>Season 12/13<br>Rank: 19<br>GA: 73\", \"Wigan Athletic<br>Season 12/13<br>Rank: 18<br>GA: 73\", \"Sunderland<br>Season 12/13<br>Rank: 17<br>GA: 54\", \"Newcastle Utd<br>Season 12/13<br>Rank: 16<br>GA: 68\", \"Aston Villa<br>Season 12/13<br>Rank: 15<br>GA: 69\", \"Southampton<br>Season 12/13<br>Rank: 14<br>GA: 60\", \"Stoke City<br>Season 12/13<br>Rank: 13<br>GA: 45\", \"Fulham<br>Season 12/13<br>Rank: 12<br>GA: 60\", \"Norwich City<br>Season 12/13<br>Rank: 11<br>GA: 58\", \"West Ham Utd<br>Season 12/13<br>Rank: 10<br>GA: 53\", \"Swansea City<br>Season 12/13<br>Rank: 9<br>GA: 51\", \"West Bromwich<br>Season 12/13<br>Rank: 8<br>GA: 57\", \"Liverpool<br>Season 12/13<br>Rank: 7<br>GA: 43\", \"Everton<br>Season 12/13<br>Rank: 6<br>GA: 40\", \"Tottenham<br>Season 12/13<br>Rank: 5<br>GA: 46\", \"Arsenal<br>Season 12/13<br>Rank: 4<br>GA: 37\", \"Chelsea<br>Season 12/13<br>Rank: 3<br>GA: 39\", \"Manchester City<br>Season 12/13<br>Rank: 2<br>GA: 34\", \"Manchester Utd<br>Season 12/13<br>Rank: 1<br>GA: 43\"], \"x\": [60, 73, 73, 54, 68, 69, 60, 45, 60, 58, 53, 51, 57, 43, 40, 46, 37, 39, 34, 43], \"y\": [25, 28, 36, 39, 41, 41, 41, 42, 43, 44, 46, 46, 49, 61, 63, 72, 73, 75, 78, 89], \"type\": \"scatter\", \"uid\": \"6d25e17e-d2e6-11e8-9887-acde48001122\"}, {\"hoverinfo\": \"text\", \"marker\": {\"color\": \"blue\", \"opacity\": 0.5, \"size\": 9}, \"mode\": \"markers\", \"name\": \"Season 12/13 GF\", \"text\": [\"QP Rangers<br>Season 12/13<br>Rank: 20<br>GF: 30\", \"Reading<br>Season 12/13<br>Rank: 19<br>GF: 43\", \"Wigan Athletic<br>Season 12/13<br>Rank: 18<br>GF: 47\", \"Sunderland<br>Season 12/13<br>Rank: 17<br>GF: 41\", \"Newcastle Utd<br>Season 12/13<br>Rank: 16<br>GF: 45\", \"Aston Villa<br>Season 12/13<br>Rank: 15<br>GF: 47\", \"Southampton<br>Season 12/13<br>Rank: 14<br>GF: 49\", \"Stoke City<br>Season 12/13<br>Rank: 13<br>GF: 34\", \"Fulham<br>Season 12/13<br>Rank: 12<br>GF: 50\", \"Norwich City<br>Season 12/13<br>Rank: 11<br>GF: 41\", \"West Ham Utd<br>Season 12/13<br>Rank: 10<br>GF: 45\", \"Swansea City<br>Season 12/13<br>Rank: 9<br>GF: 47\", \"West Bromwich<br>Season 12/13<br>Rank: 8<br>GF: 53\", \"Liverpool<br>Season 12/13<br>Rank: 7<br>GF: 71\", \"Everton<br>Season 12/13<br>Rank: 6<br>GF: 55\", \"Tottenham<br>Season 12/13<br>Rank: 5<br>GF: 66\", \"Arsenal<br>Season 12/13<br>Rank: 4<br>GF: 72\", \"Chelsea<br>Season 12/13<br>Rank: 3<br>GF: 75\", \"Manchester City<br>Season 12/13<br>Rank: 2<br>GF: 66\", \"Manchester Utd<br>Season 12/13<br>Rank: 1<br>GF: 86\"], \"x\": [30, 43, 47, 41, 45, 47, 49, 34, 50, 41, 45, 47, 53, 71, 55, 66, 72, 75, 66, 86], \"y\": [25, 28, 36, 39, 41, 41, 41, 42, 43, 44, 46, 46, 49, 61, 63, 72, 73, 75, 78, 89], \"type\": \"scatter\", \"uid\": \"6d25e2f0-d2e6-11e8-be0e-acde48001122\"}, {\"hoverinfo\": \"text\", \"marker\": {\"color\": \"red\", \"opacity\": 0.5, \"size\": 9}, \"mode\": \"markers\", \"name\": \"Season 13/14 GA\", \"text\": [\"Cardiff City<br>Season 13/14<br>Rank: 20<br>GA: 74\", \"Fulham<br>Season 13/14<br>Rank: 19<br>GA: 85\", \"Norwich City<br>Season 13/14<br>Rank: 18<br>GA: 62\", \"West Bromwich<br>Season 13/14<br>Rank: 17<br>GA: 59\", \"Hull City<br>Season 13/14<br>Rank: 16<br>GA: 53\", \"Aston Villa<br>Season 13/14<br>Rank: 15<br>GA: 61\", \"Sunderland<br>Season 13/14<br>Rank: 14<br>GA: 60\", \"West Ham Utd<br>Season 13/14<br>Rank: 13<br>GA: 51\", \"Swansea City<br>Season 13/14<br>Rank: 12<br>GA: 54\", \"Crystal Palace<br>Season 13/14<br>Rank: 11<br>GA: 48\", \"Newcastle Utd<br>Season 13/14<br>Rank: 10<br>GA: 59\", \"Stoke City<br>Season 13/14<br>Rank: 9<br>GA: 52\", \"Southampton<br>Season 13/14<br>Rank: 8<br>GA: 46\", \"Manchester Utd<br>Season 13/14<br>Rank: 7<br>GA: 43\", \"Tottenham<br>Season 13/14<br>Rank: 6<br>GA: 51\", \"Everton<br>Season 13/14<br>Rank: 5<br>GA: 39\", \"Arsenal<br>Season 13/14<br>Rank: 4<br>GA: 41\", \"Chelsea<br>Season 13/14<br>Rank: 3<br>GA: 27\", \"Liverpool<br>Season 13/14<br>Rank: 2<br>GA: 50\", \"Manchester City<br>Season 13/14<br>Rank: 1<br>GA: 37\"], \"x\": [74, 85, 62, 59, 53, 61, 60, 51, 54, 48, 59, 52, 46, 43, 51, 39, 41, 27, 50, 37], \"y\": [30, 32, 33, 36, 37, 38, 38, 40, 42, 45, 49, 50, 56, 64, 69, 72, 79, 82, 84, 86], \"type\": \"scatter\", \"uid\": \"6d25e3ae-d2e6-11e8-9c74-acde48001122\"}, {\"hoverinfo\": \"text\", \"marker\": {\"color\": \"blue\", \"opacity\": 0.5, \"size\": 9}, \"mode\": \"markers\", \"name\": \"Season 13/14 GF\", \"text\": [\"Cardiff City<br>Season 13/14<br>Rank: 20<br>GF: 32\", \"Fulham<br>Season 13/14<br>Rank: 19<br>GF: 40\", \"Norwich City<br>Season 13/14<br>Rank: 18<br>GF: 28\", \"West Bromwich<br>Season 13/14<br>Rank: 17<br>GF: 43\", \"Hull City<br>Season 13/14<br>Rank: 16<br>GF: 38\", \"Aston Villa<br>Season 13/14<br>Rank: 15<br>GF: 39\", \"Sunderland<br>Season 13/14<br>Rank: 14<br>GF: 41\", \"West Ham Utd<br>Season 13/14<br>Rank: 13<br>GF: 40\", \"Swansea City<br>Season 13/14<br>Rank: 12<br>GF: 54\", \"Crystal Palace<br>Season 13/14<br>Rank: 11<br>GF: 33\", \"Newcastle Utd<br>Season 13/14<br>Rank: 10<br>GF: 43\", \"Stoke City<br>Season 13/14<br>Rank: 9<br>GF: 45\", \"Southampton<br>Season 13/14<br>Rank: 8<br>GF: 54\", \"Manchester Utd<br>Season 13/14<br>Rank: 7<br>GF: 64\", \"Tottenham<br>Season 13/14<br>Rank: 6<br>GF: 55\", \"Everton<br>Season 13/14<br>Rank: 5<br>GF: 61\", \"Arsenal<br>Season 13/14<br>Rank: 4<br>GF: 68\", \"Chelsea<br>Season 13/14<br>Rank: 3<br>GF: 71\", \"Liverpool<br>Season 13/14<br>Rank: 2<br>GF: 101\", \"Manchester City<br>Season 13/14<br>Rank: 1<br>GF: 102\"], \"x\": [32, 40, 28, 43, 38, 39, 41, 40, 54, 33, 43, 45, 54, 64, 55, 61, 68, 71, 101, 102], \"y\": [30, 32, 33, 36, 37, 38, 38, 40, 42, 45, 49, 50, 56, 64, 69, 72, 79, 82, 84, 86], \"type\": \"scatter\", \"uid\": \"6d25e446-d2e6-11e8-9ebf-acde48001122\"}, {\"hoverinfo\": \"text\", \"marker\": {\"color\": \"red\", \"opacity\": 0.5, \"size\": 9}, \"mode\": \"markers\", \"name\": \"Season 14/15 GA\", \"text\": [\"QP Rangers<br>Season 14/15<br>Rank: 20<br>GA: 73\", \"Burnley<br>Season 14/15<br>Rank: 19<br>GA: 53\", \"Hull City<br>Season 14/15<br>Rank: 18<br>GA: 51\", \"Aston Villa<br>Season 14/15<br>Rank: 17<br>GA: 57\", \"Sunderland<br>Season 14/15<br>Rank: 16<br>GA: 53\", \"Newcastle Utd<br>Season 14/15<br>Rank: 15<br>GA: 63\", \"Leicester City<br>Season 14/15<br>Rank: 14<br>GA: 55\", \"West Bromwich<br>Season 14/15<br>Rank: 13<br>GA: 51\", \"West Ham Utd<br>Season 14/15<br>Rank: 12<br>GA: 47\", \"Everton<br>Season 14/15<br>Rank: 11<br>GA: 50\", \"Crystal Palace<br>Season 14/15<br>Rank: 10<br>GA: 51\", \"Stoke City<br>Season 14/15<br>Rank: 9<br>GA: 45\", \"Swansea City<br>Season 14/15<br>Rank: 8<br>GA: 49\", \"Southampton<br>Season 14/15<br>Rank: 7<br>GA: 33\", \"Liverpool<br>Season 14/15<br>Rank: 6<br>GA: 48\", \"Tottenham<br>Season 14/15<br>Rank: 5<br>GA: 53\", \"Manchester Utd<br>Season 14/15<br>Rank: 4<br>GA: 37\", \"Arsenal<br>Season 14/15<br>Rank: 3<br>GA: 36\", \"Manchester City<br>Season 14/15<br>Rank: 2<br>GA: 38\", \"Chelsea<br>Season 14/15<br>Rank: 1<br>GA: 32\"], \"x\": [73, 53, 51, 57, 53, 63, 55, 51, 47, 50, 51, 45, 49, 33, 48, 53, 37, 36, 38, 32], \"y\": [30, 33, 35, 38, 38, 39, 41, 44, 47, 47, 48, 54, 56, 60, 62, 64, 70, 75, 79, 87], \"type\": \"scatter\", \"uid\": \"6d25e4d0-d2e6-11e8-814e-acde48001122\"}, {\"hoverinfo\": \"text\", \"marker\": {\"color\": \"blue\", \"opacity\": 0.5, \"size\": 9}, \"mode\": \"markers\", \"name\": \"Season 14/15 GF\", \"text\": [\"QP Rangers<br>Season 14/15<br>Rank: 20<br>GF: 42\", \"Burnley<br>Season 14/15<br>Rank: 19<br>GF: 28\", \"Hull City<br>Season 14/15<br>Rank: 18<br>GF: 33\", \"Aston Villa<br>Season 14/15<br>Rank: 17<br>GF: 31\", \"Sunderland<br>Season 14/15<br>Rank: 16<br>GF: 31\", \"Newcastle Utd<br>Season 14/15<br>Rank: 15<br>GF: 40\", \"Leicester City<br>Season 14/15<br>Rank: 14<br>GF: 46\", \"West Bromwich<br>Season 14/15<br>Rank: 13<br>GF: 38\", \"West Ham Utd<br>Season 14/15<br>Rank: 12<br>GF: 44\", \"Everton<br>Season 14/15<br>Rank: 11<br>GF: 48\", \"Crystal Palace<br>Season 14/15<br>Rank: 10<br>GF: 47\", \"Stoke City<br>Season 14/15<br>Rank: 9<br>GF: 48\", \"Swansea City<br>Season 14/15<br>Rank: 8<br>GF: 46\", \"Southampton<br>Season 14/15<br>Rank: 7<br>GF: 54\", \"Liverpool<br>Season 14/15<br>Rank: 6<br>GF: 52\", \"Tottenham<br>Season 14/15<br>Rank: 5<br>GF: 58\", \"Manchester Utd<br>Season 14/15<br>Rank: 4<br>GF: 62\", \"Arsenal<br>Season 14/15<br>Rank: 3<br>GF: 71\", \"Manchester City<br>Season 14/15<br>Rank: 2<br>GF: 83\", \"Chelsea<br>Season 14/15<br>Rank: 1<br>GF: 73\"], \"x\": [42, 28, 33, 31, 31, 40, 46, 38, 44, 48, 47, 48, 46, 54, 52, 58, 62, 71, 83, 73], \"y\": [30, 33, 35, 38, 38, 39, 41, 44, 47, 47, 48, 54, 56, 60, 62, 64, 70, 75, 79, 87], \"type\": \"scatter\", \"uid\": \"6d25e55c-d2e6-11e8-aba9-acde48001122\"}, {\"hoverinfo\": \"text\", \"marker\": {\"color\": \"red\", \"opacity\": 0.5, \"size\": 9}, \"mode\": \"markers\", \"name\": \"Season 15/16 GA\", \"text\": [\"Aston Villa<br>Season 15/16<br>Rank: 20<br>GA: 76\", \"Norwich City<br>Season 15/16<br>Rank: 19<br>GA: 67\", \"Newcastle Utd<br>Season 15/16<br>Rank: 18<br>GA: 65\", \"Sunderland<br>Season 15/16<br>Rank: 17<br>GA: 62\", \"Bournemouth<br>Season 15/16<br>Rank: 16<br>GA: 67\", \"Crystal Palace<br>Season 15/16<br>Rank: 15<br>GA: 51\", \"West Bromwich<br>Season 15/16<br>Rank: 14<br>GA: 48\", \"Watford<br>Season 15/16<br>Rank: 13<br>GA: 50\", \"Swansea City<br>Season 15/16<br>Rank: 12<br>GA: 52\", \"Everton<br>Season 15/16<br>Rank: 11<br>GA: 55\", \"Chelsea<br>Season 15/16<br>Rank: 10<br>GA: 53\", \"Stoke City<br>Season 15/16<br>Rank: 9<br>GA: 55\", \"Liverpool<br>Season 15/16<br>Rank: 8<br>GA: 50\", \"West Ham Utd<br>Season 15/16<br>Rank: 7<br>GA: 51\", \"Southampton<br>Season 15/16<br>Rank: 6<br>GA: 41\", \"Manchester Utd<br>Season 15/16<br>Rank: 5<br>GA: 35\", \"Manchester City<br>Season 15/16<br>Rank: 4<br>GA: 41\", \"Tottenham<br>Season 15/16<br>Rank: 3<br>GA: 35\", \"Arsenal<br>Season 15/16<br>Rank: 2<br>GA: 36\", \"Leicester City<br>Season 15/16<br>Rank: 1<br>GA: 36\"], \"x\": [76, 67, 65, 62, 67, 51, 48, 50, 52, 55, 53, 55, 50, 51, 41, 35, 41, 35, 36, 36], \"y\": [17, 34, 37, 39, 42, 42, 43, 45, 47, 47, 50, 51, 60, 62, 63, 66, 66, 70, 71, 81], \"type\": \"scatter\", \"uid\": \"6d25e5e8-d2e6-11e8-ae5a-acde48001122\"}, {\"hoverinfo\": \"text\", \"marker\": {\"color\": \"blue\", \"opacity\": 0.5, \"size\": 9}, \"mode\": \"markers\", \"name\": \"Season 15/16 GF\", \"text\": [\"Aston Villa<br>Season 15/16<br>Rank: 20<br>GF: 27\", \"Norwich City<br>Season 15/16<br>Rank: 19<br>GF: 39\", \"Newcastle Utd<br>Season 15/16<br>Rank: 18<br>GF: 44\", \"Sunderland<br>Season 15/16<br>Rank: 17<br>GF: 48\", \"Bournemouth<br>Season 15/16<br>Rank: 16<br>GF: 45\", \"Crystal Palace<br>Season 15/16<br>Rank: 15<br>GF: 39\", \"West Bromwich<br>Season 15/16<br>Rank: 14<br>GF: 34\", \"Watford<br>Season 15/16<br>Rank: 13<br>GF: 40\", \"Swansea City<br>Season 15/16<br>Rank: 12<br>GF: 42\", \"Everton<br>Season 15/16<br>Rank: 11<br>GF: 59\", \"Chelsea<br>Season 15/16<br>Rank: 10<br>GF: 59\", \"Stoke City<br>Season 15/16<br>Rank: 9<br>GF: 41\", \"Liverpool<br>Season 15/16<br>Rank: 8<br>GF: 63\", \"West Ham Utd<br>Season 15/16<br>Rank: 7<br>GF: 65\", \"Southampton<br>Season 15/16<br>Rank: 6<br>GF: 59\", \"Manchester Utd<br>Season 15/16<br>Rank: 5<br>GF: 49\", \"Manchester City<br>Season 15/16<br>Rank: 4<br>GF: 71\", \"Tottenham<br>Season 15/16<br>Rank: 3<br>GF: 69\", \"Arsenal<br>Season 15/16<br>Rank: 2<br>GF: 65\", \"Leicester City<br>Season 15/16<br>Rank: 1<br>GF: 68\"], \"x\": [27, 39, 44, 48, 45, 39, 34, 40, 42, 59, 59, 41, 63, 65, 59, 49, 71, 69, 65, 68], \"y\": [17, 34, 37, 39, 42, 42, 43, 45, 47, 47, 50, 51, 60, 62, 63, 66, 66, 70, 71, 81], \"type\": \"scatter\", \"uid\": \"6d25e674-d2e6-11e8-823a-acde48001122\"}, {\"hoverinfo\": \"text\", \"marker\": {\"color\": \"red\", \"opacity\": 0.5, \"size\": 9}, \"mode\": \"markers\", \"name\": \"Season 16/17 GA\", \"text\": [\"Sunderland<br>Season 16/17<br>Rank: 20<br>GA: 69\", \"Middlesbrough<br>Season 16/17<br>Rank: 19<br>GA: 53\", \"Hull City<br>Season 16/17<br>Rank: 18<br>GA: 80\", \"Watford<br>Season 16/17<br>Rank: 17<br>GA: 68\", \"Burnley<br>Season 16/17<br>Rank: 16<br>GA: 55\", \"Swansea City<br>Season 16/17<br>Rank: 15<br>GA: 70\", \"Crystal Palace<br>Season 16/17<br>Rank: 14<br>GA: 63\", \"Leicester City<br>Season 16/17<br>Rank: 13<br>GA: 63\", \"Stoke City<br>Season 16/17<br>Rank: 12<br>GA: 56\", \"West Ham Utd<br>Season 16/17<br>Rank: 11<br>GA: 64\", \"West Bromwich<br>Season 16/17<br>Rank: 10<br>GA: 51\", \"Bournemouth<br>Season 16/17<br>Rank: 9<br>GA: 67\", \"Southampton<br>Season 16/17<br>Rank: 8<br>GA: 48\", \"Everton<br>Season 16/17<br>Rank: 7<br>GA: 44\", \"Manchester Utd<br>Season 16/17<br>Rank: 6<br>GA: 29\", \"Arsenal<br>Season 16/17<br>Rank: 5<br>GA: 44\", \"Liverpool<br>Season 16/17<br>Rank: 4<br>GA: 42\", \"Manchester City<br>Season 16/17<br>Rank: 3<br>GA: 39\", \"Tottenham<br>Season 16/17<br>Rank: 2<br>GA: 26\", \"Chelsea<br>Season 16/17<br>Rank: 1<br>GA: 33\"], \"x\": [69, 53, 80, 68, 55, 70, 63, 63, 56, 64, 51, 67, 48, 44, 29, 44, 42, 39, 26, 33], \"y\": [24, 28, 34, 40, 40, 41, 41, 44, 44, 45, 45, 46, 46, 61, 69, 75, 76, 78, 86, 93], \"type\": \"scatter\", \"uid\": \"6d25e70a-d2e6-11e8-b9a4-acde48001122\"}, {\"hoverinfo\": \"text\", \"marker\": {\"color\": \"blue\", \"opacity\": 0.5, \"size\": 9}, \"mode\": \"markers\", \"name\": \"Season 16/17 GF\", \"text\": [\"Sunderland<br>Season 16/17<br>Rank: 20<br>GF: 29\", \"Middlesbrough<br>Season 16/17<br>Rank: 19<br>GF: 27\", \"Hull City<br>Season 16/17<br>Rank: 18<br>GF: 37\", \"Watford<br>Season 16/17<br>Rank: 17<br>GF: 40\", \"Burnley<br>Season 16/17<br>Rank: 16<br>GF: 39\", \"Swansea City<br>Season 16/17<br>Rank: 15<br>GF: 45\", \"Crystal Palace<br>Season 16/17<br>Rank: 14<br>GF: 50\", \"Leicester City<br>Season 16/17<br>Rank: 13<br>GF: 48\", \"Stoke City<br>Season 16/17<br>Rank: 12<br>GF: 41\", \"West Ham Utd<br>Season 16/17<br>Rank: 11<br>GF: 47\", \"West Bromwich<br>Season 16/17<br>Rank: 10<br>GF: 43\", \"Bournemouth<br>Season 16/17<br>Rank: 9<br>GF: 55\", \"Southampton<br>Season 16/17<br>Rank: 8<br>GF: 41\", \"Everton<br>Season 16/17<br>Rank: 7<br>GF: 62\", \"Manchester Utd<br>Season 16/17<br>Rank: 6<br>GF: 54\", \"Arsenal<br>Season 16/17<br>Rank: 5<br>GF: 77\", \"Liverpool<br>Season 16/17<br>Rank: 4<br>GF: 78\", \"Manchester City<br>Season 16/17<br>Rank: 3<br>GF: 80\", \"Tottenham<br>Season 16/17<br>Rank: 2<br>GF: 86\", \"Chelsea<br>Season 16/17<br>Rank: 1<br>GF: 85\"], \"x\": [29, 27, 37, 40, 39, 45, 50, 48, 41, 47, 43, 55, 41, 62, 54, 77, 78, 80, 86, 85], \"y\": [24, 28, 34, 40, 40, 41, 41, 44, 44, 45, 45, 46, 46, 61, 69, 75, 76, 78, 86, 93], \"type\": \"scatter\", \"uid\": \"6d25e798-d2e6-11e8-8663-acde48001122\"}, {\"hoverinfo\": \"text\", \"marker\": {\"color\": \"red\", \"opacity\": 0.5, \"size\": 9}, \"mode\": \"markers\", \"name\": \"Season 17/18 GA\", \"text\": [\"West Bromwich<br>Season 17/18<br>Rank: 20<br>GA: 56\", \"Stoke City<br>Season 17/18<br>Rank: 19<br>GA: 68\", \"Swansea City<br>Season 17/18<br>Rank: 18<br>GA: 56\", \"Southampton<br>Season 17/18<br>Rank: 17<br>GA: 56\", \"Huddersfield<br>Season 17/18<br>Rank: 16<br>GA: 58\", \"Brighton & Hove<br>Season 17/18<br>Rank: 15<br>GA: 54\", \"Watford<br>Season 17/18<br>Rank: 14<br>GA: 64\", \"West Ham Utd<br>Season 17/18<br>Rank: 13<br>GA: 68\", \"Bournemouth<br>Season 17/18<br>Rank: 12<br>GA: 61\", \"Crystal Palace<br>Season 17/18<br>Rank: 11<br>GA: 55\", \"Newcastle Utd<br>Season 17/18<br>Rank: 10<br>GA: 47\", \"Leicester City<br>Season 17/18<br>Rank: 9<br>GA: 60\", \"Everton<br>Season 17/18<br>Rank: 8<br>GA: 58\", \"Burnley<br>Season 17/18<br>Rank: 7<br>GA: 39\", \"Arsenal<br>Season 17/18<br>Rank: 6<br>GA: 51\", \"Chelsea<br>Season 17/18<br>Rank: 5<br>GA: 38\", \"Liverpool<br>Season 17/18<br>Rank: 4<br>GA: 38\", \"Tottenham<br>Season 17/18<br>Rank: 3<br>GA: 36\", \"Manchester Utd<br>Season 17/18<br>Rank: 2<br>GA: 28\", \"Manchester City<br>Season 17/18<br>Rank: 1<br>GA: 27\"], \"x\": [56, 68, 56, 56, 58, 54, 64, 68, 61, 55, 47, 60, 58, 39, 51, 38, 38, 36, 28, 27], \"y\": [31, 33, 33, 36, 37, 40, 41, 42, 44, 44, 44, 47, 49, 54, 63, 70, 75, 77, 81, 100], \"type\": \"scatter\", \"uid\": \"6d25e818-d2e6-11e8-bbdf-acde48001122\"}, {\"hoverinfo\": \"text\", \"marker\": {\"color\": \"blue\", \"opacity\": 0.5, \"size\": 9}, \"mode\": \"markers\", \"name\": \"Season 17/18 GF\", \"text\": [\"West Bromwich<br>Season 17/18<br>Rank: 20<br>GF: 31\", \"Stoke City<br>Season 17/18<br>Rank: 19<br>GF: 35\", \"Swansea City<br>Season 17/18<br>Rank: 18<br>GF: 28\", \"Southampton<br>Season 17/18<br>Rank: 17<br>GF: 37\", \"Huddersfield<br>Season 17/18<br>Rank: 16<br>GF: 28\", \"Brighton & Hove<br>Season 17/18<br>Rank: 15<br>GF: 34\", \"Watford<br>Season 17/18<br>Rank: 14<br>GF: 44\", \"West Ham Utd<br>Season 17/18<br>Rank: 13<br>GF: 48\", \"Bournemouth<br>Season 17/18<br>Rank: 12<br>GF: 45\", \"Crystal Palace<br>Season 17/18<br>Rank: 11<br>GF: 45\", \"Newcastle Utd<br>Season 17/18<br>Rank: 10<br>GF: 39\", \"Leicester City<br>Season 17/18<br>Rank: 9<br>GF: 56\", \"Everton<br>Season 17/18<br>Rank: 8<br>GF: 44\", \"Burnley<br>Season 17/18<br>Rank: 7<br>GF: 36\", \"Arsenal<br>Season 17/18<br>Rank: 6<br>GF: 74\", \"Chelsea<br>Season 17/18<br>Rank: 5<br>GF: 62\", \"Liverpool<br>Season 17/18<br>Rank: 4<br>GF: 84\", \"Tottenham<br>Season 17/18<br>Rank: 3<br>GF: 74\", \"Manchester Utd<br>Season 17/18<br>Rank: 2<br>GF: 68\", \"Manchester City<br>Season 17/18<br>Rank: 1<br>GF: 106\"], \"x\": [31, 35, 28, 37, 28, 34, 44, 48, 45, 45, 39, 56, 44, 36, 74, 62, 84, 74, 68, 106], \"y\": [31, 33, 33, 36, 37, 40, 41, 42, 44, 44, 44, 47, 49, 54, 63, 70, 75, 77, 81, 100], \"type\": \"scatter\", \"uid\": \"6d25e89a-d2e6-11e8-a2c2-acde48001122\"}], {\"hovermode\": \"closest\", \"title\": \"GF/GA vs PTS\", \"updatemenus\": [{\"buttons\": [{\"args\": [{\"visible\": [1]}], \"label\": \"All Seasons\", \"method\": \"update\"}, {\"args\": [{\"visible\": [true, true, false, false, false, false, false, false, false, false, false, false]}], \"label\": \"Season 12/13\", \"method\": \"update\"}, {\"args\": [{\"visible\": [false, false, true, true, false, false, false, false, false, false, false, false]}], \"label\": \"Season 13/14\", \"method\": \"update\"}, {\"args\": [{\"visible\": [false, false, false, false, true, true, false, false, false, false, false, false]}], \"label\": \"Season 14/15\", \"method\": \"update\"}, {\"args\": [{\"visible\": [false, false, false, false, false, false, true, true, false, false, false, false]}], \"label\": \"Season 15/16\", \"method\": \"update\"}, {\"args\": [{\"visible\": [false, false, false, false, false, false, false, false, true, true, false, false]}], \"label\": \"Season 16/17\", \"method\": \"update\"}, {\"args\": [{\"visible\": [false, false, false, false, false, false, false, false, false, false, true, true]}], \"label\": \"Season 17/18\", \"method\": \"update\"}], \"direction\": \"down\", \"x\": 0.01, \"xanchor\": \"left\", \"y\": 1.05, \"yanchor\": \"bottom\"}], \"xaxis\": {\"range\": [20, 110], \"title\": \"GF/GA\"}, \"yaxis\": {\"range\": [20, 105], \"title\": \"PTS\"}}, {\"showLink\": true, \"linkText\": \"Export to plot.ly\"})});</script>"
      ]
     },
     "metadata": {},
     "output_type": "display_data"
    }
   ],
   "source": [
    "seasons = ['13', '14', '15', '16', '17', '18']\n",
    "data = []\n",
    "for season in seasons:\n",
    "    season_data = dict(\n",
    "            x = df.loc[df['Season'] == int(season),'GA'],\n",
    "            y = df.loc[df['Season'] == int(season), 'PTS'],\n",
    "            name = str('Season ' + str(int(season) - 1) + '/' + season + ' GA'),\n",
    "            mode = 'markers',\n",
    "            marker = dict(\n",
    "                    size = 9,\n",
    "                    color = 'red',\n",
    "                    opacity = 0.5),\n",
    "            text = df.loc[df['Season'] == int(season), 'Team'] + '<br>' + 'Season ' +\n",
    "                str(int(season) - 1) + '/' + season + '<br>' +\n",
    "                'Rank: ' + df.loc[df['Season'] == int(season), 'Rank'].apply(str) + '<br>'\n",
    "                'GA: ' + df.loc[df['Season'] == int(season), 'GA'].apply(str),\n",
    "            type = 'scatter',\n",
    "            hoverinfo = 'text'\n",
    "        )\n",
    "    season_data2 = dict(\n",
    "            x = df.loc[df['Season'] == int(season),'GF'],\n",
    "            y = df.loc[df['Season'] == int(season), 'PTS'],\n",
    "            name = str('Season ' + str(int(season) - 1) + '/' + season + ' GF'),\n",
    "            mode = 'markers',\n",
    "            marker = dict(\n",
    "                size = 9,\n",
    "                color = 'blue',\n",
    "                opacity = 0.5),\n",
    "            text = df.loc[df['Season'] == int(season), 'Team'] + '<br>' + 'Season ' +\n",
    "                str(int(season) - 1) + '/' + season + '<br>' +\n",
    "                'Rank: ' + df.loc[df['Season'] == int(season), 'Rank'].apply(str) + '<br>'\n",
    "                'GF: ' + df.loc[df['Season'] == int(season), 'GF'].apply(str),\n",
    "            type = 'scatter',\n",
    "            hoverinfo = 'text'\n",
    "        )\n",
    "    data.append(season_data)\n",
    "    data.append(season_data2)\n",
    "    \n",
    "layout = go.Layout(\n",
    "    title = 'GF/GA vs PTS',\n",
    "    yaxis = dict(\n",
    "        title = 'PTS',\n",
    "        range = [20, 105]\n",
    "    ),\n",
    "    xaxis = dict(\n",
    "        title = 'GF/GA',\n",
    "        range = [20, 110]\n",
    "    ),\n",
    "    hovermode = 'closest',\n",
    "\n",
    ")\n",
    "\n",
    "updatemenus = list([\n",
    "    dict(\n",
    "         buttons = list([\n",
    "            dict(label = 'All Seasons',\n",
    "                 method = 'update',\n",
    "                 args = [{'visible': [1]}]),\n",
    "            dict(label = 'Season 12/13',\n",
    "                 method = 'update',\n",
    "                 args = [{'visible': [True, True, False, False, False, False, False, False, False, False, False, False]}]),\n",
    "            dict(label = 'Season 13/14',\n",
    "                 method = 'update',\n",
    "                 args = [{'visible': [False, False, True, True, False, False, False, False, False, False, False, False]}]),\n",
    "             dict(label = 'Season 14/15',\n",
    "                 method = 'update',\n",
    "                 args = [{'visible': [False, False, False, False, True, True, False, False, False, False, False, False]}]),\n",
    "             dict(label = 'Season 15/16',\n",
    "                 method = 'update',\n",
    "                 args = [{'visible': [False, False, False, False, False, False, True, True, False, False, False, False]}]),\n",
    "             dict(label = 'Season 16/17',\n",
    "                 method = 'update',\n",
    "                 args = [{'visible': [False, False, False, False, False, False, False, False, True, True, False, False]}]),\n",
    "             dict(label = 'Season 17/18',\n",
    "                 method = 'update',\n",
    "                 args = [{'visible': [False, False, False, False, False, False, False, False, False, False, True, True]}]),\n",
    "            \n",
    "        ]),\n",
    "        # direction where the drop-down expands when opened\n",
    "        direction = 'down',\n",
    "        # positional arguments\n",
    "        x = 0.01,\n",
    "        xanchor = 'left',\n",
    "        y = 1.05,\n",
    "        yanchor = 'bottom',\n",
    "       \n",
    "    )\n",
    "])\n",
    "\n",
    "# assign the list of dictionaries to the layout dictionary\n",
    "layout['updatemenus'] = updatemenus\n",
    "\n",
    "fig = go.Figure(data=data, layout=layout)\n",
    "iplot(fig)"
   ]
  },
  {
   "cell_type": "code",
   "execution_count": 119,
   "metadata": {},
   "outputs": [
    {
     "data": {
      "application/vnd.plotly.v1+json": {
       "data": [
        {
         "hoverinfo": "none",
         "marker": {
          "color": "white"
         },
         "showlegend": false,
         "type": "scatter",
         "uid": "87b88e7a-d2fe-11e8-9a21-acde48001122",
         "x": [
          15
         ],
         "y": [
          21
         ]
        },
        {
         "hoverinfo": "none",
         "marker": {
          "color": "white"
         },
         "showlegend": false,
         "type": "scatter",
         "uid": "87b88fec-d2fe-11e8-947d-acde48001122",
         "x": [
          15
         ],
         "y": [
          0.9
         ]
        },
        {
         "hoverinfo": "text",
         "marker": {
          "opacity": 0.5,
          "size": 9
         },
         "mode": "lines+markers",
         "name": "Arsenal",
         "text": [
          "Arsenal<br>Rank: 4",
          "Arsenal<br>Rank: 4",
          "Arsenal<br>Rank: 3",
          "Arsenal<br>Rank: 2",
          "Arsenal<br>Rank: 5",
          "Arsenal<br>Rank: 6"
         ],
         "type": "scatter",
         "uid": "87b89098-d2fe-11e8-9dea-acde48001122",
         "visible": "legendonly",
         "x": [
          13,
          14,
          15,
          16,
          17,
          18
         ],
         "y": [
          4,
          4,
          3,
          2,
          5,
          6
         ]
        },
        {
         "hoverinfo": "text",
         "marker": {
          "opacity": 0.5,
          "size": 9
         },
         "mode": "lines+markers",
         "name": "Aston Villa",
         "text": [
          "Aston Villa<br>Rank: 15",
          "Aston Villa<br>Rank: 15",
          "Aston Villa<br>Rank: 17",
          "Aston Villa<br>Rank: 20"
         ],
         "type": "scatter",
         "uid": "87b89136-d2fe-11e8-b0f6-acde48001122",
         "visible": "legendonly",
         "x": [
          13,
          14,
          15,
          16
         ],
         "y": [
          15,
          15,
          17,
          20
         ]
        },
        {
         "hoverinfo": "text",
         "marker": {
          "opacity": 0.5,
          "size": 9
         },
         "mode": "lines+markers",
         "name": "Bournemouth",
         "text": [
          "Bournemouth<br>Rank: 16",
          "Bournemouth<br>Rank: 9",
          "Bournemouth<br>Rank: 12"
         ],
         "type": "scatter",
         "uid": "87b891b8-d2fe-11e8-b788-acde48001122",
         "visible": "legendonly",
         "x": [
          16,
          17,
          18
         ],
         "y": [
          16,
          9,
          12
         ]
        },
        {
         "hoverinfo": "text",
         "marker": {
          "opacity": 0.5,
          "size": 9
         },
         "mode": "lines+markers",
         "name": "Brighton & Hove",
         "text": [
          "Brighton & Hove<br>Rank: 15"
         ],
         "type": "scatter",
         "uid": "87b8923a-d2fe-11e8-b01a-acde48001122",
         "visible": "legendonly",
         "x": [
          18
         ],
         "y": [
          15
         ]
        },
        {
         "hoverinfo": "text",
         "marker": {
          "opacity": 0.5,
          "size": 9
         },
         "mode": "lines+markers",
         "name": "Burnley",
         "text": [
          "Burnley<br>Rank: 19",
          "Burnley<br>Rank: 16",
          "Burnley<br>Rank: 7"
         ],
         "type": "scatter",
         "uid": "87b892ba-d2fe-11e8-9d7e-acde48001122",
         "visible": "legendonly",
         "x": [
          15,
          17,
          18
         ],
         "y": [
          19,
          16,
          7
         ]
        },
        {
         "hoverinfo": "text",
         "marker": {
          "opacity": 0.5,
          "size": 9
         },
         "mode": "lines+markers",
         "name": "Cardiff City",
         "text": [
          "Cardiff City<br>Rank: 20"
         ],
         "type": "scatter",
         "uid": "87b89334-d2fe-11e8-a12d-acde48001122",
         "visible": "legendonly",
         "x": [
          14
         ],
         "y": [
          20
         ]
        },
        {
         "hoverinfo": "text",
         "marker": {
          "opacity": 0.5,
          "size": 9
         },
         "mode": "lines+markers",
         "name": "Chelsea",
         "text": [
          "Chelsea<br>Rank: 3",
          "Chelsea<br>Rank: 3",
          "Chelsea<br>Rank: 1",
          "Chelsea<br>Rank: 10",
          "Chelsea<br>Rank: 1",
          "Chelsea<br>Rank: 5"
         ],
         "type": "scatter",
         "uid": "87b893b6-d2fe-11e8-80ed-acde48001122",
         "visible": "legendonly",
         "x": [
          13,
          14,
          15,
          16,
          17,
          18
         ],
         "y": [
          3,
          3,
          1,
          10,
          1,
          5
         ]
        },
        {
         "hoverinfo": "text",
         "marker": {
          "opacity": 0.5,
          "size": 9
         },
         "mode": "lines+markers",
         "name": "Crystal Palace",
         "text": [
          "Crystal Palace<br>Rank: 11",
          "Crystal Palace<br>Rank: 10",
          "Crystal Palace<br>Rank: 15",
          "Crystal Palace<br>Rank: 14",
          "Crystal Palace<br>Rank: 11"
         ],
         "type": "scatter",
         "uid": "87b89442-d2fe-11e8-82ec-acde48001122",
         "visible": "legendonly",
         "x": [
          14,
          15,
          16,
          17,
          18
         ],
         "y": [
          11,
          10,
          15,
          14,
          11
         ]
        },
        {
         "hoverinfo": "text",
         "marker": {
          "opacity": 0.5,
          "size": 9
         },
         "mode": "lines+markers",
         "name": "Everton",
         "text": [
          "Everton<br>Rank: 6",
          "Everton<br>Rank: 5",
          "Everton<br>Rank: 11",
          "Everton<br>Rank: 11",
          "Everton<br>Rank: 7",
          "Everton<br>Rank: 8"
         ],
         "type": "scatter",
         "uid": "87b894ba-d2fe-11e8-93f2-acde48001122",
         "visible": "legendonly",
         "x": [
          13,
          14,
          15,
          16,
          17,
          18
         ],
         "y": [
          6,
          5,
          11,
          11,
          7,
          8
         ]
        },
        {
         "hoverinfo": "text",
         "marker": {
          "opacity": 0.5,
          "size": 9
         },
         "mode": "lines+markers",
         "name": "Fulham",
         "text": [
          "Fulham<br>Rank: 12",
          "Fulham<br>Rank: 19"
         ],
         "type": "scatter",
         "uid": "87b8953a-d2fe-11e8-8401-acde48001122",
         "visible": "legendonly",
         "x": [
          13,
          14
         ],
         "y": [
          12,
          19
         ]
        },
        {
         "hoverinfo": "text",
         "marker": {
          "opacity": 0.5,
          "size": 9
         },
         "mode": "lines+markers",
         "name": "Huddersfield",
         "text": [
          "Huddersfield<br>Rank: 16"
         ],
         "type": "scatter",
         "uid": "87b895b4-d2fe-11e8-a953-acde48001122",
         "visible": "legendonly",
         "x": [
          18
         ],
         "y": [
          16
         ]
        },
        {
         "hoverinfo": "text",
         "marker": {
          "opacity": 0.5,
          "size": 9
         },
         "mode": "lines+markers",
         "name": "Hull City",
         "text": [
          "Hull City<br>Rank: 16",
          "Hull City<br>Rank: 18",
          "Hull City<br>Rank: 18"
         ],
         "type": "scatter",
         "uid": "87b89636-d2fe-11e8-a52c-acde48001122",
         "visible": "legendonly",
         "x": [
          14,
          15,
          17
         ],
         "y": [
          16,
          18,
          18
         ]
        },
        {
         "hoverinfo": "text",
         "marker": {
          "opacity": 0.5,
          "size": 9
         },
         "mode": "lines+markers",
         "name": "Leicester City",
         "text": [
          "Leicester City<br>Rank: 14",
          "Leicester City<br>Rank: 1",
          "Leicester City<br>Rank: 13",
          "Leicester City<br>Rank: 9"
         ],
         "type": "scatter",
         "uid": "87b896ae-d2fe-11e8-a469-acde48001122",
         "visible": "legendonly",
         "x": [
          15,
          16,
          17,
          18
         ],
         "y": [
          14,
          1,
          13,
          9
         ]
        },
        {
         "hoverinfo": "text",
         "marker": {
          "opacity": 0.5,
          "size": 9
         },
         "mode": "lines+markers",
         "name": "Liverpool",
         "text": [
          "Liverpool<br>Rank: 7",
          "Liverpool<br>Rank: 2",
          "Liverpool<br>Rank: 6",
          "Liverpool<br>Rank: 8",
          "Liverpool<br>Rank: 4",
          "Liverpool<br>Rank: 4"
         ],
         "type": "scatter",
         "uid": "87b89726-d2fe-11e8-8397-acde48001122",
         "visible": "legendonly",
         "x": [
          13,
          14,
          15,
          16,
          17,
          18
         ],
         "y": [
          7,
          2,
          6,
          8,
          4,
          4
         ]
        },
        {
         "hoverinfo": "text",
         "marker": {
          "opacity": 0.5,
          "size": 9
         },
         "mode": "lines+markers",
         "name": "Manchester City",
         "text": [
          "Manchester City<br>Rank: 2",
          "Manchester City<br>Rank: 1",
          "Manchester City<br>Rank: 2",
          "Manchester City<br>Rank: 4",
          "Manchester City<br>Rank: 3",
          "Manchester City<br>Rank: 1"
         ],
         "type": "scatter",
         "uid": "87b8979e-d2fe-11e8-8bf0-acde48001122",
         "visible": "legendonly",
         "x": [
          13,
          14,
          15,
          16,
          17,
          18
         ],
         "y": [
          2,
          1,
          2,
          4,
          3,
          1
         ]
        },
        {
         "hoverinfo": "text",
         "marker": {
          "opacity": 0.5,
          "size": 9
         },
         "mode": "lines+markers",
         "name": "Manchester Utd",
         "text": [
          "Manchester Utd<br>Rank: 1",
          "Manchester Utd<br>Rank: 7",
          "Manchester Utd<br>Rank: 4",
          "Manchester Utd<br>Rank: 5",
          "Manchester Utd<br>Rank: 6",
          "Manchester Utd<br>Rank: 2"
         ],
         "type": "scatter",
         "uid": "87b8980c-d2fe-11e8-a396-acde48001122",
         "visible": "legendonly",
         "x": [
          13,
          14,
          15,
          16,
          17,
          18
         ],
         "y": [
          1,
          7,
          4,
          5,
          6,
          2
         ]
        },
        {
         "hoverinfo": "text",
         "marker": {
          "opacity": 0.5,
          "size": 9
         },
         "mode": "lines+markers",
         "name": "Middlesbrough",
         "text": [
          "Middlesbrough<br>Rank: 19"
         ],
         "type": "scatter",
         "uid": "87b89886-d2fe-11e8-9847-acde48001122",
         "visible": "legendonly",
         "x": [
          17
         ],
         "y": [
          19
         ]
        },
        {
         "hoverinfo": "text",
         "marker": {
          "opacity": 0.5,
          "size": 9
         },
         "mode": "lines+markers",
         "name": "Newcastle Utd",
         "text": [
          "Newcastle Utd<br>Rank: 16",
          "Newcastle Utd<br>Rank: 10",
          "Newcastle Utd<br>Rank: 15",
          "Newcastle Utd<br>Rank: 18",
          "Newcastle Utd<br>Rank: 10"
         ],
         "type": "scatter",
         "uid": "87b898fa-d2fe-11e8-be02-acde48001122",
         "visible": "legendonly",
         "x": [
          13,
          14,
          15,
          16,
          18
         ],
         "y": [
          16,
          10,
          15,
          18,
          10
         ]
        },
        {
         "hoverinfo": "text",
         "marker": {
          "opacity": 0.5,
          "size": 9
         },
         "mode": "lines+markers",
         "name": "Norwich City",
         "text": [
          "Norwich City<br>Rank: 11",
          "Norwich City<br>Rank: 18",
          "Norwich City<br>Rank: 19"
         ],
         "type": "scatter",
         "uid": "87b89968-d2fe-11e8-9b9a-acde48001122",
         "visible": "legendonly",
         "x": [
          13,
          14,
          16
         ],
         "y": [
          11,
          18,
          19
         ]
        },
        {
         "hoverinfo": "text",
         "marker": {
          "opacity": 0.5,
          "size": 9
         },
         "mode": "lines+markers",
         "name": "QP Rangers",
         "text": [
          "QP Rangers<br>Rank: 20",
          "QP Rangers<br>Rank: 20"
         ],
         "type": "scatter",
         "uid": "87b899d8-d2fe-11e8-9cae-acde48001122",
         "visible": "legendonly",
         "x": [
          13,
          15
         ],
         "y": [
          20,
          20
         ]
        },
        {
         "hoverinfo": "text",
         "marker": {
          "opacity": 0.5,
          "size": 9
         },
         "mode": "lines+markers",
         "name": "Reading",
         "text": [
          "Reading<br>Rank: 19"
         ],
         "type": "scatter",
         "uid": "87b89a50-d2fe-11e8-96fc-acde48001122",
         "visible": "legendonly",
         "x": [
          13
         ],
         "y": [
          19
         ]
        },
        {
         "hoverinfo": "text",
         "marker": {
          "opacity": 0.5,
          "size": 9
         },
         "mode": "lines+markers",
         "name": "Southampton",
         "text": [
          "Southampton<br>Rank: 14",
          "Southampton<br>Rank: 8",
          "Southampton<br>Rank: 7",
          "Southampton<br>Rank: 6",
          "Southampton<br>Rank: 8",
          "Southampton<br>Rank: 17"
         ],
         "type": "scatter",
         "uid": "87b89abe-d2fe-11e8-84b6-acde48001122",
         "visible": "legendonly",
         "x": [
          13,
          14,
          15,
          16,
          17,
          18
         ],
         "y": [
          14,
          8,
          7,
          6,
          8,
          17
         ]
        },
        {
         "hoverinfo": "text",
         "marker": {
          "opacity": 0.5,
          "size": 9
         },
         "mode": "lines+markers",
         "name": "Stoke City",
         "text": [
          "Stoke City<br>Rank: 13",
          "Stoke City<br>Rank: 9",
          "Stoke City<br>Rank: 9",
          "Stoke City<br>Rank: 9",
          "Stoke City<br>Rank: 12",
          "Stoke City<br>Rank: 19"
         ],
         "type": "scatter",
         "uid": "87b89b36-d2fe-11e8-be4a-acde48001122",
         "visible": "legendonly",
         "x": [
          13,
          14,
          15,
          16,
          17,
          18
         ],
         "y": [
          13,
          9,
          9,
          9,
          12,
          19
         ]
        },
        {
         "hoverinfo": "text",
         "marker": {
          "opacity": 0.5,
          "size": 9
         },
         "mode": "lines+markers",
         "name": "Sunderland",
         "text": [
          "Sunderland<br>Rank: 17",
          "Sunderland<br>Rank: 14",
          "Sunderland<br>Rank: 16",
          "Sunderland<br>Rank: 17",
          "Sunderland<br>Rank: 20"
         ],
         "type": "scatter",
         "uid": "87b89bae-d2fe-11e8-a37f-acde48001122",
         "visible": "legendonly",
         "x": [
          13,
          14,
          15,
          16,
          17
         ],
         "y": [
          17,
          14,
          16,
          17,
          20
         ]
        },
        {
         "hoverinfo": "text",
         "marker": {
          "opacity": 0.5,
          "size": 9
         },
         "mode": "lines+markers",
         "name": "Swansea City",
         "text": [
          "Swansea City<br>Rank: 9",
          "Swansea City<br>Rank: 12",
          "Swansea City<br>Rank: 8",
          "Swansea City<br>Rank: 12",
          "Swansea City<br>Rank: 15",
          "Swansea City<br>Rank: 18"
         ],
         "type": "scatter",
         "uid": "87b89c1c-d2fe-11e8-91bb-acde48001122",
         "visible": "legendonly",
         "x": [
          13,
          14,
          15,
          16,
          17,
          18
         ],
         "y": [
          9,
          12,
          8,
          12,
          15,
          18
         ]
        },
        {
         "hoverinfo": "text",
         "marker": {
          "opacity": 0.5,
          "size": 9
         },
         "mode": "lines+markers",
         "name": "Tottenham",
         "text": [
          "Tottenham<br>Rank: 5",
          "Tottenham<br>Rank: 6",
          "Tottenham<br>Rank: 5",
          "Tottenham<br>Rank: 3",
          "Tottenham<br>Rank: 2",
          "Tottenham<br>Rank: 3"
         ],
         "type": "scatter",
         "uid": "87b89c94-d2fe-11e8-a960-acde48001122",
         "visible": "legendonly",
         "x": [
          13,
          14,
          15,
          16,
          17,
          18
         ],
         "y": [
          5,
          6,
          5,
          3,
          2,
          3
         ]
        },
        {
         "hoverinfo": "text",
         "marker": {
          "opacity": 0.5,
          "size": 9
         },
         "mode": "lines+markers",
         "name": "Watford",
         "text": [
          "Watford<br>Rank: 13",
          "Watford<br>Rank: 17",
          "Watford<br>Rank: 14"
         ],
         "type": "scatter",
         "uid": "87b89d02-d2fe-11e8-a201-acde48001122",
         "visible": "legendonly",
         "x": [
          16,
          17,
          18
         ],
         "y": [
          13,
          17,
          14
         ]
        },
        {
         "hoverinfo": "text",
         "marker": {
          "opacity": 0.5,
          "size": 9
         },
         "mode": "lines+markers",
         "name": "West Bromwich",
         "text": [
          "West Bromwich<br>Rank: 8",
          "West Bromwich<br>Rank: 17",
          "West Bromwich<br>Rank: 13",
          "West Bromwich<br>Rank: 14",
          "West Bromwich<br>Rank: 10",
          "West Bromwich<br>Rank: 20"
         ],
         "type": "scatter",
         "uid": "87b89d70-d2fe-11e8-b53c-acde48001122",
         "visible": "legendonly",
         "x": [
          13,
          14,
          15,
          16,
          17,
          18
         ],
         "y": [
          8,
          17,
          13,
          14,
          10,
          20
         ]
        },
        {
         "hoverinfo": "text",
         "marker": {
          "opacity": 0.5,
          "size": 9
         },
         "mode": "lines+markers",
         "name": "West Ham Utd",
         "text": [
          "West Ham Utd<br>Rank: 10",
          "West Ham Utd<br>Rank: 13",
          "West Ham Utd<br>Rank: 12",
          "West Ham Utd<br>Rank: 7",
          "West Ham Utd<br>Rank: 11",
          "West Ham Utd<br>Rank: 13"
         ],
         "type": "scatter",
         "uid": "87b89dde-d2fe-11e8-aa95-acde48001122",
         "visible": "legendonly",
         "x": [
          13,
          14,
          15,
          16,
          17,
          18
         ],
         "y": [
          10,
          13,
          12,
          7,
          11,
          13
         ]
        },
        {
         "hoverinfo": "text",
         "marker": {
          "opacity": 0.5,
          "size": 9
         },
         "mode": "lines+markers",
         "name": "Wigan Athletic",
         "text": [
          "Wigan Athletic<br>Rank: 18"
         ],
         "type": "scatter",
         "uid": "87b89e4c-d2fe-11e8-a1dc-acde48001122",
         "visible": "legendonly",
         "x": [
          13
         ],
         "y": [
          18
         ]
        }
       ],
       "layout": {
        "hovermode": "closest",
        "legend": {
         "traceorder": "grouped"
        },
        "title": "Team Performance by Season",
        "xaxis": {
         "range": [
          12.8,
          19.2
         ],
         "title": "Season"
        },
        "yaxis": {
         "autorange": "reversed",
         "range": [
          0.5,
          20.5
         ],
         "tickvals": [
          5,
          10,
          15,
          20
         ],
         "title": "Final Rank",
         "zeroline": false
        }
       }
      },
      "text/html": [
       "<div id=\"90712bb7-7cee-4ee5-a041-a1980361d775\" style=\"height: 525px; width: 100%;\" class=\"plotly-graph-div\"></div><script type=\"text/javascript\">require([\"plotly\"], function(Plotly) { window.PLOTLYENV=window.PLOTLYENV || {};window.PLOTLYENV.BASE_URL=\"https://plot.ly\";Plotly.newPlot(\"90712bb7-7cee-4ee5-a041-a1980361d775\", [{\"hoverinfo\": \"none\", \"marker\": {\"color\": \"white\"}, \"showlegend\": false, \"x\": [15], \"y\": [21], \"type\": \"scatter\", \"uid\": \"87b88e7a-d2fe-11e8-9a21-acde48001122\"}, {\"hoverinfo\": \"none\", \"marker\": {\"color\": \"white\"}, \"showlegend\": false, \"x\": [15], \"y\": [0.9], \"type\": \"scatter\", \"uid\": \"87b88fec-d2fe-11e8-947d-acde48001122\"}, {\"hoverinfo\": \"text\", \"marker\": {\"opacity\": 0.5, \"size\": 9}, \"mode\": \"lines+markers\", \"name\": \"Arsenal\", \"text\": [\"Arsenal<br>Rank: 4\", \"Arsenal<br>Rank: 4\", \"Arsenal<br>Rank: 3\", \"Arsenal<br>Rank: 2\", \"Arsenal<br>Rank: 5\", \"Arsenal<br>Rank: 6\"], \"visible\": \"legendonly\", \"x\": [13, 14, 15, 16, 17, 18], \"y\": [4, 4, 3, 2, 5, 6], \"type\": \"scatter\", \"uid\": \"87b89098-d2fe-11e8-9dea-acde48001122\"}, {\"hoverinfo\": \"text\", \"marker\": {\"opacity\": 0.5, \"size\": 9}, \"mode\": \"lines+markers\", \"name\": \"Aston Villa\", \"text\": [\"Aston Villa<br>Rank: 15\", \"Aston Villa<br>Rank: 15\", \"Aston Villa<br>Rank: 17\", \"Aston Villa<br>Rank: 20\"], \"visible\": \"legendonly\", \"x\": [13, 14, 15, 16], \"y\": [15, 15, 17, 20], \"type\": \"scatter\", \"uid\": \"87b89136-d2fe-11e8-b0f6-acde48001122\"}, {\"hoverinfo\": \"text\", \"marker\": {\"opacity\": 0.5, \"size\": 9}, \"mode\": \"lines+markers\", \"name\": \"Bournemouth\", \"text\": [\"Bournemouth<br>Rank: 16\", \"Bournemouth<br>Rank: 9\", \"Bournemouth<br>Rank: 12\"], \"visible\": \"legendonly\", \"x\": [16, 17, 18], \"y\": [16, 9, 12], \"type\": \"scatter\", \"uid\": \"87b891b8-d2fe-11e8-b788-acde48001122\"}, {\"hoverinfo\": \"text\", \"marker\": {\"opacity\": 0.5, \"size\": 9}, \"mode\": \"lines+markers\", \"name\": \"Brighton & Hove\", \"text\": [\"Brighton & Hove<br>Rank: 15\"], \"visible\": \"legendonly\", \"x\": [18], \"y\": [15], \"type\": \"scatter\", \"uid\": \"87b8923a-d2fe-11e8-b01a-acde48001122\"}, {\"hoverinfo\": \"text\", \"marker\": {\"opacity\": 0.5, \"size\": 9}, \"mode\": \"lines+markers\", \"name\": \"Burnley\", \"text\": [\"Burnley<br>Rank: 19\", \"Burnley<br>Rank: 16\", \"Burnley<br>Rank: 7\"], \"visible\": \"legendonly\", \"x\": [15, 17, 18], \"y\": [19, 16, 7], \"type\": \"scatter\", \"uid\": \"87b892ba-d2fe-11e8-9d7e-acde48001122\"}, {\"hoverinfo\": \"text\", \"marker\": {\"opacity\": 0.5, \"size\": 9}, \"mode\": \"lines+markers\", \"name\": \"Cardiff City\", \"text\": [\"Cardiff City<br>Rank: 20\"], \"visible\": \"legendonly\", \"x\": [14], \"y\": [20], \"type\": \"scatter\", \"uid\": \"87b89334-d2fe-11e8-a12d-acde48001122\"}, {\"hoverinfo\": \"text\", \"marker\": {\"opacity\": 0.5, \"size\": 9}, \"mode\": \"lines+markers\", \"name\": \"Chelsea\", \"text\": [\"Chelsea<br>Rank: 3\", \"Chelsea<br>Rank: 3\", \"Chelsea<br>Rank: 1\", \"Chelsea<br>Rank: 10\", \"Chelsea<br>Rank: 1\", \"Chelsea<br>Rank: 5\"], \"visible\": \"legendonly\", \"x\": [13, 14, 15, 16, 17, 18], \"y\": [3, 3, 1, 10, 1, 5], \"type\": \"scatter\", \"uid\": \"87b893b6-d2fe-11e8-80ed-acde48001122\"}, {\"hoverinfo\": \"text\", \"marker\": {\"opacity\": 0.5, \"size\": 9}, \"mode\": \"lines+markers\", \"name\": \"Crystal Palace\", \"text\": [\"Crystal Palace<br>Rank: 11\", \"Crystal Palace<br>Rank: 10\", \"Crystal Palace<br>Rank: 15\", \"Crystal Palace<br>Rank: 14\", \"Crystal Palace<br>Rank: 11\"], \"visible\": \"legendonly\", \"x\": [14, 15, 16, 17, 18], \"y\": [11, 10, 15, 14, 11], \"type\": \"scatter\", \"uid\": \"87b89442-d2fe-11e8-82ec-acde48001122\"}, {\"hoverinfo\": \"text\", \"marker\": {\"opacity\": 0.5, \"size\": 9}, \"mode\": \"lines+markers\", \"name\": \"Everton\", \"text\": [\"Everton<br>Rank: 6\", \"Everton<br>Rank: 5\", \"Everton<br>Rank: 11\", \"Everton<br>Rank: 11\", \"Everton<br>Rank: 7\", \"Everton<br>Rank: 8\"], \"visible\": \"legendonly\", \"x\": [13, 14, 15, 16, 17, 18], \"y\": [6, 5, 11, 11, 7, 8], \"type\": \"scatter\", \"uid\": \"87b894ba-d2fe-11e8-93f2-acde48001122\"}, {\"hoverinfo\": \"text\", \"marker\": {\"opacity\": 0.5, \"size\": 9}, \"mode\": \"lines+markers\", \"name\": \"Fulham\", \"text\": [\"Fulham<br>Rank: 12\", \"Fulham<br>Rank: 19\"], \"visible\": \"legendonly\", \"x\": [13, 14], \"y\": [12, 19], \"type\": \"scatter\", \"uid\": \"87b8953a-d2fe-11e8-8401-acde48001122\"}, {\"hoverinfo\": \"text\", \"marker\": {\"opacity\": 0.5, \"size\": 9}, \"mode\": \"lines+markers\", \"name\": \"Huddersfield\", \"text\": [\"Huddersfield<br>Rank: 16\"], \"visible\": \"legendonly\", \"x\": [18], \"y\": [16], \"type\": \"scatter\", \"uid\": \"87b895b4-d2fe-11e8-a953-acde48001122\"}, {\"hoverinfo\": \"text\", \"marker\": {\"opacity\": 0.5, \"size\": 9}, \"mode\": \"lines+markers\", \"name\": \"Hull City\", \"text\": [\"Hull City<br>Rank: 16\", \"Hull City<br>Rank: 18\", \"Hull City<br>Rank: 18\"], \"visible\": \"legendonly\", \"x\": [14, 15, 17], \"y\": [16, 18, 18], \"type\": \"scatter\", \"uid\": \"87b89636-d2fe-11e8-a52c-acde48001122\"}, {\"hoverinfo\": \"text\", \"marker\": {\"opacity\": 0.5, \"size\": 9}, \"mode\": \"lines+markers\", \"name\": \"Leicester City\", \"text\": [\"Leicester City<br>Rank: 14\", \"Leicester City<br>Rank: 1\", \"Leicester City<br>Rank: 13\", \"Leicester City<br>Rank: 9\"], \"visible\": \"legendonly\", \"x\": [15, 16, 17, 18], \"y\": [14, 1, 13, 9], \"type\": \"scatter\", \"uid\": \"87b896ae-d2fe-11e8-a469-acde48001122\"}, {\"hoverinfo\": \"text\", \"marker\": {\"opacity\": 0.5, \"size\": 9}, \"mode\": \"lines+markers\", \"name\": \"Liverpool\", \"text\": [\"Liverpool<br>Rank: 7\", \"Liverpool<br>Rank: 2\", \"Liverpool<br>Rank: 6\", \"Liverpool<br>Rank: 8\", \"Liverpool<br>Rank: 4\", \"Liverpool<br>Rank: 4\"], \"visible\": \"legendonly\", \"x\": [13, 14, 15, 16, 17, 18], \"y\": [7, 2, 6, 8, 4, 4], \"type\": \"scatter\", \"uid\": \"87b89726-d2fe-11e8-8397-acde48001122\"}, {\"hoverinfo\": \"text\", \"marker\": {\"opacity\": 0.5, \"size\": 9}, \"mode\": \"lines+markers\", \"name\": \"Manchester City\", \"text\": [\"Manchester City<br>Rank: 2\", \"Manchester City<br>Rank: 1\", \"Manchester City<br>Rank: 2\", \"Manchester City<br>Rank: 4\", \"Manchester City<br>Rank: 3\", \"Manchester City<br>Rank: 1\"], \"visible\": \"legendonly\", \"x\": [13, 14, 15, 16, 17, 18], \"y\": [2, 1, 2, 4, 3, 1], \"type\": \"scatter\", \"uid\": \"87b8979e-d2fe-11e8-8bf0-acde48001122\"}, {\"hoverinfo\": \"text\", \"marker\": {\"opacity\": 0.5, \"size\": 9}, \"mode\": \"lines+markers\", \"name\": \"Manchester Utd\", \"text\": [\"Manchester Utd<br>Rank: 1\", \"Manchester Utd<br>Rank: 7\", \"Manchester Utd<br>Rank: 4\", \"Manchester Utd<br>Rank: 5\", \"Manchester Utd<br>Rank: 6\", \"Manchester Utd<br>Rank: 2\"], \"visible\": \"legendonly\", \"x\": [13, 14, 15, 16, 17, 18], \"y\": [1, 7, 4, 5, 6, 2], \"type\": \"scatter\", \"uid\": \"87b8980c-d2fe-11e8-a396-acde48001122\"}, {\"hoverinfo\": \"text\", \"marker\": {\"opacity\": 0.5, \"size\": 9}, \"mode\": \"lines+markers\", \"name\": \"Middlesbrough\", \"text\": [\"Middlesbrough<br>Rank: 19\"], \"visible\": \"legendonly\", \"x\": [17], \"y\": [19], \"type\": \"scatter\", \"uid\": \"87b89886-d2fe-11e8-9847-acde48001122\"}, {\"hoverinfo\": \"text\", \"marker\": {\"opacity\": 0.5, \"size\": 9}, \"mode\": \"lines+markers\", \"name\": \"Newcastle Utd\", \"text\": [\"Newcastle Utd<br>Rank: 16\", \"Newcastle Utd<br>Rank: 10\", \"Newcastle Utd<br>Rank: 15\", \"Newcastle Utd<br>Rank: 18\", \"Newcastle Utd<br>Rank: 10\"], \"visible\": \"legendonly\", \"x\": [13, 14, 15, 16, 18], \"y\": [16, 10, 15, 18, 10], \"type\": \"scatter\", \"uid\": \"87b898fa-d2fe-11e8-be02-acde48001122\"}, {\"hoverinfo\": \"text\", \"marker\": {\"opacity\": 0.5, \"size\": 9}, \"mode\": \"lines+markers\", \"name\": \"Norwich City\", \"text\": [\"Norwich City<br>Rank: 11\", \"Norwich City<br>Rank: 18\", \"Norwich City<br>Rank: 19\"], \"visible\": \"legendonly\", \"x\": [13, 14, 16], \"y\": [11, 18, 19], \"type\": \"scatter\", \"uid\": \"87b89968-d2fe-11e8-9b9a-acde48001122\"}, {\"hoverinfo\": \"text\", \"marker\": {\"opacity\": 0.5, \"size\": 9}, \"mode\": \"lines+markers\", \"name\": \"QP Rangers\", \"text\": [\"QP Rangers<br>Rank: 20\", \"QP Rangers<br>Rank: 20\"], \"visible\": \"legendonly\", \"x\": [13, 15], \"y\": [20, 20], \"type\": \"scatter\", \"uid\": \"87b899d8-d2fe-11e8-9cae-acde48001122\"}, {\"hoverinfo\": \"text\", \"marker\": {\"opacity\": 0.5, \"size\": 9}, \"mode\": \"lines+markers\", \"name\": \"Reading\", \"text\": [\"Reading<br>Rank: 19\"], \"visible\": \"legendonly\", \"x\": [13], \"y\": [19], \"type\": \"scatter\", \"uid\": \"87b89a50-d2fe-11e8-96fc-acde48001122\"}, {\"hoverinfo\": \"text\", \"marker\": {\"opacity\": 0.5, \"size\": 9}, \"mode\": \"lines+markers\", \"name\": \"Southampton\", \"text\": [\"Southampton<br>Rank: 14\", \"Southampton<br>Rank: 8\", \"Southampton<br>Rank: 7\", \"Southampton<br>Rank: 6\", \"Southampton<br>Rank: 8\", \"Southampton<br>Rank: 17\"], \"visible\": \"legendonly\", \"x\": [13, 14, 15, 16, 17, 18], \"y\": [14, 8, 7, 6, 8, 17], \"type\": \"scatter\", \"uid\": \"87b89abe-d2fe-11e8-84b6-acde48001122\"}, {\"hoverinfo\": \"text\", \"marker\": {\"opacity\": 0.5, \"size\": 9}, \"mode\": \"lines+markers\", \"name\": \"Stoke City\", \"text\": [\"Stoke City<br>Rank: 13\", \"Stoke City<br>Rank: 9\", \"Stoke City<br>Rank: 9\", \"Stoke City<br>Rank: 9\", \"Stoke City<br>Rank: 12\", \"Stoke City<br>Rank: 19\"], \"visible\": \"legendonly\", \"x\": [13, 14, 15, 16, 17, 18], \"y\": [13, 9, 9, 9, 12, 19], \"type\": \"scatter\", \"uid\": \"87b89b36-d2fe-11e8-be4a-acde48001122\"}, {\"hoverinfo\": \"text\", \"marker\": {\"opacity\": 0.5, \"size\": 9}, \"mode\": \"lines+markers\", \"name\": \"Sunderland\", \"text\": [\"Sunderland<br>Rank: 17\", \"Sunderland<br>Rank: 14\", \"Sunderland<br>Rank: 16\", \"Sunderland<br>Rank: 17\", \"Sunderland<br>Rank: 20\"], \"visible\": \"legendonly\", \"x\": [13, 14, 15, 16, 17], \"y\": [17, 14, 16, 17, 20], \"type\": \"scatter\", \"uid\": \"87b89bae-d2fe-11e8-a37f-acde48001122\"}, {\"hoverinfo\": \"text\", \"marker\": {\"opacity\": 0.5, \"size\": 9}, \"mode\": \"lines+markers\", \"name\": \"Swansea City\", \"text\": [\"Swansea City<br>Rank: 9\", \"Swansea City<br>Rank: 12\", \"Swansea City<br>Rank: 8\", \"Swansea City<br>Rank: 12\", \"Swansea City<br>Rank: 15\", \"Swansea City<br>Rank: 18\"], \"visible\": \"legendonly\", \"x\": [13, 14, 15, 16, 17, 18], \"y\": [9, 12, 8, 12, 15, 18], \"type\": \"scatter\", \"uid\": \"87b89c1c-d2fe-11e8-91bb-acde48001122\"}, {\"hoverinfo\": \"text\", \"marker\": {\"opacity\": 0.5, \"size\": 9}, \"mode\": \"lines+markers\", \"name\": \"Tottenham\", \"text\": [\"Tottenham<br>Rank: 5\", \"Tottenham<br>Rank: 6\", \"Tottenham<br>Rank: 5\", \"Tottenham<br>Rank: 3\", \"Tottenham<br>Rank: 2\", \"Tottenham<br>Rank: 3\"], \"visible\": \"legendonly\", \"x\": [13, 14, 15, 16, 17, 18], \"y\": [5, 6, 5, 3, 2, 3], \"type\": \"scatter\", \"uid\": \"87b89c94-d2fe-11e8-a960-acde48001122\"}, {\"hoverinfo\": \"text\", \"marker\": {\"opacity\": 0.5, \"size\": 9}, \"mode\": \"lines+markers\", \"name\": \"Watford\", \"text\": [\"Watford<br>Rank: 13\", \"Watford<br>Rank: 17\", \"Watford<br>Rank: 14\"], \"visible\": \"legendonly\", \"x\": [16, 17, 18], \"y\": [13, 17, 14], \"type\": \"scatter\", \"uid\": \"87b89d02-d2fe-11e8-a201-acde48001122\"}, {\"hoverinfo\": \"text\", \"marker\": {\"opacity\": 0.5, \"size\": 9}, \"mode\": \"lines+markers\", \"name\": \"West Bromwich\", \"text\": [\"West Bromwich<br>Rank: 8\", \"West Bromwich<br>Rank: 17\", \"West Bromwich<br>Rank: 13\", \"West Bromwich<br>Rank: 14\", \"West Bromwich<br>Rank: 10\", \"West Bromwich<br>Rank: 20\"], \"visible\": \"legendonly\", \"x\": [13, 14, 15, 16, 17, 18], \"y\": [8, 17, 13, 14, 10, 20], \"type\": \"scatter\", \"uid\": \"87b89d70-d2fe-11e8-b53c-acde48001122\"}, {\"hoverinfo\": \"text\", \"marker\": {\"opacity\": 0.5, \"size\": 9}, \"mode\": \"lines+markers\", \"name\": \"West Ham Utd\", \"text\": [\"West Ham Utd<br>Rank: 10\", \"West Ham Utd<br>Rank: 13\", \"West Ham Utd<br>Rank: 12\", \"West Ham Utd<br>Rank: 7\", \"West Ham Utd<br>Rank: 11\", \"West Ham Utd<br>Rank: 13\"], \"visible\": \"legendonly\", \"x\": [13, 14, 15, 16, 17, 18], \"y\": [10, 13, 12, 7, 11, 13], \"type\": \"scatter\", \"uid\": \"87b89dde-d2fe-11e8-aa95-acde48001122\"}, {\"hoverinfo\": \"text\", \"marker\": {\"opacity\": 0.5, \"size\": 9}, \"mode\": \"lines+markers\", \"name\": \"Wigan Athletic\", \"text\": [\"Wigan Athletic<br>Rank: 18\"], \"visible\": \"legendonly\", \"x\": [13], \"y\": [18], \"type\": \"scatter\", \"uid\": \"87b89e4c-d2fe-11e8-a1dc-acde48001122\"}], {\"hovermode\": \"closest\", \"legend\": {\"traceorder\": \"grouped\"}, \"title\": \"Team Performance by Season\", \"xaxis\": {\"range\": [12.8, 19.2], \"title\": \"Season\"}, \"yaxis\": {\"autorange\": \"reversed\", \"range\": [0.5, 20.5], \"tickvals\": [5, 10, 15, 20], \"title\": \"Final Rank\", \"zeroline\": false}}, {\"showLink\": true, \"linkText\": \"Export to plot.ly\"})});</script>"
      ],
      "text/vnd.plotly.v1+html": [
       "<div id=\"90712bb7-7cee-4ee5-a041-a1980361d775\" style=\"height: 525px; width: 100%;\" class=\"plotly-graph-div\"></div><script type=\"text/javascript\">require([\"plotly\"], function(Plotly) { window.PLOTLYENV=window.PLOTLYENV || {};window.PLOTLYENV.BASE_URL=\"https://plot.ly\";Plotly.newPlot(\"90712bb7-7cee-4ee5-a041-a1980361d775\", [{\"hoverinfo\": \"none\", \"marker\": {\"color\": \"white\"}, \"showlegend\": false, \"x\": [15], \"y\": [21], \"type\": \"scatter\", \"uid\": \"87b88e7a-d2fe-11e8-9a21-acde48001122\"}, {\"hoverinfo\": \"none\", \"marker\": {\"color\": \"white\"}, \"showlegend\": false, \"x\": [15], \"y\": [0.9], \"type\": \"scatter\", \"uid\": \"87b88fec-d2fe-11e8-947d-acde48001122\"}, {\"hoverinfo\": \"text\", \"marker\": {\"opacity\": 0.5, \"size\": 9}, \"mode\": \"lines+markers\", \"name\": \"Arsenal\", \"text\": [\"Arsenal<br>Rank: 4\", \"Arsenal<br>Rank: 4\", \"Arsenal<br>Rank: 3\", \"Arsenal<br>Rank: 2\", \"Arsenal<br>Rank: 5\", \"Arsenal<br>Rank: 6\"], \"visible\": \"legendonly\", \"x\": [13, 14, 15, 16, 17, 18], \"y\": [4, 4, 3, 2, 5, 6], \"type\": \"scatter\", \"uid\": \"87b89098-d2fe-11e8-9dea-acde48001122\"}, {\"hoverinfo\": \"text\", \"marker\": {\"opacity\": 0.5, \"size\": 9}, \"mode\": \"lines+markers\", \"name\": \"Aston Villa\", \"text\": [\"Aston Villa<br>Rank: 15\", \"Aston Villa<br>Rank: 15\", \"Aston Villa<br>Rank: 17\", \"Aston Villa<br>Rank: 20\"], \"visible\": \"legendonly\", \"x\": [13, 14, 15, 16], \"y\": [15, 15, 17, 20], \"type\": \"scatter\", \"uid\": \"87b89136-d2fe-11e8-b0f6-acde48001122\"}, {\"hoverinfo\": \"text\", \"marker\": {\"opacity\": 0.5, \"size\": 9}, \"mode\": \"lines+markers\", \"name\": \"Bournemouth\", \"text\": [\"Bournemouth<br>Rank: 16\", \"Bournemouth<br>Rank: 9\", \"Bournemouth<br>Rank: 12\"], \"visible\": \"legendonly\", \"x\": [16, 17, 18], \"y\": [16, 9, 12], \"type\": \"scatter\", \"uid\": \"87b891b8-d2fe-11e8-b788-acde48001122\"}, {\"hoverinfo\": \"text\", \"marker\": {\"opacity\": 0.5, \"size\": 9}, \"mode\": \"lines+markers\", \"name\": \"Brighton & Hove\", \"text\": [\"Brighton & Hove<br>Rank: 15\"], \"visible\": \"legendonly\", \"x\": [18], \"y\": [15], \"type\": \"scatter\", \"uid\": \"87b8923a-d2fe-11e8-b01a-acde48001122\"}, {\"hoverinfo\": \"text\", \"marker\": {\"opacity\": 0.5, \"size\": 9}, \"mode\": \"lines+markers\", \"name\": \"Burnley\", \"text\": [\"Burnley<br>Rank: 19\", \"Burnley<br>Rank: 16\", \"Burnley<br>Rank: 7\"], \"visible\": \"legendonly\", \"x\": [15, 17, 18], \"y\": [19, 16, 7], \"type\": \"scatter\", \"uid\": \"87b892ba-d2fe-11e8-9d7e-acde48001122\"}, {\"hoverinfo\": \"text\", \"marker\": {\"opacity\": 0.5, \"size\": 9}, \"mode\": \"lines+markers\", \"name\": \"Cardiff City\", \"text\": [\"Cardiff City<br>Rank: 20\"], \"visible\": \"legendonly\", \"x\": [14], \"y\": [20], \"type\": \"scatter\", \"uid\": \"87b89334-d2fe-11e8-a12d-acde48001122\"}, {\"hoverinfo\": \"text\", \"marker\": {\"opacity\": 0.5, \"size\": 9}, \"mode\": \"lines+markers\", \"name\": \"Chelsea\", \"text\": [\"Chelsea<br>Rank: 3\", \"Chelsea<br>Rank: 3\", \"Chelsea<br>Rank: 1\", \"Chelsea<br>Rank: 10\", \"Chelsea<br>Rank: 1\", \"Chelsea<br>Rank: 5\"], \"visible\": \"legendonly\", \"x\": [13, 14, 15, 16, 17, 18], \"y\": [3, 3, 1, 10, 1, 5], \"type\": \"scatter\", \"uid\": \"87b893b6-d2fe-11e8-80ed-acde48001122\"}, {\"hoverinfo\": \"text\", \"marker\": {\"opacity\": 0.5, \"size\": 9}, \"mode\": \"lines+markers\", \"name\": \"Crystal Palace\", \"text\": [\"Crystal Palace<br>Rank: 11\", \"Crystal Palace<br>Rank: 10\", \"Crystal Palace<br>Rank: 15\", \"Crystal Palace<br>Rank: 14\", \"Crystal Palace<br>Rank: 11\"], \"visible\": \"legendonly\", \"x\": [14, 15, 16, 17, 18], \"y\": [11, 10, 15, 14, 11], \"type\": \"scatter\", \"uid\": \"87b89442-d2fe-11e8-82ec-acde48001122\"}, {\"hoverinfo\": \"text\", \"marker\": {\"opacity\": 0.5, \"size\": 9}, \"mode\": \"lines+markers\", \"name\": \"Everton\", \"text\": [\"Everton<br>Rank: 6\", \"Everton<br>Rank: 5\", \"Everton<br>Rank: 11\", \"Everton<br>Rank: 11\", \"Everton<br>Rank: 7\", \"Everton<br>Rank: 8\"], \"visible\": \"legendonly\", \"x\": [13, 14, 15, 16, 17, 18], \"y\": [6, 5, 11, 11, 7, 8], \"type\": \"scatter\", \"uid\": \"87b894ba-d2fe-11e8-93f2-acde48001122\"}, {\"hoverinfo\": \"text\", \"marker\": {\"opacity\": 0.5, \"size\": 9}, \"mode\": \"lines+markers\", \"name\": \"Fulham\", \"text\": [\"Fulham<br>Rank: 12\", \"Fulham<br>Rank: 19\"], \"visible\": \"legendonly\", \"x\": [13, 14], \"y\": [12, 19], \"type\": \"scatter\", \"uid\": \"87b8953a-d2fe-11e8-8401-acde48001122\"}, {\"hoverinfo\": \"text\", \"marker\": {\"opacity\": 0.5, \"size\": 9}, \"mode\": \"lines+markers\", \"name\": \"Huddersfield\", \"text\": [\"Huddersfield<br>Rank: 16\"], \"visible\": \"legendonly\", \"x\": [18], \"y\": [16], \"type\": \"scatter\", \"uid\": \"87b895b4-d2fe-11e8-a953-acde48001122\"}, {\"hoverinfo\": \"text\", \"marker\": {\"opacity\": 0.5, \"size\": 9}, \"mode\": \"lines+markers\", \"name\": \"Hull City\", \"text\": [\"Hull City<br>Rank: 16\", \"Hull City<br>Rank: 18\", \"Hull City<br>Rank: 18\"], \"visible\": \"legendonly\", \"x\": [14, 15, 17], \"y\": [16, 18, 18], \"type\": \"scatter\", \"uid\": \"87b89636-d2fe-11e8-a52c-acde48001122\"}, {\"hoverinfo\": \"text\", \"marker\": {\"opacity\": 0.5, \"size\": 9}, \"mode\": \"lines+markers\", \"name\": \"Leicester City\", \"text\": [\"Leicester City<br>Rank: 14\", \"Leicester City<br>Rank: 1\", \"Leicester City<br>Rank: 13\", \"Leicester City<br>Rank: 9\"], \"visible\": \"legendonly\", \"x\": [15, 16, 17, 18], \"y\": [14, 1, 13, 9], \"type\": \"scatter\", \"uid\": \"87b896ae-d2fe-11e8-a469-acde48001122\"}, {\"hoverinfo\": \"text\", \"marker\": {\"opacity\": 0.5, \"size\": 9}, \"mode\": \"lines+markers\", \"name\": \"Liverpool\", \"text\": [\"Liverpool<br>Rank: 7\", \"Liverpool<br>Rank: 2\", \"Liverpool<br>Rank: 6\", \"Liverpool<br>Rank: 8\", \"Liverpool<br>Rank: 4\", \"Liverpool<br>Rank: 4\"], \"visible\": \"legendonly\", \"x\": [13, 14, 15, 16, 17, 18], \"y\": [7, 2, 6, 8, 4, 4], \"type\": \"scatter\", \"uid\": \"87b89726-d2fe-11e8-8397-acde48001122\"}, {\"hoverinfo\": \"text\", \"marker\": {\"opacity\": 0.5, \"size\": 9}, \"mode\": \"lines+markers\", \"name\": \"Manchester City\", \"text\": [\"Manchester City<br>Rank: 2\", \"Manchester City<br>Rank: 1\", \"Manchester City<br>Rank: 2\", \"Manchester City<br>Rank: 4\", \"Manchester City<br>Rank: 3\", \"Manchester City<br>Rank: 1\"], \"visible\": \"legendonly\", \"x\": [13, 14, 15, 16, 17, 18], \"y\": [2, 1, 2, 4, 3, 1], \"type\": \"scatter\", \"uid\": \"87b8979e-d2fe-11e8-8bf0-acde48001122\"}, {\"hoverinfo\": \"text\", \"marker\": {\"opacity\": 0.5, \"size\": 9}, \"mode\": \"lines+markers\", \"name\": \"Manchester Utd\", \"text\": [\"Manchester Utd<br>Rank: 1\", \"Manchester Utd<br>Rank: 7\", \"Manchester Utd<br>Rank: 4\", \"Manchester Utd<br>Rank: 5\", \"Manchester Utd<br>Rank: 6\", \"Manchester Utd<br>Rank: 2\"], \"visible\": \"legendonly\", \"x\": [13, 14, 15, 16, 17, 18], \"y\": [1, 7, 4, 5, 6, 2], \"type\": \"scatter\", \"uid\": \"87b8980c-d2fe-11e8-a396-acde48001122\"}, {\"hoverinfo\": \"text\", \"marker\": {\"opacity\": 0.5, \"size\": 9}, \"mode\": \"lines+markers\", \"name\": \"Middlesbrough\", \"text\": [\"Middlesbrough<br>Rank: 19\"], \"visible\": \"legendonly\", \"x\": [17], \"y\": [19], \"type\": \"scatter\", \"uid\": \"87b89886-d2fe-11e8-9847-acde48001122\"}, {\"hoverinfo\": \"text\", \"marker\": {\"opacity\": 0.5, \"size\": 9}, \"mode\": \"lines+markers\", \"name\": \"Newcastle Utd\", \"text\": [\"Newcastle Utd<br>Rank: 16\", \"Newcastle Utd<br>Rank: 10\", \"Newcastle Utd<br>Rank: 15\", \"Newcastle Utd<br>Rank: 18\", \"Newcastle Utd<br>Rank: 10\"], \"visible\": \"legendonly\", \"x\": [13, 14, 15, 16, 18], \"y\": [16, 10, 15, 18, 10], \"type\": \"scatter\", \"uid\": \"87b898fa-d2fe-11e8-be02-acde48001122\"}, {\"hoverinfo\": \"text\", \"marker\": {\"opacity\": 0.5, \"size\": 9}, \"mode\": \"lines+markers\", \"name\": \"Norwich City\", \"text\": [\"Norwich City<br>Rank: 11\", \"Norwich City<br>Rank: 18\", \"Norwich City<br>Rank: 19\"], \"visible\": \"legendonly\", \"x\": [13, 14, 16], \"y\": [11, 18, 19], \"type\": \"scatter\", \"uid\": \"87b89968-d2fe-11e8-9b9a-acde48001122\"}, {\"hoverinfo\": \"text\", \"marker\": {\"opacity\": 0.5, \"size\": 9}, \"mode\": \"lines+markers\", \"name\": \"QP Rangers\", \"text\": [\"QP Rangers<br>Rank: 20\", \"QP Rangers<br>Rank: 20\"], \"visible\": \"legendonly\", \"x\": [13, 15], \"y\": [20, 20], \"type\": \"scatter\", \"uid\": \"87b899d8-d2fe-11e8-9cae-acde48001122\"}, {\"hoverinfo\": \"text\", \"marker\": {\"opacity\": 0.5, \"size\": 9}, \"mode\": \"lines+markers\", \"name\": \"Reading\", \"text\": [\"Reading<br>Rank: 19\"], \"visible\": \"legendonly\", \"x\": [13], \"y\": [19], \"type\": \"scatter\", \"uid\": \"87b89a50-d2fe-11e8-96fc-acde48001122\"}, {\"hoverinfo\": \"text\", \"marker\": {\"opacity\": 0.5, \"size\": 9}, \"mode\": \"lines+markers\", \"name\": \"Southampton\", \"text\": [\"Southampton<br>Rank: 14\", \"Southampton<br>Rank: 8\", \"Southampton<br>Rank: 7\", \"Southampton<br>Rank: 6\", \"Southampton<br>Rank: 8\", \"Southampton<br>Rank: 17\"], \"visible\": \"legendonly\", \"x\": [13, 14, 15, 16, 17, 18], \"y\": [14, 8, 7, 6, 8, 17], \"type\": \"scatter\", \"uid\": \"87b89abe-d2fe-11e8-84b6-acde48001122\"}, {\"hoverinfo\": \"text\", \"marker\": {\"opacity\": 0.5, \"size\": 9}, \"mode\": \"lines+markers\", \"name\": \"Stoke City\", \"text\": [\"Stoke City<br>Rank: 13\", \"Stoke City<br>Rank: 9\", \"Stoke City<br>Rank: 9\", \"Stoke City<br>Rank: 9\", \"Stoke City<br>Rank: 12\", \"Stoke City<br>Rank: 19\"], \"visible\": \"legendonly\", \"x\": [13, 14, 15, 16, 17, 18], \"y\": [13, 9, 9, 9, 12, 19], \"type\": \"scatter\", \"uid\": \"87b89b36-d2fe-11e8-be4a-acde48001122\"}, {\"hoverinfo\": \"text\", \"marker\": {\"opacity\": 0.5, \"size\": 9}, \"mode\": \"lines+markers\", \"name\": \"Sunderland\", \"text\": [\"Sunderland<br>Rank: 17\", \"Sunderland<br>Rank: 14\", \"Sunderland<br>Rank: 16\", \"Sunderland<br>Rank: 17\", \"Sunderland<br>Rank: 20\"], \"visible\": \"legendonly\", \"x\": [13, 14, 15, 16, 17], \"y\": [17, 14, 16, 17, 20], \"type\": \"scatter\", \"uid\": \"87b89bae-d2fe-11e8-a37f-acde48001122\"}, {\"hoverinfo\": \"text\", \"marker\": {\"opacity\": 0.5, \"size\": 9}, \"mode\": \"lines+markers\", \"name\": \"Swansea City\", \"text\": [\"Swansea City<br>Rank: 9\", \"Swansea City<br>Rank: 12\", \"Swansea City<br>Rank: 8\", \"Swansea City<br>Rank: 12\", \"Swansea City<br>Rank: 15\", \"Swansea City<br>Rank: 18\"], \"visible\": \"legendonly\", \"x\": [13, 14, 15, 16, 17, 18], \"y\": [9, 12, 8, 12, 15, 18], \"type\": \"scatter\", \"uid\": \"87b89c1c-d2fe-11e8-91bb-acde48001122\"}, {\"hoverinfo\": \"text\", \"marker\": {\"opacity\": 0.5, \"size\": 9}, \"mode\": \"lines+markers\", \"name\": \"Tottenham\", \"text\": [\"Tottenham<br>Rank: 5\", \"Tottenham<br>Rank: 6\", \"Tottenham<br>Rank: 5\", \"Tottenham<br>Rank: 3\", \"Tottenham<br>Rank: 2\", \"Tottenham<br>Rank: 3\"], \"visible\": \"legendonly\", \"x\": [13, 14, 15, 16, 17, 18], \"y\": [5, 6, 5, 3, 2, 3], \"type\": \"scatter\", \"uid\": \"87b89c94-d2fe-11e8-a960-acde48001122\"}, {\"hoverinfo\": \"text\", \"marker\": {\"opacity\": 0.5, \"size\": 9}, \"mode\": \"lines+markers\", \"name\": \"Watford\", \"text\": [\"Watford<br>Rank: 13\", \"Watford<br>Rank: 17\", \"Watford<br>Rank: 14\"], \"visible\": \"legendonly\", \"x\": [16, 17, 18], \"y\": [13, 17, 14], \"type\": \"scatter\", \"uid\": \"87b89d02-d2fe-11e8-a201-acde48001122\"}, {\"hoverinfo\": \"text\", \"marker\": {\"opacity\": 0.5, \"size\": 9}, \"mode\": \"lines+markers\", \"name\": \"West Bromwich\", \"text\": [\"West Bromwich<br>Rank: 8\", \"West Bromwich<br>Rank: 17\", \"West Bromwich<br>Rank: 13\", \"West Bromwich<br>Rank: 14\", \"West Bromwich<br>Rank: 10\", \"West Bromwich<br>Rank: 20\"], \"visible\": \"legendonly\", \"x\": [13, 14, 15, 16, 17, 18], \"y\": [8, 17, 13, 14, 10, 20], \"type\": \"scatter\", \"uid\": \"87b89d70-d2fe-11e8-b53c-acde48001122\"}, {\"hoverinfo\": \"text\", \"marker\": {\"opacity\": 0.5, \"size\": 9}, \"mode\": \"lines+markers\", \"name\": \"West Ham Utd\", \"text\": [\"West Ham Utd<br>Rank: 10\", \"West Ham Utd<br>Rank: 13\", \"West Ham Utd<br>Rank: 12\", \"West Ham Utd<br>Rank: 7\", \"West Ham Utd<br>Rank: 11\", \"West Ham Utd<br>Rank: 13\"], \"visible\": \"legendonly\", \"x\": [13, 14, 15, 16, 17, 18], \"y\": [10, 13, 12, 7, 11, 13], \"type\": \"scatter\", \"uid\": \"87b89dde-d2fe-11e8-aa95-acde48001122\"}, {\"hoverinfo\": \"text\", \"marker\": {\"opacity\": 0.5, \"size\": 9}, \"mode\": \"lines+markers\", \"name\": \"Wigan Athletic\", \"text\": [\"Wigan Athletic<br>Rank: 18\"], \"visible\": \"legendonly\", \"x\": [13], \"y\": [18], \"type\": \"scatter\", \"uid\": \"87b89e4c-d2fe-11e8-a1dc-acde48001122\"}], {\"hovermode\": \"closest\", \"legend\": {\"traceorder\": \"grouped\"}, \"title\": \"Team Performance by Season\", \"xaxis\": {\"range\": [12.8, 19.2], \"title\": \"Season\"}, \"yaxis\": {\"autorange\": \"reversed\", \"range\": [0.5, 20.5], \"tickvals\": [5, 10, 15, 20], \"title\": \"Final Rank\", \"zeroline\": false}}, {\"showLink\": true, \"linkText\": \"Export to plot.ly\"})});</script>"
      ]
     },
     "metadata": {},
     "output_type": "display_data"
    }
   ],
   "source": [
    "teams = sorted(set(df['Team']))\n",
    "additional_trace = go.Scatter(x=[15], y=[21], marker=dict(color='white'), showlegend=False, hoverinfo='none')\n",
    "additional_trace2 = go.Scatter(x=[15], y=[0.9], marker=dict(color='white'), showlegend=False, hoverinfo='none')\n",
    "\n",
    "data = [additional_trace, additional_trace2]\n",
    "for team in teams:\n",
    "    team_data = dict(\n",
    "            x = df.loc[df['Team'] == team, 'Season'],\n",
    "            y = df.loc[df['Team'] == team, 'Rank'],\n",
    "            name = team,\n",
    "            mode = 'lines+markers',\n",
    "            marker = dict(\n",
    "                    size = 9,\n",
    "                    opacity = 0.5),\n",
    "            text = df.loc[df['Team'] == team, 'Team'] + '<br>' +\n",
    "                'Rank: ' + df.loc[df['Team'] == team, 'Rank'].apply(str),\n",
    "            type = 'scatter',\n",
    "            hoverinfo = 'text',\n",
    "            visible = 'legendonly'\n",
    "        )\n",
    "    data.append(team_data)\n",
    "\n",
    "    \n",
    "layout = go.Layout(\n",
    "    title = 'Team Performance by Season',\n",
    "    yaxis = dict(\n",
    "        title ='Final Rank',\n",
    "        range = [0.5, 20.5],\n",
    "        autorange = 'reversed',\n",
    "        zeroline = False,\n",
    "        tickvals = [5, 10, 15, 20]\n",
    "\n",
    "    ),\n",
    "    xaxis = dict(\n",
    "        title = 'Season',\n",
    "        range = [12.8, 19.2],\n",
    "    ),\n",
    "    hovermode = 'closest',\n",
    "    legend = dict(traceorder = 'grouped')\n",
    "\n",
    ")\n",
    "\n",
    "fig = go.Figure(data = data, layout = layout)\n",
    "iplot(fig)"
   ]
  },
  {
   "cell_type": "code",
   "execution_count": 104,
   "metadata": {},
   "outputs": [],
   "source": [
    "matchday = pd.read_csv('./Data/matchday.csv')"
   ]
  },
  {
   "cell_type": "code",
   "execution_count": 117,
   "metadata": {},
   "outputs": [
    {
     "data": {
      "application/vnd.plotly.v1+json": {
       "data": [
        {
         "hoverinfo": "none",
         "marker": {
          "color": "white"
         },
         "showlegend": false,
         "type": "scatter",
         "uid": "6be6dd0a-d2fe-11e8-8fe6-acde48001122",
         "x": [
          15
         ],
         "y": [
          21
         ]
        },
        {
         "hoverinfo": "none",
         "marker": {
          "color": "white"
         },
         "showlegend": false,
         "type": "scatter",
         "uid": "6be6decc-d2fe-11e8-b549-acde48001122",
         "x": [
          15
         ],
         "y": [
          0.9
         ]
        },
        {
         "hoverinfo": "text",
         "line": {
          "width": 1
         },
         "marker": {
          "opacity": 0.5,
          "size": 9
         },
         "mode": "lines+markers",
         "name": "Arsenal",
         "text": [
          "Arsenal<br>Rank: 15",
          "Arsenal<br>Rank: 17",
          "Arsenal<br>Rank: 9",
          "Arsenal<br>Rank: 9",
          "Arsenal<br>Rank: 7",
          "Arsenal<br>Rank: 6",
          "Arsenal<br>Rank: 5",
          "Arsenal<br>Rank: 4"
         ],
         "type": "scatter",
         "uid": "6be6dfba-d2fe-11e8-8b3a-acde48001122",
         "x": [
          1,
          2,
          3,
          4,
          5,
          6,
          7,
          8
         ],
         "y": [
          15,
          17,
          9,
          9,
          7,
          6,
          5,
          4
         ]
        },
        {
         "hoverinfo": "text",
         "line": {
          "width": 1
         },
         "marker": {
          "opacity": 0.5,
          "size": 9
         },
         "mode": "lines+markers",
         "name": "Bournemouth",
         "text": [
          "Bournemouth<br>Rank: 5",
          "Bournemouth<br>Rank: 6",
          "Bournemouth<br>Rank: 6",
          "Bournemouth<br>Rank: 6",
          "Bournemouth<br>Rank: 5",
          "Bournemouth<br>Rank: 8",
          "Bournemouth<br>Rank: 7",
          "Bournemouth<br>Rank: 6"
         ],
         "type": "scatter",
         "uid": "6be6e07a-d2fe-11e8-bb24-acde48001122",
         "x": [
          1,
          2,
          3,
          4,
          5,
          6,
          7,
          8
         ],
         "y": [
          5,
          6,
          6,
          6,
          5,
          8,
          7,
          6
         ]
        },
        {
         "hoverinfo": "text",
         "line": {
          "width": 1
         },
         "marker": {
          "opacity": 0.5,
          "size": 9
         },
         "mode": "lines+markers",
         "name": "Brighton & Hove",
         "text": [
          "Brighton & Hove<br>Rank: 16",
          "Brighton & Hove<br>Rank: 11",
          "Brighton & Hove<br>Rank: 12",
          "Brighton & Hove<br>Rank: 14",
          "Brighton & Hove<br>Rank: 14",
          "Brighton & Hove<br>Rank: 13",
          "Brighton & Hove<br>Rank: 15",
          "Brighton & Hove<br>Rank: 13"
         ],
         "type": "scatter",
         "uid": "6be6e138-d2fe-11e8-a104-acde48001122",
         "x": [
          1,
          2,
          3,
          4,
          5,
          6,
          7,
          8
         ],
         "y": [
          16,
          11,
          12,
          14,
          14,
          13,
          15,
          13
         ]
        },
        {
         "hoverinfo": "text",
         "line": {
          "width": 1
         },
         "marker": {
          "opacity": 0.5,
          "size": 9
         },
         "mode": "lines+markers",
         "name": "Burnley",
         "text": [
          "Burnley<br>Rank: 11",
          "Burnley<br>Rank: 15",
          "Burnley<br>Rank: 18",
          "Burnley<br>Rank: 19",
          "Burnley<br>Rank: 20",
          "Burnley<br>Rank: 16",
          "Burnley<br>Rank: 12",
          "Burnley<br>Rank: 12"
         ],
         "type": "scatter",
         "uid": "6be6e1e2-d2fe-11e8-8a35-acde48001122",
         "x": [
          1,
          2,
          3,
          4,
          5,
          6,
          7,
          8
         ],
         "y": [
          11,
          15,
          18,
          19,
          20,
          16,
          12,
          12
         ]
        },
        {
         "hoverinfo": "text",
         "line": {
          "width": 1
         },
         "marker": {
          "opacity": 0.5,
          "size": 9
         },
         "mode": "lines+markers",
         "name": "Cardiff City",
         "text": [
          "Cardiff City<br>Rank: 17",
          "Cardiff City<br>Rank: 16",
          "Cardiff City<br>Rank: 15",
          "Cardiff City<br>Rank: 16",
          "Cardiff City<br>Rank: 17",
          "Cardiff City<br>Rank: 20",
          "Cardiff City<br>Rank: 19",
          "Cardiff City<br>Rank: 20"
         ],
         "type": "scatter",
         "uid": "6be6e28c-d2fe-11e8-8edd-acde48001122",
         "x": [
          1,
          2,
          3,
          4,
          5,
          6,
          7,
          8
         ],
         "y": [
          17,
          16,
          15,
          16,
          17,
          20,
          19,
          20
         ]
        },
        {
         "hoverinfo": "text",
         "line": {
          "width": 1
         },
         "marker": {
          "opacity": 0.5,
          "size": 9
         },
         "mode": "lines+markers",
         "name": "Chelsea",
         "text": [
          "Chelsea<br>Rank: 2",
          "Chelsea<br>Rank: 3",
          "Chelsea<br>Rank: 3",
          "Chelsea<br>Rank: 2",
          "Chelsea<br>Rank: 1",
          "Chelsea<br>Rank: 3",
          "Chelsea<br>Rank: 3",
          "Chelsea<br>Rank: 2"
         ],
         "type": "scatter",
         "uid": "6be6e336-d2fe-11e8-b660-acde48001122",
         "x": [
          1,
          2,
          3,
          4,
          5,
          6,
          7,
          8
         ],
         "y": [
          2,
          3,
          3,
          2,
          1,
          3,
          3,
          2
         ]
        },
        {
         "hoverinfo": "text",
         "line": {
          "width": 1
         },
         "marker": {
          "opacity": 0.5,
          "size": 9
         },
         "mode": "lines+markers",
         "name": "Crystal Palace",
         "text": [
          "Crystal Palace<br>Rank: 4",
          "Crystal Palace<br>Rank: 10",
          "Crystal Palace<br>Rank: 10",
          "Crystal Palace<br>Rank: 15",
          "Crystal Palace<br>Rank: 12",
          "Crystal Palace<br>Rank: 11",
          "Crystal Palace<br>Rank: 13",
          "Crystal Palace<br>Rank: 14"
         ],
         "type": "scatter",
         "uid": "6be6e3e2-d2fe-11e8-a159-acde48001122",
         "x": [
          1,
          2,
          3,
          4,
          5,
          6,
          7,
          8
         ],
         "y": [
          4,
          10,
          10,
          15,
          12,
          11,
          13,
          14
         ]
        },
        {
         "hoverinfo": "text",
         "line": {
          "width": 1
         },
         "marker": {
          "opacity": 0.5,
          "size": 9
         },
         "mode": "lines+markers",
         "name": "Everton",
         "text": [
          "Everton<br>Rank: 9",
          "Everton<br>Rank: 7",
          "Everton<br>Rank: 8",
          "Everton<br>Rank: 7",
          "Everton<br>Rank: 10",
          "Everton<br>Rank: 12",
          "Everton<br>Rank: 11",
          "Everton<br>Rank: 11"
         ],
         "type": "scatter",
         "uid": "6be6e48a-d2fe-11e8-b4b1-acde48001122",
         "x": [
          1,
          2,
          3,
          4,
          5,
          6,
          7,
          8
         ],
         "y": [
          9,
          7,
          8,
          7,
          10,
          12,
          11,
          11
         ]
        },
        {
         "hoverinfo": "text",
         "line": {
          "width": 1
         },
         "marker": {
          "opacity": 0.5,
          "size": 9
         },
         "mode": "lines+markers",
         "name": "Fulham",
         "text": [
          "Fulham<br>Rank: 18",
          "Fulham<br>Rank: 18",
          "Fulham<br>Rank: 11",
          "Fulham<br>Rank: 13",
          "Fulham<br>Rank: 15",
          "Fulham<br>Rank: 15",
          "Fulham<br>Rank: 17",
          "Fulham<br>Rank: 17"
         ],
         "type": "scatter",
         "uid": "6be6e534-d2fe-11e8-a727-acde48001122",
         "x": [
          1,
          2,
          3,
          4,
          5,
          6,
          7,
          8
         ],
         "y": [
          18,
          18,
          11,
          13,
          15,
          15,
          17,
          17
         ]
        },
        {
         "hoverinfo": "text",
         "line": {
          "width": 1
         },
         "marker": {
          "opacity": 0.5,
          "size": 9
         },
         "mode": "lines+markers",
         "name": "Huddersfield",
         "text": [
          "Huddersfield<br>Rank: 19",
          "Huddersfield<br>Rank: 20",
          "Huddersfield<br>Rank: 19",
          "Huddersfield<br>Rank: 17",
          "Huddersfield<br>Rank: 18",
          "Huddersfield<br>Rank: 19",
          "Huddersfield<br>Rank: 20",
          "Huddersfield<br>Rank: 18"
         ],
         "type": "scatter",
         "uid": "6be6e5de-d2fe-11e8-9b03-acde48001122",
         "x": [
          1,
          2,
          3,
          4,
          5,
          6,
          7,
          8
         ],
         "y": [
          19,
          20,
          19,
          17,
          18,
          19,
          20,
          18
         ]
        },
        {
         "hoverinfo": "text",
         "line": {
          "width": 1
         },
         "marker": {
          "opacity": 0.5,
          "size": 9
         },
         "mode": "lines+markers",
         "name": "Leicester City",
         "text": [
          "Leicester City<br>Rank: 13",
          "Leicester City<br>Rank: 8",
          "Leicester City<br>Rank: 7",
          "Leicester City<br>Rank: 8",
          "Leicester City<br>Rank: 11",
          "Leicester City<br>Rank: 9",
          "Leicester City<br>Rank: 8",
          "Leicester City<br>Rank: 10"
         ],
         "type": "scatter",
         "uid": "6be6e688-d2fe-11e8-8908-acde48001122",
         "x": [
          1,
          2,
          3,
          4,
          5,
          6,
          7,
          8
         ],
         "y": [
          13,
          8,
          7,
          8,
          11,
          9,
          8,
          10
         ]
        },
        {
         "hoverinfo": "text",
         "line": {
          "width": 1
         },
         "marker": {
          "opacity": 0.5,
          "size": 9
         },
         "mode": "lines+markers",
         "name": "Liverpool",
         "text": [
          "Liverpool<br>Rank: 1",
          "Liverpool<br>Rank: 2",
          "Liverpool<br>Rank: 1",
          "Liverpool<br>Rank: 1",
          "Liverpool<br>Rank: 2",
          "Liverpool<br>Rank: 1",
          "Liverpool<br>Rank: 2",
          "Liverpool<br>Rank: 3"
         ],
         "type": "scatter",
         "uid": "6be6e734-d2fe-11e8-8975-acde48001122",
         "x": [
          1,
          2,
          3,
          4,
          5,
          6,
          7,
          8
         ],
         "y": [
          1,
          2,
          1,
          1,
          2,
          1,
          2,
          3
         ]
        },
        {
         "hoverinfo": "text",
         "line": {
          "width": 1
         },
         "marker": {
          "opacity": 0.5,
          "size": 9
         },
         "mode": "lines+markers",
         "name": "Manchester City",
         "text": [
          "Manchester City<br>Rank: 3",
          "Manchester City<br>Rank: 1",
          "Manchester City<br>Rank: 5",
          "Manchester City<br>Rank: 4",
          "Manchester City<br>Rank: 3",
          "Manchester City<br>Rank: 2",
          "Manchester City<br>Rank: 1",
          "Manchester City<br>Rank: 1"
         ],
         "type": "scatter",
         "uid": "6be6e874-d2fe-11e8-a3d0-acde48001122",
         "x": [
          1,
          2,
          3,
          4,
          5,
          6,
          7,
          8
         ],
         "y": [
          3,
          1,
          5,
          4,
          3,
          2,
          1,
          1
         ]
        },
        {
         "hoverinfo": "text",
         "line": {
          "width": 1
         },
         "marker": {
          "opacity": 0.5,
          "size": 9
         },
         "mode": "lines+markers",
         "name": "Manchester Utd",
         "text": [
          "Manchester Utd<br>Rank: 7",
          "Manchester Utd<br>Rank: 9",
          "Manchester Utd<br>Rank: 13",
          "Manchester Utd<br>Rank: 10",
          "Manchester Utd<br>Rank: 8",
          "Manchester Utd<br>Rank: 7",
          "Manchester Utd<br>Rank: 10",
          "Manchester Utd<br>Rank: 8"
         ],
         "type": "scatter",
         "uid": "6be6e912-d2fe-11e8-abe7-acde48001122",
         "x": [
          1,
          2,
          3,
          4,
          5,
          6,
          7,
          8
         ],
         "y": [
          7,
          9,
          13,
          10,
          8,
          7,
          10,
          8
         ]
        },
        {
         "hoverinfo": "text",
         "line": {
          "width": 1
         },
         "marker": {
          "opacity": 0.5,
          "size": 9
         },
         "mode": "lines+markers",
         "name": "Newcastle Utd",
         "text": [
          "Newcastle Utd<br>Rank: 14",
          "Newcastle Utd<br>Rank: 12",
          "Newcastle Utd<br>Rank: 16",
          "Newcastle Utd<br>Rank: 18",
          "Newcastle Utd<br>Rank: 19",
          "Newcastle Utd<br>Rank: 18",
          "Newcastle Utd<br>Rank: 18",
          "Newcastle Utd<br>Rank: 19"
         ],
         "type": "scatter",
         "uid": "6be6e9b4-d2fe-11e8-a03d-acde48001122",
         "x": [
          1,
          2,
          3,
          4,
          5,
          6,
          7,
          8
         ],
         "y": [
          14,
          12,
          16,
          18,
          19,
          18,
          18,
          19
         ]
        },
        {
         "hoverinfo": "text",
         "line": {
          "width": 1
         },
         "marker": {
          "opacity": 0.5,
          "size": 9
         },
         "mode": "lines+markers",
         "name": "Southampton",
         "text": [
          "Southampton<br>Rank: 12",
          "Southampton<br>Rank: 13",
          "Southampton<br>Rank: 17",
          "Southampton<br>Rank: 12",
          "Southampton<br>Rank: 13",
          "Southampton<br>Rank: 14",
          "Southampton<br>Rank: 16",
          "Southampton<br>Rank: 16"
         ],
         "type": "scatter",
         "uid": "6be6ea5c-d2fe-11e8-a53f-acde48001122",
         "x": [
          1,
          2,
          3,
          4,
          5,
          6,
          7,
          8
         ],
         "y": [
          12,
          13,
          17,
          12,
          13,
          14,
          16,
          16
         ]
        },
        {
         "hoverinfo": "text",
         "line": {
          "width": 1
         },
         "marker": {
          "opacity": 0.5,
          "size": 9
         },
         "mode": "lines+markers",
         "name": "Tottenham",
         "text": [
          "Tottenham<br>Rank: 8",
          "Tottenham<br>Rank: 5",
          "Tottenham<br>Rank: 2",
          "Tottenham<br>Rank: 5",
          "Tottenham<br>Rank: 6",
          "Tottenham<br>Rank: 5",
          "Tottenham<br>Rank: 4",
          "Tottenham<br>Rank: 5"
         ],
         "type": "scatter",
         "uid": "6be6eafa-d2fe-11e8-abe6-acde48001122",
         "x": [
          1,
          2,
          3,
          4,
          5,
          6,
          7,
          8
         ],
         "y": [
          8,
          5,
          2,
          5,
          6,
          5,
          4,
          5
         ]
        },
        {
         "hoverinfo": "text",
         "line": {
          "width": 1
         },
         "marker": {
          "opacity": 0.5,
          "size": 9
         },
         "mode": "lines+markers",
         "name": "Watford",
         "text": [
          "Watford<br>Rank: 6",
          "Watford<br>Rank: 4",
          "Watford<br>Rank: 4",
          "Watford<br>Rank: 3",
          "Watford<br>Rank: 4",
          "Watford<br>Rank: 4",
          "Watford<br>Rank: 6",
          "Watford<br>Rank: 9"
         ],
         "type": "scatter",
         "uid": "6be6eb9c-d2fe-11e8-b7c3-acde48001122",
         "x": [
          1,
          2,
          3,
          4,
          5,
          6,
          7,
          8
         ],
         "y": [
          6,
          4,
          4,
          3,
          4,
          4,
          6,
          9
         ]
        },
        {
         "hoverinfo": "text",
         "line": {
          "width": 1
         },
         "marker": {
          "opacity": 0.5,
          "size": 9
         },
         "mode": "lines+markers",
         "name": "West Ham Utd",
         "text": [
          "West Ham Utd<br>Rank: 20",
          "West Ham Utd<br>Rank: 19",
          "West Ham Utd<br>Rank: 20",
          "West Ham Utd<br>Rank: 20",
          "West Ham Utd<br>Rank: 16",
          "West Ham Utd<br>Rank: 17",
          "West Ham Utd<br>Rank: 14",
          "West Ham Utd<br>Rank: 15"
         ],
         "type": "scatter",
         "uid": "6be6ec28-d2fe-11e8-b6fb-acde48001122",
         "x": [
          1,
          2,
          3,
          4,
          5,
          6,
          7,
          8
         ],
         "y": [
          20,
          19,
          20,
          20,
          16,
          17,
          14,
          15
         ]
        },
        {
         "hoverinfo": "text",
         "line": {
          "width": 1
         },
         "marker": {
          "opacity": 0.5,
          "size": 9
         },
         "mode": "lines+markers",
         "name": "Wolves",
         "text": [
          "Wolves<br>Rank: 10",
          "Wolves<br>Rank: 14",
          "Wolves<br>Rank: 14",
          "Wolves<br>Rank: 11",
          "Wolves<br>Rank: 9",
          "Wolves<br>Rank: 10",
          "Wolves<br>Rank: 9",
          "Wolves<br>Rank: 7"
         ],
         "type": "scatter",
         "uid": "6be6ecbe-d2fe-11e8-9997-acde48001122",
         "x": [
          1,
          2,
          3,
          4,
          5,
          6,
          7,
          8
         ],
         "y": [
          10,
          14,
          14,
          11,
          9,
          10,
          9,
          7
         ]
        }
       ],
       "layout": {
        "hovermode": "closest",
        "legend": {
         "traceorder": "grouped"
        },
        "title": "Team Standing by Week Season 18/19",
        "xaxis": {
         "range": [
          0.8,
          9.2
         ],
         "title": "Matchday (Week)"
        },
        "yaxis": {
         "autorange": "reversed",
         "range": [
          0.5,
          20.5
         ],
         "tickvals": [
          5,
          10,
          15,
          20
         ],
         "title": "Team Standing",
         "zeroline": false
        }
       }
      },
      "text/html": [
       "<div id=\"c1c4efb5-0bbb-416b-8262-13407240b89d\" style=\"height: 525px; width: 100%;\" class=\"plotly-graph-div\"></div><script type=\"text/javascript\">require([\"plotly\"], function(Plotly) { window.PLOTLYENV=window.PLOTLYENV || {};window.PLOTLYENV.BASE_URL=\"https://plot.ly\";Plotly.newPlot(\"c1c4efb5-0bbb-416b-8262-13407240b89d\", [{\"hoverinfo\": \"none\", \"marker\": {\"color\": \"white\"}, \"showlegend\": false, \"x\": [15], \"y\": [21], \"type\": \"scatter\", \"uid\": \"6be6dd0a-d2fe-11e8-8fe6-acde48001122\"}, {\"hoverinfo\": \"none\", \"marker\": {\"color\": \"white\"}, \"showlegend\": false, \"x\": [15], \"y\": [0.9], \"type\": \"scatter\", \"uid\": \"6be6decc-d2fe-11e8-b549-acde48001122\"}, {\"hoverinfo\": \"text\", \"line\": {\"width\": 1.0}, \"marker\": {\"opacity\": 0.5, \"size\": 9}, \"mode\": \"lines+markers\", \"name\": \"Arsenal\", \"text\": [\"Arsenal<br>Rank: 15\", \"Arsenal<br>Rank: 17\", \"Arsenal<br>Rank: 9\", \"Arsenal<br>Rank: 9\", \"Arsenal<br>Rank: 7\", \"Arsenal<br>Rank: 6\", \"Arsenal<br>Rank: 5\", \"Arsenal<br>Rank: 4\"], \"x\": [1, 2, 3, 4, 5, 6, 7, 8], \"y\": [15, 17, 9, 9, 7, 6, 5, 4], \"type\": \"scatter\", \"uid\": \"6be6dfba-d2fe-11e8-8b3a-acde48001122\"}, {\"hoverinfo\": \"text\", \"line\": {\"width\": 1.0}, \"marker\": {\"opacity\": 0.5, \"size\": 9}, \"mode\": \"lines+markers\", \"name\": \"Bournemouth\", \"text\": [\"Bournemouth<br>Rank: 5\", \"Bournemouth<br>Rank: 6\", \"Bournemouth<br>Rank: 6\", \"Bournemouth<br>Rank: 6\", \"Bournemouth<br>Rank: 5\", \"Bournemouth<br>Rank: 8\", \"Bournemouth<br>Rank: 7\", \"Bournemouth<br>Rank: 6\"], \"x\": [1, 2, 3, 4, 5, 6, 7, 8], \"y\": [5, 6, 6, 6, 5, 8, 7, 6], \"type\": \"scatter\", \"uid\": \"6be6e07a-d2fe-11e8-bb24-acde48001122\"}, {\"hoverinfo\": \"text\", \"line\": {\"width\": 1.0}, \"marker\": {\"opacity\": 0.5, \"size\": 9}, \"mode\": \"lines+markers\", \"name\": \"Brighton & Hove\", \"text\": [\"Brighton & Hove<br>Rank: 16\", \"Brighton & Hove<br>Rank: 11\", \"Brighton & Hove<br>Rank: 12\", \"Brighton & Hove<br>Rank: 14\", \"Brighton & Hove<br>Rank: 14\", \"Brighton & Hove<br>Rank: 13\", \"Brighton & Hove<br>Rank: 15\", \"Brighton & Hove<br>Rank: 13\"], \"x\": [1, 2, 3, 4, 5, 6, 7, 8], \"y\": [16, 11, 12, 14, 14, 13, 15, 13], \"type\": \"scatter\", \"uid\": \"6be6e138-d2fe-11e8-a104-acde48001122\"}, {\"hoverinfo\": \"text\", \"line\": {\"width\": 1.0}, \"marker\": {\"opacity\": 0.5, \"size\": 9}, \"mode\": \"lines+markers\", \"name\": \"Burnley\", \"text\": [\"Burnley<br>Rank: 11\", \"Burnley<br>Rank: 15\", \"Burnley<br>Rank: 18\", \"Burnley<br>Rank: 19\", \"Burnley<br>Rank: 20\", \"Burnley<br>Rank: 16\", \"Burnley<br>Rank: 12\", \"Burnley<br>Rank: 12\"], \"x\": [1, 2, 3, 4, 5, 6, 7, 8], \"y\": [11, 15, 18, 19, 20, 16, 12, 12], \"type\": \"scatter\", \"uid\": \"6be6e1e2-d2fe-11e8-8a35-acde48001122\"}, {\"hoverinfo\": \"text\", \"line\": {\"width\": 1.0}, \"marker\": {\"opacity\": 0.5, \"size\": 9}, \"mode\": \"lines+markers\", \"name\": \"Cardiff City\", \"text\": [\"Cardiff City<br>Rank: 17\", \"Cardiff City<br>Rank: 16\", \"Cardiff City<br>Rank: 15\", \"Cardiff City<br>Rank: 16\", \"Cardiff City<br>Rank: 17\", \"Cardiff City<br>Rank: 20\", \"Cardiff City<br>Rank: 19\", \"Cardiff City<br>Rank: 20\"], \"x\": [1, 2, 3, 4, 5, 6, 7, 8], \"y\": [17, 16, 15, 16, 17, 20, 19, 20], \"type\": \"scatter\", \"uid\": \"6be6e28c-d2fe-11e8-8edd-acde48001122\"}, {\"hoverinfo\": \"text\", \"line\": {\"width\": 1.0}, \"marker\": {\"opacity\": 0.5, \"size\": 9}, \"mode\": \"lines+markers\", \"name\": \"Chelsea\", \"text\": [\"Chelsea<br>Rank: 2\", \"Chelsea<br>Rank: 3\", \"Chelsea<br>Rank: 3\", \"Chelsea<br>Rank: 2\", \"Chelsea<br>Rank: 1\", \"Chelsea<br>Rank: 3\", \"Chelsea<br>Rank: 3\", \"Chelsea<br>Rank: 2\"], \"x\": [1, 2, 3, 4, 5, 6, 7, 8], \"y\": [2, 3, 3, 2, 1, 3, 3, 2], \"type\": \"scatter\", \"uid\": \"6be6e336-d2fe-11e8-b660-acde48001122\"}, {\"hoverinfo\": \"text\", \"line\": {\"width\": 1.0}, \"marker\": {\"opacity\": 0.5, \"size\": 9}, \"mode\": \"lines+markers\", \"name\": \"Crystal Palace\", \"text\": [\"Crystal Palace<br>Rank: 4\", \"Crystal Palace<br>Rank: 10\", \"Crystal Palace<br>Rank: 10\", \"Crystal Palace<br>Rank: 15\", \"Crystal Palace<br>Rank: 12\", \"Crystal Palace<br>Rank: 11\", \"Crystal Palace<br>Rank: 13\", \"Crystal Palace<br>Rank: 14\"], \"x\": [1, 2, 3, 4, 5, 6, 7, 8], \"y\": [4, 10, 10, 15, 12, 11, 13, 14], \"type\": \"scatter\", \"uid\": \"6be6e3e2-d2fe-11e8-a159-acde48001122\"}, {\"hoverinfo\": \"text\", \"line\": {\"width\": 1.0}, \"marker\": {\"opacity\": 0.5, \"size\": 9}, \"mode\": \"lines+markers\", \"name\": \"Everton\", \"text\": [\"Everton<br>Rank: 9\", \"Everton<br>Rank: 7\", \"Everton<br>Rank: 8\", \"Everton<br>Rank: 7\", \"Everton<br>Rank: 10\", \"Everton<br>Rank: 12\", \"Everton<br>Rank: 11\", \"Everton<br>Rank: 11\"], \"x\": [1, 2, 3, 4, 5, 6, 7, 8], \"y\": [9, 7, 8, 7, 10, 12, 11, 11], \"type\": \"scatter\", \"uid\": \"6be6e48a-d2fe-11e8-b4b1-acde48001122\"}, {\"hoverinfo\": \"text\", \"line\": {\"width\": 1.0}, \"marker\": {\"opacity\": 0.5, \"size\": 9}, \"mode\": \"lines+markers\", \"name\": \"Fulham\", \"text\": [\"Fulham<br>Rank: 18\", \"Fulham<br>Rank: 18\", \"Fulham<br>Rank: 11\", \"Fulham<br>Rank: 13\", \"Fulham<br>Rank: 15\", \"Fulham<br>Rank: 15\", \"Fulham<br>Rank: 17\", \"Fulham<br>Rank: 17\"], \"x\": [1, 2, 3, 4, 5, 6, 7, 8], \"y\": [18, 18, 11, 13, 15, 15, 17, 17], \"type\": \"scatter\", \"uid\": \"6be6e534-d2fe-11e8-a727-acde48001122\"}, {\"hoverinfo\": \"text\", \"line\": {\"width\": 1.0}, \"marker\": {\"opacity\": 0.5, \"size\": 9}, \"mode\": \"lines+markers\", \"name\": \"Huddersfield\", \"text\": [\"Huddersfield<br>Rank: 19\", \"Huddersfield<br>Rank: 20\", \"Huddersfield<br>Rank: 19\", \"Huddersfield<br>Rank: 17\", \"Huddersfield<br>Rank: 18\", \"Huddersfield<br>Rank: 19\", \"Huddersfield<br>Rank: 20\", \"Huddersfield<br>Rank: 18\"], \"x\": [1, 2, 3, 4, 5, 6, 7, 8], \"y\": [19, 20, 19, 17, 18, 19, 20, 18], \"type\": \"scatter\", \"uid\": \"6be6e5de-d2fe-11e8-9b03-acde48001122\"}, {\"hoverinfo\": \"text\", \"line\": {\"width\": 1.0}, \"marker\": {\"opacity\": 0.5, \"size\": 9}, \"mode\": \"lines+markers\", \"name\": \"Leicester City\", \"text\": [\"Leicester City<br>Rank: 13\", \"Leicester City<br>Rank: 8\", \"Leicester City<br>Rank: 7\", \"Leicester City<br>Rank: 8\", \"Leicester City<br>Rank: 11\", \"Leicester City<br>Rank: 9\", \"Leicester City<br>Rank: 8\", \"Leicester City<br>Rank: 10\"], \"x\": [1, 2, 3, 4, 5, 6, 7, 8], \"y\": [13, 8, 7, 8, 11, 9, 8, 10], \"type\": \"scatter\", \"uid\": \"6be6e688-d2fe-11e8-8908-acde48001122\"}, {\"hoverinfo\": \"text\", \"line\": {\"width\": 1.0}, \"marker\": {\"opacity\": 0.5, \"size\": 9}, \"mode\": \"lines+markers\", \"name\": \"Liverpool\", \"text\": [\"Liverpool<br>Rank: 1\", \"Liverpool<br>Rank: 2\", \"Liverpool<br>Rank: 1\", \"Liverpool<br>Rank: 1\", \"Liverpool<br>Rank: 2\", \"Liverpool<br>Rank: 1\", \"Liverpool<br>Rank: 2\", \"Liverpool<br>Rank: 3\"], \"x\": [1, 2, 3, 4, 5, 6, 7, 8], \"y\": [1, 2, 1, 1, 2, 1, 2, 3], \"type\": \"scatter\", \"uid\": \"6be6e734-d2fe-11e8-8975-acde48001122\"}, {\"hoverinfo\": \"text\", \"line\": {\"width\": 1.0}, \"marker\": {\"opacity\": 0.5, \"size\": 9}, \"mode\": \"lines+markers\", \"name\": \"Manchester City\", \"text\": [\"Manchester City<br>Rank: 3\", \"Manchester City<br>Rank: 1\", \"Manchester City<br>Rank: 5\", \"Manchester City<br>Rank: 4\", \"Manchester City<br>Rank: 3\", \"Manchester City<br>Rank: 2\", \"Manchester City<br>Rank: 1\", \"Manchester City<br>Rank: 1\"], \"x\": [1, 2, 3, 4, 5, 6, 7, 8], \"y\": [3, 1, 5, 4, 3, 2, 1, 1], \"type\": \"scatter\", \"uid\": \"6be6e874-d2fe-11e8-a3d0-acde48001122\"}, {\"hoverinfo\": \"text\", \"line\": {\"width\": 1.0}, \"marker\": {\"opacity\": 0.5, \"size\": 9}, \"mode\": \"lines+markers\", \"name\": \"Manchester Utd\", \"text\": [\"Manchester Utd<br>Rank: 7\", \"Manchester Utd<br>Rank: 9\", \"Manchester Utd<br>Rank: 13\", \"Manchester Utd<br>Rank: 10\", \"Manchester Utd<br>Rank: 8\", \"Manchester Utd<br>Rank: 7\", \"Manchester Utd<br>Rank: 10\", \"Manchester Utd<br>Rank: 8\"], \"x\": [1, 2, 3, 4, 5, 6, 7, 8], \"y\": [7, 9, 13, 10, 8, 7, 10, 8], \"type\": \"scatter\", \"uid\": \"6be6e912-d2fe-11e8-abe7-acde48001122\"}, {\"hoverinfo\": \"text\", \"line\": {\"width\": 1.0}, \"marker\": {\"opacity\": 0.5, \"size\": 9}, \"mode\": \"lines+markers\", \"name\": \"Newcastle Utd\", \"text\": [\"Newcastle Utd<br>Rank: 14\", \"Newcastle Utd<br>Rank: 12\", \"Newcastle Utd<br>Rank: 16\", \"Newcastle Utd<br>Rank: 18\", \"Newcastle Utd<br>Rank: 19\", \"Newcastle Utd<br>Rank: 18\", \"Newcastle Utd<br>Rank: 18\", \"Newcastle Utd<br>Rank: 19\"], \"x\": [1, 2, 3, 4, 5, 6, 7, 8], \"y\": [14, 12, 16, 18, 19, 18, 18, 19], \"type\": \"scatter\", \"uid\": \"6be6e9b4-d2fe-11e8-a03d-acde48001122\"}, {\"hoverinfo\": \"text\", \"line\": {\"width\": 1.0}, \"marker\": {\"opacity\": 0.5, \"size\": 9}, \"mode\": \"lines+markers\", \"name\": \"Southampton\", \"text\": [\"Southampton<br>Rank: 12\", \"Southampton<br>Rank: 13\", \"Southampton<br>Rank: 17\", \"Southampton<br>Rank: 12\", \"Southampton<br>Rank: 13\", \"Southampton<br>Rank: 14\", \"Southampton<br>Rank: 16\", \"Southampton<br>Rank: 16\"], \"x\": [1, 2, 3, 4, 5, 6, 7, 8], \"y\": [12, 13, 17, 12, 13, 14, 16, 16], \"type\": \"scatter\", \"uid\": \"6be6ea5c-d2fe-11e8-a53f-acde48001122\"}, {\"hoverinfo\": \"text\", \"line\": {\"width\": 1.0}, \"marker\": {\"opacity\": 0.5, \"size\": 9}, \"mode\": \"lines+markers\", \"name\": \"Tottenham\", \"text\": [\"Tottenham<br>Rank: 8\", \"Tottenham<br>Rank: 5\", \"Tottenham<br>Rank: 2\", \"Tottenham<br>Rank: 5\", \"Tottenham<br>Rank: 6\", \"Tottenham<br>Rank: 5\", \"Tottenham<br>Rank: 4\", \"Tottenham<br>Rank: 5\"], \"x\": [1, 2, 3, 4, 5, 6, 7, 8], \"y\": [8, 5, 2, 5, 6, 5, 4, 5], \"type\": \"scatter\", \"uid\": \"6be6eafa-d2fe-11e8-abe6-acde48001122\"}, {\"hoverinfo\": \"text\", \"line\": {\"width\": 1.0}, \"marker\": {\"opacity\": 0.5, \"size\": 9}, \"mode\": \"lines+markers\", \"name\": \"Watford\", \"text\": [\"Watford<br>Rank: 6\", \"Watford<br>Rank: 4\", \"Watford<br>Rank: 4\", \"Watford<br>Rank: 3\", \"Watford<br>Rank: 4\", \"Watford<br>Rank: 4\", \"Watford<br>Rank: 6\", \"Watford<br>Rank: 9\"], \"x\": [1, 2, 3, 4, 5, 6, 7, 8], \"y\": [6, 4, 4, 3, 4, 4, 6, 9], \"type\": \"scatter\", \"uid\": \"6be6eb9c-d2fe-11e8-b7c3-acde48001122\"}, {\"hoverinfo\": \"text\", \"line\": {\"width\": 1.0}, \"marker\": {\"opacity\": 0.5, \"size\": 9}, \"mode\": \"lines+markers\", \"name\": \"West Ham Utd\", \"text\": [\"West Ham Utd<br>Rank: 20\", \"West Ham Utd<br>Rank: 19\", \"West Ham Utd<br>Rank: 20\", \"West Ham Utd<br>Rank: 20\", \"West Ham Utd<br>Rank: 16\", \"West Ham Utd<br>Rank: 17\", \"West Ham Utd<br>Rank: 14\", \"West Ham Utd<br>Rank: 15\"], \"x\": [1, 2, 3, 4, 5, 6, 7, 8], \"y\": [20, 19, 20, 20, 16, 17, 14, 15], \"type\": \"scatter\", \"uid\": \"6be6ec28-d2fe-11e8-b6fb-acde48001122\"}, {\"hoverinfo\": \"text\", \"line\": {\"width\": 1.0}, \"marker\": {\"opacity\": 0.5, \"size\": 9}, \"mode\": \"lines+markers\", \"name\": \"Wolves\", \"text\": [\"Wolves<br>Rank: 10\", \"Wolves<br>Rank: 14\", \"Wolves<br>Rank: 14\", \"Wolves<br>Rank: 11\", \"Wolves<br>Rank: 9\", \"Wolves<br>Rank: 10\", \"Wolves<br>Rank: 9\", \"Wolves<br>Rank: 7\"], \"x\": [1, 2, 3, 4, 5, 6, 7, 8], \"y\": [10, 14, 14, 11, 9, 10, 9, 7], \"type\": \"scatter\", \"uid\": \"6be6ecbe-d2fe-11e8-9997-acde48001122\"}], {\"hovermode\": \"closest\", \"legend\": {\"traceorder\": \"grouped\"}, \"title\": \"Team Standing by Week Season 18/19\", \"xaxis\": {\"range\": [0.8, 9.2], \"title\": \"Matchday (Week)\"}, \"yaxis\": {\"autorange\": \"reversed\", \"range\": [0.5, 20.5], \"tickvals\": [5, 10, 15, 20], \"title\": \"Team Standing\", \"zeroline\": false}}, {\"showLink\": true, \"linkText\": \"Export to plot.ly\"})});</script>"
      ],
      "text/vnd.plotly.v1+html": [
       "<div id=\"c1c4efb5-0bbb-416b-8262-13407240b89d\" style=\"height: 525px; width: 100%;\" class=\"plotly-graph-div\"></div><script type=\"text/javascript\">require([\"plotly\"], function(Plotly) { window.PLOTLYENV=window.PLOTLYENV || {};window.PLOTLYENV.BASE_URL=\"https://plot.ly\";Plotly.newPlot(\"c1c4efb5-0bbb-416b-8262-13407240b89d\", [{\"hoverinfo\": \"none\", \"marker\": {\"color\": \"white\"}, \"showlegend\": false, \"x\": [15], \"y\": [21], \"type\": \"scatter\", \"uid\": \"6be6dd0a-d2fe-11e8-8fe6-acde48001122\"}, {\"hoverinfo\": \"none\", \"marker\": {\"color\": \"white\"}, \"showlegend\": false, \"x\": [15], \"y\": [0.9], \"type\": \"scatter\", \"uid\": \"6be6decc-d2fe-11e8-b549-acde48001122\"}, {\"hoverinfo\": \"text\", \"line\": {\"width\": 1.0}, \"marker\": {\"opacity\": 0.5, \"size\": 9}, \"mode\": \"lines+markers\", \"name\": \"Arsenal\", \"text\": [\"Arsenal<br>Rank: 15\", \"Arsenal<br>Rank: 17\", \"Arsenal<br>Rank: 9\", \"Arsenal<br>Rank: 9\", \"Arsenal<br>Rank: 7\", \"Arsenal<br>Rank: 6\", \"Arsenal<br>Rank: 5\", \"Arsenal<br>Rank: 4\"], \"x\": [1, 2, 3, 4, 5, 6, 7, 8], \"y\": [15, 17, 9, 9, 7, 6, 5, 4], \"type\": \"scatter\", \"uid\": \"6be6dfba-d2fe-11e8-8b3a-acde48001122\"}, {\"hoverinfo\": \"text\", \"line\": {\"width\": 1.0}, \"marker\": {\"opacity\": 0.5, \"size\": 9}, \"mode\": \"lines+markers\", \"name\": \"Bournemouth\", \"text\": [\"Bournemouth<br>Rank: 5\", \"Bournemouth<br>Rank: 6\", \"Bournemouth<br>Rank: 6\", \"Bournemouth<br>Rank: 6\", \"Bournemouth<br>Rank: 5\", \"Bournemouth<br>Rank: 8\", \"Bournemouth<br>Rank: 7\", \"Bournemouth<br>Rank: 6\"], \"x\": [1, 2, 3, 4, 5, 6, 7, 8], \"y\": [5, 6, 6, 6, 5, 8, 7, 6], \"type\": \"scatter\", \"uid\": \"6be6e07a-d2fe-11e8-bb24-acde48001122\"}, {\"hoverinfo\": \"text\", \"line\": {\"width\": 1.0}, \"marker\": {\"opacity\": 0.5, \"size\": 9}, \"mode\": \"lines+markers\", \"name\": \"Brighton & Hove\", \"text\": [\"Brighton & Hove<br>Rank: 16\", \"Brighton & Hove<br>Rank: 11\", \"Brighton & Hove<br>Rank: 12\", \"Brighton & Hove<br>Rank: 14\", \"Brighton & Hove<br>Rank: 14\", \"Brighton & Hove<br>Rank: 13\", \"Brighton & Hove<br>Rank: 15\", \"Brighton & Hove<br>Rank: 13\"], \"x\": [1, 2, 3, 4, 5, 6, 7, 8], \"y\": [16, 11, 12, 14, 14, 13, 15, 13], \"type\": \"scatter\", \"uid\": \"6be6e138-d2fe-11e8-a104-acde48001122\"}, {\"hoverinfo\": \"text\", \"line\": {\"width\": 1.0}, \"marker\": {\"opacity\": 0.5, \"size\": 9}, \"mode\": \"lines+markers\", \"name\": \"Burnley\", \"text\": [\"Burnley<br>Rank: 11\", \"Burnley<br>Rank: 15\", \"Burnley<br>Rank: 18\", \"Burnley<br>Rank: 19\", \"Burnley<br>Rank: 20\", \"Burnley<br>Rank: 16\", \"Burnley<br>Rank: 12\", \"Burnley<br>Rank: 12\"], \"x\": [1, 2, 3, 4, 5, 6, 7, 8], \"y\": [11, 15, 18, 19, 20, 16, 12, 12], \"type\": \"scatter\", \"uid\": \"6be6e1e2-d2fe-11e8-8a35-acde48001122\"}, {\"hoverinfo\": \"text\", \"line\": {\"width\": 1.0}, \"marker\": {\"opacity\": 0.5, \"size\": 9}, \"mode\": \"lines+markers\", \"name\": \"Cardiff City\", \"text\": [\"Cardiff City<br>Rank: 17\", \"Cardiff City<br>Rank: 16\", \"Cardiff City<br>Rank: 15\", \"Cardiff City<br>Rank: 16\", \"Cardiff City<br>Rank: 17\", \"Cardiff City<br>Rank: 20\", \"Cardiff City<br>Rank: 19\", \"Cardiff City<br>Rank: 20\"], \"x\": [1, 2, 3, 4, 5, 6, 7, 8], \"y\": [17, 16, 15, 16, 17, 20, 19, 20], \"type\": \"scatter\", \"uid\": \"6be6e28c-d2fe-11e8-8edd-acde48001122\"}, {\"hoverinfo\": \"text\", \"line\": {\"width\": 1.0}, \"marker\": {\"opacity\": 0.5, \"size\": 9}, \"mode\": \"lines+markers\", \"name\": \"Chelsea\", \"text\": [\"Chelsea<br>Rank: 2\", \"Chelsea<br>Rank: 3\", \"Chelsea<br>Rank: 3\", \"Chelsea<br>Rank: 2\", \"Chelsea<br>Rank: 1\", \"Chelsea<br>Rank: 3\", \"Chelsea<br>Rank: 3\", \"Chelsea<br>Rank: 2\"], \"x\": [1, 2, 3, 4, 5, 6, 7, 8], \"y\": [2, 3, 3, 2, 1, 3, 3, 2], \"type\": \"scatter\", \"uid\": \"6be6e336-d2fe-11e8-b660-acde48001122\"}, {\"hoverinfo\": \"text\", \"line\": {\"width\": 1.0}, \"marker\": {\"opacity\": 0.5, \"size\": 9}, \"mode\": \"lines+markers\", \"name\": \"Crystal Palace\", \"text\": [\"Crystal Palace<br>Rank: 4\", \"Crystal Palace<br>Rank: 10\", \"Crystal Palace<br>Rank: 10\", \"Crystal Palace<br>Rank: 15\", \"Crystal Palace<br>Rank: 12\", \"Crystal Palace<br>Rank: 11\", \"Crystal Palace<br>Rank: 13\", \"Crystal Palace<br>Rank: 14\"], \"x\": [1, 2, 3, 4, 5, 6, 7, 8], \"y\": [4, 10, 10, 15, 12, 11, 13, 14], \"type\": \"scatter\", \"uid\": \"6be6e3e2-d2fe-11e8-a159-acde48001122\"}, {\"hoverinfo\": \"text\", \"line\": {\"width\": 1.0}, \"marker\": {\"opacity\": 0.5, \"size\": 9}, \"mode\": \"lines+markers\", \"name\": \"Everton\", \"text\": [\"Everton<br>Rank: 9\", \"Everton<br>Rank: 7\", \"Everton<br>Rank: 8\", \"Everton<br>Rank: 7\", \"Everton<br>Rank: 10\", \"Everton<br>Rank: 12\", \"Everton<br>Rank: 11\", \"Everton<br>Rank: 11\"], \"x\": [1, 2, 3, 4, 5, 6, 7, 8], \"y\": [9, 7, 8, 7, 10, 12, 11, 11], \"type\": \"scatter\", \"uid\": \"6be6e48a-d2fe-11e8-b4b1-acde48001122\"}, {\"hoverinfo\": \"text\", \"line\": {\"width\": 1.0}, \"marker\": {\"opacity\": 0.5, \"size\": 9}, \"mode\": \"lines+markers\", \"name\": \"Fulham\", \"text\": [\"Fulham<br>Rank: 18\", \"Fulham<br>Rank: 18\", \"Fulham<br>Rank: 11\", \"Fulham<br>Rank: 13\", \"Fulham<br>Rank: 15\", \"Fulham<br>Rank: 15\", \"Fulham<br>Rank: 17\", \"Fulham<br>Rank: 17\"], \"x\": [1, 2, 3, 4, 5, 6, 7, 8], \"y\": [18, 18, 11, 13, 15, 15, 17, 17], \"type\": \"scatter\", \"uid\": \"6be6e534-d2fe-11e8-a727-acde48001122\"}, {\"hoverinfo\": \"text\", \"line\": {\"width\": 1.0}, \"marker\": {\"opacity\": 0.5, \"size\": 9}, \"mode\": \"lines+markers\", \"name\": \"Huddersfield\", \"text\": [\"Huddersfield<br>Rank: 19\", \"Huddersfield<br>Rank: 20\", \"Huddersfield<br>Rank: 19\", \"Huddersfield<br>Rank: 17\", \"Huddersfield<br>Rank: 18\", \"Huddersfield<br>Rank: 19\", \"Huddersfield<br>Rank: 20\", \"Huddersfield<br>Rank: 18\"], \"x\": [1, 2, 3, 4, 5, 6, 7, 8], \"y\": [19, 20, 19, 17, 18, 19, 20, 18], \"type\": \"scatter\", \"uid\": \"6be6e5de-d2fe-11e8-9b03-acde48001122\"}, {\"hoverinfo\": \"text\", \"line\": {\"width\": 1.0}, \"marker\": {\"opacity\": 0.5, \"size\": 9}, \"mode\": \"lines+markers\", \"name\": \"Leicester City\", \"text\": [\"Leicester City<br>Rank: 13\", \"Leicester City<br>Rank: 8\", \"Leicester City<br>Rank: 7\", \"Leicester City<br>Rank: 8\", \"Leicester City<br>Rank: 11\", \"Leicester City<br>Rank: 9\", \"Leicester City<br>Rank: 8\", \"Leicester City<br>Rank: 10\"], \"x\": [1, 2, 3, 4, 5, 6, 7, 8], \"y\": [13, 8, 7, 8, 11, 9, 8, 10], \"type\": \"scatter\", \"uid\": \"6be6e688-d2fe-11e8-8908-acde48001122\"}, {\"hoverinfo\": \"text\", \"line\": {\"width\": 1.0}, \"marker\": {\"opacity\": 0.5, \"size\": 9}, \"mode\": \"lines+markers\", \"name\": \"Liverpool\", \"text\": [\"Liverpool<br>Rank: 1\", \"Liverpool<br>Rank: 2\", \"Liverpool<br>Rank: 1\", \"Liverpool<br>Rank: 1\", \"Liverpool<br>Rank: 2\", \"Liverpool<br>Rank: 1\", \"Liverpool<br>Rank: 2\", \"Liverpool<br>Rank: 3\"], \"x\": [1, 2, 3, 4, 5, 6, 7, 8], \"y\": [1, 2, 1, 1, 2, 1, 2, 3], \"type\": \"scatter\", \"uid\": \"6be6e734-d2fe-11e8-8975-acde48001122\"}, {\"hoverinfo\": \"text\", \"line\": {\"width\": 1.0}, \"marker\": {\"opacity\": 0.5, \"size\": 9}, \"mode\": \"lines+markers\", \"name\": \"Manchester City\", \"text\": [\"Manchester City<br>Rank: 3\", \"Manchester City<br>Rank: 1\", \"Manchester City<br>Rank: 5\", \"Manchester City<br>Rank: 4\", \"Manchester City<br>Rank: 3\", \"Manchester City<br>Rank: 2\", \"Manchester City<br>Rank: 1\", \"Manchester City<br>Rank: 1\"], \"x\": [1, 2, 3, 4, 5, 6, 7, 8], \"y\": [3, 1, 5, 4, 3, 2, 1, 1], \"type\": \"scatter\", \"uid\": \"6be6e874-d2fe-11e8-a3d0-acde48001122\"}, {\"hoverinfo\": \"text\", \"line\": {\"width\": 1.0}, \"marker\": {\"opacity\": 0.5, \"size\": 9}, \"mode\": \"lines+markers\", \"name\": \"Manchester Utd\", \"text\": [\"Manchester Utd<br>Rank: 7\", \"Manchester Utd<br>Rank: 9\", \"Manchester Utd<br>Rank: 13\", \"Manchester Utd<br>Rank: 10\", \"Manchester Utd<br>Rank: 8\", \"Manchester Utd<br>Rank: 7\", \"Manchester Utd<br>Rank: 10\", \"Manchester Utd<br>Rank: 8\"], \"x\": [1, 2, 3, 4, 5, 6, 7, 8], \"y\": [7, 9, 13, 10, 8, 7, 10, 8], \"type\": \"scatter\", \"uid\": \"6be6e912-d2fe-11e8-abe7-acde48001122\"}, {\"hoverinfo\": \"text\", \"line\": {\"width\": 1.0}, \"marker\": {\"opacity\": 0.5, \"size\": 9}, \"mode\": \"lines+markers\", \"name\": \"Newcastle Utd\", \"text\": [\"Newcastle Utd<br>Rank: 14\", \"Newcastle Utd<br>Rank: 12\", \"Newcastle Utd<br>Rank: 16\", \"Newcastle Utd<br>Rank: 18\", \"Newcastle Utd<br>Rank: 19\", \"Newcastle Utd<br>Rank: 18\", \"Newcastle Utd<br>Rank: 18\", \"Newcastle Utd<br>Rank: 19\"], \"x\": [1, 2, 3, 4, 5, 6, 7, 8], \"y\": [14, 12, 16, 18, 19, 18, 18, 19], \"type\": \"scatter\", \"uid\": \"6be6e9b4-d2fe-11e8-a03d-acde48001122\"}, {\"hoverinfo\": \"text\", \"line\": {\"width\": 1.0}, \"marker\": {\"opacity\": 0.5, \"size\": 9}, \"mode\": \"lines+markers\", \"name\": \"Southampton\", \"text\": [\"Southampton<br>Rank: 12\", \"Southampton<br>Rank: 13\", \"Southampton<br>Rank: 17\", \"Southampton<br>Rank: 12\", \"Southampton<br>Rank: 13\", \"Southampton<br>Rank: 14\", \"Southampton<br>Rank: 16\", \"Southampton<br>Rank: 16\"], \"x\": [1, 2, 3, 4, 5, 6, 7, 8], \"y\": [12, 13, 17, 12, 13, 14, 16, 16], \"type\": \"scatter\", \"uid\": \"6be6ea5c-d2fe-11e8-a53f-acde48001122\"}, {\"hoverinfo\": \"text\", \"line\": {\"width\": 1.0}, \"marker\": {\"opacity\": 0.5, \"size\": 9}, \"mode\": \"lines+markers\", \"name\": \"Tottenham\", \"text\": [\"Tottenham<br>Rank: 8\", \"Tottenham<br>Rank: 5\", \"Tottenham<br>Rank: 2\", \"Tottenham<br>Rank: 5\", \"Tottenham<br>Rank: 6\", \"Tottenham<br>Rank: 5\", \"Tottenham<br>Rank: 4\", \"Tottenham<br>Rank: 5\"], \"x\": [1, 2, 3, 4, 5, 6, 7, 8], \"y\": [8, 5, 2, 5, 6, 5, 4, 5], \"type\": \"scatter\", \"uid\": \"6be6eafa-d2fe-11e8-abe6-acde48001122\"}, {\"hoverinfo\": \"text\", \"line\": {\"width\": 1.0}, \"marker\": {\"opacity\": 0.5, \"size\": 9}, \"mode\": \"lines+markers\", \"name\": \"Watford\", \"text\": [\"Watford<br>Rank: 6\", \"Watford<br>Rank: 4\", \"Watford<br>Rank: 4\", \"Watford<br>Rank: 3\", \"Watford<br>Rank: 4\", \"Watford<br>Rank: 4\", \"Watford<br>Rank: 6\", \"Watford<br>Rank: 9\"], \"x\": [1, 2, 3, 4, 5, 6, 7, 8], \"y\": [6, 4, 4, 3, 4, 4, 6, 9], \"type\": \"scatter\", \"uid\": \"6be6eb9c-d2fe-11e8-b7c3-acde48001122\"}, {\"hoverinfo\": \"text\", \"line\": {\"width\": 1.0}, \"marker\": {\"opacity\": 0.5, \"size\": 9}, \"mode\": \"lines+markers\", \"name\": \"West Ham Utd\", \"text\": [\"West Ham Utd<br>Rank: 20\", \"West Ham Utd<br>Rank: 19\", \"West Ham Utd<br>Rank: 20\", \"West Ham Utd<br>Rank: 20\", \"West Ham Utd<br>Rank: 16\", \"West Ham Utd<br>Rank: 17\", \"West Ham Utd<br>Rank: 14\", \"West Ham Utd<br>Rank: 15\"], \"x\": [1, 2, 3, 4, 5, 6, 7, 8], \"y\": [20, 19, 20, 20, 16, 17, 14, 15], \"type\": \"scatter\", \"uid\": \"6be6ec28-d2fe-11e8-b6fb-acde48001122\"}, {\"hoverinfo\": \"text\", \"line\": {\"width\": 1.0}, \"marker\": {\"opacity\": 0.5, \"size\": 9}, \"mode\": \"lines+markers\", \"name\": \"Wolves\", \"text\": [\"Wolves<br>Rank: 10\", \"Wolves<br>Rank: 14\", \"Wolves<br>Rank: 14\", \"Wolves<br>Rank: 11\", \"Wolves<br>Rank: 9\", \"Wolves<br>Rank: 10\", \"Wolves<br>Rank: 9\", \"Wolves<br>Rank: 7\"], \"x\": [1, 2, 3, 4, 5, 6, 7, 8], \"y\": [10, 14, 14, 11, 9, 10, 9, 7], \"type\": \"scatter\", \"uid\": \"6be6ecbe-d2fe-11e8-9997-acde48001122\"}], {\"hovermode\": \"closest\", \"legend\": {\"traceorder\": \"grouped\"}, \"title\": \"Team Standing by Week Season 18/19\", \"xaxis\": {\"range\": [0.8, 9.2], \"title\": \"Matchday (Week)\"}, \"yaxis\": {\"autorange\": \"reversed\", \"range\": [0.5, 20.5], \"tickvals\": [5, 10, 15, 20], \"title\": \"Team Standing\", \"zeroline\": false}}, {\"showLink\": true, \"linkText\": \"Export to plot.ly\"})});</script>"
      ]
     },
     "metadata": {},
     "output_type": "display_data"
    }
   ],
   "source": [
    "teams = sorted(set(matchday['Team']))\n",
    "additional_trace = go.Scatter(x=[15], y=[21], marker=dict(color='white'), showlegend=False, hoverinfo='none')\n",
    "additional_trace2 = go.Scatter(x=[15], y=[0.9], marker=dict(color='white'), showlegend=False, hoverinfo='none')\n",
    "\n",
    "data = [additional_trace, additional_trace2]\n",
    "for team in teams:\n",
    "    team_data = dict(\n",
    "            x = matchday.loc[matchday['Team'] == team, 'Matchday'],\n",
    "            y = matchday.loc[matchday['Team'] == team, 'Rank'],\n",
    "            name = team,\n",
    "            mode = 'lines+markers',\n",
    "            text = matchday.loc[matchday['Team'] == team, 'Team'] + '<br>' +\n",
    "                'Rank: ' + matchday.loc[matchday['Team'] == team, 'Rank'].apply(str),\n",
    "            marker = dict(\n",
    "                    size = 9,\n",
    "                    opacity = 0.5),\n",
    "            line = dict(width=1.0),\n",
    "            type = 'scatter',\n",
    "            hoverinfo = 'text',\n",
    "        )\n",
    "    data.append(team_data)\n",
    "\n",
    "    \n",
    "layout = go.Layout(\n",
    "    title = 'Team Standing by Week Season 18/19',\n",
    "    yaxis = dict(\n",
    "        title ='Team Standing',\n",
    "        range = [0.5, 20.5],\n",
    "        autorange = 'reversed',\n",
    "        zeroline = False,\n",
    "        tickvals = [5, 10, 15, 20]\n",
    "    ),\n",
    "    xaxis = dict(\n",
    "        title = 'Matchday (Week)',\n",
    "        range = [.8, 9.2],\n",
    "        \n",
    "    ),\n",
    "    hovermode = 'closest',\n",
    "    legend = dict(traceorder = 'grouped')\n",
    "\n",
    ")\n",
    "\n",
    "fig = go.Figure(data = data, layout = layout)\n",
    "iplot(fig)"
   ]
  },
  {
   "cell_type": "code",
   "execution_count": null,
   "metadata": {},
   "outputs": [],
   "source": []
  },
  {
   "cell_type": "code",
   "execution_count": null,
   "metadata": {},
   "outputs": [],
   "source": []
  }
 ],
 "metadata": {
  "kernelspec": {
   "display_name": "Python 3",
   "language": "python",
   "name": "python3"
  },
  "language_info": {
   "codemirror_mode": {
    "name": "ipython",
    "version": 3
   },
   "file_extension": ".py",
   "mimetype": "text/x-python",
   "name": "python",
   "nbconvert_exporter": "python",
   "pygments_lexer": "ipython3",
   "version": "3.6.5"
  }
 },
 "nbformat": 4,
 "nbformat_minor": 2
}
