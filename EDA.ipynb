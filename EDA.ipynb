{
 "cells": [
  {
   "cell_type": "code",
   "execution_count": 1,
   "metadata": {},
   "outputs": [
    {
     "data": {
      "text/html": [
       "<script>requirejs.config({paths: { 'plotly': ['https://cdn.plot.ly/plotly-latest.min']},});if(!window.Plotly) {{require(['plotly'],function(plotly) {window.Plotly=plotly;});}}</script>"
      ],
      "text/vnd.plotly.v1+html": [
       "<script>requirejs.config({paths: { 'plotly': ['https://cdn.plot.ly/plotly-latest.min']},});if(!window.Plotly) {{require(['plotly'],function(plotly) {window.Plotly=plotly;});}}</script>"
      ]
     },
     "metadata": {},
     "output_type": "display_data"
    }
   ],
   "source": [
    "import pandas as pd\n",
    "import numpy as np\n",
    "import matplotlib.pyplot as plt\n",
    "import seaborn as sns\n",
    "import plotly as py\n",
    "from plotly.offline import download_plotlyjs, init_notebook_mode, plot, iplot\n",
    "import plotly.graph_objs as go\n",
    "init_notebook_mode(connected=True)\n",
    "\n",
    "# import plotly\n",
    "# import plotly.plotly as py\n",
    "#plotly.tools.set_credentials_file(username='slee279', api_key='DO9WykAlIOkNO8fzqmqv')\n"
   ]
  },
  {
   "cell_type": "code",
   "execution_count": 2,
   "metadata": {},
   "outputs": [],
   "source": [
    "df = pd.read_csv('./Data/epl_data.csv')"
   ]
  },
  {
   "cell_type": "code",
   "execution_count": 3,
   "metadata": {},
   "outputs": [
    {
     "data": {
      "application/vnd.plotly.v1+json": {
       "data": [
        {
         "hoverinfo": "text",
         "marker": {
          "color": "red",
          "opacity": 0.5,
          "size": 9
         },
         "mode": "markers",
         "name": "Season 12/13 GA",
         "text": [
          "Arsenal<br>Season 12/13<br>Rank: 4<br>GA: 37",
          "Aston Villa<br>Season 12/13<br>Rank: 15<br>GA: 69",
          "Chelsea<br>Season 12/13<br>Rank: 3<br>GA: 39",
          "Everton<br>Season 12/13<br>Rank: 6<br>GA: 40",
          "Fulham<br>Season 12/13<br>Rank: 12<br>GA: 60",
          "Liverpool<br>Season 12/13<br>Rank: 7<br>GA: 43",
          "Manchester City<br>Season 12/13<br>Rank: 2<br>GA: 34",
          "Manchester Utd<br>Season 12/13<br>Rank: 1<br>GA: 43",
          "Newcastle Utd<br>Season 12/13<br>Rank: 16<br>GA: 68",
          "Norwich City<br>Season 12/13<br>Rank: 11<br>GA: 58",
          "QP Rangers<br>Season 12/13<br>Rank: 20<br>GA: 60",
          "Reading<br>Season 12/13<br>Rank: 19<br>GA: 73",
          "Southampton<br>Season 12/13<br>Rank: 14<br>GA: 60",
          "Stoke City<br>Season 12/13<br>Rank: 13<br>GA: 45",
          "Sunderland<br>Season 12/13<br>Rank: 17<br>GA: 54",
          "Swansea City<br>Season 12/13<br>Rank: 9<br>GA: 51",
          "Tottenham<br>Season 12/13<br>Rank: 5<br>GA: 46",
          "West Bromwich<br>Season 12/13<br>Rank: 8<br>GA: 57",
          "West Ham Utd<br>Season 12/13<br>Rank: 10<br>GA: 53",
          "Wigan<br>Season 12/13<br>Rank: 18<br>GA: 73"
         ],
         "type": "scatter",
         "uid": "68443800-d4cf-11e8-a31a-acde48001122",
         "x": [
          37,
          69,
          39,
          40,
          60,
          43,
          34,
          43,
          68,
          58,
          60,
          73,
          60,
          45,
          54,
          51,
          46,
          57,
          53,
          73
         ],
         "y": [
          73,
          41,
          75,
          63,
          43,
          61,
          78,
          89,
          41,
          44,
          25,
          28,
          41,
          42,
          39,
          46,
          72,
          49,
          46,
          36
         ]
        },
        {
         "hoverinfo": "text",
         "marker": {
          "color": "blue",
          "opacity": 0.5,
          "size": 9
         },
         "mode": "markers",
         "name": "Season 12/13 GF",
         "text": [
          "Arsenal<br>Season 12/13<br>Rank: 4<br>GF: 72",
          "Aston Villa<br>Season 12/13<br>Rank: 15<br>GF: 47",
          "Chelsea<br>Season 12/13<br>Rank: 3<br>GF: 75",
          "Everton<br>Season 12/13<br>Rank: 6<br>GF: 55",
          "Fulham<br>Season 12/13<br>Rank: 12<br>GF: 50",
          "Liverpool<br>Season 12/13<br>Rank: 7<br>GF: 71",
          "Manchester City<br>Season 12/13<br>Rank: 2<br>GF: 66",
          "Manchester Utd<br>Season 12/13<br>Rank: 1<br>GF: 86",
          "Newcastle Utd<br>Season 12/13<br>Rank: 16<br>GF: 45",
          "Norwich City<br>Season 12/13<br>Rank: 11<br>GF: 41",
          "QP Rangers<br>Season 12/13<br>Rank: 20<br>GF: 30",
          "Reading<br>Season 12/13<br>Rank: 19<br>GF: 43",
          "Southampton<br>Season 12/13<br>Rank: 14<br>GF: 49",
          "Stoke City<br>Season 12/13<br>Rank: 13<br>GF: 34",
          "Sunderland<br>Season 12/13<br>Rank: 17<br>GF: 41",
          "Swansea City<br>Season 12/13<br>Rank: 9<br>GF: 47",
          "Tottenham<br>Season 12/13<br>Rank: 5<br>GF: 66",
          "West Bromwich<br>Season 12/13<br>Rank: 8<br>GF: 53",
          "West Ham Utd<br>Season 12/13<br>Rank: 10<br>GF: 45",
          "Wigan<br>Season 12/13<br>Rank: 18<br>GF: 47"
         ],
         "type": "scatter",
         "uid": "68461080-d4cf-11e8-9b6b-acde48001122",
         "x": [
          72,
          47,
          75,
          55,
          50,
          71,
          66,
          86,
          45,
          41,
          30,
          43,
          49,
          34,
          41,
          47,
          66,
          53,
          45,
          47
         ],
         "y": [
          73,
          41,
          75,
          63,
          43,
          61,
          78,
          89,
          41,
          44,
          25,
          28,
          41,
          42,
          39,
          46,
          72,
          49,
          46,
          36
         ]
        },
        {
         "hoverinfo": "text",
         "marker": {
          "color": "red",
          "opacity": 0.5,
          "size": 9
         },
         "mode": "markers",
         "name": "Season 13/14 GA",
         "text": [
          "Arsenal<br>Season 13/14<br>Rank: 4<br>GA: 41",
          "Aston Villa<br>Season 13/14<br>Rank: 15<br>GA: 61",
          "Cardiff City<br>Season 13/14<br>Rank: 20<br>GA: 74",
          "Chelsea<br>Season 13/14<br>Rank: 3<br>GA: 27",
          "Crystal Palace<br>Season 13/14<br>Rank: 11<br>GA: 48",
          "Everton<br>Season 13/14<br>Rank: 5<br>GA: 39",
          "Fulham<br>Season 13/14<br>Rank: 19<br>GA: 85",
          "Hull City<br>Season 13/14<br>Rank: 16<br>GA: 53",
          "Liverpool<br>Season 13/14<br>Rank: 2<br>GA: 50",
          "Manchester City<br>Season 13/14<br>Rank: 1<br>GA: 37",
          "Manchester Utd<br>Season 13/14<br>Rank: 7<br>GA: 43",
          "Newcastle Utd<br>Season 13/14<br>Rank: 10<br>GA: 59",
          "Norwich City<br>Season 13/14<br>Rank: 18<br>GA: 62",
          "Southampton<br>Season 13/14<br>Rank: 8<br>GA: 46",
          "Stoke City<br>Season 13/14<br>Rank: 9<br>GA: 52",
          "Sunderland<br>Season 13/14<br>Rank: 14<br>GA: 60",
          "Swansea City<br>Season 13/14<br>Rank: 12<br>GA: 54",
          "Tottenham<br>Season 13/14<br>Rank: 6<br>GA: 51",
          "West Bromwich<br>Season 13/14<br>Rank: 17<br>GA: 59",
          "West Ham Utd<br>Season 13/14<br>Rank: 13<br>GA: 51"
         ],
         "type": "scatter",
         "uid": "68461262-d4cf-11e8-8a52-acde48001122",
         "x": [
          41,
          61,
          74,
          27,
          48,
          39,
          85,
          53,
          50,
          37,
          43,
          59,
          62,
          46,
          52,
          60,
          54,
          51,
          59,
          51
         ],
         "y": [
          79,
          38,
          30,
          82,
          45,
          72,
          32,
          37,
          84,
          86,
          64,
          49,
          33,
          56,
          50,
          38,
          42,
          69,
          36,
          40
         ]
        },
        {
         "hoverinfo": "text",
         "marker": {
          "color": "blue",
          "opacity": 0.5,
          "size": 9
         },
         "mode": "markers",
         "name": "Season 13/14 GF",
         "text": [
          "Arsenal<br>Season 13/14<br>Rank: 4<br>GF: 68",
          "Aston Villa<br>Season 13/14<br>Rank: 15<br>GF: 39",
          "Cardiff City<br>Season 13/14<br>Rank: 20<br>GF: 32",
          "Chelsea<br>Season 13/14<br>Rank: 3<br>GF: 71",
          "Crystal Palace<br>Season 13/14<br>Rank: 11<br>GF: 33",
          "Everton<br>Season 13/14<br>Rank: 5<br>GF: 61",
          "Fulham<br>Season 13/14<br>Rank: 19<br>GF: 40",
          "Hull City<br>Season 13/14<br>Rank: 16<br>GF: 38",
          "Liverpool<br>Season 13/14<br>Rank: 2<br>GF: 101",
          "Manchester City<br>Season 13/14<br>Rank: 1<br>GF: 102",
          "Manchester Utd<br>Season 13/14<br>Rank: 7<br>GF: 64",
          "Newcastle Utd<br>Season 13/14<br>Rank: 10<br>GF: 43",
          "Norwich City<br>Season 13/14<br>Rank: 18<br>GF: 28",
          "Southampton<br>Season 13/14<br>Rank: 8<br>GF: 54",
          "Stoke City<br>Season 13/14<br>Rank: 9<br>GF: 45",
          "Sunderland<br>Season 13/14<br>Rank: 14<br>GF: 41",
          "Swansea City<br>Season 13/14<br>Rank: 12<br>GF: 54",
          "Tottenham<br>Season 13/14<br>Rank: 6<br>GF: 55",
          "West Bromwich<br>Season 13/14<br>Rank: 17<br>GF: 43",
          "West Ham Utd<br>Season 13/14<br>Rank: 13<br>GF: 40"
         ],
         "type": "scatter",
         "uid": "6846138c-d4cf-11e8-b8c3-acde48001122",
         "x": [
          68,
          39,
          32,
          71,
          33,
          61,
          40,
          38,
          101,
          102,
          64,
          43,
          28,
          54,
          45,
          41,
          54,
          55,
          43,
          40
         ],
         "y": [
          79,
          38,
          30,
          82,
          45,
          72,
          32,
          37,
          84,
          86,
          64,
          49,
          33,
          56,
          50,
          38,
          42,
          69,
          36,
          40
         ]
        },
        {
         "hoverinfo": "text",
         "marker": {
          "color": "red",
          "opacity": 0.5,
          "size": 9
         },
         "mode": "markers",
         "name": "Season 14/15 GA",
         "text": [
          "Arsenal<br>Season 14/15<br>Rank: 3<br>GA: 36",
          "Aston Villa<br>Season 14/15<br>Rank: 17<br>GA: 57",
          "Burnley<br>Season 14/15<br>Rank: 19<br>GA: 53",
          "Chelsea<br>Season 14/15<br>Rank: 1<br>GA: 32",
          "Crystal Palace<br>Season 14/15<br>Rank: 10<br>GA: 51",
          "Everton<br>Season 14/15<br>Rank: 11<br>GA: 50",
          "Hull City<br>Season 14/15<br>Rank: 18<br>GA: 51",
          "Leicester City<br>Season 14/15<br>Rank: 14<br>GA: 55",
          "Liverpool<br>Season 14/15<br>Rank: 6<br>GA: 48",
          "Manchester City<br>Season 14/15<br>Rank: 2<br>GA: 38",
          "Manchester Utd<br>Season 14/15<br>Rank: 4<br>GA: 37",
          "Newcastle Utd<br>Season 14/15<br>Rank: 15<br>GA: 63",
          "QP Rangers<br>Season 14/15<br>Rank: 20<br>GA: 73",
          "Southampton<br>Season 14/15<br>Rank: 7<br>GA: 33",
          "Stoke City<br>Season 14/15<br>Rank: 9<br>GA: 45",
          "Sunderland<br>Season 14/15<br>Rank: 16<br>GA: 53",
          "Swansea City<br>Season 14/15<br>Rank: 8<br>GA: 49",
          "Tottenham<br>Season 14/15<br>Rank: 5<br>GA: 53",
          "West Bromwich<br>Season 14/15<br>Rank: 13<br>GA: 51",
          "West Ham Utd<br>Season 14/15<br>Rank: 12<br>GA: 47"
         ],
         "type": "scatter",
         "uid": "68461486-d4cf-11e8-aeda-acde48001122",
         "x": [
          36,
          57,
          53,
          32,
          51,
          50,
          51,
          55,
          48,
          38,
          37,
          63,
          73,
          33,
          45,
          53,
          49,
          53,
          51,
          47
         ],
         "y": [
          75,
          38,
          33,
          87,
          48,
          47,
          35,
          41,
          62,
          79,
          70,
          39,
          30,
          60,
          54,
          38,
          56,
          64,
          44,
          47
         ]
        },
        {
         "hoverinfo": "text",
         "marker": {
          "color": "blue",
          "opacity": 0.5,
          "size": 9
         },
         "mode": "markers",
         "name": "Season 14/15 GF",
         "text": [
          "Arsenal<br>Season 14/15<br>Rank: 3<br>GF: 71",
          "Aston Villa<br>Season 14/15<br>Rank: 17<br>GF: 31",
          "Burnley<br>Season 14/15<br>Rank: 19<br>GF: 28",
          "Chelsea<br>Season 14/15<br>Rank: 1<br>GF: 73",
          "Crystal Palace<br>Season 14/15<br>Rank: 10<br>GF: 47",
          "Everton<br>Season 14/15<br>Rank: 11<br>GF: 48",
          "Hull City<br>Season 14/15<br>Rank: 18<br>GF: 33",
          "Leicester City<br>Season 14/15<br>Rank: 14<br>GF: 46",
          "Liverpool<br>Season 14/15<br>Rank: 6<br>GF: 52",
          "Manchester City<br>Season 14/15<br>Rank: 2<br>GF: 83",
          "Manchester Utd<br>Season 14/15<br>Rank: 4<br>GF: 62",
          "Newcastle Utd<br>Season 14/15<br>Rank: 15<br>GF: 40",
          "QP Rangers<br>Season 14/15<br>Rank: 20<br>GF: 42",
          "Southampton<br>Season 14/15<br>Rank: 7<br>GF: 54",
          "Stoke City<br>Season 14/15<br>Rank: 9<br>GF: 48",
          "Sunderland<br>Season 14/15<br>Rank: 16<br>GF: 31",
          "Swansea City<br>Season 14/15<br>Rank: 8<br>GF: 46",
          "Tottenham<br>Season 14/15<br>Rank: 5<br>GF: 58",
          "West Bromwich<br>Season 14/15<br>Rank: 13<br>GF: 38",
          "West Ham Utd<br>Season 14/15<br>Rank: 12<br>GF: 44"
         ],
         "type": "scatter",
         "uid": "684615ba-d4cf-11e8-afae-acde48001122",
         "x": [
          71,
          31,
          28,
          73,
          47,
          48,
          33,
          46,
          52,
          83,
          62,
          40,
          42,
          54,
          48,
          31,
          46,
          58,
          38,
          44
         ],
         "y": [
          75,
          38,
          33,
          87,
          48,
          47,
          35,
          41,
          62,
          79,
          70,
          39,
          30,
          60,
          54,
          38,
          56,
          64,
          44,
          47
         ]
        },
        {
         "hoverinfo": "text",
         "marker": {
          "color": "red",
          "opacity": 0.5,
          "size": 9
         },
         "mode": "markers",
         "name": "Season 15/16 GA",
         "text": [
          "Arsenal<br>Season 15/16<br>Rank: 2<br>GA: 36",
          "Aston Villa<br>Season 15/16<br>Rank: 20<br>GA: 76",
          "Bournemouth<br>Season 15/16<br>Rank: 16<br>GA: 67",
          "Chelsea<br>Season 15/16<br>Rank: 10<br>GA: 53",
          "Crystal Palace<br>Season 15/16<br>Rank: 15<br>GA: 51",
          "Everton<br>Season 15/16<br>Rank: 11<br>GA: 55",
          "Leicester City<br>Season 15/16<br>Rank: 1<br>GA: 36",
          "Liverpool<br>Season 15/16<br>Rank: 8<br>GA: 50",
          "Manchester City<br>Season 15/16<br>Rank: 4<br>GA: 41",
          "Manchester Utd<br>Season 15/16<br>Rank: 5<br>GA: 35",
          "Newcastle Utd<br>Season 15/16<br>Rank: 18<br>GA: 65",
          "Norwich City<br>Season 15/16<br>Rank: 19<br>GA: 67",
          "Southampton<br>Season 15/16<br>Rank: 6<br>GA: 41",
          "Stoke City<br>Season 15/16<br>Rank: 9<br>GA: 55",
          "Sunderland<br>Season 15/16<br>Rank: 17<br>GA: 62",
          "Swansea City<br>Season 15/16<br>Rank: 12<br>GA: 52",
          "Tottenham<br>Season 15/16<br>Rank: 3<br>GA: 35",
          "Watford<br>Season 15/16<br>Rank: 13<br>GA: 50",
          "West Bromwich<br>Season 15/16<br>Rank: 14<br>GA: 48",
          "West Ham Utd<br>Season 15/16<br>Rank: 7<br>GA: 51"
         ],
         "type": "scatter",
         "uid": "684616b6-d4cf-11e8-bf69-acde48001122",
         "x": [
          36,
          76,
          67,
          53,
          51,
          55,
          36,
          50,
          41,
          35,
          65,
          67,
          41,
          55,
          62,
          52,
          35,
          50,
          48,
          51
         ],
         "y": [
          71,
          17,
          42,
          50,
          42,
          47,
          81,
          60,
          66,
          66,
          37,
          34,
          63,
          51,
          39,
          47,
          70,
          45,
          43,
          62
         ]
        },
        {
         "hoverinfo": "text",
         "marker": {
          "color": "blue",
          "opacity": 0.5,
          "size": 9
         },
         "mode": "markers",
         "name": "Season 15/16 GF",
         "text": [
          "Arsenal<br>Season 15/16<br>Rank: 2<br>GF: 65",
          "Aston Villa<br>Season 15/16<br>Rank: 20<br>GF: 27",
          "Bournemouth<br>Season 15/16<br>Rank: 16<br>GF: 45",
          "Chelsea<br>Season 15/16<br>Rank: 10<br>GF: 59",
          "Crystal Palace<br>Season 15/16<br>Rank: 15<br>GF: 39",
          "Everton<br>Season 15/16<br>Rank: 11<br>GF: 59",
          "Leicester City<br>Season 15/16<br>Rank: 1<br>GF: 68",
          "Liverpool<br>Season 15/16<br>Rank: 8<br>GF: 63",
          "Manchester City<br>Season 15/16<br>Rank: 4<br>GF: 71",
          "Manchester Utd<br>Season 15/16<br>Rank: 5<br>GF: 49",
          "Newcastle Utd<br>Season 15/16<br>Rank: 18<br>GF: 44",
          "Norwich City<br>Season 15/16<br>Rank: 19<br>GF: 39",
          "Southampton<br>Season 15/16<br>Rank: 6<br>GF: 59",
          "Stoke City<br>Season 15/16<br>Rank: 9<br>GF: 41",
          "Sunderland<br>Season 15/16<br>Rank: 17<br>GF: 48",
          "Swansea City<br>Season 15/16<br>Rank: 12<br>GF: 42",
          "Tottenham<br>Season 15/16<br>Rank: 3<br>GF: 69",
          "Watford<br>Season 15/16<br>Rank: 13<br>GF: 40",
          "West Bromwich<br>Season 15/16<br>Rank: 14<br>GF: 34",
          "West Ham Utd<br>Season 15/16<br>Rank: 7<br>GF: 65"
         ],
         "type": "scatter",
         "uid": "684617cc-d4cf-11e8-9d50-acde48001122",
         "x": [
          65,
          27,
          45,
          59,
          39,
          59,
          68,
          63,
          71,
          49,
          44,
          39,
          59,
          41,
          48,
          42,
          69,
          40,
          34,
          65
         ],
         "y": [
          71,
          17,
          42,
          50,
          42,
          47,
          81,
          60,
          66,
          66,
          37,
          34,
          63,
          51,
          39,
          47,
          70,
          45,
          43,
          62
         ]
        },
        {
         "hoverinfo": "text",
         "marker": {
          "color": "red",
          "opacity": 0.5,
          "size": 9
         },
         "mode": "markers",
         "name": "Season 16/17 GA",
         "text": [
          "Arsenal<br>Season 16/17<br>Rank: 5<br>GA: 44",
          "Bournemouth<br>Season 16/17<br>Rank: 9<br>GA: 67",
          "Burnley<br>Season 16/17<br>Rank: 16<br>GA: 55",
          "Chelsea<br>Season 16/17<br>Rank: 1<br>GA: 33",
          "Crystal Palace<br>Season 16/17<br>Rank: 14<br>GA: 63",
          "Everton<br>Season 16/17<br>Rank: 7<br>GA: 44",
          "Hull City<br>Season 16/17<br>Rank: 18<br>GA: 80",
          "Leicester City<br>Season 16/17<br>Rank: 12<br>GA: 63",
          "Liverpool<br>Season 16/17<br>Rank: 4<br>GA: 42",
          "Manchester City<br>Season 16/17<br>Rank: 3<br>GA: 39",
          "Manchester Utd<br>Season 16/17<br>Rank: 6<br>GA: 29",
          "Middlesbrough<br>Season 16/17<br>Rank: 19<br>GA: 53",
          "Southampton<br>Season 16/17<br>Rank: 8<br>GA: 48",
          "Stoke City<br>Season 16/17<br>Rank: 13<br>GA: 56",
          "Sunderland<br>Season 16/17<br>Rank: 20<br>GA: 69",
          "Swansea City<br>Season 16/17<br>Rank: 15<br>GA: 70",
          "Tottenham<br>Season 16/17<br>Rank: 2<br>GA: 26",
          "Watford<br>Season 16/17<br>Rank: 17<br>GA: 68",
          "West Bromwich<br>Season 16/17<br>Rank: 10<br>GA: 51",
          "West Ham Utd<br>Season 16/17<br>Rank: 11<br>GA: 64"
         ],
         "type": "scatter",
         "uid": "684618d2-d4cf-11e8-b147-acde48001122",
         "x": [
          44,
          67,
          55,
          33,
          63,
          44,
          80,
          63,
          42,
          39,
          29,
          53,
          48,
          56,
          69,
          70,
          26,
          68,
          51,
          64
         ],
         "y": [
          75,
          46,
          40,
          93,
          41,
          61,
          34,
          44,
          76,
          78,
          69,
          28,
          46,
          44,
          24,
          41,
          86,
          40,
          45,
          45
         ]
        },
        {
         "hoverinfo": "text",
         "marker": {
          "color": "blue",
          "opacity": 0.5,
          "size": 9
         },
         "mode": "markers",
         "name": "Season 16/17 GF",
         "text": [
          "Arsenal<br>Season 16/17<br>Rank: 5<br>GF: 77",
          "Bournemouth<br>Season 16/17<br>Rank: 9<br>GF: 55",
          "Burnley<br>Season 16/17<br>Rank: 16<br>GF: 39",
          "Chelsea<br>Season 16/17<br>Rank: 1<br>GF: 85",
          "Crystal Palace<br>Season 16/17<br>Rank: 14<br>GF: 50",
          "Everton<br>Season 16/17<br>Rank: 7<br>GF: 62",
          "Hull City<br>Season 16/17<br>Rank: 18<br>GF: 37",
          "Leicester City<br>Season 16/17<br>Rank: 12<br>GF: 48",
          "Liverpool<br>Season 16/17<br>Rank: 4<br>GF: 78",
          "Manchester City<br>Season 16/17<br>Rank: 3<br>GF: 80",
          "Manchester Utd<br>Season 16/17<br>Rank: 6<br>GF: 54",
          "Middlesbrough<br>Season 16/17<br>Rank: 19<br>GF: 27",
          "Southampton<br>Season 16/17<br>Rank: 8<br>GF: 41",
          "Stoke City<br>Season 16/17<br>Rank: 13<br>GF: 41",
          "Sunderland<br>Season 16/17<br>Rank: 20<br>GF: 29",
          "Swansea City<br>Season 16/17<br>Rank: 15<br>GF: 45",
          "Tottenham<br>Season 16/17<br>Rank: 2<br>GF: 86",
          "Watford<br>Season 16/17<br>Rank: 17<br>GF: 40",
          "West Bromwich<br>Season 16/17<br>Rank: 10<br>GF: 43",
          "West Ham Utd<br>Season 16/17<br>Rank: 11<br>GF: 47"
         ],
         "type": "scatter",
         "uid": "684619d8-d4cf-11e8-a552-acde48001122",
         "x": [
          77,
          55,
          39,
          85,
          50,
          62,
          37,
          48,
          78,
          80,
          54,
          27,
          41,
          41,
          29,
          45,
          86,
          40,
          43,
          47
         ],
         "y": [
          75,
          46,
          40,
          93,
          41,
          61,
          34,
          44,
          76,
          78,
          69,
          28,
          46,
          44,
          24,
          41,
          86,
          40,
          45,
          45
         ]
        },
        {
         "hoverinfo": "text",
         "marker": {
          "color": "red",
          "opacity": 0.5,
          "size": 9
         },
         "mode": "markers",
         "name": "Season 17/18 GA",
         "text": [
          "Arsenal<br>Season 17/18<br>Rank: 6<br>GA: 51",
          "Bournemouth<br>Season 17/18<br>Rank: 12<br>GA: 61",
          "Brighton & Hove<br>Season 17/18<br>Rank: 15<br>GA: 54",
          "Burnley<br>Season 17/18<br>Rank: 7<br>GA: 39",
          "Chelsea<br>Season 17/18<br>Rank: 5<br>GA: 38",
          "Crystal Palace<br>Season 17/18<br>Rank: 11<br>GA: 55",
          "Everton<br>Season 17/18<br>Rank: 8<br>GA: 58",
          "Huddersfield<br>Season 17/18<br>Rank: 16<br>GA: 58",
          "Leicester City<br>Season 17/18<br>Rank: 9<br>GA: 60",
          "Liverpool<br>Season 17/18<br>Rank: 4<br>GA: 38",
          "Manchester City<br>Season 17/18<br>Rank: 1<br>GA: 27",
          "Manchester Utd<br>Season 17/18<br>Rank: 2<br>GA: 28",
          "Newcastle Utd<br>Season 17/18<br>Rank: 10<br>GA: 47",
          "Southampton<br>Season 17/18<br>Rank: 17<br>GA: 56",
          "Stoke City<br>Season 17/18<br>Rank: 19<br>GA: 68",
          "Swansea City<br>Season 17/18<br>Rank: 18<br>GA: 56",
          "Tottenham<br>Season 17/18<br>Rank: 3<br>GA: 36",
          "Watford<br>Season 17/18<br>Rank: 14<br>GA: 64",
          "West Bromwich<br>Season 17/18<br>Rank: 20<br>GA: 56",
          "West Ham Utd<br>Season 17/18<br>Rank: 13<br>GA: 68"
         ],
         "type": "scatter",
         "uid": "68461af8-d4cf-11e8-856b-acde48001122",
         "x": [
          51,
          61,
          54,
          39,
          38,
          55,
          58,
          58,
          60,
          38,
          27,
          28,
          47,
          56,
          68,
          56,
          36,
          64,
          56,
          68
         ],
         "y": [
          63,
          44,
          40,
          54,
          70,
          44,
          49,
          37,
          47,
          75,
          100,
          81,
          44,
          36,
          33,
          33,
          77,
          41,
          31,
          42
         ]
        },
        {
         "hoverinfo": "text",
         "marker": {
          "color": "blue",
          "opacity": 0.5,
          "size": 9
         },
         "mode": "markers",
         "name": "Season 17/18 GF",
         "text": [
          "Arsenal<br>Season 17/18<br>Rank: 6<br>GF: 74",
          "Bournemouth<br>Season 17/18<br>Rank: 12<br>GF: 45",
          "Brighton & Hove<br>Season 17/18<br>Rank: 15<br>GF: 34",
          "Burnley<br>Season 17/18<br>Rank: 7<br>GF: 36",
          "Chelsea<br>Season 17/18<br>Rank: 5<br>GF: 62",
          "Crystal Palace<br>Season 17/18<br>Rank: 11<br>GF: 45",
          "Everton<br>Season 17/18<br>Rank: 8<br>GF: 44",
          "Huddersfield<br>Season 17/18<br>Rank: 16<br>GF: 28",
          "Leicester City<br>Season 17/18<br>Rank: 9<br>GF: 56",
          "Liverpool<br>Season 17/18<br>Rank: 4<br>GF: 84",
          "Manchester City<br>Season 17/18<br>Rank: 1<br>GF: 106",
          "Manchester Utd<br>Season 17/18<br>Rank: 2<br>GF: 68",
          "Newcastle Utd<br>Season 17/18<br>Rank: 10<br>GF: 39",
          "Southampton<br>Season 17/18<br>Rank: 17<br>GF: 37",
          "Stoke City<br>Season 17/18<br>Rank: 19<br>GF: 35",
          "Swansea City<br>Season 17/18<br>Rank: 18<br>GF: 28",
          "Tottenham<br>Season 17/18<br>Rank: 3<br>GF: 74",
          "Watford<br>Season 17/18<br>Rank: 14<br>GF: 44",
          "West Bromwich<br>Season 17/18<br>Rank: 20<br>GF: 31",
          "West Ham Utd<br>Season 17/18<br>Rank: 13<br>GF: 48"
         ],
         "type": "scatter",
         "uid": "68461c06-d4cf-11e8-8b54-acde48001122",
         "x": [
          74,
          45,
          34,
          36,
          62,
          45,
          44,
          28,
          56,
          84,
          106,
          68,
          39,
          37,
          35,
          28,
          74,
          44,
          31,
          48
         ],
         "y": [
          63,
          44,
          40,
          54,
          70,
          44,
          49,
          37,
          47,
          75,
          100,
          81,
          44,
          36,
          33,
          33,
          77,
          41,
          31,
          42
         ]
        }
       ],
       "layout": {
        "hovermode": "closest",
        "title": "GF/GA vs PTS",
        "updatemenus": [
         {
          "buttons": [
           {
            "args": [
             {
              "visible": [
               1
              ]
             }
            ],
            "label": "All Seasons",
            "method": "update"
           },
           {
            "args": [
             {
              "visible": [
               true,
               true,
               false,
               false,
               false,
               false,
               false,
               false,
               false,
               false,
               false,
               false
              ]
             }
            ],
            "label": "Season 12/13",
            "method": "update"
           },
           {
            "args": [
             {
              "visible": [
               false,
               false,
               true,
               true,
               false,
               false,
               false,
               false,
               false,
               false,
               false,
               false
              ]
             }
            ],
            "label": "Season 13/14",
            "method": "update"
           },
           {
            "args": [
             {
              "visible": [
               false,
               false,
               false,
               false,
               true,
               true,
               false,
               false,
               false,
               false,
               false,
               false
              ]
             }
            ],
            "label": "Season 14/15",
            "method": "update"
           },
           {
            "args": [
             {
              "visible": [
               false,
               false,
               false,
               false,
               false,
               false,
               true,
               true,
               false,
               false,
               false,
               false
              ]
             }
            ],
            "label": "Season 15/16",
            "method": "update"
           },
           {
            "args": [
             {
              "visible": [
               false,
               false,
               false,
               false,
               false,
               false,
               false,
               false,
               true,
               true,
               false,
               false
              ]
             }
            ],
            "label": "Season 16/17",
            "method": "update"
           },
           {
            "args": [
             {
              "visible": [
               false,
               false,
               false,
               false,
               false,
               false,
               false,
               false,
               false,
               false,
               true,
               true
              ]
             }
            ],
            "label": "Season 17/18",
            "method": "update"
           }
          ],
          "direction": "down",
          "x": 0.01,
          "xanchor": "left",
          "y": 1.05,
          "yanchor": "bottom"
         }
        ],
        "xaxis": {
         "range": [
          20,
          110
         ],
         "title": "GF/GA"
        },
        "yaxis": {
         "range": [
          20,
          105
         ],
         "title": "PTS"
        }
       }
      },
      "text/html": [
       "<div id=\"24264d89-2159-47e0-a4a6-88a35cbdcae5\" style=\"height: 525px; width: 100%;\" class=\"plotly-graph-div\"></div><script type=\"text/javascript\">require([\"plotly\"], function(Plotly) { window.PLOTLYENV=window.PLOTLYENV || {};window.PLOTLYENV.BASE_URL=\"https://plot.ly\";Plotly.newPlot(\"24264d89-2159-47e0-a4a6-88a35cbdcae5\", [{\"hoverinfo\": \"text\", \"marker\": {\"color\": \"red\", \"opacity\": 0.5, \"size\": 9}, \"mode\": \"markers\", \"name\": \"Season 12/13 GA\", \"text\": [\"Arsenal<br>Season 12/13<br>Rank: 4<br>GA: 37\", \"Aston Villa<br>Season 12/13<br>Rank: 15<br>GA: 69\", \"Chelsea<br>Season 12/13<br>Rank: 3<br>GA: 39\", \"Everton<br>Season 12/13<br>Rank: 6<br>GA: 40\", \"Fulham<br>Season 12/13<br>Rank: 12<br>GA: 60\", \"Liverpool<br>Season 12/13<br>Rank: 7<br>GA: 43\", \"Manchester City<br>Season 12/13<br>Rank: 2<br>GA: 34\", \"Manchester Utd<br>Season 12/13<br>Rank: 1<br>GA: 43\", \"Newcastle Utd<br>Season 12/13<br>Rank: 16<br>GA: 68\", \"Norwich City<br>Season 12/13<br>Rank: 11<br>GA: 58\", \"QP Rangers<br>Season 12/13<br>Rank: 20<br>GA: 60\", \"Reading<br>Season 12/13<br>Rank: 19<br>GA: 73\", \"Southampton<br>Season 12/13<br>Rank: 14<br>GA: 60\", \"Stoke City<br>Season 12/13<br>Rank: 13<br>GA: 45\", \"Sunderland<br>Season 12/13<br>Rank: 17<br>GA: 54\", \"Swansea City<br>Season 12/13<br>Rank: 9<br>GA: 51\", \"Tottenham<br>Season 12/13<br>Rank: 5<br>GA: 46\", \"West Bromwich<br>Season 12/13<br>Rank: 8<br>GA: 57\", \"West Ham Utd<br>Season 12/13<br>Rank: 10<br>GA: 53\", \"Wigan<br>Season 12/13<br>Rank: 18<br>GA: 73\"], \"x\": [37, 69, 39, 40, 60, 43, 34, 43, 68, 58, 60, 73, 60, 45, 54, 51, 46, 57, 53, 73], \"y\": [73, 41, 75, 63, 43, 61, 78, 89, 41, 44, 25, 28, 41, 42, 39, 46, 72, 49, 46, 36], \"type\": \"scatter\", \"uid\": \"68443800-d4cf-11e8-a31a-acde48001122\"}, {\"hoverinfo\": \"text\", \"marker\": {\"color\": \"blue\", \"opacity\": 0.5, \"size\": 9}, \"mode\": \"markers\", \"name\": \"Season 12/13 GF\", \"text\": [\"Arsenal<br>Season 12/13<br>Rank: 4<br>GF: 72\", \"Aston Villa<br>Season 12/13<br>Rank: 15<br>GF: 47\", \"Chelsea<br>Season 12/13<br>Rank: 3<br>GF: 75\", \"Everton<br>Season 12/13<br>Rank: 6<br>GF: 55\", \"Fulham<br>Season 12/13<br>Rank: 12<br>GF: 50\", \"Liverpool<br>Season 12/13<br>Rank: 7<br>GF: 71\", \"Manchester City<br>Season 12/13<br>Rank: 2<br>GF: 66\", \"Manchester Utd<br>Season 12/13<br>Rank: 1<br>GF: 86\", \"Newcastle Utd<br>Season 12/13<br>Rank: 16<br>GF: 45\", \"Norwich City<br>Season 12/13<br>Rank: 11<br>GF: 41\", \"QP Rangers<br>Season 12/13<br>Rank: 20<br>GF: 30\", \"Reading<br>Season 12/13<br>Rank: 19<br>GF: 43\", \"Southampton<br>Season 12/13<br>Rank: 14<br>GF: 49\", \"Stoke City<br>Season 12/13<br>Rank: 13<br>GF: 34\", \"Sunderland<br>Season 12/13<br>Rank: 17<br>GF: 41\", \"Swansea City<br>Season 12/13<br>Rank: 9<br>GF: 47\", \"Tottenham<br>Season 12/13<br>Rank: 5<br>GF: 66\", \"West Bromwich<br>Season 12/13<br>Rank: 8<br>GF: 53\", \"West Ham Utd<br>Season 12/13<br>Rank: 10<br>GF: 45\", \"Wigan<br>Season 12/13<br>Rank: 18<br>GF: 47\"], \"x\": [72, 47, 75, 55, 50, 71, 66, 86, 45, 41, 30, 43, 49, 34, 41, 47, 66, 53, 45, 47], \"y\": [73, 41, 75, 63, 43, 61, 78, 89, 41, 44, 25, 28, 41, 42, 39, 46, 72, 49, 46, 36], \"type\": \"scatter\", \"uid\": \"68461080-d4cf-11e8-9b6b-acde48001122\"}, {\"hoverinfo\": \"text\", \"marker\": {\"color\": \"red\", \"opacity\": 0.5, \"size\": 9}, \"mode\": \"markers\", \"name\": \"Season 13/14 GA\", \"text\": [\"Arsenal<br>Season 13/14<br>Rank: 4<br>GA: 41\", \"Aston Villa<br>Season 13/14<br>Rank: 15<br>GA: 61\", \"Cardiff City<br>Season 13/14<br>Rank: 20<br>GA: 74\", \"Chelsea<br>Season 13/14<br>Rank: 3<br>GA: 27\", \"Crystal Palace<br>Season 13/14<br>Rank: 11<br>GA: 48\", \"Everton<br>Season 13/14<br>Rank: 5<br>GA: 39\", \"Fulham<br>Season 13/14<br>Rank: 19<br>GA: 85\", \"Hull City<br>Season 13/14<br>Rank: 16<br>GA: 53\", \"Liverpool<br>Season 13/14<br>Rank: 2<br>GA: 50\", \"Manchester City<br>Season 13/14<br>Rank: 1<br>GA: 37\", \"Manchester Utd<br>Season 13/14<br>Rank: 7<br>GA: 43\", \"Newcastle Utd<br>Season 13/14<br>Rank: 10<br>GA: 59\", \"Norwich City<br>Season 13/14<br>Rank: 18<br>GA: 62\", \"Southampton<br>Season 13/14<br>Rank: 8<br>GA: 46\", \"Stoke City<br>Season 13/14<br>Rank: 9<br>GA: 52\", \"Sunderland<br>Season 13/14<br>Rank: 14<br>GA: 60\", \"Swansea City<br>Season 13/14<br>Rank: 12<br>GA: 54\", \"Tottenham<br>Season 13/14<br>Rank: 6<br>GA: 51\", \"West Bromwich<br>Season 13/14<br>Rank: 17<br>GA: 59\", \"West Ham Utd<br>Season 13/14<br>Rank: 13<br>GA: 51\"], \"x\": [41, 61, 74, 27, 48, 39, 85, 53, 50, 37, 43, 59, 62, 46, 52, 60, 54, 51, 59, 51], \"y\": [79, 38, 30, 82, 45, 72, 32, 37, 84, 86, 64, 49, 33, 56, 50, 38, 42, 69, 36, 40], \"type\": \"scatter\", \"uid\": \"68461262-d4cf-11e8-8a52-acde48001122\"}, {\"hoverinfo\": \"text\", \"marker\": {\"color\": \"blue\", \"opacity\": 0.5, \"size\": 9}, \"mode\": \"markers\", \"name\": \"Season 13/14 GF\", \"text\": [\"Arsenal<br>Season 13/14<br>Rank: 4<br>GF: 68\", \"Aston Villa<br>Season 13/14<br>Rank: 15<br>GF: 39\", \"Cardiff City<br>Season 13/14<br>Rank: 20<br>GF: 32\", \"Chelsea<br>Season 13/14<br>Rank: 3<br>GF: 71\", \"Crystal Palace<br>Season 13/14<br>Rank: 11<br>GF: 33\", \"Everton<br>Season 13/14<br>Rank: 5<br>GF: 61\", \"Fulham<br>Season 13/14<br>Rank: 19<br>GF: 40\", \"Hull City<br>Season 13/14<br>Rank: 16<br>GF: 38\", \"Liverpool<br>Season 13/14<br>Rank: 2<br>GF: 101\", \"Manchester City<br>Season 13/14<br>Rank: 1<br>GF: 102\", \"Manchester Utd<br>Season 13/14<br>Rank: 7<br>GF: 64\", \"Newcastle Utd<br>Season 13/14<br>Rank: 10<br>GF: 43\", \"Norwich City<br>Season 13/14<br>Rank: 18<br>GF: 28\", \"Southampton<br>Season 13/14<br>Rank: 8<br>GF: 54\", \"Stoke City<br>Season 13/14<br>Rank: 9<br>GF: 45\", \"Sunderland<br>Season 13/14<br>Rank: 14<br>GF: 41\", \"Swansea City<br>Season 13/14<br>Rank: 12<br>GF: 54\", \"Tottenham<br>Season 13/14<br>Rank: 6<br>GF: 55\", \"West Bromwich<br>Season 13/14<br>Rank: 17<br>GF: 43\", \"West Ham Utd<br>Season 13/14<br>Rank: 13<br>GF: 40\"], \"x\": [68, 39, 32, 71, 33, 61, 40, 38, 101, 102, 64, 43, 28, 54, 45, 41, 54, 55, 43, 40], \"y\": [79, 38, 30, 82, 45, 72, 32, 37, 84, 86, 64, 49, 33, 56, 50, 38, 42, 69, 36, 40], \"type\": \"scatter\", \"uid\": \"6846138c-d4cf-11e8-b8c3-acde48001122\"}, {\"hoverinfo\": \"text\", \"marker\": {\"color\": \"red\", \"opacity\": 0.5, \"size\": 9}, \"mode\": \"markers\", \"name\": \"Season 14/15 GA\", \"text\": [\"Arsenal<br>Season 14/15<br>Rank: 3<br>GA: 36\", \"Aston Villa<br>Season 14/15<br>Rank: 17<br>GA: 57\", \"Burnley<br>Season 14/15<br>Rank: 19<br>GA: 53\", \"Chelsea<br>Season 14/15<br>Rank: 1<br>GA: 32\", \"Crystal Palace<br>Season 14/15<br>Rank: 10<br>GA: 51\", \"Everton<br>Season 14/15<br>Rank: 11<br>GA: 50\", \"Hull City<br>Season 14/15<br>Rank: 18<br>GA: 51\", \"Leicester City<br>Season 14/15<br>Rank: 14<br>GA: 55\", \"Liverpool<br>Season 14/15<br>Rank: 6<br>GA: 48\", \"Manchester City<br>Season 14/15<br>Rank: 2<br>GA: 38\", \"Manchester Utd<br>Season 14/15<br>Rank: 4<br>GA: 37\", \"Newcastle Utd<br>Season 14/15<br>Rank: 15<br>GA: 63\", \"QP Rangers<br>Season 14/15<br>Rank: 20<br>GA: 73\", \"Southampton<br>Season 14/15<br>Rank: 7<br>GA: 33\", \"Stoke City<br>Season 14/15<br>Rank: 9<br>GA: 45\", \"Sunderland<br>Season 14/15<br>Rank: 16<br>GA: 53\", \"Swansea City<br>Season 14/15<br>Rank: 8<br>GA: 49\", \"Tottenham<br>Season 14/15<br>Rank: 5<br>GA: 53\", \"West Bromwich<br>Season 14/15<br>Rank: 13<br>GA: 51\", \"West Ham Utd<br>Season 14/15<br>Rank: 12<br>GA: 47\"], \"x\": [36, 57, 53, 32, 51, 50, 51, 55, 48, 38, 37, 63, 73, 33, 45, 53, 49, 53, 51, 47], \"y\": [75, 38, 33, 87, 48, 47, 35, 41, 62, 79, 70, 39, 30, 60, 54, 38, 56, 64, 44, 47], \"type\": \"scatter\", \"uid\": \"68461486-d4cf-11e8-aeda-acde48001122\"}, {\"hoverinfo\": \"text\", \"marker\": {\"color\": \"blue\", \"opacity\": 0.5, \"size\": 9}, \"mode\": \"markers\", \"name\": \"Season 14/15 GF\", \"text\": [\"Arsenal<br>Season 14/15<br>Rank: 3<br>GF: 71\", \"Aston Villa<br>Season 14/15<br>Rank: 17<br>GF: 31\", \"Burnley<br>Season 14/15<br>Rank: 19<br>GF: 28\", \"Chelsea<br>Season 14/15<br>Rank: 1<br>GF: 73\", \"Crystal Palace<br>Season 14/15<br>Rank: 10<br>GF: 47\", \"Everton<br>Season 14/15<br>Rank: 11<br>GF: 48\", \"Hull City<br>Season 14/15<br>Rank: 18<br>GF: 33\", \"Leicester City<br>Season 14/15<br>Rank: 14<br>GF: 46\", \"Liverpool<br>Season 14/15<br>Rank: 6<br>GF: 52\", \"Manchester City<br>Season 14/15<br>Rank: 2<br>GF: 83\", \"Manchester Utd<br>Season 14/15<br>Rank: 4<br>GF: 62\", \"Newcastle Utd<br>Season 14/15<br>Rank: 15<br>GF: 40\", \"QP Rangers<br>Season 14/15<br>Rank: 20<br>GF: 42\", \"Southampton<br>Season 14/15<br>Rank: 7<br>GF: 54\", \"Stoke City<br>Season 14/15<br>Rank: 9<br>GF: 48\", \"Sunderland<br>Season 14/15<br>Rank: 16<br>GF: 31\", \"Swansea City<br>Season 14/15<br>Rank: 8<br>GF: 46\", \"Tottenham<br>Season 14/15<br>Rank: 5<br>GF: 58\", \"West Bromwich<br>Season 14/15<br>Rank: 13<br>GF: 38\", \"West Ham Utd<br>Season 14/15<br>Rank: 12<br>GF: 44\"], \"x\": [71, 31, 28, 73, 47, 48, 33, 46, 52, 83, 62, 40, 42, 54, 48, 31, 46, 58, 38, 44], \"y\": [75, 38, 33, 87, 48, 47, 35, 41, 62, 79, 70, 39, 30, 60, 54, 38, 56, 64, 44, 47], \"type\": \"scatter\", \"uid\": \"684615ba-d4cf-11e8-afae-acde48001122\"}, {\"hoverinfo\": \"text\", \"marker\": {\"color\": \"red\", \"opacity\": 0.5, \"size\": 9}, \"mode\": \"markers\", \"name\": \"Season 15/16 GA\", \"text\": [\"Arsenal<br>Season 15/16<br>Rank: 2<br>GA: 36\", \"Aston Villa<br>Season 15/16<br>Rank: 20<br>GA: 76\", \"Bournemouth<br>Season 15/16<br>Rank: 16<br>GA: 67\", \"Chelsea<br>Season 15/16<br>Rank: 10<br>GA: 53\", \"Crystal Palace<br>Season 15/16<br>Rank: 15<br>GA: 51\", \"Everton<br>Season 15/16<br>Rank: 11<br>GA: 55\", \"Leicester City<br>Season 15/16<br>Rank: 1<br>GA: 36\", \"Liverpool<br>Season 15/16<br>Rank: 8<br>GA: 50\", \"Manchester City<br>Season 15/16<br>Rank: 4<br>GA: 41\", \"Manchester Utd<br>Season 15/16<br>Rank: 5<br>GA: 35\", \"Newcastle Utd<br>Season 15/16<br>Rank: 18<br>GA: 65\", \"Norwich City<br>Season 15/16<br>Rank: 19<br>GA: 67\", \"Southampton<br>Season 15/16<br>Rank: 6<br>GA: 41\", \"Stoke City<br>Season 15/16<br>Rank: 9<br>GA: 55\", \"Sunderland<br>Season 15/16<br>Rank: 17<br>GA: 62\", \"Swansea City<br>Season 15/16<br>Rank: 12<br>GA: 52\", \"Tottenham<br>Season 15/16<br>Rank: 3<br>GA: 35\", \"Watford<br>Season 15/16<br>Rank: 13<br>GA: 50\", \"West Bromwich<br>Season 15/16<br>Rank: 14<br>GA: 48\", \"West Ham Utd<br>Season 15/16<br>Rank: 7<br>GA: 51\"], \"x\": [36, 76, 67, 53, 51, 55, 36, 50, 41, 35, 65, 67, 41, 55, 62, 52, 35, 50, 48, 51], \"y\": [71, 17, 42, 50, 42, 47, 81, 60, 66, 66, 37, 34, 63, 51, 39, 47, 70, 45, 43, 62], \"type\": \"scatter\", \"uid\": \"684616b6-d4cf-11e8-bf69-acde48001122\"}, {\"hoverinfo\": \"text\", \"marker\": {\"color\": \"blue\", \"opacity\": 0.5, \"size\": 9}, \"mode\": \"markers\", \"name\": \"Season 15/16 GF\", \"text\": [\"Arsenal<br>Season 15/16<br>Rank: 2<br>GF: 65\", \"Aston Villa<br>Season 15/16<br>Rank: 20<br>GF: 27\", \"Bournemouth<br>Season 15/16<br>Rank: 16<br>GF: 45\", \"Chelsea<br>Season 15/16<br>Rank: 10<br>GF: 59\", \"Crystal Palace<br>Season 15/16<br>Rank: 15<br>GF: 39\", \"Everton<br>Season 15/16<br>Rank: 11<br>GF: 59\", \"Leicester City<br>Season 15/16<br>Rank: 1<br>GF: 68\", \"Liverpool<br>Season 15/16<br>Rank: 8<br>GF: 63\", \"Manchester City<br>Season 15/16<br>Rank: 4<br>GF: 71\", \"Manchester Utd<br>Season 15/16<br>Rank: 5<br>GF: 49\", \"Newcastle Utd<br>Season 15/16<br>Rank: 18<br>GF: 44\", \"Norwich City<br>Season 15/16<br>Rank: 19<br>GF: 39\", \"Southampton<br>Season 15/16<br>Rank: 6<br>GF: 59\", \"Stoke City<br>Season 15/16<br>Rank: 9<br>GF: 41\", \"Sunderland<br>Season 15/16<br>Rank: 17<br>GF: 48\", \"Swansea City<br>Season 15/16<br>Rank: 12<br>GF: 42\", \"Tottenham<br>Season 15/16<br>Rank: 3<br>GF: 69\", \"Watford<br>Season 15/16<br>Rank: 13<br>GF: 40\", \"West Bromwich<br>Season 15/16<br>Rank: 14<br>GF: 34\", \"West Ham Utd<br>Season 15/16<br>Rank: 7<br>GF: 65\"], \"x\": [65, 27, 45, 59, 39, 59, 68, 63, 71, 49, 44, 39, 59, 41, 48, 42, 69, 40, 34, 65], \"y\": [71, 17, 42, 50, 42, 47, 81, 60, 66, 66, 37, 34, 63, 51, 39, 47, 70, 45, 43, 62], \"type\": \"scatter\", \"uid\": \"684617cc-d4cf-11e8-9d50-acde48001122\"}, {\"hoverinfo\": \"text\", \"marker\": {\"color\": \"red\", \"opacity\": 0.5, \"size\": 9}, \"mode\": \"markers\", \"name\": \"Season 16/17 GA\", \"text\": [\"Arsenal<br>Season 16/17<br>Rank: 5<br>GA: 44\", \"Bournemouth<br>Season 16/17<br>Rank: 9<br>GA: 67\", \"Burnley<br>Season 16/17<br>Rank: 16<br>GA: 55\", \"Chelsea<br>Season 16/17<br>Rank: 1<br>GA: 33\", \"Crystal Palace<br>Season 16/17<br>Rank: 14<br>GA: 63\", \"Everton<br>Season 16/17<br>Rank: 7<br>GA: 44\", \"Hull City<br>Season 16/17<br>Rank: 18<br>GA: 80\", \"Leicester City<br>Season 16/17<br>Rank: 12<br>GA: 63\", \"Liverpool<br>Season 16/17<br>Rank: 4<br>GA: 42\", \"Manchester City<br>Season 16/17<br>Rank: 3<br>GA: 39\", \"Manchester Utd<br>Season 16/17<br>Rank: 6<br>GA: 29\", \"Middlesbrough<br>Season 16/17<br>Rank: 19<br>GA: 53\", \"Southampton<br>Season 16/17<br>Rank: 8<br>GA: 48\", \"Stoke City<br>Season 16/17<br>Rank: 13<br>GA: 56\", \"Sunderland<br>Season 16/17<br>Rank: 20<br>GA: 69\", \"Swansea City<br>Season 16/17<br>Rank: 15<br>GA: 70\", \"Tottenham<br>Season 16/17<br>Rank: 2<br>GA: 26\", \"Watford<br>Season 16/17<br>Rank: 17<br>GA: 68\", \"West Bromwich<br>Season 16/17<br>Rank: 10<br>GA: 51\", \"West Ham Utd<br>Season 16/17<br>Rank: 11<br>GA: 64\"], \"x\": [44, 67, 55, 33, 63, 44, 80, 63, 42, 39, 29, 53, 48, 56, 69, 70, 26, 68, 51, 64], \"y\": [75, 46, 40, 93, 41, 61, 34, 44, 76, 78, 69, 28, 46, 44, 24, 41, 86, 40, 45, 45], \"type\": \"scatter\", \"uid\": \"684618d2-d4cf-11e8-b147-acde48001122\"}, {\"hoverinfo\": \"text\", \"marker\": {\"color\": \"blue\", \"opacity\": 0.5, \"size\": 9}, \"mode\": \"markers\", \"name\": \"Season 16/17 GF\", \"text\": [\"Arsenal<br>Season 16/17<br>Rank: 5<br>GF: 77\", \"Bournemouth<br>Season 16/17<br>Rank: 9<br>GF: 55\", \"Burnley<br>Season 16/17<br>Rank: 16<br>GF: 39\", \"Chelsea<br>Season 16/17<br>Rank: 1<br>GF: 85\", \"Crystal Palace<br>Season 16/17<br>Rank: 14<br>GF: 50\", \"Everton<br>Season 16/17<br>Rank: 7<br>GF: 62\", \"Hull City<br>Season 16/17<br>Rank: 18<br>GF: 37\", \"Leicester City<br>Season 16/17<br>Rank: 12<br>GF: 48\", \"Liverpool<br>Season 16/17<br>Rank: 4<br>GF: 78\", \"Manchester City<br>Season 16/17<br>Rank: 3<br>GF: 80\", \"Manchester Utd<br>Season 16/17<br>Rank: 6<br>GF: 54\", \"Middlesbrough<br>Season 16/17<br>Rank: 19<br>GF: 27\", \"Southampton<br>Season 16/17<br>Rank: 8<br>GF: 41\", \"Stoke City<br>Season 16/17<br>Rank: 13<br>GF: 41\", \"Sunderland<br>Season 16/17<br>Rank: 20<br>GF: 29\", \"Swansea City<br>Season 16/17<br>Rank: 15<br>GF: 45\", \"Tottenham<br>Season 16/17<br>Rank: 2<br>GF: 86\", \"Watford<br>Season 16/17<br>Rank: 17<br>GF: 40\", \"West Bromwich<br>Season 16/17<br>Rank: 10<br>GF: 43\", \"West Ham Utd<br>Season 16/17<br>Rank: 11<br>GF: 47\"], \"x\": [77, 55, 39, 85, 50, 62, 37, 48, 78, 80, 54, 27, 41, 41, 29, 45, 86, 40, 43, 47], \"y\": [75, 46, 40, 93, 41, 61, 34, 44, 76, 78, 69, 28, 46, 44, 24, 41, 86, 40, 45, 45], \"type\": \"scatter\", \"uid\": \"684619d8-d4cf-11e8-a552-acde48001122\"}, {\"hoverinfo\": \"text\", \"marker\": {\"color\": \"red\", \"opacity\": 0.5, \"size\": 9}, \"mode\": \"markers\", \"name\": \"Season 17/18 GA\", \"text\": [\"Arsenal<br>Season 17/18<br>Rank: 6<br>GA: 51\", \"Bournemouth<br>Season 17/18<br>Rank: 12<br>GA: 61\", \"Brighton & Hove<br>Season 17/18<br>Rank: 15<br>GA: 54\", \"Burnley<br>Season 17/18<br>Rank: 7<br>GA: 39\", \"Chelsea<br>Season 17/18<br>Rank: 5<br>GA: 38\", \"Crystal Palace<br>Season 17/18<br>Rank: 11<br>GA: 55\", \"Everton<br>Season 17/18<br>Rank: 8<br>GA: 58\", \"Huddersfield<br>Season 17/18<br>Rank: 16<br>GA: 58\", \"Leicester City<br>Season 17/18<br>Rank: 9<br>GA: 60\", \"Liverpool<br>Season 17/18<br>Rank: 4<br>GA: 38\", \"Manchester City<br>Season 17/18<br>Rank: 1<br>GA: 27\", \"Manchester Utd<br>Season 17/18<br>Rank: 2<br>GA: 28\", \"Newcastle Utd<br>Season 17/18<br>Rank: 10<br>GA: 47\", \"Southampton<br>Season 17/18<br>Rank: 17<br>GA: 56\", \"Stoke City<br>Season 17/18<br>Rank: 19<br>GA: 68\", \"Swansea City<br>Season 17/18<br>Rank: 18<br>GA: 56\", \"Tottenham<br>Season 17/18<br>Rank: 3<br>GA: 36\", \"Watford<br>Season 17/18<br>Rank: 14<br>GA: 64\", \"West Bromwich<br>Season 17/18<br>Rank: 20<br>GA: 56\", \"West Ham Utd<br>Season 17/18<br>Rank: 13<br>GA: 68\"], \"x\": [51, 61, 54, 39, 38, 55, 58, 58, 60, 38, 27, 28, 47, 56, 68, 56, 36, 64, 56, 68], \"y\": [63, 44, 40, 54, 70, 44, 49, 37, 47, 75, 100, 81, 44, 36, 33, 33, 77, 41, 31, 42], \"type\": \"scatter\", \"uid\": \"68461af8-d4cf-11e8-856b-acde48001122\"}, {\"hoverinfo\": \"text\", \"marker\": {\"color\": \"blue\", \"opacity\": 0.5, \"size\": 9}, \"mode\": \"markers\", \"name\": \"Season 17/18 GF\", \"text\": [\"Arsenal<br>Season 17/18<br>Rank: 6<br>GF: 74\", \"Bournemouth<br>Season 17/18<br>Rank: 12<br>GF: 45\", \"Brighton & Hove<br>Season 17/18<br>Rank: 15<br>GF: 34\", \"Burnley<br>Season 17/18<br>Rank: 7<br>GF: 36\", \"Chelsea<br>Season 17/18<br>Rank: 5<br>GF: 62\", \"Crystal Palace<br>Season 17/18<br>Rank: 11<br>GF: 45\", \"Everton<br>Season 17/18<br>Rank: 8<br>GF: 44\", \"Huddersfield<br>Season 17/18<br>Rank: 16<br>GF: 28\", \"Leicester City<br>Season 17/18<br>Rank: 9<br>GF: 56\", \"Liverpool<br>Season 17/18<br>Rank: 4<br>GF: 84\", \"Manchester City<br>Season 17/18<br>Rank: 1<br>GF: 106\", \"Manchester Utd<br>Season 17/18<br>Rank: 2<br>GF: 68\", \"Newcastle Utd<br>Season 17/18<br>Rank: 10<br>GF: 39\", \"Southampton<br>Season 17/18<br>Rank: 17<br>GF: 37\", \"Stoke City<br>Season 17/18<br>Rank: 19<br>GF: 35\", \"Swansea City<br>Season 17/18<br>Rank: 18<br>GF: 28\", \"Tottenham<br>Season 17/18<br>Rank: 3<br>GF: 74\", \"Watford<br>Season 17/18<br>Rank: 14<br>GF: 44\", \"West Bromwich<br>Season 17/18<br>Rank: 20<br>GF: 31\", \"West Ham Utd<br>Season 17/18<br>Rank: 13<br>GF: 48\"], \"x\": [74, 45, 34, 36, 62, 45, 44, 28, 56, 84, 106, 68, 39, 37, 35, 28, 74, 44, 31, 48], \"y\": [63, 44, 40, 54, 70, 44, 49, 37, 47, 75, 100, 81, 44, 36, 33, 33, 77, 41, 31, 42], \"type\": \"scatter\", \"uid\": \"68461c06-d4cf-11e8-8b54-acde48001122\"}], {\"hovermode\": \"closest\", \"title\": \"GF/GA vs PTS\", \"updatemenus\": [{\"buttons\": [{\"args\": [{\"visible\": [1]}], \"label\": \"All Seasons\", \"method\": \"update\"}, {\"args\": [{\"visible\": [true, true, false, false, false, false, false, false, false, false, false, false]}], \"label\": \"Season 12/13\", \"method\": \"update\"}, {\"args\": [{\"visible\": [false, false, true, true, false, false, false, false, false, false, false, false]}], \"label\": \"Season 13/14\", \"method\": \"update\"}, {\"args\": [{\"visible\": [false, false, false, false, true, true, false, false, false, false, false, false]}], \"label\": \"Season 14/15\", \"method\": \"update\"}, {\"args\": [{\"visible\": [false, false, false, false, false, false, true, true, false, false, false, false]}], \"label\": \"Season 15/16\", \"method\": \"update\"}, {\"args\": [{\"visible\": [false, false, false, false, false, false, false, false, true, true, false, false]}], \"label\": \"Season 16/17\", \"method\": \"update\"}, {\"args\": [{\"visible\": [false, false, false, false, false, false, false, false, false, false, true, true]}], \"label\": \"Season 17/18\", \"method\": \"update\"}], \"direction\": \"down\", \"x\": 0.01, \"xanchor\": \"left\", \"y\": 1.05, \"yanchor\": \"bottom\"}], \"xaxis\": {\"range\": [20, 110], \"title\": \"GF/GA\"}, \"yaxis\": {\"range\": [20, 105], \"title\": \"PTS\"}}, {\"showLink\": true, \"linkText\": \"Export to plot.ly\"})});</script>"
      ],
      "text/vnd.plotly.v1+html": [
       "<div id=\"24264d89-2159-47e0-a4a6-88a35cbdcae5\" style=\"height: 525px; width: 100%;\" class=\"plotly-graph-div\"></div><script type=\"text/javascript\">require([\"plotly\"], function(Plotly) { window.PLOTLYENV=window.PLOTLYENV || {};window.PLOTLYENV.BASE_URL=\"https://plot.ly\";Plotly.newPlot(\"24264d89-2159-47e0-a4a6-88a35cbdcae5\", [{\"hoverinfo\": \"text\", \"marker\": {\"color\": \"red\", \"opacity\": 0.5, \"size\": 9}, \"mode\": \"markers\", \"name\": \"Season 12/13 GA\", \"text\": [\"Arsenal<br>Season 12/13<br>Rank: 4<br>GA: 37\", \"Aston Villa<br>Season 12/13<br>Rank: 15<br>GA: 69\", \"Chelsea<br>Season 12/13<br>Rank: 3<br>GA: 39\", \"Everton<br>Season 12/13<br>Rank: 6<br>GA: 40\", \"Fulham<br>Season 12/13<br>Rank: 12<br>GA: 60\", \"Liverpool<br>Season 12/13<br>Rank: 7<br>GA: 43\", \"Manchester City<br>Season 12/13<br>Rank: 2<br>GA: 34\", \"Manchester Utd<br>Season 12/13<br>Rank: 1<br>GA: 43\", \"Newcastle Utd<br>Season 12/13<br>Rank: 16<br>GA: 68\", \"Norwich City<br>Season 12/13<br>Rank: 11<br>GA: 58\", \"QP Rangers<br>Season 12/13<br>Rank: 20<br>GA: 60\", \"Reading<br>Season 12/13<br>Rank: 19<br>GA: 73\", \"Southampton<br>Season 12/13<br>Rank: 14<br>GA: 60\", \"Stoke City<br>Season 12/13<br>Rank: 13<br>GA: 45\", \"Sunderland<br>Season 12/13<br>Rank: 17<br>GA: 54\", \"Swansea City<br>Season 12/13<br>Rank: 9<br>GA: 51\", \"Tottenham<br>Season 12/13<br>Rank: 5<br>GA: 46\", \"West Bromwich<br>Season 12/13<br>Rank: 8<br>GA: 57\", \"West Ham Utd<br>Season 12/13<br>Rank: 10<br>GA: 53\", \"Wigan<br>Season 12/13<br>Rank: 18<br>GA: 73\"], \"x\": [37, 69, 39, 40, 60, 43, 34, 43, 68, 58, 60, 73, 60, 45, 54, 51, 46, 57, 53, 73], \"y\": [73, 41, 75, 63, 43, 61, 78, 89, 41, 44, 25, 28, 41, 42, 39, 46, 72, 49, 46, 36], \"type\": \"scatter\", \"uid\": \"68443800-d4cf-11e8-a31a-acde48001122\"}, {\"hoverinfo\": \"text\", \"marker\": {\"color\": \"blue\", \"opacity\": 0.5, \"size\": 9}, \"mode\": \"markers\", \"name\": \"Season 12/13 GF\", \"text\": [\"Arsenal<br>Season 12/13<br>Rank: 4<br>GF: 72\", \"Aston Villa<br>Season 12/13<br>Rank: 15<br>GF: 47\", \"Chelsea<br>Season 12/13<br>Rank: 3<br>GF: 75\", \"Everton<br>Season 12/13<br>Rank: 6<br>GF: 55\", \"Fulham<br>Season 12/13<br>Rank: 12<br>GF: 50\", \"Liverpool<br>Season 12/13<br>Rank: 7<br>GF: 71\", \"Manchester City<br>Season 12/13<br>Rank: 2<br>GF: 66\", \"Manchester Utd<br>Season 12/13<br>Rank: 1<br>GF: 86\", \"Newcastle Utd<br>Season 12/13<br>Rank: 16<br>GF: 45\", \"Norwich City<br>Season 12/13<br>Rank: 11<br>GF: 41\", \"QP Rangers<br>Season 12/13<br>Rank: 20<br>GF: 30\", \"Reading<br>Season 12/13<br>Rank: 19<br>GF: 43\", \"Southampton<br>Season 12/13<br>Rank: 14<br>GF: 49\", \"Stoke City<br>Season 12/13<br>Rank: 13<br>GF: 34\", \"Sunderland<br>Season 12/13<br>Rank: 17<br>GF: 41\", \"Swansea City<br>Season 12/13<br>Rank: 9<br>GF: 47\", \"Tottenham<br>Season 12/13<br>Rank: 5<br>GF: 66\", \"West Bromwich<br>Season 12/13<br>Rank: 8<br>GF: 53\", \"West Ham Utd<br>Season 12/13<br>Rank: 10<br>GF: 45\", \"Wigan<br>Season 12/13<br>Rank: 18<br>GF: 47\"], \"x\": [72, 47, 75, 55, 50, 71, 66, 86, 45, 41, 30, 43, 49, 34, 41, 47, 66, 53, 45, 47], \"y\": [73, 41, 75, 63, 43, 61, 78, 89, 41, 44, 25, 28, 41, 42, 39, 46, 72, 49, 46, 36], \"type\": \"scatter\", \"uid\": \"68461080-d4cf-11e8-9b6b-acde48001122\"}, {\"hoverinfo\": \"text\", \"marker\": {\"color\": \"red\", \"opacity\": 0.5, \"size\": 9}, \"mode\": \"markers\", \"name\": \"Season 13/14 GA\", \"text\": [\"Arsenal<br>Season 13/14<br>Rank: 4<br>GA: 41\", \"Aston Villa<br>Season 13/14<br>Rank: 15<br>GA: 61\", \"Cardiff City<br>Season 13/14<br>Rank: 20<br>GA: 74\", \"Chelsea<br>Season 13/14<br>Rank: 3<br>GA: 27\", \"Crystal Palace<br>Season 13/14<br>Rank: 11<br>GA: 48\", \"Everton<br>Season 13/14<br>Rank: 5<br>GA: 39\", \"Fulham<br>Season 13/14<br>Rank: 19<br>GA: 85\", \"Hull City<br>Season 13/14<br>Rank: 16<br>GA: 53\", \"Liverpool<br>Season 13/14<br>Rank: 2<br>GA: 50\", \"Manchester City<br>Season 13/14<br>Rank: 1<br>GA: 37\", \"Manchester Utd<br>Season 13/14<br>Rank: 7<br>GA: 43\", \"Newcastle Utd<br>Season 13/14<br>Rank: 10<br>GA: 59\", \"Norwich City<br>Season 13/14<br>Rank: 18<br>GA: 62\", \"Southampton<br>Season 13/14<br>Rank: 8<br>GA: 46\", \"Stoke City<br>Season 13/14<br>Rank: 9<br>GA: 52\", \"Sunderland<br>Season 13/14<br>Rank: 14<br>GA: 60\", \"Swansea City<br>Season 13/14<br>Rank: 12<br>GA: 54\", \"Tottenham<br>Season 13/14<br>Rank: 6<br>GA: 51\", \"West Bromwich<br>Season 13/14<br>Rank: 17<br>GA: 59\", \"West Ham Utd<br>Season 13/14<br>Rank: 13<br>GA: 51\"], \"x\": [41, 61, 74, 27, 48, 39, 85, 53, 50, 37, 43, 59, 62, 46, 52, 60, 54, 51, 59, 51], \"y\": [79, 38, 30, 82, 45, 72, 32, 37, 84, 86, 64, 49, 33, 56, 50, 38, 42, 69, 36, 40], \"type\": \"scatter\", \"uid\": \"68461262-d4cf-11e8-8a52-acde48001122\"}, {\"hoverinfo\": \"text\", \"marker\": {\"color\": \"blue\", \"opacity\": 0.5, \"size\": 9}, \"mode\": \"markers\", \"name\": \"Season 13/14 GF\", \"text\": [\"Arsenal<br>Season 13/14<br>Rank: 4<br>GF: 68\", \"Aston Villa<br>Season 13/14<br>Rank: 15<br>GF: 39\", \"Cardiff City<br>Season 13/14<br>Rank: 20<br>GF: 32\", \"Chelsea<br>Season 13/14<br>Rank: 3<br>GF: 71\", \"Crystal Palace<br>Season 13/14<br>Rank: 11<br>GF: 33\", \"Everton<br>Season 13/14<br>Rank: 5<br>GF: 61\", \"Fulham<br>Season 13/14<br>Rank: 19<br>GF: 40\", \"Hull City<br>Season 13/14<br>Rank: 16<br>GF: 38\", \"Liverpool<br>Season 13/14<br>Rank: 2<br>GF: 101\", \"Manchester City<br>Season 13/14<br>Rank: 1<br>GF: 102\", \"Manchester Utd<br>Season 13/14<br>Rank: 7<br>GF: 64\", \"Newcastle Utd<br>Season 13/14<br>Rank: 10<br>GF: 43\", \"Norwich City<br>Season 13/14<br>Rank: 18<br>GF: 28\", \"Southampton<br>Season 13/14<br>Rank: 8<br>GF: 54\", \"Stoke City<br>Season 13/14<br>Rank: 9<br>GF: 45\", \"Sunderland<br>Season 13/14<br>Rank: 14<br>GF: 41\", \"Swansea City<br>Season 13/14<br>Rank: 12<br>GF: 54\", \"Tottenham<br>Season 13/14<br>Rank: 6<br>GF: 55\", \"West Bromwich<br>Season 13/14<br>Rank: 17<br>GF: 43\", \"West Ham Utd<br>Season 13/14<br>Rank: 13<br>GF: 40\"], \"x\": [68, 39, 32, 71, 33, 61, 40, 38, 101, 102, 64, 43, 28, 54, 45, 41, 54, 55, 43, 40], \"y\": [79, 38, 30, 82, 45, 72, 32, 37, 84, 86, 64, 49, 33, 56, 50, 38, 42, 69, 36, 40], \"type\": \"scatter\", \"uid\": \"6846138c-d4cf-11e8-b8c3-acde48001122\"}, {\"hoverinfo\": \"text\", \"marker\": {\"color\": \"red\", \"opacity\": 0.5, \"size\": 9}, \"mode\": \"markers\", \"name\": \"Season 14/15 GA\", \"text\": [\"Arsenal<br>Season 14/15<br>Rank: 3<br>GA: 36\", \"Aston Villa<br>Season 14/15<br>Rank: 17<br>GA: 57\", \"Burnley<br>Season 14/15<br>Rank: 19<br>GA: 53\", \"Chelsea<br>Season 14/15<br>Rank: 1<br>GA: 32\", \"Crystal Palace<br>Season 14/15<br>Rank: 10<br>GA: 51\", \"Everton<br>Season 14/15<br>Rank: 11<br>GA: 50\", \"Hull City<br>Season 14/15<br>Rank: 18<br>GA: 51\", \"Leicester City<br>Season 14/15<br>Rank: 14<br>GA: 55\", \"Liverpool<br>Season 14/15<br>Rank: 6<br>GA: 48\", \"Manchester City<br>Season 14/15<br>Rank: 2<br>GA: 38\", \"Manchester Utd<br>Season 14/15<br>Rank: 4<br>GA: 37\", \"Newcastle Utd<br>Season 14/15<br>Rank: 15<br>GA: 63\", \"QP Rangers<br>Season 14/15<br>Rank: 20<br>GA: 73\", \"Southampton<br>Season 14/15<br>Rank: 7<br>GA: 33\", \"Stoke City<br>Season 14/15<br>Rank: 9<br>GA: 45\", \"Sunderland<br>Season 14/15<br>Rank: 16<br>GA: 53\", \"Swansea City<br>Season 14/15<br>Rank: 8<br>GA: 49\", \"Tottenham<br>Season 14/15<br>Rank: 5<br>GA: 53\", \"West Bromwich<br>Season 14/15<br>Rank: 13<br>GA: 51\", \"West Ham Utd<br>Season 14/15<br>Rank: 12<br>GA: 47\"], \"x\": [36, 57, 53, 32, 51, 50, 51, 55, 48, 38, 37, 63, 73, 33, 45, 53, 49, 53, 51, 47], \"y\": [75, 38, 33, 87, 48, 47, 35, 41, 62, 79, 70, 39, 30, 60, 54, 38, 56, 64, 44, 47], \"type\": \"scatter\", \"uid\": \"68461486-d4cf-11e8-aeda-acde48001122\"}, {\"hoverinfo\": \"text\", \"marker\": {\"color\": \"blue\", \"opacity\": 0.5, \"size\": 9}, \"mode\": \"markers\", \"name\": \"Season 14/15 GF\", \"text\": [\"Arsenal<br>Season 14/15<br>Rank: 3<br>GF: 71\", \"Aston Villa<br>Season 14/15<br>Rank: 17<br>GF: 31\", \"Burnley<br>Season 14/15<br>Rank: 19<br>GF: 28\", \"Chelsea<br>Season 14/15<br>Rank: 1<br>GF: 73\", \"Crystal Palace<br>Season 14/15<br>Rank: 10<br>GF: 47\", \"Everton<br>Season 14/15<br>Rank: 11<br>GF: 48\", \"Hull City<br>Season 14/15<br>Rank: 18<br>GF: 33\", \"Leicester City<br>Season 14/15<br>Rank: 14<br>GF: 46\", \"Liverpool<br>Season 14/15<br>Rank: 6<br>GF: 52\", \"Manchester City<br>Season 14/15<br>Rank: 2<br>GF: 83\", \"Manchester Utd<br>Season 14/15<br>Rank: 4<br>GF: 62\", \"Newcastle Utd<br>Season 14/15<br>Rank: 15<br>GF: 40\", \"QP Rangers<br>Season 14/15<br>Rank: 20<br>GF: 42\", \"Southampton<br>Season 14/15<br>Rank: 7<br>GF: 54\", \"Stoke City<br>Season 14/15<br>Rank: 9<br>GF: 48\", \"Sunderland<br>Season 14/15<br>Rank: 16<br>GF: 31\", \"Swansea City<br>Season 14/15<br>Rank: 8<br>GF: 46\", \"Tottenham<br>Season 14/15<br>Rank: 5<br>GF: 58\", \"West Bromwich<br>Season 14/15<br>Rank: 13<br>GF: 38\", \"West Ham Utd<br>Season 14/15<br>Rank: 12<br>GF: 44\"], \"x\": [71, 31, 28, 73, 47, 48, 33, 46, 52, 83, 62, 40, 42, 54, 48, 31, 46, 58, 38, 44], \"y\": [75, 38, 33, 87, 48, 47, 35, 41, 62, 79, 70, 39, 30, 60, 54, 38, 56, 64, 44, 47], \"type\": \"scatter\", \"uid\": \"684615ba-d4cf-11e8-afae-acde48001122\"}, {\"hoverinfo\": \"text\", \"marker\": {\"color\": \"red\", \"opacity\": 0.5, \"size\": 9}, \"mode\": \"markers\", \"name\": \"Season 15/16 GA\", \"text\": [\"Arsenal<br>Season 15/16<br>Rank: 2<br>GA: 36\", \"Aston Villa<br>Season 15/16<br>Rank: 20<br>GA: 76\", \"Bournemouth<br>Season 15/16<br>Rank: 16<br>GA: 67\", \"Chelsea<br>Season 15/16<br>Rank: 10<br>GA: 53\", \"Crystal Palace<br>Season 15/16<br>Rank: 15<br>GA: 51\", \"Everton<br>Season 15/16<br>Rank: 11<br>GA: 55\", \"Leicester City<br>Season 15/16<br>Rank: 1<br>GA: 36\", \"Liverpool<br>Season 15/16<br>Rank: 8<br>GA: 50\", \"Manchester City<br>Season 15/16<br>Rank: 4<br>GA: 41\", \"Manchester Utd<br>Season 15/16<br>Rank: 5<br>GA: 35\", \"Newcastle Utd<br>Season 15/16<br>Rank: 18<br>GA: 65\", \"Norwich City<br>Season 15/16<br>Rank: 19<br>GA: 67\", \"Southampton<br>Season 15/16<br>Rank: 6<br>GA: 41\", \"Stoke City<br>Season 15/16<br>Rank: 9<br>GA: 55\", \"Sunderland<br>Season 15/16<br>Rank: 17<br>GA: 62\", \"Swansea City<br>Season 15/16<br>Rank: 12<br>GA: 52\", \"Tottenham<br>Season 15/16<br>Rank: 3<br>GA: 35\", \"Watford<br>Season 15/16<br>Rank: 13<br>GA: 50\", \"West Bromwich<br>Season 15/16<br>Rank: 14<br>GA: 48\", \"West Ham Utd<br>Season 15/16<br>Rank: 7<br>GA: 51\"], \"x\": [36, 76, 67, 53, 51, 55, 36, 50, 41, 35, 65, 67, 41, 55, 62, 52, 35, 50, 48, 51], \"y\": [71, 17, 42, 50, 42, 47, 81, 60, 66, 66, 37, 34, 63, 51, 39, 47, 70, 45, 43, 62], \"type\": \"scatter\", \"uid\": \"684616b6-d4cf-11e8-bf69-acde48001122\"}, {\"hoverinfo\": \"text\", \"marker\": {\"color\": \"blue\", \"opacity\": 0.5, \"size\": 9}, \"mode\": \"markers\", \"name\": \"Season 15/16 GF\", \"text\": [\"Arsenal<br>Season 15/16<br>Rank: 2<br>GF: 65\", \"Aston Villa<br>Season 15/16<br>Rank: 20<br>GF: 27\", \"Bournemouth<br>Season 15/16<br>Rank: 16<br>GF: 45\", \"Chelsea<br>Season 15/16<br>Rank: 10<br>GF: 59\", \"Crystal Palace<br>Season 15/16<br>Rank: 15<br>GF: 39\", \"Everton<br>Season 15/16<br>Rank: 11<br>GF: 59\", \"Leicester City<br>Season 15/16<br>Rank: 1<br>GF: 68\", \"Liverpool<br>Season 15/16<br>Rank: 8<br>GF: 63\", \"Manchester City<br>Season 15/16<br>Rank: 4<br>GF: 71\", \"Manchester Utd<br>Season 15/16<br>Rank: 5<br>GF: 49\", \"Newcastle Utd<br>Season 15/16<br>Rank: 18<br>GF: 44\", \"Norwich City<br>Season 15/16<br>Rank: 19<br>GF: 39\", \"Southampton<br>Season 15/16<br>Rank: 6<br>GF: 59\", \"Stoke City<br>Season 15/16<br>Rank: 9<br>GF: 41\", \"Sunderland<br>Season 15/16<br>Rank: 17<br>GF: 48\", \"Swansea City<br>Season 15/16<br>Rank: 12<br>GF: 42\", \"Tottenham<br>Season 15/16<br>Rank: 3<br>GF: 69\", \"Watford<br>Season 15/16<br>Rank: 13<br>GF: 40\", \"West Bromwich<br>Season 15/16<br>Rank: 14<br>GF: 34\", \"West Ham Utd<br>Season 15/16<br>Rank: 7<br>GF: 65\"], \"x\": [65, 27, 45, 59, 39, 59, 68, 63, 71, 49, 44, 39, 59, 41, 48, 42, 69, 40, 34, 65], \"y\": [71, 17, 42, 50, 42, 47, 81, 60, 66, 66, 37, 34, 63, 51, 39, 47, 70, 45, 43, 62], \"type\": \"scatter\", \"uid\": \"684617cc-d4cf-11e8-9d50-acde48001122\"}, {\"hoverinfo\": \"text\", \"marker\": {\"color\": \"red\", \"opacity\": 0.5, \"size\": 9}, \"mode\": \"markers\", \"name\": \"Season 16/17 GA\", \"text\": [\"Arsenal<br>Season 16/17<br>Rank: 5<br>GA: 44\", \"Bournemouth<br>Season 16/17<br>Rank: 9<br>GA: 67\", \"Burnley<br>Season 16/17<br>Rank: 16<br>GA: 55\", \"Chelsea<br>Season 16/17<br>Rank: 1<br>GA: 33\", \"Crystal Palace<br>Season 16/17<br>Rank: 14<br>GA: 63\", \"Everton<br>Season 16/17<br>Rank: 7<br>GA: 44\", \"Hull City<br>Season 16/17<br>Rank: 18<br>GA: 80\", \"Leicester City<br>Season 16/17<br>Rank: 12<br>GA: 63\", \"Liverpool<br>Season 16/17<br>Rank: 4<br>GA: 42\", \"Manchester City<br>Season 16/17<br>Rank: 3<br>GA: 39\", \"Manchester Utd<br>Season 16/17<br>Rank: 6<br>GA: 29\", \"Middlesbrough<br>Season 16/17<br>Rank: 19<br>GA: 53\", \"Southampton<br>Season 16/17<br>Rank: 8<br>GA: 48\", \"Stoke City<br>Season 16/17<br>Rank: 13<br>GA: 56\", \"Sunderland<br>Season 16/17<br>Rank: 20<br>GA: 69\", \"Swansea City<br>Season 16/17<br>Rank: 15<br>GA: 70\", \"Tottenham<br>Season 16/17<br>Rank: 2<br>GA: 26\", \"Watford<br>Season 16/17<br>Rank: 17<br>GA: 68\", \"West Bromwich<br>Season 16/17<br>Rank: 10<br>GA: 51\", \"West Ham Utd<br>Season 16/17<br>Rank: 11<br>GA: 64\"], \"x\": [44, 67, 55, 33, 63, 44, 80, 63, 42, 39, 29, 53, 48, 56, 69, 70, 26, 68, 51, 64], \"y\": [75, 46, 40, 93, 41, 61, 34, 44, 76, 78, 69, 28, 46, 44, 24, 41, 86, 40, 45, 45], \"type\": \"scatter\", \"uid\": \"684618d2-d4cf-11e8-b147-acde48001122\"}, {\"hoverinfo\": \"text\", \"marker\": {\"color\": \"blue\", \"opacity\": 0.5, \"size\": 9}, \"mode\": \"markers\", \"name\": \"Season 16/17 GF\", \"text\": [\"Arsenal<br>Season 16/17<br>Rank: 5<br>GF: 77\", \"Bournemouth<br>Season 16/17<br>Rank: 9<br>GF: 55\", \"Burnley<br>Season 16/17<br>Rank: 16<br>GF: 39\", \"Chelsea<br>Season 16/17<br>Rank: 1<br>GF: 85\", \"Crystal Palace<br>Season 16/17<br>Rank: 14<br>GF: 50\", \"Everton<br>Season 16/17<br>Rank: 7<br>GF: 62\", \"Hull City<br>Season 16/17<br>Rank: 18<br>GF: 37\", \"Leicester City<br>Season 16/17<br>Rank: 12<br>GF: 48\", \"Liverpool<br>Season 16/17<br>Rank: 4<br>GF: 78\", \"Manchester City<br>Season 16/17<br>Rank: 3<br>GF: 80\", \"Manchester Utd<br>Season 16/17<br>Rank: 6<br>GF: 54\", \"Middlesbrough<br>Season 16/17<br>Rank: 19<br>GF: 27\", \"Southampton<br>Season 16/17<br>Rank: 8<br>GF: 41\", \"Stoke City<br>Season 16/17<br>Rank: 13<br>GF: 41\", \"Sunderland<br>Season 16/17<br>Rank: 20<br>GF: 29\", \"Swansea City<br>Season 16/17<br>Rank: 15<br>GF: 45\", \"Tottenham<br>Season 16/17<br>Rank: 2<br>GF: 86\", \"Watford<br>Season 16/17<br>Rank: 17<br>GF: 40\", \"West Bromwich<br>Season 16/17<br>Rank: 10<br>GF: 43\", \"West Ham Utd<br>Season 16/17<br>Rank: 11<br>GF: 47\"], \"x\": [77, 55, 39, 85, 50, 62, 37, 48, 78, 80, 54, 27, 41, 41, 29, 45, 86, 40, 43, 47], \"y\": [75, 46, 40, 93, 41, 61, 34, 44, 76, 78, 69, 28, 46, 44, 24, 41, 86, 40, 45, 45], \"type\": \"scatter\", \"uid\": \"684619d8-d4cf-11e8-a552-acde48001122\"}, {\"hoverinfo\": \"text\", \"marker\": {\"color\": \"red\", \"opacity\": 0.5, \"size\": 9}, \"mode\": \"markers\", \"name\": \"Season 17/18 GA\", \"text\": [\"Arsenal<br>Season 17/18<br>Rank: 6<br>GA: 51\", \"Bournemouth<br>Season 17/18<br>Rank: 12<br>GA: 61\", \"Brighton & Hove<br>Season 17/18<br>Rank: 15<br>GA: 54\", \"Burnley<br>Season 17/18<br>Rank: 7<br>GA: 39\", \"Chelsea<br>Season 17/18<br>Rank: 5<br>GA: 38\", \"Crystal Palace<br>Season 17/18<br>Rank: 11<br>GA: 55\", \"Everton<br>Season 17/18<br>Rank: 8<br>GA: 58\", \"Huddersfield<br>Season 17/18<br>Rank: 16<br>GA: 58\", \"Leicester City<br>Season 17/18<br>Rank: 9<br>GA: 60\", \"Liverpool<br>Season 17/18<br>Rank: 4<br>GA: 38\", \"Manchester City<br>Season 17/18<br>Rank: 1<br>GA: 27\", \"Manchester Utd<br>Season 17/18<br>Rank: 2<br>GA: 28\", \"Newcastle Utd<br>Season 17/18<br>Rank: 10<br>GA: 47\", \"Southampton<br>Season 17/18<br>Rank: 17<br>GA: 56\", \"Stoke City<br>Season 17/18<br>Rank: 19<br>GA: 68\", \"Swansea City<br>Season 17/18<br>Rank: 18<br>GA: 56\", \"Tottenham<br>Season 17/18<br>Rank: 3<br>GA: 36\", \"Watford<br>Season 17/18<br>Rank: 14<br>GA: 64\", \"West Bromwich<br>Season 17/18<br>Rank: 20<br>GA: 56\", \"West Ham Utd<br>Season 17/18<br>Rank: 13<br>GA: 68\"], \"x\": [51, 61, 54, 39, 38, 55, 58, 58, 60, 38, 27, 28, 47, 56, 68, 56, 36, 64, 56, 68], \"y\": [63, 44, 40, 54, 70, 44, 49, 37, 47, 75, 100, 81, 44, 36, 33, 33, 77, 41, 31, 42], \"type\": \"scatter\", \"uid\": \"68461af8-d4cf-11e8-856b-acde48001122\"}, {\"hoverinfo\": \"text\", \"marker\": {\"color\": \"blue\", \"opacity\": 0.5, \"size\": 9}, \"mode\": \"markers\", \"name\": \"Season 17/18 GF\", \"text\": [\"Arsenal<br>Season 17/18<br>Rank: 6<br>GF: 74\", \"Bournemouth<br>Season 17/18<br>Rank: 12<br>GF: 45\", \"Brighton & Hove<br>Season 17/18<br>Rank: 15<br>GF: 34\", \"Burnley<br>Season 17/18<br>Rank: 7<br>GF: 36\", \"Chelsea<br>Season 17/18<br>Rank: 5<br>GF: 62\", \"Crystal Palace<br>Season 17/18<br>Rank: 11<br>GF: 45\", \"Everton<br>Season 17/18<br>Rank: 8<br>GF: 44\", \"Huddersfield<br>Season 17/18<br>Rank: 16<br>GF: 28\", \"Leicester City<br>Season 17/18<br>Rank: 9<br>GF: 56\", \"Liverpool<br>Season 17/18<br>Rank: 4<br>GF: 84\", \"Manchester City<br>Season 17/18<br>Rank: 1<br>GF: 106\", \"Manchester Utd<br>Season 17/18<br>Rank: 2<br>GF: 68\", \"Newcastle Utd<br>Season 17/18<br>Rank: 10<br>GF: 39\", \"Southampton<br>Season 17/18<br>Rank: 17<br>GF: 37\", \"Stoke City<br>Season 17/18<br>Rank: 19<br>GF: 35\", \"Swansea City<br>Season 17/18<br>Rank: 18<br>GF: 28\", \"Tottenham<br>Season 17/18<br>Rank: 3<br>GF: 74\", \"Watford<br>Season 17/18<br>Rank: 14<br>GF: 44\", \"West Bromwich<br>Season 17/18<br>Rank: 20<br>GF: 31\", \"West Ham Utd<br>Season 17/18<br>Rank: 13<br>GF: 48\"], \"x\": [74, 45, 34, 36, 62, 45, 44, 28, 56, 84, 106, 68, 39, 37, 35, 28, 74, 44, 31, 48], \"y\": [63, 44, 40, 54, 70, 44, 49, 37, 47, 75, 100, 81, 44, 36, 33, 33, 77, 41, 31, 42], \"type\": \"scatter\", \"uid\": \"68461c06-d4cf-11e8-8b54-acde48001122\"}], {\"hovermode\": \"closest\", \"title\": \"GF/GA vs PTS\", \"updatemenus\": [{\"buttons\": [{\"args\": [{\"visible\": [1]}], \"label\": \"All Seasons\", \"method\": \"update\"}, {\"args\": [{\"visible\": [true, true, false, false, false, false, false, false, false, false, false, false]}], \"label\": \"Season 12/13\", \"method\": \"update\"}, {\"args\": [{\"visible\": [false, false, true, true, false, false, false, false, false, false, false, false]}], \"label\": \"Season 13/14\", \"method\": \"update\"}, {\"args\": [{\"visible\": [false, false, false, false, true, true, false, false, false, false, false, false]}], \"label\": \"Season 14/15\", \"method\": \"update\"}, {\"args\": [{\"visible\": [false, false, false, false, false, false, true, true, false, false, false, false]}], \"label\": \"Season 15/16\", \"method\": \"update\"}, {\"args\": [{\"visible\": [false, false, false, false, false, false, false, false, true, true, false, false]}], \"label\": \"Season 16/17\", \"method\": \"update\"}, {\"args\": [{\"visible\": [false, false, false, false, false, false, false, false, false, false, true, true]}], \"label\": \"Season 17/18\", \"method\": \"update\"}], \"direction\": \"down\", \"x\": 0.01, \"xanchor\": \"left\", \"y\": 1.05, \"yanchor\": \"bottom\"}], \"xaxis\": {\"range\": [20, 110], \"title\": \"GF/GA\"}, \"yaxis\": {\"range\": [20, 105], \"title\": \"PTS\"}}, {\"showLink\": true, \"linkText\": \"Export to plot.ly\"})});</script>"
      ]
     },
     "metadata": {},
     "output_type": "display_data"
    }
   ],
   "source": [
    "seasons = ['13', '14', '15', '16', '17', '18']\n",
    "data = []\n",
    "for season in seasons:\n",
    "    season_data = dict(\n",
    "            x = df.loc[df['Season'] == int(season),'GA'],\n",
    "            y = df.loc[df['Season'] == int(season), 'PTS'],\n",
    "            name = str('Season ' + str(int(season) - 1) + '/' + season + ' GA'),\n",
    "            mode = 'markers',\n",
    "            marker = dict(\n",
    "                    size = 9,\n",
    "                    color = 'red',\n",
    "                    opacity = 0.5),\n",
    "            text = df.loc[df['Season'] == int(season), 'Team'] + '<br>' + 'Season ' +\n",
    "                str(int(season) - 1) + '/' + season + '<br>' +\n",
    "                'Rank: ' + df.loc[df['Season'] == int(season), 'Rank'].apply(str) + '<br>'\n",
    "                'GA: ' + df.loc[df['Season'] == int(season), 'GA'].apply(str),\n",
    "            type = 'scatter',\n",
    "            hoverinfo = 'text'\n",
    "        )\n",
    "    season_data2 = dict(\n",
    "            x = df.loc[df['Season'] == int(season),'GF'],\n",
    "            y = df.loc[df['Season'] == int(season), 'PTS'],\n",
    "            name = str('Season ' + str(int(season) - 1) + '/' + season + ' GF'),\n",
    "            mode = 'markers',\n",
    "            marker = dict(\n",
    "                size = 9,\n",
    "                color = 'blue',\n",
    "                opacity = 0.5),\n",
    "            text = df.loc[df['Season'] == int(season), 'Team'] + '<br>' + 'Season ' +\n",
    "                str(int(season) - 1) + '/' + season + '<br>' +\n",
    "                'Rank: ' + df.loc[df['Season'] == int(season), 'Rank'].apply(str) + '<br>'\n",
    "                'GF: ' + df.loc[df['Season'] == int(season), 'GF'].apply(str),\n",
    "            type = 'scatter',\n",
    "            hoverinfo = 'text'\n",
    "        )\n",
    "    data.append(season_data)\n",
    "    data.append(season_data2)\n",
    "    \n",
    "layout = go.Layout(\n",
    "    title = 'GF/GA vs PTS',\n",
    "    yaxis = dict(\n",
    "        title = 'PTS',\n",
    "        range = [20, 105]\n",
    "    ),\n",
    "    xaxis = dict(\n",
    "        title = 'GF/GA',\n",
    "        range = [20, 110]\n",
    "    ),\n",
    "    hovermode = 'closest',\n",
    "\n",
    ")\n",
    "\n",
    "updatemenus = list([\n",
    "    dict(\n",
    "         buttons = list([\n",
    "            dict(label = 'All Seasons',\n",
    "                 method = 'update',\n",
    "                 args = [{'visible': [1]}]),\n",
    "            dict(label = 'Season 12/13',\n",
    "                 method = 'update',\n",
    "                 args = [{'visible': [True, True, False, False, False, False, False, False, False, False, False, False]}]),\n",
    "            dict(label = 'Season 13/14',\n",
    "                 method = 'update',\n",
    "                 args = [{'visible': [False, False, True, True, False, False, False, False, False, False, False, False]}]),\n",
    "             dict(label = 'Season 14/15',\n",
    "                 method = 'update',\n",
    "                 args = [{'visible': [False, False, False, False, True, True, False, False, False, False, False, False]}]),\n",
    "             dict(label = 'Season 15/16',\n",
    "                 method = 'update',\n",
    "                 args = [{'visible': [False, False, False, False, False, False, True, True, False, False, False, False]}]),\n",
    "             dict(label = 'Season 16/17',\n",
    "                 method = 'update',\n",
    "                 args = [{'visible': [False, False, False, False, False, False, False, False, True, True, False, False]}]),\n",
    "             dict(label = 'Season 17/18',\n",
    "                 method = 'update',\n",
    "                 args = [{'visible': [False, False, False, False, False, False, False, False, False, False, True, True]}]),\n",
    "            \n",
    "        ]),\n",
    "        # direction where the drop-down expands when opened\n",
    "        direction = 'down',\n",
    "        # positional arguments\n",
    "        x = 0.01,\n",
    "        xanchor = 'left',\n",
    "        y = 1.05,\n",
    "        yanchor = 'bottom',\n",
    "       \n",
    "    )\n",
    "])\n",
    "\n",
    "# assign the list of dictionaries to the layout dictionary\n",
    "layout['updatemenus'] = updatemenus\n",
    "\n",
    "fig = go.Figure(data=data, layout=layout)\n",
    "iplot(fig)"
   ]
  },
  {
   "cell_type": "code",
   "execution_count": 4,
   "metadata": {},
   "outputs": [
    {
     "data": {
      "application/vnd.plotly.v1+json": {
       "data": [
        {
         "hoverinfo": "none",
         "marker": {
          "color": "white"
         },
         "showlegend": false,
         "type": "scatter",
         "uid": "686548ec-d4cf-11e8-a97b-acde48001122",
         "x": [
          15
         ],
         "y": [
          21
         ]
        },
        {
         "hoverinfo": "none",
         "marker": {
          "color": "white"
         },
         "showlegend": false,
         "type": "scatter",
         "uid": "68654a68-d4cf-11e8-8adb-acde48001122",
         "x": [
          15
         ],
         "y": [
          0.9
         ]
        },
        {
         "hoverinfo": "text",
         "marker": {
          "opacity": 0.5,
          "size": 9
         },
         "mode": "lines+markers",
         "name": "Arsenal",
         "text": [
          "Arsenal<br>Rank: 4",
          "Arsenal<br>Rank: 4",
          "Arsenal<br>Rank: 3",
          "Arsenal<br>Rank: 2",
          "Arsenal<br>Rank: 5",
          "Arsenal<br>Rank: 6"
         ],
         "type": "scatter",
         "uid": "68654b30-d4cf-11e8-8beb-acde48001122",
         "visible": "legendonly",
         "x": [
          13,
          14,
          15,
          16,
          17,
          18
         ],
         "y": [
          4,
          4,
          3,
          2,
          5,
          6
         ]
        },
        {
         "hoverinfo": "text",
         "marker": {
          "opacity": 0.5,
          "size": 9
         },
         "mode": "lines+markers",
         "name": "Aston Villa",
         "text": [
          "Aston Villa<br>Rank: 15",
          "Aston Villa<br>Rank: 15",
          "Aston Villa<br>Rank: 17",
          "Aston Villa<br>Rank: 20"
         ],
         "type": "scatter",
         "uid": "68654be4-d4cf-11e8-b0d4-acde48001122",
         "visible": "legendonly",
         "x": [
          13,
          14,
          15,
          16
         ],
         "y": [
          15,
          15,
          17,
          20
         ]
        },
        {
         "hoverinfo": "text",
         "marker": {
          "opacity": 0.5,
          "size": 9
         },
         "mode": "lines+markers",
         "name": "Bournemouth",
         "text": [
          "Bournemouth<br>Rank: 16",
          "Bournemouth<br>Rank: 9",
          "Bournemouth<br>Rank: 12"
         ],
         "type": "scatter",
         "uid": "68654c7a-d4cf-11e8-8f14-acde48001122",
         "visible": "legendonly",
         "x": [
          16,
          17,
          18
         ],
         "y": [
          16,
          9,
          12
         ]
        },
        {
         "hoverinfo": "text",
         "marker": {
          "opacity": 0.5,
          "size": 9
         },
         "mode": "lines+markers",
         "name": "Brighton & Hove",
         "text": [
          "Brighton & Hove<br>Rank: 15"
         ],
         "type": "scatter",
         "uid": "68654d06-d4cf-11e8-b286-acde48001122",
         "visible": "legendonly",
         "x": [
          18
         ],
         "y": [
          15
         ]
        },
        {
         "hoverinfo": "text",
         "marker": {
          "opacity": 0.5,
          "size": 9
         },
         "mode": "lines+markers",
         "name": "Burnley",
         "text": [
          "Burnley<br>Rank: 19",
          "Burnley<br>Rank: 16",
          "Burnley<br>Rank: 7"
         ],
         "type": "scatter",
         "uid": "68654da6-d4cf-11e8-b2b6-acde48001122",
         "visible": "legendonly",
         "x": [
          15,
          17,
          18
         ],
         "y": [
          19,
          16,
          7
         ]
        },
        {
         "hoverinfo": "text",
         "marker": {
          "opacity": 0.5,
          "size": 9
         },
         "mode": "lines+markers",
         "name": "Cardiff City",
         "text": [
          "Cardiff City<br>Rank: 20"
         ],
         "type": "scatter",
         "uid": "68654e34-d4cf-11e8-8e54-acde48001122",
         "visible": "legendonly",
         "x": [
          14
         ],
         "y": [
          20
         ]
        },
        {
         "hoverinfo": "text",
         "marker": {
          "opacity": 0.5,
          "size": 9
         },
         "mode": "lines+markers",
         "name": "Chelsea",
         "text": [
          "Chelsea<br>Rank: 3",
          "Chelsea<br>Rank: 3",
          "Chelsea<br>Rank: 1",
          "Chelsea<br>Rank: 10",
          "Chelsea<br>Rank: 1",
          "Chelsea<br>Rank: 5"
         ],
         "type": "scatter",
         "uid": "68654ec8-d4cf-11e8-9c66-acde48001122",
         "visible": "legendonly",
         "x": [
          13,
          14,
          15,
          16,
          17,
          18
         ],
         "y": [
          3,
          3,
          1,
          10,
          1,
          5
         ]
        },
        {
         "hoverinfo": "text",
         "marker": {
          "opacity": 0.5,
          "size": 9
         },
         "mode": "lines+markers",
         "name": "Crystal Palace",
         "text": [
          "Crystal Palace<br>Rank: 11",
          "Crystal Palace<br>Rank: 10",
          "Crystal Palace<br>Rank: 15",
          "Crystal Palace<br>Rank: 14",
          "Crystal Palace<br>Rank: 11"
         ],
         "type": "scatter",
         "uid": "68654f5e-d4cf-11e8-8f0a-acde48001122",
         "visible": "legendonly",
         "x": [
          14,
          15,
          16,
          17,
          18
         ],
         "y": [
          11,
          10,
          15,
          14,
          11
         ]
        },
        {
         "hoverinfo": "text",
         "marker": {
          "opacity": 0.5,
          "size": 9
         },
         "mode": "lines+markers",
         "name": "Everton",
         "text": [
          "Everton<br>Rank: 6",
          "Everton<br>Rank: 5",
          "Everton<br>Rank: 11",
          "Everton<br>Rank: 11",
          "Everton<br>Rank: 7",
          "Everton<br>Rank: 8"
         ],
         "type": "scatter",
         "uid": "68654fe8-d4cf-11e8-81ce-acde48001122",
         "visible": "legendonly",
         "x": [
          13,
          14,
          15,
          16,
          17,
          18
         ],
         "y": [
          6,
          5,
          11,
          11,
          7,
          8
         ]
        },
        {
         "hoverinfo": "text",
         "marker": {
          "opacity": 0.5,
          "size": 9
         },
         "mode": "lines+markers",
         "name": "Fulham",
         "text": [
          "Fulham<br>Rank: 12",
          "Fulham<br>Rank: 19"
         ],
         "type": "scatter",
         "uid": "68655080-d4cf-11e8-ba35-acde48001122",
         "visible": "legendonly",
         "x": [
          13,
          14
         ],
         "y": [
          12,
          19
         ]
        },
        {
         "hoverinfo": "text",
         "marker": {
          "opacity": 0.5,
          "size": 9
         },
         "mode": "lines+markers",
         "name": "Huddersfield",
         "text": [
          "Huddersfield<br>Rank: 16"
         ],
         "type": "scatter",
         "uid": "6865518c-d4cf-11e8-ae35-acde48001122",
         "visible": "legendonly",
         "x": [
          18
         ],
         "y": [
          16
         ]
        },
        {
         "hoverinfo": "text",
         "marker": {
          "opacity": 0.5,
          "size": 9
         },
         "mode": "lines+markers",
         "name": "Hull City",
         "text": [
          "Hull City<br>Rank: 16",
          "Hull City<br>Rank: 18",
          "Hull City<br>Rank: 18"
         ],
         "type": "scatter",
         "uid": "6865521a-d4cf-11e8-84f5-acde48001122",
         "visible": "legendonly",
         "x": [
          14,
          15,
          17
         ],
         "y": [
          16,
          18,
          18
         ]
        },
        {
         "hoverinfo": "text",
         "marker": {
          "opacity": 0.5,
          "size": 9
         },
         "mode": "lines+markers",
         "name": "Leicester City",
         "text": [
          "Leicester City<br>Rank: 14",
          "Leicester City<br>Rank: 1",
          "Leicester City<br>Rank: 12",
          "Leicester City<br>Rank: 9"
         ],
         "type": "scatter",
         "uid": "6865529c-d4cf-11e8-a0ef-acde48001122",
         "visible": "legendonly",
         "x": [
          15,
          16,
          17,
          18
         ],
         "y": [
          14,
          1,
          12,
          9
         ]
        },
        {
         "hoverinfo": "text",
         "marker": {
          "opacity": 0.5,
          "size": 9
         },
         "mode": "lines+markers",
         "name": "Liverpool",
         "text": [
          "Liverpool<br>Rank: 7",
          "Liverpool<br>Rank: 2",
          "Liverpool<br>Rank: 6",
          "Liverpool<br>Rank: 8",
          "Liverpool<br>Rank: 4",
          "Liverpool<br>Rank: 4"
         ],
         "type": "scatter",
         "uid": "68655328-d4cf-11e8-a401-acde48001122",
         "visible": "legendonly",
         "x": [
          13,
          14,
          15,
          16,
          17,
          18
         ],
         "y": [
          7,
          2,
          6,
          8,
          4,
          4
         ]
        },
        {
         "hoverinfo": "text",
         "marker": {
          "opacity": 0.5,
          "size": 9
         },
         "mode": "lines+markers",
         "name": "Manchester City",
         "text": [
          "Manchester City<br>Rank: 2",
          "Manchester City<br>Rank: 1",
          "Manchester City<br>Rank: 2",
          "Manchester City<br>Rank: 4",
          "Manchester City<br>Rank: 3",
          "Manchester City<br>Rank: 1"
         ],
         "type": "scatter",
         "uid": "686553b4-d4cf-11e8-a6a4-acde48001122",
         "visible": "legendonly",
         "x": [
          13,
          14,
          15,
          16,
          17,
          18
         ],
         "y": [
          2,
          1,
          2,
          4,
          3,
          1
         ]
        },
        {
         "hoverinfo": "text",
         "marker": {
          "opacity": 0.5,
          "size": 9
         },
         "mode": "lines+markers",
         "name": "Manchester Utd",
         "text": [
          "Manchester Utd<br>Rank: 1",
          "Manchester Utd<br>Rank: 7",
          "Manchester Utd<br>Rank: 4",
          "Manchester Utd<br>Rank: 5",
          "Manchester Utd<br>Rank: 6",
          "Manchester Utd<br>Rank: 2"
         ],
         "type": "scatter",
         "uid": "68655436-d4cf-11e8-8904-acde48001122",
         "visible": "legendonly",
         "x": [
          13,
          14,
          15,
          16,
          17,
          18
         ],
         "y": [
          1,
          7,
          4,
          5,
          6,
          2
         ]
        },
        {
         "hoverinfo": "text",
         "marker": {
          "opacity": 0.5,
          "size": 9
         },
         "mode": "lines+markers",
         "name": "Middlesbrough",
         "text": [
          "Middlesbrough<br>Rank: 19"
         ],
         "type": "scatter",
         "uid": "686554c2-d4cf-11e8-a086-acde48001122",
         "visible": "legendonly",
         "x": [
          17
         ],
         "y": [
          19
         ]
        },
        {
         "hoverinfo": "text",
         "marker": {
          "opacity": 0.5,
          "size": 9
         },
         "mode": "lines+markers",
         "name": "Newcastle Utd",
         "text": [
          "Newcastle Utd<br>Rank: 16",
          "Newcastle Utd<br>Rank: 10",
          "Newcastle Utd<br>Rank: 15",
          "Newcastle Utd<br>Rank: 18",
          "Newcastle Utd<br>Rank: 10"
         ],
         "type": "scatter",
         "uid": "6865553a-d4cf-11e8-9922-acde48001122",
         "visible": "legendonly",
         "x": [
          13,
          14,
          15,
          16,
          18
         ],
         "y": [
          16,
          10,
          15,
          18,
          10
         ]
        },
        {
         "hoverinfo": "text",
         "marker": {
          "opacity": 0.5,
          "size": 9
         },
         "mode": "lines+markers",
         "name": "Norwich City",
         "text": [
          "Norwich City<br>Rank: 11",
          "Norwich City<br>Rank: 18",
          "Norwich City<br>Rank: 19"
         ],
         "type": "scatter",
         "uid": "686555b4-d4cf-11e8-89e5-acde48001122",
         "visible": "legendonly",
         "x": [
          13,
          14,
          16
         ],
         "y": [
          11,
          18,
          19
         ]
        },
        {
         "hoverinfo": "text",
         "marker": {
          "opacity": 0.5,
          "size": 9
         },
         "mode": "lines+markers",
         "name": "QP Rangers",
         "text": [
          "QP Rangers<br>Rank: 20",
          "QP Rangers<br>Rank: 20"
         ],
         "type": "scatter",
         "uid": "68655628-d4cf-11e8-b0b3-acde48001122",
         "visible": "legendonly",
         "x": [
          13,
          15
         ],
         "y": [
          20,
          20
         ]
        },
        {
         "hoverinfo": "text",
         "marker": {
          "opacity": 0.5,
          "size": 9
         },
         "mode": "lines+markers",
         "name": "Reading",
         "text": [
          "Reading<br>Rank: 19"
         ],
         "type": "scatter",
         "uid": "686556ac-d4cf-11e8-a8f4-acde48001122",
         "visible": "legendonly",
         "x": [
          13
         ],
         "y": [
          19
         ]
        },
        {
         "hoverinfo": "text",
         "marker": {
          "opacity": 0.5,
          "size": 9
         },
         "mode": "lines+markers",
         "name": "Southampton",
         "text": [
          "Southampton<br>Rank: 14",
          "Southampton<br>Rank: 8",
          "Southampton<br>Rank: 7",
          "Southampton<br>Rank: 6",
          "Southampton<br>Rank: 8",
          "Southampton<br>Rank: 17"
         ],
         "type": "scatter",
         "uid": "68655724-d4cf-11e8-ba30-acde48001122",
         "visible": "legendonly",
         "x": [
          13,
          14,
          15,
          16,
          17,
          18
         ],
         "y": [
          14,
          8,
          7,
          6,
          8,
          17
         ]
        },
        {
         "hoverinfo": "text",
         "marker": {
          "opacity": 0.5,
          "size": 9
         },
         "mode": "lines+markers",
         "name": "Stoke City",
         "text": [
          "Stoke City<br>Rank: 13",
          "Stoke City<br>Rank: 9",
          "Stoke City<br>Rank: 9",
          "Stoke City<br>Rank: 9",
          "Stoke City<br>Rank: 13",
          "Stoke City<br>Rank: 19"
         ],
         "type": "scatter",
         "uid": "6865579c-d4cf-11e8-b4d9-acde48001122",
         "visible": "legendonly",
         "x": [
          13,
          14,
          15,
          16,
          17,
          18
         ],
         "y": [
          13,
          9,
          9,
          9,
          13,
          19
         ]
        },
        {
         "hoverinfo": "text",
         "marker": {
          "opacity": 0.5,
          "size": 9
         },
         "mode": "lines+markers",
         "name": "Sunderland",
         "text": [
          "Sunderland<br>Rank: 17",
          "Sunderland<br>Rank: 14",
          "Sunderland<br>Rank: 16",
          "Sunderland<br>Rank: 17",
          "Sunderland<br>Rank: 20"
         ],
         "type": "scatter",
         "uid": "68655814-d4cf-11e8-becb-acde48001122",
         "visible": "legendonly",
         "x": [
          13,
          14,
          15,
          16,
          17
         ],
         "y": [
          17,
          14,
          16,
          17,
          20
         ]
        },
        {
         "hoverinfo": "text",
         "marker": {
          "opacity": 0.5,
          "size": 9
         },
         "mode": "lines+markers",
         "name": "Swansea City",
         "text": [
          "Swansea City<br>Rank: 9",
          "Swansea City<br>Rank: 12",
          "Swansea City<br>Rank: 8",
          "Swansea City<br>Rank: 12",
          "Swansea City<br>Rank: 15",
          "Swansea City<br>Rank: 18"
         ],
         "type": "scatter",
         "uid": "68655898-d4cf-11e8-b335-acde48001122",
         "visible": "legendonly",
         "x": [
          13,
          14,
          15,
          16,
          17,
          18
         ],
         "y": [
          9,
          12,
          8,
          12,
          15,
          18
         ]
        },
        {
         "hoverinfo": "text",
         "marker": {
          "opacity": 0.5,
          "size": 9
         },
         "mode": "lines+markers",
         "name": "Tottenham",
         "text": [
          "Tottenham<br>Rank: 5",
          "Tottenham<br>Rank: 6",
          "Tottenham<br>Rank: 5",
          "Tottenham<br>Rank: 3",
          "Tottenham<br>Rank: 2",
          "Tottenham<br>Rank: 3"
         ],
         "type": "scatter",
         "uid": "6865590c-d4cf-11e8-b7da-acde48001122",
         "visible": "legendonly",
         "x": [
          13,
          14,
          15,
          16,
          17,
          18
         ],
         "y": [
          5,
          6,
          5,
          3,
          2,
          3
         ]
        },
        {
         "hoverinfo": "text",
         "marker": {
          "opacity": 0.5,
          "size": 9
         },
         "mode": "lines+markers",
         "name": "Watford",
         "text": [
          "Watford<br>Rank: 13",
          "Watford<br>Rank: 17",
          "Watford<br>Rank: 14"
         ],
         "type": "scatter",
         "uid": "68655986-d4cf-11e8-bd92-acde48001122",
         "visible": "legendonly",
         "x": [
          16,
          17,
          18
         ],
         "y": [
          13,
          17,
          14
         ]
        },
        {
         "hoverinfo": "text",
         "marker": {
          "opacity": 0.5,
          "size": 9
         },
         "mode": "lines+markers",
         "name": "West Bromwich",
         "text": [
          "West Bromwich<br>Rank: 8",
          "West Bromwich<br>Rank: 17",
          "West Bromwich<br>Rank: 13",
          "West Bromwich<br>Rank: 14",
          "West Bromwich<br>Rank: 10",
          "West Bromwich<br>Rank: 20"
         ],
         "type": "scatter",
         "uid": "686559fe-d4cf-11e8-a6a6-acde48001122",
         "visible": "legendonly",
         "x": [
          13,
          14,
          15,
          16,
          17,
          18
         ],
         "y": [
          8,
          17,
          13,
          14,
          10,
          20
         ]
        },
        {
         "hoverinfo": "text",
         "marker": {
          "opacity": 0.5,
          "size": 9
         },
         "mode": "lines+markers",
         "name": "West Ham Utd",
         "text": [
          "West Ham Utd<br>Rank: 10",
          "West Ham Utd<br>Rank: 13",
          "West Ham Utd<br>Rank: 12",
          "West Ham Utd<br>Rank: 7",
          "West Ham Utd<br>Rank: 11",
          "West Ham Utd<br>Rank: 13"
         ],
         "type": "scatter",
         "uid": "68655a76-d4cf-11e8-b0ca-acde48001122",
         "visible": "legendonly",
         "x": [
          13,
          14,
          15,
          16,
          17,
          18
         ],
         "y": [
          10,
          13,
          12,
          7,
          11,
          13
         ]
        },
        {
         "hoverinfo": "text",
         "marker": {
          "opacity": 0.5,
          "size": 9
         },
         "mode": "lines+markers",
         "name": "Wigan",
         "text": [
          "Wigan<br>Rank: 18"
         ],
         "type": "scatter",
         "uid": "68655aee-d4cf-11e8-9815-acde48001122",
         "visible": "legendonly",
         "x": [
          13
         ],
         "y": [
          18
         ]
        }
       ],
       "layout": {
        "hovermode": "closest",
        "legend": {
         "traceorder": "grouped"
        },
        "title": "Team Performance by Season",
        "xaxis": {
         "range": [
          12.8,
          19.2
         ],
         "title": "Season"
        },
        "yaxis": {
         "autorange": "reversed",
         "range": [
          0.5,
          20.5
         ],
         "tickvals": [
          5,
          10,
          15,
          20
         ],
         "title": "Final Rank",
         "zeroline": false
        }
       }
      },
      "text/html": [
       "<div id=\"5b7a6721-d586-4076-a26d-bdfcbb4334c2\" style=\"height: 525px; width: 100%;\" class=\"plotly-graph-div\"></div><script type=\"text/javascript\">require([\"plotly\"], function(Plotly) { window.PLOTLYENV=window.PLOTLYENV || {};window.PLOTLYENV.BASE_URL=\"https://plot.ly\";Plotly.newPlot(\"5b7a6721-d586-4076-a26d-bdfcbb4334c2\", [{\"hoverinfo\": \"none\", \"marker\": {\"color\": \"white\"}, \"showlegend\": false, \"x\": [15], \"y\": [21], \"type\": \"scatter\", \"uid\": \"686548ec-d4cf-11e8-a97b-acde48001122\"}, {\"hoverinfo\": \"none\", \"marker\": {\"color\": \"white\"}, \"showlegend\": false, \"x\": [15], \"y\": [0.9], \"type\": \"scatter\", \"uid\": \"68654a68-d4cf-11e8-8adb-acde48001122\"}, {\"hoverinfo\": \"text\", \"marker\": {\"opacity\": 0.5, \"size\": 9}, \"mode\": \"lines+markers\", \"name\": \"Arsenal\", \"text\": [\"Arsenal<br>Rank: 4\", \"Arsenal<br>Rank: 4\", \"Arsenal<br>Rank: 3\", \"Arsenal<br>Rank: 2\", \"Arsenal<br>Rank: 5\", \"Arsenal<br>Rank: 6\"], \"visible\": \"legendonly\", \"x\": [13, 14, 15, 16, 17, 18], \"y\": [4, 4, 3, 2, 5, 6], \"type\": \"scatter\", \"uid\": \"68654b30-d4cf-11e8-8beb-acde48001122\"}, {\"hoverinfo\": \"text\", \"marker\": {\"opacity\": 0.5, \"size\": 9}, \"mode\": \"lines+markers\", \"name\": \"Aston Villa\", \"text\": [\"Aston Villa<br>Rank: 15\", \"Aston Villa<br>Rank: 15\", \"Aston Villa<br>Rank: 17\", \"Aston Villa<br>Rank: 20\"], \"visible\": \"legendonly\", \"x\": [13, 14, 15, 16], \"y\": [15, 15, 17, 20], \"type\": \"scatter\", \"uid\": \"68654be4-d4cf-11e8-b0d4-acde48001122\"}, {\"hoverinfo\": \"text\", \"marker\": {\"opacity\": 0.5, \"size\": 9}, \"mode\": \"lines+markers\", \"name\": \"Bournemouth\", \"text\": [\"Bournemouth<br>Rank: 16\", \"Bournemouth<br>Rank: 9\", \"Bournemouth<br>Rank: 12\"], \"visible\": \"legendonly\", \"x\": [16, 17, 18], \"y\": [16, 9, 12], \"type\": \"scatter\", \"uid\": \"68654c7a-d4cf-11e8-8f14-acde48001122\"}, {\"hoverinfo\": \"text\", \"marker\": {\"opacity\": 0.5, \"size\": 9}, \"mode\": \"lines+markers\", \"name\": \"Brighton & Hove\", \"text\": [\"Brighton & Hove<br>Rank: 15\"], \"visible\": \"legendonly\", \"x\": [18], \"y\": [15], \"type\": \"scatter\", \"uid\": \"68654d06-d4cf-11e8-b286-acde48001122\"}, {\"hoverinfo\": \"text\", \"marker\": {\"opacity\": 0.5, \"size\": 9}, \"mode\": \"lines+markers\", \"name\": \"Burnley\", \"text\": [\"Burnley<br>Rank: 19\", \"Burnley<br>Rank: 16\", \"Burnley<br>Rank: 7\"], \"visible\": \"legendonly\", \"x\": [15, 17, 18], \"y\": [19, 16, 7], \"type\": \"scatter\", \"uid\": \"68654da6-d4cf-11e8-b2b6-acde48001122\"}, {\"hoverinfo\": \"text\", \"marker\": {\"opacity\": 0.5, \"size\": 9}, \"mode\": \"lines+markers\", \"name\": \"Cardiff City\", \"text\": [\"Cardiff City<br>Rank: 20\"], \"visible\": \"legendonly\", \"x\": [14], \"y\": [20], \"type\": \"scatter\", \"uid\": \"68654e34-d4cf-11e8-8e54-acde48001122\"}, {\"hoverinfo\": \"text\", \"marker\": {\"opacity\": 0.5, \"size\": 9}, \"mode\": \"lines+markers\", \"name\": \"Chelsea\", \"text\": [\"Chelsea<br>Rank: 3\", \"Chelsea<br>Rank: 3\", \"Chelsea<br>Rank: 1\", \"Chelsea<br>Rank: 10\", \"Chelsea<br>Rank: 1\", \"Chelsea<br>Rank: 5\"], \"visible\": \"legendonly\", \"x\": [13, 14, 15, 16, 17, 18], \"y\": [3, 3, 1, 10, 1, 5], \"type\": \"scatter\", \"uid\": \"68654ec8-d4cf-11e8-9c66-acde48001122\"}, {\"hoverinfo\": \"text\", \"marker\": {\"opacity\": 0.5, \"size\": 9}, \"mode\": \"lines+markers\", \"name\": \"Crystal Palace\", \"text\": [\"Crystal Palace<br>Rank: 11\", \"Crystal Palace<br>Rank: 10\", \"Crystal Palace<br>Rank: 15\", \"Crystal Palace<br>Rank: 14\", \"Crystal Palace<br>Rank: 11\"], \"visible\": \"legendonly\", \"x\": [14, 15, 16, 17, 18], \"y\": [11, 10, 15, 14, 11], \"type\": \"scatter\", \"uid\": \"68654f5e-d4cf-11e8-8f0a-acde48001122\"}, {\"hoverinfo\": \"text\", \"marker\": {\"opacity\": 0.5, \"size\": 9}, \"mode\": \"lines+markers\", \"name\": \"Everton\", \"text\": [\"Everton<br>Rank: 6\", \"Everton<br>Rank: 5\", \"Everton<br>Rank: 11\", \"Everton<br>Rank: 11\", \"Everton<br>Rank: 7\", \"Everton<br>Rank: 8\"], \"visible\": \"legendonly\", \"x\": [13, 14, 15, 16, 17, 18], \"y\": [6, 5, 11, 11, 7, 8], \"type\": \"scatter\", \"uid\": \"68654fe8-d4cf-11e8-81ce-acde48001122\"}, {\"hoverinfo\": \"text\", \"marker\": {\"opacity\": 0.5, \"size\": 9}, \"mode\": \"lines+markers\", \"name\": \"Fulham\", \"text\": [\"Fulham<br>Rank: 12\", \"Fulham<br>Rank: 19\"], \"visible\": \"legendonly\", \"x\": [13, 14], \"y\": [12, 19], \"type\": \"scatter\", \"uid\": \"68655080-d4cf-11e8-ba35-acde48001122\"}, {\"hoverinfo\": \"text\", \"marker\": {\"opacity\": 0.5, \"size\": 9}, \"mode\": \"lines+markers\", \"name\": \"Huddersfield\", \"text\": [\"Huddersfield<br>Rank: 16\"], \"visible\": \"legendonly\", \"x\": [18], \"y\": [16], \"type\": \"scatter\", \"uid\": \"6865518c-d4cf-11e8-ae35-acde48001122\"}, {\"hoverinfo\": \"text\", \"marker\": {\"opacity\": 0.5, \"size\": 9}, \"mode\": \"lines+markers\", \"name\": \"Hull City\", \"text\": [\"Hull City<br>Rank: 16\", \"Hull City<br>Rank: 18\", \"Hull City<br>Rank: 18\"], \"visible\": \"legendonly\", \"x\": [14, 15, 17], \"y\": [16, 18, 18], \"type\": \"scatter\", \"uid\": \"6865521a-d4cf-11e8-84f5-acde48001122\"}, {\"hoverinfo\": \"text\", \"marker\": {\"opacity\": 0.5, \"size\": 9}, \"mode\": \"lines+markers\", \"name\": \"Leicester City\", \"text\": [\"Leicester City<br>Rank: 14\", \"Leicester City<br>Rank: 1\", \"Leicester City<br>Rank: 12\", \"Leicester City<br>Rank: 9\"], \"visible\": \"legendonly\", \"x\": [15, 16, 17, 18], \"y\": [14, 1, 12, 9], \"type\": \"scatter\", \"uid\": \"6865529c-d4cf-11e8-a0ef-acde48001122\"}, {\"hoverinfo\": \"text\", \"marker\": {\"opacity\": 0.5, \"size\": 9}, \"mode\": \"lines+markers\", \"name\": \"Liverpool\", \"text\": [\"Liverpool<br>Rank: 7\", \"Liverpool<br>Rank: 2\", \"Liverpool<br>Rank: 6\", \"Liverpool<br>Rank: 8\", \"Liverpool<br>Rank: 4\", \"Liverpool<br>Rank: 4\"], \"visible\": \"legendonly\", \"x\": [13, 14, 15, 16, 17, 18], \"y\": [7, 2, 6, 8, 4, 4], \"type\": \"scatter\", \"uid\": \"68655328-d4cf-11e8-a401-acde48001122\"}, {\"hoverinfo\": \"text\", \"marker\": {\"opacity\": 0.5, \"size\": 9}, \"mode\": \"lines+markers\", \"name\": \"Manchester City\", \"text\": [\"Manchester City<br>Rank: 2\", \"Manchester City<br>Rank: 1\", \"Manchester City<br>Rank: 2\", \"Manchester City<br>Rank: 4\", \"Manchester City<br>Rank: 3\", \"Manchester City<br>Rank: 1\"], \"visible\": \"legendonly\", \"x\": [13, 14, 15, 16, 17, 18], \"y\": [2, 1, 2, 4, 3, 1], \"type\": \"scatter\", \"uid\": \"686553b4-d4cf-11e8-a6a4-acde48001122\"}, {\"hoverinfo\": \"text\", \"marker\": {\"opacity\": 0.5, \"size\": 9}, \"mode\": \"lines+markers\", \"name\": \"Manchester Utd\", \"text\": [\"Manchester Utd<br>Rank: 1\", \"Manchester Utd<br>Rank: 7\", \"Manchester Utd<br>Rank: 4\", \"Manchester Utd<br>Rank: 5\", \"Manchester Utd<br>Rank: 6\", \"Manchester Utd<br>Rank: 2\"], \"visible\": \"legendonly\", \"x\": [13, 14, 15, 16, 17, 18], \"y\": [1, 7, 4, 5, 6, 2], \"type\": \"scatter\", \"uid\": \"68655436-d4cf-11e8-8904-acde48001122\"}, {\"hoverinfo\": \"text\", \"marker\": {\"opacity\": 0.5, \"size\": 9}, \"mode\": \"lines+markers\", \"name\": \"Middlesbrough\", \"text\": [\"Middlesbrough<br>Rank: 19\"], \"visible\": \"legendonly\", \"x\": [17], \"y\": [19], \"type\": \"scatter\", \"uid\": \"686554c2-d4cf-11e8-a086-acde48001122\"}, {\"hoverinfo\": \"text\", \"marker\": {\"opacity\": 0.5, \"size\": 9}, \"mode\": \"lines+markers\", \"name\": \"Newcastle Utd\", \"text\": [\"Newcastle Utd<br>Rank: 16\", \"Newcastle Utd<br>Rank: 10\", \"Newcastle Utd<br>Rank: 15\", \"Newcastle Utd<br>Rank: 18\", \"Newcastle Utd<br>Rank: 10\"], \"visible\": \"legendonly\", \"x\": [13, 14, 15, 16, 18], \"y\": [16, 10, 15, 18, 10], \"type\": \"scatter\", \"uid\": \"6865553a-d4cf-11e8-9922-acde48001122\"}, {\"hoverinfo\": \"text\", \"marker\": {\"opacity\": 0.5, \"size\": 9}, \"mode\": \"lines+markers\", \"name\": \"Norwich City\", \"text\": [\"Norwich City<br>Rank: 11\", \"Norwich City<br>Rank: 18\", \"Norwich City<br>Rank: 19\"], \"visible\": \"legendonly\", \"x\": [13, 14, 16], \"y\": [11, 18, 19], \"type\": \"scatter\", \"uid\": \"686555b4-d4cf-11e8-89e5-acde48001122\"}, {\"hoverinfo\": \"text\", \"marker\": {\"opacity\": 0.5, \"size\": 9}, \"mode\": \"lines+markers\", \"name\": \"QP Rangers\", \"text\": [\"QP Rangers<br>Rank: 20\", \"QP Rangers<br>Rank: 20\"], \"visible\": \"legendonly\", \"x\": [13, 15], \"y\": [20, 20], \"type\": \"scatter\", \"uid\": \"68655628-d4cf-11e8-b0b3-acde48001122\"}, {\"hoverinfo\": \"text\", \"marker\": {\"opacity\": 0.5, \"size\": 9}, \"mode\": \"lines+markers\", \"name\": \"Reading\", \"text\": [\"Reading<br>Rank: 19\"], \"visible\": \"legendonly\", \"x\": [13], \"y\": [19], \"type\": \"scatter\", \"uid\": \"686556ac-d4cf-11e8-a8f4-acde48001122\"}, {\"hoverinfo\": \"text\", \"marker\": {\"opacity\": 0.5, \"size\": 9}, \"mode\": \"lines+markers\", \"name\": \"Southampton\", \"text\": [\"Southampton<br>Rank: 14\", \"Southampton<br>Rank: 8\", \"Southampton<br>Rank: 7\", \"Southampton<br>Rank: 6\", \"Southampton<br>Rank: 8\", \"Southampton<br>Rank: 17\"], \"visible\": \"legendonly\", \"x\": [13, 14, 15, 16, 17, 18], \"y\": [14, 8, 7, 6, 8, 17], \"type\": \"scatter\", \"uid\": \"68655724-d4cf-11e8-ba30-acde48001122\"}, {\"hoverinfo\": \"text\", \"marker\": {\"opacity\": 0.5, \"size\": 9}, \"mode\": \"lines+markers\", \"name\": \"Stoke City\", \"text\": [\"Stoke City<br>Rank: 13\", \"Stoke City<br>Rank: 9\", \"Stoke City<br>Rank: 9\", \"Stoke City<br>Rank: 9\", \"Stoke City<br>Rank: 13\", \"Stoke City<br>Rank: 19\"], \"visible\": \"legendonly\", \"x\": [13, 14, 15, 16, 17, 18], \"y\": [13, 9, 9, 9, 13, 19], \"type\": \"scatter\", \"uid\": \"6865579c-d4cf-11e8-b4d9-acde48001122\"}, {\"hoverinfo\": \"text\", \"marker\": {\"opacity\": 0.5, \"size\": 9}, \"mode\": \"lines+markers\", \"name\": \"Sunderland\", \"text\": [\"Sunderland<br>Rank: 17\", \"Sunderland<br>Rank: 14\", \"Sunderland<br>Rank: 16\", \"Sunderland<br>Rank: 17\", \"Sunderland<br>Rank: 20\"], \"visible\": \"legendonly\", \"x\": [13, 14, 15, 16, 17], \"y\": [17, 14, 16, 17, 20], \"type\": \"scatter\", \"uid\": \"68655814-d4cf-11e8-becb-acde48001122\"}, {\"hoverinfo\": \"text\", \"marker\": {\"opacity\": 0.5, \"size\": 9}, \"mode\": \"lines+markers\", \"name\": \"Swansea City\", \"text\": [\"Swansea City<br>Rank: 9\", \"Swansea City<br>Rank: 12\", \"Swansea City<br>Rank: 8\", \"Swansea City<br>Rank: 12\", \"Swansea City<br>Rank: 15\", \"Swansea City<br>Rank: 18\"], \"visible\": \"legendonly\", \"x\": [13, 14, 15, 16, 17, 18], \"y\": [9, 12, 8, 12, 15, 18], \"type\": \"scatter\", \"uid\": \"68655898-d4cf-11e8-b335-acde48001122\"}, {\"hoverinfo\": \"text\", \"marker\": {\"opacity\": 0.5, \"size\": 9}, \"mode\": \"lines+markers\", \"name\": \"Tottenham\", \"text\": [\"Tottenham<br>Rank: 5\", \"Tottenham<br>Rank: 6\", \"Tottenham<br>Rank: 5\", \"Tottenham<br>Rank: 3\", \"Tottenham<br>Rank: 2\", \"Tottenham<br>Rank: 3\"], \"visible\": \"legendonly\", \"x\": [13, 14, 15, 16, 17, 18], \"y\": [5, 6, 5, 3, 2, 3], \"type\": \"scatter\", \"uid\": \"6865590c-d4cf-11e8-b7da-acde48001122\"}, {\"hoverinfo\": \"text\", \"marker\": {\"opacity\": 0.5, \"size\": 9}, \"mode\": \"lines+markers\", \"name\": \"Watford\", \"text\": [\"Watford<br>Rank: 13\", \"Watford<br>Rank: 17\", \"Watford<br>Rank: 14\"], \"visible\": \"legendonly\", \"x\": [16, 17, 18], \"y\": [13, 17, 14], \"type\": \"scatter\", \"uid\": \"68655986-d4cf-11e8-bd92-acde48001122\"}, {\"hoverinfo\": \"text\", \"marker\": {\"opacity\": 0.5, \"size\": 9}, \"mode\": \"lines+markers\", \"name\": \"West Bromwich\", \"text\": [\"West Bromwich<br>Rank: 8\", \"West Bromwich<br>Rank: 17\", \"West Bromwich<br>Rank: 13\", \"West Bromwich<br>Rank: 14\", \"West Bromwich<br>Rank: 10\", \"West Bromwich<br>Rank: 20\"], \"visible\": \"legendonly\", \"x\": [13, 14, 15, 16, 17, 18], \"y\": [8, 17, 13, 14, 10, 20], \"type\": \"scatter\", \"uid\": \"686559fe-d4cf-11e8-a6a6-acde48001122\"}, {\"hoverinfo\": \"text\", \"marker\": {\"opacity\": 0.5, \"size\": 9}, \"mode\": \"lines+markers\", \"name\": \"West Ham Utd\", \"text\": [\"West Ham Utd<br>Rank: 10\", \"West Ham Utd<br>Rank: 13\", \"West Ham Utd<br>Rank: 12\", \"West Ham Utd<br>Rank: 7\", \"West Ham Utd<br>Rank: 11\", \"West Ham Utd<br>Rank: 13\"], \"visible\": \"legendonly\", \"x\": [13, 14, 15, 16, 17, 18], \"y\": [10, 13, 12, 7, 11, 13], \"type\": \"scatter\", \"uid\": \"68655a76-d4cf-11e8-b0ca-acde48001122\"}, {\"hoverinfo\": \"text\", \"marker\": {\"opacity\": 0.5, \"size\": 9}, \"mode\": \"lines+markers\", \"name\": \"Wigan\", \"text\": [\"Wigan<br>Rank: 18\"], \"visible\": \"legendonly\", \"x\": [13], \"y\": [18], \"type\": \"scatter\", \"uid\": \"68655aee-d4cf-11e8-9815-acde48001122\"}], {\"hovermode\": \"closest\", \"legend\": {\"traceorder\": \"grouped\"}, \"title\": \"Team Performance by Season\", \"xaxis\": {\"range\": [12.8, 19.2], \"title\": \"Season\"}, \"yaxis\": {\"autorange\": \"reversed\", \"range\": [0.5, 20.5], \"tickvals\": [5, 10, 15, 20], \"title\": \"Final Rank\", \"zeroline\": false}}, {\"showLink\": true, \"linkText\": \"Export to plot.ly\"})});</script>"
      ],
      "text/vnd.plotly.v1+html": [
       "<div id=\"5b7a6721-d586-4076-a26d-bdfcbb4334c2\" style=\"height: 525px; width: 100%;\" class=\"plotly-graph-div\"></div><script type=\"text/javascript\">require([\"plotly\"], function(Plotly) { window.PLOTLYENV=window.PLOTLYENV || {};window.PLOTLYENV.BASE_URL=\"https://plot.ly\";Plotly.newPlot(\"5b7a6721-d586-4076-a26d-bdfcbb4334c2\", [{\"hoverinfo\": \"none\", \"marker\": {\"color\": \"white\"}, \"showlegend\": false, \"x\": [15], \"y\": [21], \"type\": \"scatter\", \"uid\": \"686548ec-d4cf-11e8-a97b-acde48001122\"}, {\"hoverinfo\": \"none\", \"marker\": {\"color\": \"white\"}, \"showlegend\": false, \"x\": [15], \"y\": [0.9], \"type\": \"scatter\", \"uid\": \"68654a68-d4cf-11e8-8adb-acde48001122\"}, {\"hoverinfo\": \"text\", \"marker\": {\"opacity\": 0.5, \"size\": 9}, \"mode\": \"lines+markers\", \"name\": \"Arsenal\", \"text\": [\"Arsenal<br>Rank: 4\", \"Arsenal<br>Rank: 4\", \"Arsenal<br>Rank: 3\", \"Arsenal<br>Rank: 2\", \"Arsenal<br>Rank: 5\", \"Arsenal<br>Rank: 6\"], \"visible\": \"legendonly\", \"x\": [13, 14, 15, 16, 17, 18], \"y\": [4, 4, 3, 2, 5, 6], \"type\": \"scatter\", \"uid\": \"68654b30-d4cf-11e8-8beb-acde48001122\"}, {\"hoverinfo\": \"text\", \"marker\": {\"opacity\": 0.5, \"size\": 9}, \"mode\": \"lines+markers\", \"name\": \"Aston Villa\", \"text\": [\"Aston Villa<br>Rank: 15\", \"Aston Villa<br>Rank: 15\", \"Aston Villa<br>Rank: 17\", \"Aston Villa<br>Rank: 20\"], \"visible\": \"legendonly\", \"x\": [13, 14, 15, 16], \"y\": [15, 15, 17, 20], \"type\": \"scatter\", \"uid\": \"68654be4-d4cf-11e8-b0d4-acde48001122\"}, {\"hoverinfo\": \"text\", \"marker\": {\"opacity\": 0.5, \"size\": 9}, \"mode\": \"lines+markers\", \"name\": \"Bournemouth\", \"text\": [\"Bournemouth<br>Rank: 16\", \"Bournemouth<br>Rank: 9\", \"Bournemouth<br>Rank: 12\"], \"visible\": \"legendonly\", \"x\": [16, 17, 18], \"y\": [16, 9, 12], \"type\": \"scatter\", \"uid\": \"68654c7a-d4cf-11e8-8f14-acde48001122\"}, {\"hoverinfo\": \"text\", \"marker\": {\"opacity\": 0.5, \"size\": 9}, \"mode\": \"lines+markers\", \"name\": \"Brighton & Hove\", \"text\": [\"Brighton & Hove<br>Rank: 15\"], \"visible\": \"legendonly\", \"x\": [18], \"y\": [15], \"type\": \"scatter\", \"uid\": \"68654d06-d4cf-11e8-b286-acde48001122\"}, {\"hoverinfo\": \"text\", \"marker\": {\"opacity\": 0.5, \"size\": 9}, \"mode\": \"lines+markers\", \"name\": \"Burnley\", \"text\": [\"Burnley<br>Rank: 19\", \"Burnley<br>Rank: 16\", \"Burnley<br>Rank: 7\"], \"visible\": \"legendonly\", \"x\": [15, 17, 18], \"y\": [19, 16, 7], \"type\": \"scatter\", \"uid\": \"68654da6-d4cf-11e8-b2b6-acde48001122\"}, {\"hoverinfo\": \"text\", \"marker\": {\"opacity\": 0.5, \"size\": 9}, \"mode\": \"lines+markers\", \"name\": \"Cardiff City\", \"text\": [\"Cardiff City<br>Rank: 20\"], \"visible\": \"legendonly\", \"x\": [14], \"y\": [20], \"type\": \"scatter\", \"uid\": \"68654e34-d4cf-11e8-8e54-acde48001122\"}, {\"hoverinfo\": \"text\", \"marker\": {\"opacity\": 0.5, \"size\": 9}, \"mode\": \"lines+markers\", \"name\": \"Chelsea\", \"text\": [\"Chelsea<br>Rank: 3\", \"Chelsea<br>Rank: 3\", \"Chelsea<br>Rank: 1\", \"Chelsea<br>Rank: 10\", \"Chelsea<br>Rank: 1\", \"Chelsea<br>Rank: 5\"], \"visible\": \"legendonly\", \"x\": [13, 14, 15, 16, 17, 18], \"y\": [3, 3, 1, 10, 1, 5], \"type\": \"scatter\", \"uid\": \"68654ec8-d4cf-11e8-9c66-acde48001122\"}, {\"hoverinfo\": \"text\", \"marker\": {\"opacity\": 0.5, \"size\": 9}, \"mode\": \"lines+markers\", \"name\": \"Crystal Palace\", \"text\": [\"Crystal Palace<br>Rank: 11\", \"Crystal Palace<br>Rank: 10\", \"Crystal Palace<br>Rank: 15\", \"Crystal Palace<br>Rank: 14\", \"Crystal Palace<br>Rank: 11\"], \"visible\": \"legendonly\", \"x\": [14, 15, 16, 17, 18], \"y\": [11, 10, 15, 14, 11], \"type\": \"scatter\", \"uid\": \"68654f5e-d4cf-11e8-8f0a-acde48001122\"}, {\"hoverinfo\": \"text\", \"marker\": {\"opacity\": 0.5, \"size\": 9}, \"mode\": \"lines+markers\", \"name\": \"Everton\", \"text\": [\"Everton<br>Rank: 6\", \"Everton<br>Rank: 5\", \"Everton<br>Rank: 11\", \"Everton<br>Rank: 11\", \"Everton<br>Rank: 7\", \"Everton<br>Rank: 8\"], \"visible\": \"legendonly\", \"x\": [13, 14, 15, 16, 17, 18], \"y\": [6, 5, 11, 11, 7, 8], \"type\": \"scatter\", \"uid\": \"68654fe8-d4cf-11e8-81ce-acde48001122\"}, {\"hoverinfo\": \"text\", \"marker\": {\"opacity\": 0.5, \"size\": 9}, \"mode\": \"lines+markers\", \"name\": \"Fulham\", \"text\": [\"Fulham<br>Rank: 12\", \"Fulham<br>Rank: 19\"], \"visible\": \"legendonly\", \"x\": [13, 14], \"y\": [12, 19], \"type\": \"scatter\", \"uid\": \"68655080-d4cf-11e8-ba35-acde48001122\"}, {\"hoverinfo\": \"text\", \"marker\": {\"opacity\": 0.5, \"size\": 9}, \"mode\": \"lines+markers\", \"name\": \"Huddersfield\", \"text\": [\"Huddersfield<br>Rank: 16\"], \"visible\": \"legendonly\", \"x\": [18], \"y\": [16], \"type\": \"scatter\", \"uid\": \"6865518c-d4cf-11e8-ae35-acde48001122\"}, {\"hoverinfo\": \"text\", \"marker\": {\"opacity\": 0.5, \"size\": 9}, \"mode\": \"lines+markers\", \"name\": \"Hull City\", \"text\": [\"Hull City<br>Rank: 16\", \"Hull City<br>Rank: 18\", \"Hull City<br>Rank: 18\"], \"visible\": \"legendonly\", \"x\": [14, 15, 17], \"y\": [16, 18, 18], \"type\": \"scatter\", \"uid\": \"6865521a-d4cf-11e8-84f5-acde48001122\"}, {\"hoverinfo\": \"text\", \"marker\": {\"opacity\": 0.5, \"size\": 9}, \"mode\": \"lines+markers\", \"name\": \"Leicester City\", \"text\": [\"Leicester City<br>Rank: 14\", \"Leicester City<br>Rank: 1\", \"Leicester City<br>Rank: 12\", \"Leicester City<br>Rank: 9\"], \"visible\": \"legendonly\", \"x\": [15, 16, 17, 18], \"y\": [14, 1, 12, 9], \"type\": \"scatter\", \"uid\": \"6865529c-d4cf-11e8-a0ef-acde48001122\"}, {\"hoverinfo\": \"text\", \"marker\": {\"opacity\": 0.5, \"size\": 9}, \"mode\": \"lines+markers\", \"name\": \"Liverpool\", \"text\": [\"Liverpool<br>Rank: 7\", \"Liverpool<br>Rank: 2\", \"Liverpool<br>Rank: 6\", \"Liverpool<br>Rank: 8\", \"Liverpool<br>Rank: 4\", \"Liverpool<br>Rank: 4\"], \"visible\": \"legendonly\", \"x\": [13, 14, 15, 16, 17, 18], \"y\": [7, 2, 6, 8, 4, 4], \"type\": \"scatter\", \"uid\": \"68655328-d4cf-11e8-a401-acde48001122\"}, {\"hoverinfo\": \"text\", \"marker\": {\"opacity\": 0.5, \"size\": 9}, \"mode\": \"lines+markers\", \"name\": \"Manchester City\", \"text\": [\"Manchester City<br>Rank: 2\", \"Manchester City<br>Rank: 1\", \"Manchester City<br>Rank: 2\", \"Manchester City<br>Rank: 4\", \"Manchester City<br>Rank: 3\", \"Manchester City<br>Rank: 1\"], \"visible\": \"legendonly\", \"x\": [13, 14, 15, 16, 17, 18], \"y\": [2, 1, 2, 4, 3, 1], \"type\": \"scatter\", \"uid\": \"686553b4-d4cf-11e8-a6a4-acde48001122\"}, {\"hoverinfo\": \"text\", \"marker\": {\"opacity\": 0.5, \"size\": 9}, \"mode\": \"lines+markers\", \"name\": \"Manchester Utd\", \"text\": [\"Manchester Utd<br>Rank: 1\", \"Manchester Utd<br>Rank: 7\", \"Manchester Utd<br>Rank: 4\", \"Manchester Utd<br>Rank: 5\", \"Manchester Utd<br>Rank: 6\", \"Manchester Utd<br>Rank: 2\"], \"visible\": \"legendonly\", \"x\": [13, 14, 15, 16, 17, 18], \"y\": [1, 7, 4, 5, 6, 2], \"type\": \"scatter\", \"uid\": \"68655436-d4cf-11e8-8904-acde48001122\"}, {\"hoverinfo\": \"text\", \"marker\": {\"opacity\": 0.5, \"size\": 9}, \"mode\": \"lines+markers\", \"name\": \"Middlesbrough\", \"text\": [\"Middlesbrough<br>Rank: 19\"], \"visible\": \"legendonly\", \"x\": [17], \"y\": [19], \"type\": \"scatter\", \"uid\": \"686554c2-d4cf-11e8-a086-acde48001122\"}, {\"hoverinfo\": \"text\", \"marker\": {\"opacity\": 0.5, \"size\": 9}, \"mode\": \"lines+markers\", \"name\": \"Newcastle Utd\", \"text\": [\"Newcastle Utd<br>Rank: 16\", \"Newcastle Utd<br>Rank: 10\", \"Newcastle Utd<br>Rank: 15\", \"Newcastle Utd<br>Rank: 18\", \"Newcastle Utd<br>Rank: 10\"], \"visible\": \"legendonly\", \"x\": [13, 14, 15, 16, 18], \"y\": [16, 10, 15, 18, 10], \"type\": \"scatter\", \"uid\": \"6865553a-d4cf-11e8-9922-acde48001122\"}, {\"hoverinfo\": \"text\", \"marker\": {\"opacity\": 0.5, \"size\": 9}, \"mode\": \"lines+markers\", \"name\": \"Norwich City\", \"text\": [\"Norwich City<br>Rank: 11\", \"Norwich City<br>Rank: 18\", \"Norwich City<br>Rank: 19\"], \"visible\": \"legendonly\", \"x\": [13, 14, 16], \"y\": [11, 18, 19], \"type\": \"scatter\", \"uid\": \"686555b4-d4cf-11e8-89e5-acde48001122\"}, {\"hoverinfo\": \"text\", \"marker\": {\"opacity\": 0.5, \"size\": 9}, \"mode\": \"lines+markers\", \"name\": \"QP Rangers\", \"text\": [\"QP Rangers<br>Rank: 20\", \"QP Rangers<br>Rank: 20\"], \"visible\": \"legendonly\", \"x\": [13, 15], \"y\": [20, 20], \"type\": \"scatter\", \"uid\": \"68655628-d4cf-11e8-b0b3-acde48001122\"}, {\"hoverinfo\": \"text\", \"marker\": {\"opacity\": 0.5, \"size\": 9}, \"mode\": \"lines+markers\", \"name\": \"Reading\", \"text\": [\"Reading<br>Rank: 19\"], \"visible\": \"legendonly\", \"x\": [13], \"y\": [19], \"type\": \"scatter\", \"uid\": \"686556ac-d4cf-11e8-a8f4-acde48001122\"}, {\"hoverinfo\": \"text\", \"marker\": {\"opacity\": 0.5, \"size\": 9}, \"mode\": \"lines+markers\", \"name\": \"Southampton\", \"text\": [\"Southampton<br>Rank: 14\", \"Southampton<br>Rank: 8\", \"Southampton<br>Rank: 7\", \"Southampton<br>Rank: 6\", \"Southampton<br>Rank: 8\", \"Southampton<br>Rank: 17\"], \"visible\": \"legendonly\", \"x\": [13, 14, 15, 16, 17, 18], \"y\": [14, 8, 7, 6, 8, 17], \"type\": \"scatter\", \"uid\": \"68655724-d4cf-11e8-ba30-acde48001122\"}, {\"hoverinfo\": \"text\", \"marker\": {\"opacity\": 0.5, \"size\": 9}, \"mode\": \"lines+markers\", \"name\": \"Stoke City\", \"text\": [\"Stoke City<br>Rank: 13\", \"Stoke City<br>Rank: 9\", \"Stoke City<br>Rank: 9\", \"Stoke City<br>Rank: 9\", \"Stoke City<br>Rank: 13\", \"Stoke City<br>Rank: 19\"], \"visible\": \"legendonly\", \"x\": [13, 14, 15, 16, 17, 18], \"y\": [13, 9, 9, 9, 13, 19], \"type\": \"scatter\", \"uid\": \"6865579c-d4cf-11e8-b4d9-acde48001122\"}, {\"hoverinfo\": \"text\", \"marker\": {\"opacity\": 0.5, \"size\": 9}, \"mode\": \"lines+markers\", \"name\": \"Sunderland\", \"text\": [\"Sunderland<br>Rank: 17\", \"Sunderland<br>Rank: 14\", \"Sunderland<br>Rank: 16\", \"Sunderland<br>Rank: 17\", \"Sunderland<br>Rank: 20\"], \"visible\": \"legendonly\", \"x\": [13, 14, 15, 16, 17], \"y\": [17, 14, 16, 17, 20], \"type\": \"scatter\", \"uid\": \"68655814-d4cf-11e8-becb-acde48001122\"}, {\"hoverinfo\": \"text\", \"marker\": {\"opacity\": 0.5, \"size\": 9}, \"mode\": \"lines+markers\", \"name\": \"Swansea City\", \"text\": [\"Swansea City<br>Rank: 9\", \"Swansea City<br>Rank: 12\", \"Swansea City<br>Rank: 8\", \"Swansea City<br>Rank: 12\", \"Swansea City<br>Rank: 15\", \"Swansea City<br>Rank: 18\"], \"visible\": \"legendonly\", \"x\": [13, 14, 15, 16, 17, 18], \"y\": [9, 12, 8, 12, 15, 18], \"type\": \"scatter\", \"uid\": \"68655898-d4cf-11e8-b335-acde48001122\"}, {\"hoverinfo\": \"text\", \"marker\": {\"opacity\": 0.5, \"size\": 9}, \"mode\": \"lines+markers\", \"name\": \"Tottenham\", \"text\": [\"Tottenham<br>Rank: 5\", \"Tottenham<br>Rank: 6\", \"Tottenham<br>Rank: 5\", \"Tottenham<br>Rank: 3\", \"Tottenham<br>Rank: 2\", \"Tottenham<br>Rank: 3\"], \"visible\": \"legendonly\", \"x\": [13, 14, 15, 16, 17, 18], \"y\": [5, 6, 5, 3, 2, 3], \"type\": \"scatter\", \"uid\": \"6865590c-d4cf-11e8-b7da-acde48001122\"}, {\"hoverinfo\": \"text\", \"marker\": {\"opacity\": 0.5, \"size\": 9}, \"mode\": \"lines+markers\", \"name\": \"Watford\", \"text\": [\"Watford<br>Rank: 13\", \"Watford<br>Rank: 17\", \"Watford<br>Rank: 14\"], \"visible\": \"legendonly\", \"x\": [16, 17, 18], \"y\": [13, 17, 14], \"type\": \"scatter\", \"uid\": \"68655986-d4cf-11e8-bd92-acde48001122\"}, {\"hoverinfo\": \"text\", \"marker\": {\"opacity\": 0.5, \"size\": 9}, \"mode\": \"lines+markers\", \"name\": \"West Bromwich\", \"text\": [\"West Bromwich<br>Rank: 8\", \"West Bromwich<br>Rank: 17\", \"West Bromwich<br>Rank: 13\", \"West Bromwich<br>Rank: 14\", \"West Bromwich<br>Rank: 10\", \"West Bromwich<br>Rank: 20\"], \"visible\": \"legendonly\", \"x\": [13, 14, 15, 16, 17, 18], \"y\": [8, 17, 13, 14, 10, 20], \"type\": \"scatter\", \"uid\": \"686559fe-d4cf-11e8-a6a6-acde48001122\"}, {\"hoverinfo\": \"text\", \"marker\": {\"opacity\": 0.5, \"size\": 9}, \"mode\": \"lines+markers\", \"name\": \"West Ham Utd\", \"text\": [\"West Ham Utd<br>Rank: 10\", \"West Ham Utd<br>Rank: 13\", \"West Ham Utd<br>Rank: 12\", \"West Ham Utd<br>Rank: 7\", \"West Ham Utd<br>Rank: 11\", \"West Ham Utd<br>Rank: 13\"], \"visible\": \"legendonly\", \"x\": [13, 14, 15, 16, 17, 18], \"y\": [10, 13, 12, 7, 11, 13], \"type\": \"scatter\", \"uid\": \"68655a76-d4cf-11e8-b0ca-acde48001122\"}, {\"hoverinfo\": \"text\", \"marker\": {\"opacity\": 0.5, \"size\": 9}, \"mode\": \"lines+markers\", \"name\": \"Wigan\", \"text\": [\"Wigan<br>Rank: 18\"], \"visible\": \"legendonly\", \"x\": [13], \"y\": [18], \"type\": \"scatter\", \"uid\": \"68655aee-d4cf-11e8-9815-acde48001122\"}], {\"hovermode\": \"closest\", \"legend\": {\"traceorder\": \"grouped\"}, \"title\": \"Team Performance by Season\", \"xaxis\": {\"range\": [12.8, 19.2], \"title\": \"Season\"}, \"yaxis\": {\"autorange\": \"reversed\", \"range\": [0.5, 20.5], \"tickvals\": [5, 10, 15, 20], \"title\": \"Final Rank\", \"zeroline\": false}}, {\"showLink\": true, \"linkText\": \"Export to plot.ly\"})});</script>"
      ]
     },
     "metadata": {},
     "output_type": "display_data"
    }
   ],
   "source": [
    "teams = sorted(set(df['Team']))\n",
    "additional_trace = go.Scatter(x=[15], y=[21], marker=dict(color='white'), showlegend=False, hoverinfo='none')\n",
    "additional_trace2 = go.Scatter(x=[15], y=[0.9], marker=dict(color='white'), showlegend=False, hoverinfo='none')\n",
    "\n",
    "data = [additional_trace, additional_trace2]\n",
    "for team in teams:\n",
    "    team_data = dict(\n",
    "            x = df.loc[df['Team'] == team, 'Season'],\n",
    "            y = df.loc[df['Team'] == team, 'Rank'],\n",
    "            name = team,\n",
    "            mode = 'lines+markers',\n",
    "            marker = dict(\n",
    "                    size = 9,\n",
    "                    opacity = 0.5),\n",
    "            text = df.loc[df['Team'] == team, 'Team'] + '<br>' +\n",
    "                'Rank: ' + df.loc[df['Team'] == team, 'Rank'].apply(str),\n",
    "            type = 'scatter',\n",
    "            hoverinfo = 'text',\n",
    "            visible = 'legendonly'\n",
    "        )\n",
    "    data.append(team_data)\n",
    "\n",
    "    \n",
    "layout = go.Layout(\n",
    "    title = 'Team Performance by Season',\n",
    "    yaxis = dict(\n",
    "        title ='Final Rank',\n",
    "        range = [0.5, 20.5],\n",
    "        autorange = 'reversed',\n",
    "        zeroline = False,\n",
    "        tickvals = [5, 10, 15, 20]\n",
    "\n",
    "    ),\n",
    "    xaxis = dict(\n",
    "        title = 'Season',\n",
    "        range = [12.8, 19.2],\n",
    "    ),\n",
    "    hovermode = 'closest',\n",
    "    legend = dict(traceorder = 'grouped')\n",
    "\n",
    ")\n",
    "\n",
    "fig = go.Figure(data = data, layout = layout)\n",
    "iplot(fig)"
   ]
  },
  {
   "cell_type": "code",
   "execution_count": 5,
   "metadata": {},
   "outputs": [],
   "source": [
    "matchday = pd.read_csv('./Data/matchday.csv')"
   ]
  },
  {
   "cell_type": "code",
   "execution_count": 6,
   "metadata": {},
   "outputs": [
    {
     "data": {
      "text/html": [
       "<div>\n",
       "<style scoped>\n",
       "    .dataframe tbody tr th:only-of-type {\n",
       "        vertical-align: middle;\n",
       "    }\n",
       "\n",
       "    .dataframe tbody tr th {\n",
       "        vertical-align: top;\n",
       "    }\n",
       "\n",
       "    .dataframe thead th {\n",
       "        text-align: right;\n",
       "    }\n",
       "</style>\n",
       "<table border=\"1\" class=\"dataframe\">\n",
       "  <thead>\n",
       "    <tr style=\"text-align: right;\">\n",
       "      <th></th>\n",
       "      <th>Team</th>\n",
       "      <th>Matchday</th>\n",
       "      <th>PTS</th>\n",
       "      <th>GD</th>\n",
       "      <th>Rank</th>\n",
       "    </tr>\n",
       "  </thead>\n",
       "  <tbody>\n",
       "    <tr>\n",
       "      <th>0</th>\n",
       "      <td>Arsenal</td>\n",
       "      <td>1</td>\n",
       "      <td>0</td>\n",
       "      <td>-2</td>\n",
       "      <td>15</td>\n",
       "    </tr>\n",
       "    <tr>\n",
       "      <th>1</th>\n",
       "      <td>Bournemouth</td>\n",
       "      <td>1</td>\n",
       "      <td>3</td>\n",
       "      <td>2</td>\n",
       "      <td>5</td>\n",
       "    </tr>\n",
       "    <tr>\n",
       "      <th>2</th>\n",
       "      <td>Brighton &amp; Hove</td>\n",
       "      <td>1</td>\n",
       "      <td>0</td>\n",
       "      <td>-2</td>\n",
       "      <td>16</td>\n",
       "    </tr>\n",
       "    <tr>\n",
       "      <th>3</th>\n",
       "      <td>Burnley</td>\n",
       "      <td>1</td>\n",
       "      <td>1</td>\n",
       "      <td>0</td>\n",
       "      <td>11</td>\n",
       "    </tr>\n",
       "    <tr>\n",
       "      <th>4</th>\n",
       "      <td>Cardiff City</td>\n",
       "      <td>1</td>\n",
       "      <td>0</td>\n",
       "      <td>-2</td>\n",
       "      <td>17</td>\n",
       "    </tr>\n",
       "    <tr>\n",
       "      <th>5</th>\n",
       "      <td>Chelsea</td>\n",
       "      <td>1</td>\n",
       "      <td>3</td>\n",
       "      <td>3</td>\n",
       "      <td>2</td>\n",
       "    </tr>\n",
       "    <tr>\n",
       "      <th>6</th>\n",
       "      <td>Crystal Palace</td>\n",
       "      <td>1</td>\n",
       "      <td>3</td>\n",
       "      <td>2</td>\n",
       "      <td>4</td>\n",
       "    </tr>\n",
       "    <tr>\n",
       "      <th>7</th>\n",
       "      <td>Everton</td>\n",
       "      <td>1</td>\n",
       "      <td>1</td>\n",
       "      <td>0</td>\n",
       "      <td>9</td>\n",
       "    </tr>\n",
       "    <tr>\n",
       "      <th>8</th>\n",
       "      <td>Fulham</td>\n",
       "      <td>1</td>\n",
       "      <td>0</td>\n",
       "      <td>-2</td>\n",
       "      <td>18</td>\n",
       "    </tr>\n",
       "    <tr>\n",
       "      <th>9</th>\n",
       "      <td>Huddersfield</td>\n",
       "      <td>1</td>\n",
       "      <td>0</td>\n",
       "      <td>-3</td>\n",
       "      <td>19</td>\n",
       "    </tr>\n",
       "    <tr>\n",
       "      <th>10</th>\n",
       "      <td>Leicester City</td>\n",
       "      <td>1</td>\n",
       "      <td>0</td>\n",
       "      <td>-1</td>\n",
       "      <td>13</td>\n",
       "    </tr>\n",
       "    <tr>\n",
       "      <th>11</th>\n",
       "      <td>Liverpool</td>\n",
       "      <td>1</td>\n",
       "      <td>3</td>\n",
       "      <td>4</td>\n",
       "      <td>1</td>\n",
       "    </tr>\n",
       "    <tr>\n",
       "      <th>12</th>\n",
       "      <td>Manchester City</td>\n",
       "      <td>1</td>\n",
       "      <td>3</td>\n",
       "      <td>2</td>\n",
       "      <td>3</td>\n",
       "    </tr>\n",
       "    <tr>\n",
       "      <th>13</th>\n",
       "      <td>Manchester Utd</td>\n",
       "      <td>1</td>\n",
       "      <td>3</td>\n",
       "      <td>1</td>\n",
       "      <td>7</td>\n",
       "    </tr>\n",
       "    <tr>\n",
       "      <th>14</th>\n",
       "      <td>Newcastle Utd</td>\n",
       "      <td>1</td>\n",
       "      <td>0</td>\n",
       "      <td>-1</td>\n",
       "      <td>14</td>\n",
       "    </tr>\n",
       "    <tr>\n",
       "      <th>15</th>\n",
       "      <td>Southampton</td>\n",
       "      <td>1</td>\n",
       "      <td>1</td>\n",
       "      <td>0</td>\n",
       "      <td>12</td>\n",
       "    </tr>\n",
       "    <tr>\n",
       "      <th>16</th>\n",
       "      <td>Tottenham</td>\n",
       "      <td>1</td>\n",
       "      <td>3</td>\n",
       "      <td>1</td>\n",
       "      <td>8</td>\n",
       "    </tr>\n",
       "    <tr>\n",
       "      <th>17</th>\n",
       "      <td>Watford</td>\n",
       "      <td>1</td>\n",
       "      <td>3</td>\n",
       "      <td>2</td>\n",
       "      <td>6</td>\n",
       "    </tr>\n",
       "    <tr>\n",
       "      <th>18</th>\n",
       "      <td>West Ham Utd</td>\n",
       "      <td>1</td>\n",
       "      <td>0</td>\n",
       "      <td>-4</td>\n",
       "      <td>20</td>\n",
       "    </tr>\n",
       "    <tr>\n",
       "      <th>19</th>\n",
       "      <td>Wolves</td>\n",
       "      <td>1</td>\n",
       "      <td>1</td>\n",
       "      <td>0</td>\n",
       "      <td>10</td>\n",
       "    </tr>\n",
       "    <tr>\n",
       "      <th>20</th>\n",
       "      <td>Arsenal</td>\n",
       "      <td>2</td>\n",
       "      <td>0</td>\n",
       "      <td>-3</td>\n",
       "      <td>17</td>\n",
       "    </tr>\n",
       "    <tr>\n",
       "      <th>21</th>\n",
       "      <td>Bournemouth</td>\n",
       "      <td>2</td>\n",
       "      <td>6</td>\n",
       "      <td>3</td>\n",
       "      <td>6</td>\n",
       "    </tr>\n",
       "    <tr>\n",
       "      <th>22</th>\n",
       "      <td>Brighton &amp; Hove</td>\n",
       "      <td>2</td>\n",
       "      <td>3</td>\n",
       "      <td>-1</td>\n",
       "      <td>11</td>\n",
       "    </tr>\n",
       "    <tr>\n",
       "      <th>23</th>\n",
       "      <td>Burnley</td>\n",
       "      <td>2</td>\n",
       "      <td>1</td>\n",
       "      <td>-2</td>\n",
       "      <td>15</td>\n",
       "    </tr>\n",
       "    <tr>\n",
       "      <th>24</th>\n",
       "      <td>Cardiff City</td>\n",
       "      <td>2</td>\n",
       "      <td>1</td>\n",
       "      <td>-2</td>\n",
       "      <td>16</td>\n",
       "    </tr>\n",
       "    <tr>\n",
       "      <th>25</th>\n",
       "      <td>Chelsea</td>\n",
       "      <td>2</td>\n",
       "      <td>6</td>\n",
       "      <td>4</td>\n",
       "      <td>3</td>\n",
       "    </tr>\n",
       "    <tr>\n",
       "      <th>26</th>\n",
       "      <td>Crystal Palace</td>\n",
       "      <td>2</td>\n",
       "      <td>3</td>\n",
       "      <td>0</td>\n",
       "      <td>10</td>\n",
       "    </tr>\n",
       "    <tr>\n",
       "      <th>27</th>\n",
       "      <td>Everton</td>\n",
       "      <td>2</td>\n",
       "      <td>4</td>\n",
       "      <td>1</td>\n",
       "      <td>7</td>\n",
       "    </tr>\n",
       "    <tr>\n",
       "      <th>28</th>\n",
       "      <td>Fulham</td>\n",
       "      <td>2</td>\n",
       "      <td>0</td>\n",
       "      <td>-4</td>\n",
       "      <td>18</td>\n",
       "    </tr>\n",
       "    <tr>\n",
       "      <th>29</th>\n",
       "      <td>Huddersfield</td>\n",
       "      <td>2</td>\n",
       "      <td>0</td>\n",
       "      <td>-8</td>\n",
       "      <td>20</td>\n",
       "    </tr>\n",
       "    <tr>\n",
       "      <th>...</th>\n",
       "      <td>...</td>\n",
       "      <td>...</td>\n",
       "      <td>...</td>\n",
       "      <td>...</td>\n",
       "      <td>...</td>\n",
       "    </tr>\n",
       "    <tr>\n",
       "      <th>130</th>\n",
       "      <td>Leicester City</td>\n",
       "      <td>7</td>\n",
       "      <td>12</td>\n",
       "      <td>3</td>\n",
       "      <td>8</td>\n",
       "    </tr>\n",
       "    <tr>\n",
       "      <th>131</th>\n",
       "      <td>Liverpool</td>\n",
       "      <td>7</td>\n",
       "      <td>19</td>\n",
       "      <td>12</td>\n",
       "      <td>2</td>\n",
       "    </tr>\n",
       "    <tr>\n",
       "      <th>132</th>\n",
       "      <td>Manchester City</td>\n",
       "      <td>7</td>\n",
       "      <td>19</td>\n",
       "      <td>18</td>\n",
       "      <td>1</td>\n",
       "    </tr>\n",
       "    <tr>\n",
       "      <th>133</th>\n",
       "      <td>Manchester Utd</td>\n",
       "      <td>7</td>\n",
       "      <td>10</td>\n",
       "      <td>-2</td>\n",
       "      <td>10</td>\n",
       "    </tr>\n",
       "    <tr>\n",
       "      <th>134</th>\n",
       "      <td>Newcastle Utd</td>\n",
       "      <td>7</td>\n",
       "      <td>2</td>\n",
       "      <td>-6</td>\n",
       "      <td>18</td>\n",
       "    </tr>\n",
       "    <tr>\n",
       "      <th>135</th>\n",
       "      <td>Southampton</td>\n",
       "      <td>7</td>\n",
       "      <td>5</td>\n",
       "      <td>-5</td>\n",
       "      <td>16</td>\n",
       "    </tr>\n",
       "    <tr>\n",
       "      <th>136</th>\n",
       "      <td>Tottenham</td>\n",
       "      <td>7</td>\n",
       "      <td>15</td>\n",
       "      <td>7</td>\n",
       "      <td>4</td>\n",
       "    </tr>\n",
       "    <tr>\n",
       "      <th>137</th>\n",
       "      <td>Watford</td>\n",
       "      <td>7</td>\n",
       "      <td>13</td>\n",
       "      <td>3</td>\n",
       "      <td>6</td>\n",
       "    </tr>\n",
       "    <tr>\n",
       "      <th>138</th>\n",
       "      <td>West Ham Utd</td>\n",
       "      <td>7</td>\n",
       "      <td>7</td>\n",
       "      <td>-4</td>\n",
       "      <td>14</td>\n",
       "    </tr>\n",
       "    <tr>\n",
       "      <th>139</th>\n",
       "      <td>Wolves</td>\n",
       "      <td>7</td>\n",
       "      <td>12</td>\n",
       "      <td>2</td>\n",
       "      <td>9</td>\n",
       "    </tr>\n",
       "    <tr>\n",
       "      <th>140</th>\n",
       "      <td>Arsenal</td>\n",
       "      <td>8</td>\n",
       "      <td>18</td>\n",
       "      <td>9</td>\n",
       "      <td>4</td>\n",
       "    </tr>\n",
       "    <tr>\n",
       "      <th>141</th>\n",
       "      <td>Bournemouth</td>\n",
       "      <td>8</td>\n",
       "      <td>16</td>\n",
       "      <td>4</td>\n",
       "      <td>6</td>\n",
       "    </tr>\n",
       "    <tr>\n",
       "      <th>142</th>\n",
       "      <td>Brighton &amp; Hove</td>\n",
       "      <td>8</td>\n",
       "      <td>8</td>\n",
       "      <td>-4</td>\n",
       "      <td>13</td>\n",
       "    </tr>\n",
       "    <tr>\n",
       "      <th>143</th>\n",
       "      <td>Burnley</td>\n",
       "      <td>8</td>\n",
       "      <td>8</td>\n",
       "      <td>-2</td>\n",
       "      <td>12</td>\n",
       "    </tr>\n",
       "    <tr>\n",
       "      <th>144</th>\n",
       "      <td>Cardiff City</td>\n",
       "      <td>8</td>\n",
       "      <td>2</td>\n",
       "      <td>-13</td>\n",
       "      <td>20</td>\n",
       "    </tr>\n",
       "    <tr>\n",
       "      <th>145</th>\n",
       "      <td>Chelsea</td>\n",
       "      <td>8</td>\n",
       "      <td>20</td>\n",
       "      <td>13</td>\n",
       "      <td>2</td>\n",
       "    </tr>\n",
       "    <tr>\n",
       "      <th>146</th>\n",
       "      <td>Crystal Palace</td>\n",
       "      <td>8</td>\n",
       "      <td>7</td>\n",
       "      <td>-4</td>\n",
       "      <td>14</td>\n",
       "    </tr>\n",
       "    <tr>\n",
       "      <th>147</th>\n",
       "      <td>Everton</td>\n",
       "      <td>8</td>\n",
       "      <td>12</td>\n",
       "      <td>1</td>\n",
       "      <td>11</td>\n",
       "    </tr>\n",
       "    <tr>\n",
       "      <th>148</th>\n",
       "      <td>Fulham</td>\n",
       "      <td>8</td>\n",
       "      <td>5</td>\n",
       "      <td>-12</td>\n",
       "      <td>17</td>\n",
       "    </tr>\n",
       "    <tr>\n",
       "      <th>149</th>\n",
       "      <td>Huddersfield</td>\n",
       "      <td>8</td>\n",
       "      <td>3</td>\n",
       "      <td>-13</td>\n",
       "      <td>18</td>\n",
       "    </tr>\n",
       "    <tr>\n",
       "      <th>150</th>\n",
       "      <td>Leicester City</td>\n",
       "      <td>8</td>\n",
       "      <td>12</td>\n",
       "      <td>2</td>\n",
       "      <td>10</td>\n",
       "    </tr>\n",
       "    <tr>\n",
       "      <th>151</th>\n",
       "      <td>Liverpool</td>\n",
       "      <td>8</td>\n",
       "      <td>20</td>\n",
       "      <td>12</td>\n",
       "      <td>3</td>\n",
       "    </tr>\n",
       "    <tr>\n",
       "      <th>152</th>\n",
       "      <td>Manchester City</td>\n",
       "      <td>8</td>\n",
       "      <td>20</td>\n",
       "      <td>18</td>\n",
       "      <td>1</td>\n",
       "    </tr>\n",
       "    <tr>\n",
       "      <th>153</th>\n",
       "      <td>Manchester Utd</td>\n",
       "      <td>8</td>\n",
       "      <td>13</td>\n",
       "      <td>-1</td>\n",
       "      <td>8</td>\n",
       "    </tr>\n",
       "    <tr>\n",
       "      <th>154</th>\n",
       "      <td>Newcastle Utd</td>\n",
       "      <td>8</td>\n",
       "      <td>2</td>\n",
       "      <td>-7</td>\n",
       "      <td>19</td>\n",
       "    </tr>\n",
       "    <tr>\n",
       "      <th>155</th>\n",
       "      <td>Southampton</td>\n",
       "      <td>8</td>\n",
       "      <td>5</td>\n",
       "      <td>-8</td>\n",
       "      <td>16</td>\n",
       "    </tr>\n",
       "    <tr>\n",
       "      <th>156</th>\n",
       "      <td>Tottenham</td>\n",
       "      <td>8</td>\n",
       "      <td>18</td>\n",
       "      <td>8</td>\n",
       "      <td>5</td>\n",
       "    </tr>\n",
       "    <tr>\n",
       "      <th>157</th>\n",
       "      <td>Watford</td>\n",
       "      <td>8</td>\n",
       "      <td>13</td>\n",
       "      <td>-1</td>\n",
       "      <td>9</td>\n",
       "    </tr>\n",
       "    <tr>\n",
       "      <th>158</th>\n",
       "      <td>West Ham Utd</td>\n",
       "      <td>8</td>\n",
       "      <td>7</td>\n",
       "      <td>-5</td>\n",
       "      <td>15</td>\n",
       "    </tr>\n",
       "    <tr>\n",
       "      <th>159</th>\n",
       "      <td>Wolves</td>\n",
       "      <td>8</td>\n",
       "      <td>15</td>\n",
       "      <td>3</td>\n",
       "      <td>7</td>\n",
       "    </tr>\n",
       "  </tbody>\n",
       "</table>\n",
       "<p>160 rows × 5 columns</p>\n",
       "</div>"
      ],
      "text/plain": [
       "                Team  Matchday  PTS  GD  Rank\n",
       "0            Arsenal         1    0  -2    15\n",
       "1        Bournemouth         1    3   2     5\n",
       "2    Brighton & Hove         1    0  -2    16\n",
       "3            Burnley         1    1   0    11\n",
       "4       Cardiff City         1    0  -2    17\n",
       "5            Chelsea         1    3   3     2\n",
       "6     Crystal Palace         1    3   2     4\n",
       "7            Everton         1    1   0     9\n",
       "8             Fulham         1    0  -2    18\n",
       "9       Huddersfield         1    0  -3    19\n",
       "10    Leicester City         1    0  -1    13\n",
       "11         Liverpool         1    3   4     1\n",
       "12   Manchester City         1    3   2     3\n",
       "13    Manchester Utd         1    3   1     7\n",
       "14     Newcastle Utd         1    0  -1    14\n",
       "15       Southampton         1    1   0    12\n",
       "16         Tottenham         1    3   1     8\n",
       "17           Watford         1    3   2     6\n",
       "18      West Ham Utd         1    0  -4    20\n",
       "19            Wolves         1    1   0    10\n",
       "20           Arsenal         2    0  -3    17\n",
       "21       Bournemouth         2    6   3     6\n",
       "22   Brighton & Hove         2    3  -1    11\n",
       "23           Burnley         2    1  -2    15\n",
       "24      Cardiff City         2    1  -2    16\n",
       "25           Chelsea         2    6   4     3\n",
       "26    Crystal Palace         2    3   0    10\n",
       "27           Everton         2    4   1     7\n",
       "28            Fulham         2    0  -4    18\n",
       "29      Huddersfield         2    0  -8    20\n",
       "..               ...       ...  ...  ..   ...\n",
       "130   Leicester City         7   12   3     8\n",
       "131        Liverpool         7   19  12     2\n",
       "132  Manchester City         7   19  18     1\n",
       "133   Manchester Utd         7   10  -2    10\n",
       "134    Newcastle Utd         7    2  -6    18\n",
       "135      Southampton         7    5  -5    16\n",
       "136        Tottenham         7   15   7     4\n",
       "137          Watford         7   13   3     6\n",
       "138     West Ham Utd         7    7  -4    14\n",
       "139           Wolves         7   12   2     9\n",
       "140          Arsenal         8   18   9     4\n",
       "141      Bournemouth         8   16   4     6\n",
       "142  Brighton & Hove         8    8  -4    13\n",
       "143          Burnley         8    8  -2    12\n",
       "144     Cardiff City         8    2 -13    20\n",
       "145          Chelsea         8   20  13     2\n",
       "146   Crystal Palace         8    7  -4    14\n",
       "147          Everton         8   12   1    11\n",
       "148           Fulham         8    5 -12    17\n",
       "149     Huddersfield         8    3 -13    18\n",
       "150   Leicester City         8   12   2    10\n",
       "151        Liverpool         8   20  12     3\n",
       "152  Manchester City         8   20  18     1\n",
       "153   Manchester Utd         8   13  -1     8\n",
       "154    Newcastle Utd         8    2  -7    19\n",
       "155      Southampton         8    5  -8    16\n",
       "156        Tottenham         8   18   8     5\n",
       "157          Watford         8   13  -1     9\n",
       "158     West Ham Utd         8    7  -5    15\n",
       "159           Wolves         8   15   3     7\n",
       "\n",
       "[160 rows x 5 columns]"
      ]
     },
     "execution_count": 6,
     "metadata": {},
     "output_type": "execute_result"
    }
   ],
   "source": [
    "matchday = matchday.drop(columns='Unnamed: 0')\n",
    "matchday"
   ]
  },
  {
   "cell_type": "code",
   "execution_count": 7,
   "metadata": {},
   "outputs": [],
   "source": [
    "matchday.to_csv('./Data/matchday.csv')"
   ]
  },
  {
   "cell_type": "code",
   "execution_count": 8,
   "metadata": {},
   "outputs": [
    {
     "data": {
      "application/vnd.plotly.v1+json": {
       "data": [
        {
         "hoverinfo": "none",
         "marker": {
          "color": "white"
         },
         "showlegend": false,
         "type": "scatter",
         "uid": "688c73ae-d4cf-11e8-ba78-acde48001122",
         "x": [
          15
         ],
         "y": [
          21
         ]
        },
        {
         "hoverinfo": "none",
         "marker": {
          "color": "white"
         },
         "showlegend": false,
         "type": "scatter",
         "uid": "688c7502-d4cf-11e8-b89b-acde48001122",
         "x": [
          15
         ],
         "y": [
          0.9
         ]
        },
        {
         "hoverinfo": "text",
         "line": {
          "width": 1
         },
         "marker": {
          "opacity": 0.5,
          "size": 9
         },
         "mode": "lines+markers",
         "name": "Arsenal",
         "text": [
          "Arsenal<br>Rank: 15",
          "Arsenal<br>Rank: 17",
          "Arsenal<br>Rank: 9",
          "Arsenal<br>Rank: 9",
          "Arsenal<br>Rank: 7",
          "Arsenal<br>Rank: 6",
          "Arsenal<br>Rank: 5",
          "Arsenal<br>Rank: 4"
         ],
         "type": "scatter",
         "uid": "688c75b6-d4cf-11e8-a66e-acde48001122",
         "x": [
          1,
          2,
          3,
          4,
          5,
          6,
          7,
          8
         ],
         "y": [
          15,
          17,
          9,
          9,
          7,
          6,
          5,
          4
         ]
        },
        {
         "hoverinfo": "text",
         "line": {
          "width": 1
         },
         "marker": {
          "opacity": 0.5,
          "size": 9
         },
         "mode": "lines+markers",
         "name": "Bournemouth",
         "text": [
          "Bournemouth<br>Rank: 5",
          "Bournemouth<br>Rank: 6",
          "Bournemouth<br>Rank: 6",
          "Bournemouth<br>Rank: 6",
          "Bournemouth<br>Rank: 5",
          "Bournemouth<br>Rank: 8",
          "Bournemouth<br>Rank: 7",
          "Bournemouth<br>Rank: 6"
         ],
         "type": "scatter",
         "uid": "688c764c-d4cf-11e8-82d4-acde48001122",
         "x": [
          1,
          2,
          3,
          4,
          5,
          6,
          7,
          8
         ],
         "y": [
          5,
          6,
          6,
          6,
          5,
          8,
          7,
          6
         ]
        },
        {
         "hoverinfo": "text",
         "line": {
          "width": 1
         },
         "marker": {
          "opacity": 0.5,
          "size": 9
         },
         "mode": "lines+markers",
         "name": "Brighton & Hove",
         "text": [
          "Brighton & Hove<br>Rank: 16",
          "Brighton & Hove<br>Rank: 11",
          "Brighton & Hove<br>Rank: 12",
          "Brighton & Hove<br>Rank: 14",
          "Brighton & Hove<br>Rank: 14",
          "Brighton & Hove<br>Rank: 13",
          "Brighton & Hove<br>Rank: 15",
          "Brighton & Hove<br>Rank: 13"
         ],
         "type": "scatter",
         "uid": "688c76d8-d4cf-11e8-afe4-acde48001122",
         "x": [
          1,
          2,
          3,
          4,
          5,
          6,
          7,
          8
         ],
         "y": [
          16,
          11,
          12,
          14,
          14,
          13,
          15,
          13
         ]
        },
        {
         "hoverinfo": "text",
         "line": {
          "width": 1
         },
         "marker": {
          "opacity": 0.5,
          "size": 9
         },
         "mode": "lines+markers",
         "name": "Burnley",
         "text": [
          "Burnley<br>Rank: 11",
          "Burnley<br>Rank: 15",
          "Burnley<br>Rank: 18",
          "Burnley<br>Rank: 19",
          "Burnley<br>Rank: 20",
          "Burnley<br>Rank: 16",
          "Burnley<br>Rank: 12",
          "Burnley<br>Rank: 12"
         ],
         "type": "scatter",
         "uid": "688c7764-d4cf-11e8-8df2-acde48001122",
         "x": [
          1,
          2,
          3,
          4,
          5,
          6,
          7,
          8
         ],
         "y": [
          11,
          15,
          18,
          19,
          20,
          16,
          12,
          12
         ]
        },
        {
         "hoverinfo": "text",
         "line": {
          "width": 1
         },
         "marker": {
          "opacity": 0.5,
          "size": 9
         },
         "mode": "lines+markers",
         "name": "Cardiff City",
         "text": [
          "Cardiff City<br>Rank: 17",
          "Cardiff City<br>Rank: 16",
          "Cardiff City<br>Rank: 15",
          "Cardiff City<br>Rank: 16",
          "Cardiff City<br>Rank: 17",
          "Cardiff City<br>Rank: 20",
          "Cardiff City<br>Rank: 19",
          "Cardiff City<br>Rank: 20"
         ],
         "type": "scatter",
         "uid": "688c77e6-d4cf-11e8-a345-acde48001122",
         "x": [
          1,
          2,
          3,
          4,
          5,
          6,
          7,
          8
         ],
         "y": [
          17,
          16,
          15,
          16,
          17,
          20,
          19,
          20
         ]
        },
        {
         "hoverinfo": "text",
         "line": {
          "width": 1
         },
         "marker": {
          "opacity": 0.5,
          "size": 9
         },
         "mode": "lines+markers",
         "name": "Chelsea",
         "text": [
          "Chelsea<br>Rank: 2",
          "Chelsea<br>Rank: 3",
          "Chelsea<br>Rank: 3",
          "Chelsea<br>Rank: 2",
          "Chelsea<br>Rank: 1",
          "Chelsea<br>Rank: 3",
          "Chelsea<br>Rank: 3",
          "Chelsea<br>Rank: 2"
         ],
         "type": "scatter",
         "uid": "688c7868-d4cf-11e8-8be4-acde48001122",
         "x": [
          1,
          2,
          3,
          4,
          5,
          6,
          7,
          8
         ],
         "y": [
          2,
          3,
          3,
          2,
          1,
          3,
          3,
          2
         ]
        },
        {
         "hoverinfo": "text",
         "line": {
          "width": 1
         },
         "marker": {
          "opacity": 0.5,
          "size": 9
         },
         "mode": "lines+markers",
         "name": "Crystal Palace",
         "text": [
          "Crystal Palace<br>Rank: 4",
          "Crystal Palace<br>Rank: 10",
          "Crystal Palace<br>Rank: 10",
          "Crystal Palace<br>Rank: 15",
          "Crystal Palace<br>Rank: 12",
          "Crystal Palace<br>Rank: 11",
          "Crystal Palace<br>Rank: 13",
          "Crystal Palace<br>Rank: 14"
         ],
         "type": "scatter",
         "uid": "688c78e8-d4cf-11e8-892d-acde48001122",
         "x": [
          1,
          2,
          3,
          4,
          5,
          6,
          7,
          8
         ],
         "y": [
          4,
          10,
          10,
          15,
          12,
          11,
          13,
          14
         ]
        },
        {
         "hoverinfo": "text",
         "line": {
          "width": 1
         },
         "marker": {
          "opacity": 0.5,
          "size": 9
         },
         "mode": "lines+markers",
         "name": "Everton",
         "text": [
          "Everton<br>Rank: 9",
          "Everton<br>Rank: 7",
          "Everton<br>Rank: 8",
          "Everton<br>Rank: 7",
          "Everton<br>Rank: 10",
          "Everton<br>Rank: 12",
          "Everton<br>Rank: 11",
          "Everton<br>Rank: 11"
         ],
         "type": "scatter",
         "uid": "688c7976-d4cf-11e8-9d96-acde48001122",
         "x": [
          1,
          2,
          3,
          4,
          5,
          6,
          7,
          8
         ],
         "y": [
          9,
          7,
          8,
          7,
          10,
          12,
          11,
          11
         ]
        },
        {
         "hoverinfo": "text",
         "line": {
          "width": 1
         },
         "marker": {
          "opacity": 0.5,
          "size": 9
         },
         "mode": "lines+markers",
         "name": "Fulham",
         "text": [
          "Fulham<br>Rank: 18",
          "Fulham<br>Rank: 18",
          "Fulham<br>Rank: 11",
          "Fulham<br>Rank: 13",
          "Fulham<br>Rank: 15",
          "Fulham<br>Rank: 15",
          "Fulham<br>Rank: 17",
          "Fulham<br>Rank: 17"
         ],
         "type": "scatter",
         "uid": "688c79f8-d4cf-11e8-8ed9-acde48001122",
         "x": [
          1,
          2,
          3,
          4,
          5,
          6,
          7,
          8
         ],
         "y": [
          18,
          18,
          11,
          13,
          15,
          15,
          17,
          17
         ]
        },
        {
         "hoverinfo": "text",
         "line": {
          "width": 1
         },
         "marker": {
          "opacity": 0.5,
          "size": 9
         },
         "mode": "lines+markers",
         "name": "Huddersfield",
         "text": [
          "Huddersfield<br>Rank: 19",
          "Huddersfield<br>Rank: 20",
          "Huddersfield<br>Rank: 19",
          "Huddersfield<br>Rank: 17",
          "Huddersfield<br>Rank: 18",
          "Huddersfield<br>Rank: 19",
          "Huddersfield<br>Rank: 20",
          "Huddersfield<br>Rank: 18"
         ],
         "type": "scatter",
         "uid": "688c7a70-d4cf-11e8-845b-acde48001122",
         "x": [
          1,
          2,
          3,
          4,
          5,
          6,
          7,
          8
         ],
         "y": [
          19,
          20,
          19,
          17,
          18,
          19,
          20,
          18
         ]
        },
        {
         "hoverinfo": "text",
         "line": {
          "width": 1
         },
         "marker": {
          "opacity": 0.5,
          "size": 9
         },
         "mode": "lines+markers",
         "name": "Leicester City",
         "text": [
          "Leicester City<br>Rank: 13",
          "Leicester City<br>Rank: 8",
          "Leicester City<br>Rank: 7",
          "Leicester City<br>Rank: 8",
          "Leicester City<br>Rank: 11",
          "Leicester City<br>Rank: 9",
          "Leicester City<br>Rank: 8",
          "Leicester City<br>Rank: 10"
         ],
         "type": "scatter",
         "uid": "688c7af4-d4cf-11e8-8fc4-acde48001122",
         "x": [
          1,
          2,
          3,
          4,
          5,
          6,
          7,
          8
         ],
         "y": [
          13,
          8,
          7,
          8,
          11,
          9,
          8,
          10
         ]
        },
        {
         "hoverinfo": "text",
         "line": {
          "width": 1
         },
         "marker": {
          "opacity": 0.5,
          "size": 9
         },
         "mode": "lines+markers",
         "name": "Liverpool",
         "text": [
          "Liverpool<br>Rank: 1",
          "Liverpool<br>Rank: 2",
          "Liverpool<br>Rank: 1",
          "Liverpool<br>Rank: 1",
          "Liverpool<br>Rank: 2",
          "Liverpool<br>Rank: 1",
          "Liverpool<br>Rank: 2",
          "Liverpool<br>Rank: 3"
         ],
         "type": "scatter",
         "uid": "688c7b74-d4cf-11e8-9122-acde48001122",
         "x": [
          1,
          2,
          3,
          4,
          5,
          6,
          7,
          8
         ],
         "y": [
          1,
          2,
          1,
          1,
          2,
          1,
          2,
          3
         ]
        },
        {
         "hoverinfo": "text",
         "line": {
          "width": 1
         },
         "marker": {
          "opacity": 0.5,
          "size": 9
         },
         "mode": "lines+markers",
         "name": "Manchester City",
         "text": [
          "Manchester City<br>Rank: 3",
          "Manchester City<br>Rank: 1",
          "Manchester City<br>Rank: 5",
          "Manchester City<br>Rank: 4",
          "Manchester City<br>Rank: 3",
          "Manchester City<br>Rank: 2",
          "Manchester City<br>Rank: 1",
          "Manchester City<br>Rank: 1"
         ],
         "type": "scatter",
         "uid": "688c7bf6-d4cf-11e8-a9bd-acde48001122",
         "x": [
          1,
          2,
          3,
          4,
          5,
          6,
          7,
          8
         ],
         "y": [
          3,
          1,
          5,
          4,
          3,
          2,
          1,
          1
         ]
        },
        {
         "hoverinfo": "text",
         "line": {
          "width": 1
         },
         "marker": {
          "opacity": 0.5,
          "size": 9
         },
         "mode": "lines+markers",
         "name": "Manchester Utd",
         "text": [
          "Manchester Utd<br>Rank: 7",
          "Manchester Utd<br>Rank: 9",
          "Manchester Utd<br>Rank: 13",
          "Manchester Utd<br>Rank: 10",
          "Manchester Utd<br>Rank: 8",
          "Manchester Utd<br>Rank: 7",
          "Manchester Utd<br>Rank: 10",
          "Manchester Utd<br>Rank: 8"
         ],
         "type": "scatter",
         "uid": "688c7c78-d4cf-11e8-aacb-acde48001122",
         "x": [
          1,
          2,
          3,
          4,
          5,
          6,
          7,
          8
         ],
         "y": [
          7,
          9,
          13,
          10,
          8,
          7,
          10,
          8
         ]
        },
        {
         "hoverinfo": "text",
         "line": {
          "width": 1
         },
         "marker": {
          "opacity": 0.5,
          "size": 9
         },
         "mode": "lines+markers",
         "name": "Newcastle Utd",
         "text": [
          "Newcastle Utd<br>Rank: 14",
          "Newcastle Utd<br>Rank: 12",
          "Newcastle Utd<br>Rank: 16",
          "Newcastle Utd<br>Rank: 18",
          "Newcastle Utd<br>Rank: 19",
          "Newcastle Utd<br>Rank: 18",
          "Newcastle Utd<br>Rank: 18",
          "Newcastle Utd<br>Rank: 19"
         ],
         "type": "scatter",
         "uid": "688c7cfa-d4cf-11e8-9a22-acde48001122",
         "x": [
          1,
          2,
          3,
          4,
          5,
          6,
          7,
          8
         ],
         "y": [
          14,
          12,
          16,
          18,
          19,
          18,
          18,
          19
         ]
        },
        {
         "hoverinfo": "text",
         "line": {
          "width": 1
         },
         "marker": {
          "opacity": 0.5,
          "size": 9
         },
         "mode": "lines+markers",
         "name": "Southampton",
         "text": [
          "Southampton<br>Rank: 12",
          "Southampton<br>Rank: 13",
          "Southampton<br>Rank: 17",
          "Southampton<br>Rank: 12",
          "Southampton<br>Rank: 13",
          "Southampton<br>Rank: 14",
          "Southampton<br>Rank: 16",
          "Southampton<br>Rank: 16"
         ],
         "type": "scatter",
         "uid": "688c7d74-d4cf-11e8-98ed-acde48001122",
         "x": [
          1,
          2,
          3,
          4,
          5,
          6,
          7,
          8
         ],
         "y": [
          12,
          13,
          17,
          12,
          13,
          14,
          16,
          16
         ]
        },
        {
         "hoverinfo": "text",
         "line": {
          "width": 1
         },
         "marker": {
          "opacity": 0.5,
          "size": 9
         },
         "mode": "lines+markers",
         "name": "Tottenham",
         "text": [
          "Tottenham<br>Rank: 8",
          "Tottenham<br>Rank: 5",
          "Tottenham<br>Rank: 2",
          "Tottenham<br>Rank: 5",
          "Tottenham<br>Rank: 6",
          "Tottenham<br>Rank: 5",
          "Tottenham<br>Rank: 4",
          "Tottenham<br>Rank: 5"
         ],
         "type": "scatter",
         "uid": "688c7dfe-d4cf-11e8-af98-acde48001122",
         "x": [
          1,
          2,
          3,
          4,
          5,
          6,
          7,
          8
         ],
         "y": [
          8,
          5,
          2,
          5,
          6,
          5,
          4,
          5
         ]
        },
        {
         "hoverinfo": "text",
         "line": {
          "width": 1
         },
         "marker": {
          "opacity": 0.5,
          "size": 9
         },
         "mode": "lines+markers",
         "name": "Watford",
         "text": [
          "Watford<br>Rank: 6",
          "Watford<br>Rank: 4",
          "Watford<br>Rank: 4",
          "Watford<br>Rank: 3",
          "Watford<br>Rank: 4",
          "Watford<br>Rank: 4",
          "Watford<br>Rank: 6",
          "Watford<br>Rank: 9"
         ],
         "type": "scatter",
         "uid": "688c7e80-d4cf-11e8-9c42-acde48001122",
         "x": [
          1,
          2,
          3,
          4,
          5,
          6,
          7,
          8
         ],
         "y": [
          6,
          4,
          4,
          3,
          4,
          4,
          6,
          9
         ]
        },
        {
         "hoverinfo": "text",
         "line": {
          "width": 1
         },
         "marker": {
          "opacity": 0.5,
          "size": 9
         },
         "mode": "lines+markers",
         "name": "West Ham Utd",
         "text": [
          "West Ham Utd<br>Rank: 20",
          "West Ham Utd<br>Rank: 19",
          "West Ham Utd<br>Rank: 20",
          "West Ham Utd<br>Rank: 20",
          "West Ham Utd<br>Rank: 16",
          "West Ham Utd<br>Rank: 17",
          "West Ham Utd<br>Rank: 14",
          "West Ham Utd<br>Rank: 15"
         ],
         "type": "scatter",
         "uid": "688c7ef8-d4cf-11e8-a8e1-acde48001122",
         "x": [
          1,
          2,
          3,
          4,
          5,
          6,
          7,
          8
         ],
         "y": [
          20,
          19,
          20,
          20,
          16,
          17,
          14,
          15
         ]
        },
        {
         "hoverinfo": "text",
         "line": {
          "width": 1
         },
         "marker": {
          "opacity": 0.5,
          "size": 9
         },
         "mode": "lines+markers",
         "name": "Wolves",
         "text": [
          "Wolves<br>Rank: 10",
          "Wolves<br>Rank: 14",
          "Wolves<br>Rank: 14",
          "Wolves<br>Rank: 11",
          "Wolves<br>Rank: 9",
          "Wolves<br>Rank: 10",
          "Wolves<br>Rank: 9",
          "Wolves<br>Rank: 7"
         ],
         "type": "scatter",
         "uid": "688c7f70-d4cf-11e8-a339-acde48001122",
         "x": [
          1,
          2,
          3,
          4,
          5,
          6,
          7,
          8
         ],
         "y": [
          10,
          14,
          14,
          11,
          9,
          10,
          9,
          7
         ]
        }
       ],
       "layout": {
        "hovermode": "closest",
        "legend": {
         "traceorder": "grouped"
        },
        "title": "Team Standing by Week Season 18/19",
        "xaxis": {
         "range": [
          0.8,
          9.2
         ],
         "title": "Matchday (Week)"
        },
        "yaxis": {
         "autorange": "reversed",
         "range": [
          0.5,
          20.5
         ],
         "tickvals": [
          5,
          10,
          15,
          20
         ],
         "title": "Team Standing",
         "zeroline": false
        }
       }
      },
      "text/html": [
       "<div id=\"46564a41-619e-4c29-92a9-8fbabd8be8bd\" style=\"height: 525px; width: 100%;\" class=\"plotly-graph-div\"></div><script type=\"text/javascript\">require([\"plotly\"], function(Plotly) { window.PLOTLYENV=window.PLOTLYENV || {};window.PLOTLYENV.BASE_URL=\"https://plot.ly\";Plotly.newPlot(\"46564a41-619e-4c29-92a9-8fbabd8be8bd\", [{\"hoverinfo\": \"none\", \"marker\": {\"color\": \"white\"}, \"showlegend\": false, \"x\": [15], \"y\": [21], \"type\": \"scatter\", \"uid\": \"688c73ae-d4cf-11e8-ba78-acde48001122\"}, {\"hoverinfo\": \"none\", \"marker\": {\"color\": \"white\"}, \"showlegend\": false, \"x\": [15], \"y\": [0.9], \"type\": \"scatter\", \"uid\": \"688c7502-d4cf-11e8-b89b-acde48001122\"}, {\"hoverinfo\": \"text\", \"line\": {\"width\": 1.0}, \"marker\": {\"opacity\": 0.5, \"size\": 9}, \"mode\": \"lines+markers\", \"name\": \"Arsenal\", \"text\": [\"Arsenal<br>Rank: 15\", \"Arsenal<br>Rank: 17\", \"Arsenal<br>Rank: 9\", \"Arsenal<br>Rank: 9\", \"Arsenal<br>Rank: 7\", \"Arsenal<br>Rank: 6\", \"Arsenal<br>Rank: 5\", \"Arsenal<br>Rank: 4\"], \"x\": [1, 2, 3, 4, 5, 6, 7, 8], \"y\": [15, 17, 9, 9, 7, 6, 5, 4], \"type\": \"scatter\", \"uid\": \"688c75b6-d4cf-11e8-a66e-acde48001122\"}, {\"hoverinfo\": \"text\", \"line\": {\"width\": 1.0}, \"marker\": {\"opacity\": 0.5, \"size\": 9}, \"mode\": \"lines+markers\", \"name\": \"Bournemouth\", \"text\": [\"Bournemouth<br>Rank: 5\", \"Bournemouth<br>Rank: 6\", \"Bournemouth<br>Rank: 6\", \"Bournemouth<br>Rank: 6\", \"Bournemouth<br>Rank: 5\", \"Bournemouth<br>Rank: 8\", \"Bournemouth<br>Rank: 7\", \"Bournemouth<br>Rank: 6\"], \"x\": [1, 2, 3, 4, 5, 6, 7, 8], \"y\": [5, 6, 6, 6, 5, 8, 7, 6], \"type\": \"scatter\", \"uid\": \"688c764c-d4cf-11e8-82d4-acde48001122\"}, {\"hoverinfo\": \"text\", \"line\": {\"width\": 1.0}, \"marker\": {\"opacity\": 0.5, \"size\": 9}, \"mode\": \"lines+markers\", \"name\": \"Brighton & Hove\", \"text\": [\"Brighton & Hove<br>Rank: 16\", \"Brighton & Hove<br>Rank: 11\", \"Brighton & Hove<br>Rank: 12\", \"Brighton & Hove<br>Rank: 14\", \"Brighton & Hove<br>Rank: 14\", \"Brighton & Hove<br>Rank: 13\", \"Brighton & Hove<br>Rank: 15\", \"Brighton & Hove<br>Rank: 13\"], \"x\": [1, 2, 3, 4, 5, 6, 7, 8], \"y\": [16, 11, 12, 14, 14, 13, 15, 13], \"type\": \"scatter\", \"uid\": \"688c76d8-d4cf-11e8-afe4-acde48001122\"}, {\"hoverinfo\": \"text\", \"line\": {\"width\": 1.0}, \"marker\": {\"opacity\": 0.5, \"size\": 9}, \"mode\": \"lines+markers\", \"name\": \"Burnley\", \"text\": [\"Burnley<br>Rank: 11\", \"Burnley<br>Rank: 15\", \"Burnley<br>Rank: 18\", \"Burnley<br>Rank: 19\", \"Burnley<br>Rank: 20\", \"Burnley<br>Rank: 16\", \"Burnley<br>Rank: 12\", \"Burnley<br>Rank: 12\"], \"x\": [1, 2, 3, 4, 5, 6, 7, 8], \"y\": [11, 15, 18, 19, 20, 16, 12, 12], \"type\": \"scatter\", \"uid\": \"688c7764-d4cf-11e8-8df2-acde48001122\"}, {\"hoverinfo\": \"text\", \"line\": {\"width\": 1.0}, \"marker\": {\"opacity\": 0.5, \"size\": 9}, \"mode\": \"lines+markers\", \"name\": \"Cardiff City\", \"text\": [\"Cardiff City<br>Rank: 17\", \"Cardiff City<br>Rank: 16\", \"Cardiff City<br>Rank: 15\", \"Cardiff City<br>Rank: 16\", \"Cardiff City<br>Rank: 17\", \"Cardiff City<br>Rank: 20\", \"Cardiff City<br>Rank: 19\", \"Cardiff City<br>Rank: 20\"], \"x\": [1, 2, 3, 4, 5, 6, 7, 8], \"y\": [17, 16, 15, 16, 17, 20, 19, 20], \"type\": \"scatter\", \"uid\": \"688c77e6-d4cf-11e8-a345-acde48001122\"}, {\"hoverinfo\": \"text\", \"line\": {\"width\": 1.0}, \"marker\": {\"opacity\": 0.5, \"size\": 9}, \"mode\": \"lines+markers\", \"name\": \"Chelsea\", \"text\": [\"Chelsea<br>Rank: 2\", \"Chelsea<br>Rank: 3\", \"Chelsea<br>Rank: 3\", \"Chelsea<br>Rank: 2\", \"Chelsea<br>Rank: 1\", \"Chelsea<br>Rank: 3\", \"Chelsea<br>Rank: 3\", \"Chelsea<br>Rank: 2\"], \"x\": [1, 2, 3, 4, 5, 6, 7, 8], \"y\": [2, 3, 3, 2, 1, 3, 3, 2], \"type\": \"scatter\", \"uid\": \"688c7868-d4cf-11e8-8be4-acde48001122\"}, {\"hoverinfo\": \"text\", \"line\": {\"width\": 1.0}, \"marker\": {\"opacity\": 0.5, \"size\": 9}, \"mode\": \"lines+markers\", \"name\": \"Crystal Palace\", \"text\": [\"Crystal Palace<br>Rank: 4\", \"Crystal Palace<br>Rank: 10\", \"Crystal Palace<br>Rank: 10\", \"Crystal Palace<br>Rank: 15\", \"Crystal Palace<br>Rank: 12\", \"Crystal Palace<br>Rank: 11\", \"Crystal Palace<br>Rank: 13\", \"Crystal Palace<br>Rank: 14\"], \"x\": [1, 2, 3, 4, 5, 6, 7, 8], \"y\": [4, 10, 10, 15, 12, 11, 13, 14], \"type\": \"scatter\", \"uid\": \"688c78e8-d4cf-11e8-892d-acde48001122\"}, {\"hoverinfo\": \"text\", \"line\": {\"width\": 1.0}, \"marker\": {\"opacity\": 0.5, \"size\": 9}, \"mode\": \"lines+markers\", \"name\": \"Everton\", \"text\": [\"Everton<br>Rank: 9\", \"Everton<br>Rank: 7\", \"Everton<br>Rank: 8\", \"Everton<br>Rank: 7\", \"Everton<br>Rank: 10\", \"Everton<br>Rank: 12\", \"Everton<br>Rank: 11\", \"Everton<br>Rank: 11\"], \"x\": [1, 2, 3, 4, 5, 6, 7, 8], \"y\": [9, 7, 8, 7, 10, 12, 11, 11], \"type\": \"scatter\", \"uid\": \"688c7976-d4cf-11e8-9d96-acde48001122\"}, {\"hoverinfo\": \"text\", \"line\": {\"width\": 1.0}, \"marker\": {\"opacity\": 0.5, \"size\": 9}, \"mode\": \"lines+markers\", \"name\": \"Fulham\", \"text\": [\"Fulham<br>Rank: 18\", \"Fulham<br>Rank: 18\", \"Fulham<br>Rank: 11\", \"Fulham<br>Rank: 13\", \"Fulham<br>Rank: 15\", \"Fulham<br>Rank: 15\", \"Fulham<br>Rank: 17\", \"Fulham<br>Rank: 17\"], \"x\": [1, 2, 3, 4, 5, 6, 7, 8], \"y\": [18, 18, 11, 13, 15, 15, 17, 17], \"type\": \"scatter\", \"uid\": \"688c79f8-d4cf-11e8-8ed9-acde48001122\"}, {\"hoverinfo\": \"text\", \"line\": {\"width\": 1.0}, \"marker\": {\"opacity\": 0.5, \"size\": 9}, \"mode\": \"lines+markers\", \"name\": \"Huddersfield\", \"text\": [\"Huddersfield<br>Rank: 19\", \"Huddersfield<br>Rank: 20\", \"Huddersfield<br>Rank: 19\", \"Huddersfield<br>Rank: 17\", \"Huddersfield<br>Rank: 18\", \"Huddersfield<br>Rank: 19\", \"Huddersfield<br>Rank: 20\", \"Huddersfield<br>Rank: 18\"], \"x\": [1, 2, 3, 4, 5, 6, 7, 8], \"y\": [19, 20, 19, 17, 18, 19, 20, 18], \"type\": \"scatter\", \"uid\": \"688c7a70-d4cf-11e8-845b-acde48001122\"}, {\"hoverinfo\": \"text\", \"line\": {\"width\": 1.0}, \"marker\": {\"opacity\": 0.5, \"size\": 9}, \"mode\": \"lines+markers\", \"name\": \"Leicester City\", \"text\": [\"Leicester City<br>Rank: 13\", \"Leicester City<br>Rank: 8\", \"Leicester City<br>Rank: 7\", \"Leicester City<br>Rank: 8\", \"Leicester City<br>Rank: 11\", \"Leicester City<br>Rank: 9\", \"Leicester City<br>Rank: 8\", \"Leicester City<br>Rank: 10\"], \"x\": [1, 2, 3, 4, 5, 6, 7, 8], \"y\": [13, 8, 7, 8, 11, 9, 8, 10], \"type\": \"scatter\", \"uid\": \"688c7af4-d4cf-11e8-8fc4-acde48001122\"}, {\"hoverinfo\": \"text\", \"line\": {\"width\": 1.0}, \"marker\": {\"opacity\": 0.5, \"size\": 9}, \"mode\": \"lines+markers\", \"name\": \"Liverpool\", \"text\": [\"Liverpool<br>Rank: 1\", \"Liverpool<br>Rank: 2\", \"Liverpool<br>Rank: 1\", \"Liverpool<br>Rank: 1\", \"Liverpool<br>Rank: 2\", \"Liverpool<br>Rank: 1\", \"Liverpool<br>Rank: 2\", \"Liverpool<br>Rank: 3\"], \"x\": [1, 2, 3, 4, 5, 6, 7, 8], \"y\": [1, 2, 1, 1, 2, 1, 2, 3], \"type\": \"scatter\", \"uid\": \"688c7b74-d4cf-11e8-9122-acde48001122\"}, {\"hoverinfo\": \"text\", \"line\": {\"width\": 1.0}, \"marker\": {\"opacity\": 0.5, \"size\": 9}, \"mode\": \"lines+markers\", \"name\": \"Manchester City\", \"text\": [\"Manchester City<br>Rank: 3\", \"Manchester City<br>Rank: 1\", \"Manchester City<br>Rank: 5\", \"Manchester City<br>Rank: 4\", \"Manchester City<br>Rank: 3\", \"Manchester City<br>Rank: 2\", \"Manchester City<br>Rank: 1\", \"Manchester City<br>Rank: 1\"], \"x\": [1, 2, 3, 4, 5, 6, 7, 8], \"y\": [3, 1, 5, 4, 3, 2, 1, 1], \"type\": \"scatter\", \"uid\": \"688c7bf6-d4cf-11e8-a9bd-acde48001122\"}, {\"hoverinfo\": \"text\", \"line\": {\"width\": 1.0}, \"marker\": {\"opacity\": 0.5, \"size\": 9}, \"mode\": \"lines+markers\", \"name\": \"Manchester Utd\", \"text\": [\"Manchester Utd<br>Rank: 7\", \"Manchester Utd<br>Rank: 9\", \"Manchester Utd<br>Rank: 13\", \"Manchester Utd<br>Rank: 10\", \"Manchester Utd<br>Rank: 8\", \"Manchester Utd<br>Rank: 7\", \"Manchester Utd<br>Rank: 10\", \"Manchester Utd<br>Rank: 8\"], \"x\": [1, 2, 3, 4, 5, 6, 7, 8], \"y\": [7, 9, 13, 10, 8, 7, 10, 8], \"type\": \"scatter\", \"uid\": \"688c7c78-d4cf-11e8-aacb-acde48001122\"}, {\"hoverinfo\": \"text\", \"line\": {\"width\": 1.0}, \"marker\": {\"opacity\": 0.5, \"size\": 9}, \"mode\": \"lines+markers\", \"name\": \"Newcastle Utd\", \"text\": [\"Newcastle Utd<br>Rank: 14\", \"Newcastle Utd<br>Rank: 12\", \"Newcastle Utd<br>Rank: 16\", \"Newcastle Utd<br>Rank: 18\", \"Newcastle Utd<br>Rank: 19\", \"Newcastle Utd<br>Rank: 18\", \"Newcastle Utd<br>Rank: 18\", \"Newcastle Utd<br>Rank: 19\"], \"x\": [1, 2, 3, 4, 5, 6, 7, 8], \"y\": [14, 12, 16, 18, 19, 18, 18, 19], \"type\": \"scatter\", \"uid\": \"688c7cfa-d4cf-11e8-9a22-acde48001122\"}, {\"hoverinfo\": \"text\", \"line\": {\"width\": 1.0}, \"marker\": {\"opacity\": 0.5, \"size\": 9}, \"mode\": \"lines+markers\", \"name\": \"Southampton\", \"text\": [\"Southampton<br>Rank: 12\", \"Southampton<br>Rank: 13\", \"Southampton<br>Rank: 17\", \"Southampton<br>Rank: 12\", \"Southampton<br>Rank: 13\", \"Southampton<br>Rank: 14\", \"Southampton<br>Rank: 16\", \"Southampton<br>Rank: 16\"], \"x\": [1, 2, 3, 4, 5, 6, 7, 8], \"y\": [12, 13, 17, 12, 13, 14, 16, 16], \"type\": \"scatter\", \"uid\": \"688c7d74-d4cf-11e8-98ed-acde48001122\"}, {\"hoverinfo\": \"text\", \"line\": {\"width\": 1.0}, \"marker\": {\"opacity\": 0.5, \"size\": 9}, \"mode\": \"lines+markers\", \"name\": \"Tottenham\", \"text\": [\"Tottenham<br>Rank: 8\", \"Tottenham<br>Rank: 5\", \"Tottenham<br>Rank: 2\", \"Tottenham<br>Rank: 5\", \"Tottenham<br>Rank: 6\", \"Tottenham<br>Rank: 5\", \"Tottenham<br>Rank: 4\", \"Tottenham<br>Rank: 5\"], \"x\": [1, 2, 3, 4, 5, 6, 7, 8], \"y\": [8, 5, 2, 5, 6, 5, 4, 5], \"type\": \"scatter\", \"uid\": \"688c7dfe-d4cf-11e8-af98-acde48001122\"}, {\"hoverinfo\": \"text\", \"line\": {\"width\": 1.0}, \"marker\": {\"opacity\": 0.5, \"size\": 9}, \"mode\": \"lines+markers\", \"name\": \"Watford\", \"text\": [\"Watford<br>Rank: 6\", \"Watford<br>Rank: 4\", \"Watford<br>Rank: 4\", \"Watford<br>Rank: 3\", \"Watford<br>Rank: 4\", \"Watford<br>Rank: 4\", \"Watford<br>Rank: 6\", \"Watford<br>Rank: 9\"], \"x\": [1, 2, 3, 4, 5, 6, 7, 8], \"y\": [6, 4, 4, 3, 4, 4, 6, 9], \"type\": \"scatter\", \"uid\": \"688c7e80-d4cf-11e8-9c42-acde48001122\"}, {\"hoverinfo\": \"text\", \"line\": {\"width\": 1.0}, \"marker\": {\"opacity\": 0.5, \"size\": 9}, \"mode\": \"lines+markers\", \"name\": \"West Ham Utd\", \"text\": [\"West Ham Utd<br>Rank: 20\", \"West Ham Utd<br>Rank: 19\", \"West Ham Utd<br>Rank: 20\", \"West Ham Utd<br>Rank: 20\", \"West Ham Utd<br>Rank: 16\", \"West Ham Utd<br>Rank: 17\", \"West Ham Utd<br>Rank: 14\", \"West Ham Utd<br>Rank: 15\"], \"x\": [1, 2, 3, 4, 5, 6, 7, 8], \"y\": [20, 19, 20, 20, 16, 17, 14, 15], \"type\": \"scatter\", \"uid\": \"688c7ef8-d4cf-11e8-a8e1-acde48001122\"}, {\"hoverinfo\": \"text\", \"line\": {\"width\": 1.0}, \"marker\": {\"opacity\": 0.5, \"size\": 9}, \"mode\": \"lines+markers\", \"name\": \"Wolves\", \"text\": [\"Wolves<br>Rank: 10\", \"Wolves<br>Rank: 14\", \"Wolves<br>Rank: 14\", \"Wolves<br>Rank: 11\", \"Wolves<br>Rank: 9\", \"Wolves<br>Rank: 10\", \"Wolves<br>Rank: 9\", \"Wolves<br>Rank: 7\"], \"x\": [1, 2, 3, 4, 5, 6, 7, 8], \"y\": [10, 14, 14, 11, 9, 10, 9, 7], \"type\": \"scatter\", \"uid\": \"688c7f70-d4cf-11e8-a339-acde48001122\"}], {\"hovermode\": \"closest\", \"legend\": {\"traceorder\": \"grouped\"}, \"title\": \"Team Standing by Week Season 18/19\", \"xaxis\": {\"range\": [0.8, 9.2], \"title\": \"Matchday (Week)\"}, \"yaxis\": {\"autorange\": \"reversed\", \"range\": [0.5, 20.5], \"tickvals\": [5, 10, 15, 20], \"title\": \"Team Standing\", \"zeroline\": false}}, {\"showLink\": true, \"linkText\": \"Export to plot.ly\"})});</script>"
      ],
      "text/vnd.plotly.v1+html": [
       "<div id=\"46564a41-619e-4c29-92a9-8fbabd8be8bd\" style=\"height: 525px; width: 100%;\" class=\"plotly-graph-div\"></div><script type=\"text/javascript\">require([\"plotly\"], function(Plotly) { window.PLOTLYENV=window.PLOTLYENV || {};window.PLOTLYENV.BASE_URL=\"https://plot.ly\";Plotly.newPlot(\"46564a41-619e-4c29-92a9-8fbabd8be8bd\", [{\"hoverinfo\": \"none\", \"marker\": {\"color\": \"white\"}, \"showlegend\": false, \"x\": [15], \"y\": [21], \"type\": \"scatter\", \"uid\": \"688c73ae-d4cf-11e8-ba78-acde48001122\"}, {\"hoverinfo\": \"none\", \"marker\": {\"color\": \"white\"}, \"showlegend\": false, \"x\": [15], \"y\": [0.9], \"type\": \"scatter\", \"uid\": \"688c7502-d4cf-11e8-b89b-acde48001122\"}, {\"hoverinfo\": \"text\", \"line\": {\"width\": 1.0}, \"marker\": {\"opacity\": 0.5, \"size\": 9}, \"mode\": \"lines+markers\", \"name\": \"Arsenal\", \"text\": [\"Arsenal<br>Rank: 15\", \"Arsenal<br>Rank: 17\", \"Arsenal<br>Rank: 9\", \"Arsenal<br>Rank: 9\", \"Arsenal<br>Rank: 7\", \"Arsenal<br>Rank: 6\", \"Arsenal<br>Rank: 5\", \"Arsenal<br>Rank: 4\"], \"x\": [1, 2, 3, 4, 5, 6, 7, 8], \"y\": [15, 17, 9, 9, 7, 6, 5, 4], \"type\": \"scatter\", \"uid\": \"688c75b6-d4cf-11e8-a66e-acde48001122\"}, {\"hoverinfo\": \"text\", \"line\": {\"width\": 1.0}, \"marker\": {\"opacity\": 0.5, \"size\": 9}, \"mode\": \"lines+markers\", \"name\": \"Bournemouth\", \"text\": [\"Bournemouth<br>Rank: 5\", \"Bournemouth<br>Rank: 6\", \"Bournemouth<br>Rank: 6\", \"Bournemouth<br>Rank: 6\", \"Bournemouth<br>Rank: 5\", \"Bournemouth<br>Rank: 8\", \"Bournemouth<br>Rank: 7\", \"Bournemouth<br>Rank: 6\"], \"x\": [1, 2, 3, 4, 5, 6, 7, 8], \"y\": [5, 6, 6, 6, 5, 8, 7, 6], \"type\": \"scatter\", \"uid\": \"688c764c-d4cf-11e8-82d4-acde48001122\"}, {\"hoverinfo\": \"text\", \"line\": {\"width\": 1.0}, \"marker\": {\"opacity\": 0.5, \"size\": 9}, \"mode\": \"lines+markers\", \"name\": \"Brighton & Hove\", \"text\": [\"Brighton & Hove<br>Rank: 16\", \"Brighton & Hove<br>Rank: 11\", \"Brighton & Hove<br>Rank: 12\", \"Brighton & Hove<br>Rank: 14\", \"Brighton & Hove<br>Rank: 14\", \"Brighton & Hove<br>Rank: 13\", \"Brighton & Hove<br>Rank: 15\", \"Brighton & Hove<br>Rank: 13\"], \"x\": [1, 2, 3, 4, 5, 6, 7, 8], \"y\": [16, 11, 12, 14, 14, 13, 15, 13], \"type\": \"scatter\", \"uid\": \"688c76d8-d4cf-11e8-afe4-acde48001122\"}, {\"hoverinfo\": \"text\", \"line\": {\"width\": 1.0}, \"marker\": {\"opacity\": 0.5, \"size\": 9}, \"mode\": \"lines+markers\", \"name\": \"Burnley\", \"text\": [\"Burnley<br>Rank: 11\", \"Burnley<br>Rank: 15\", \"Burnley<br>Rank: 18\", \"Burnley<br>Rank: 19\", \"Burnley<br>Rank: 20\", \"Burnley<br>Rank: 16\", \"Burnley<br>Rank: 12\", \"Burnley<br>Rank: 12\"], \"x\": [1, 2, 3, 4, 5, 6, 7, 8], \"y\": [11, 15, 18, 19, 20, 16, 12, 12], \"type\": \"scatter\", \"uid\": \"688c7764-d4cf-11e8-8df2-acde48001122\"}, {\"hoverinfo\": \"text\", \"line\": {\"width\": 1.0}, \"marker\": {\"opacity\": 0.5, \"size\": 9}, \"mode\": \"lines+markers\", \"name\": \"Cardiff City\", \"text\": [\"Cardiff City<br>Rank: 17\", \"Cardiff City<br>Rank: 16\", \"Cardiff City<br>Rank: 15\", \"Cardiff City<br>Rank: 16\", \"Cardiff City<br>Rank: 17\", \"Cardiff City<br>Rank: 20\", \"Cardiff City<br>Rank: 19\", \"Cardiff City<br>Rank: 20\"], \"x\": [1, 2, 3, 4, 5, 6, 7, 8], \"y\": [17, 16, 15, 16, 17, 20, 19, 20], \"type\": \"scatter\", \"uid\": \"688c77e6-d4cf-11e8-a345-acde48001122\"}, {\"hoverinfo\": \"text\", \"line\": {\"width\": 1.0}, \"marker\": {\"opacity\": 0.5, \"size\": 9}, \"mode\": \"lines+markers\", \"name\": \"Chelsea\", \"text\": [\"Chelsea<br>Rank: 2\", \"Chelsea<br>Rank: 3\", \"Chelsea<br>Rank: 3\", \"Chelsea<br>Rank: 2\", \"Chelsea<br>Rank: 1\", \"Chelsea<br>Rank: 3\", \"Chelsea<br>Rank: 3\", \"Chelsea<br>Rank: 2\"], \"x\": [1, 2, 3, 4, 5, 6, 7, 8], \"y\": [2, 3, 3, 2, 1, 3, 3, 2], \"type\": \"scatter\", \"uid\": \"688c7868-d4cf-11e8-8be4-acde48001122\"}, {\"hoverinfo\": \"text\", \"line\": {\"width\": 1.0}, \"marker\": {\"opacity\": 0.5, \"size\": 9}, \"mode\": \"lines+markers\", \"name\": \"Crystal Palace\", \"text\": [\"Crystal Palace<br>Rank: 4\", \"Crystal Palace<br>Rank: 10\", \"Crystal Palace<br>Rank: 10\", \"Crystal Palace<br>Rank: 15\", \"Crystal Palace<br>Rank: 12\", \"Crystal Palace<br>Rank: 11\", \"Crystal Palace<br>Rank: 13\", \"Crystal Palace<br>Rank: 14\"], \"x\": [1, 2, 3, 4, 5, 6, 7, 8], \"y\": [4, 10, 10, 15, 12, 11, 13, 14], \"type\": \"scatter\", \"uid\": \"688c78e8-d4cf-11e8-892d-acde48001122\"}, {\"hoverinfo\": \"text\", \"line\": {\"width\": 1.0}, \"marker\": {\"opacity\": 0.5, \"size\": 9}, \"mode\": \"lines+markers\", \"name\": \"Everton\", \"text\": [\"Everton<br>Rank: 9\", \"Everton<br>Rank: 7\", \"Everton<br>Rank: 8\", \"Everton<br>Rank: 7\", \"Everton<br>Rank: 10\", \"Everton<br>Rank: 12\", \"Everton<br>Rank: 11\", \"Everton<br>Rank: 11\"], \"x\": [1, 2, 3, 4, 5, 6, 7, 8], \"y\": [9, 7, 8, 7, 10, 12, 11, 11], \"type\": \"scatter\", \"uid\": \"688c7976-d4cf-11e8-9d96-acde48001122\"}, {\"hoverinfo\": \"text\", \"line\": {\"width\": 1.0}, \"marker\": {\"opacity\": 0.5, \"size\": 9}, \"mode\": \"lines+markers\", \"name\": \"Fulham\", \"text\": [\"Fulham<br>Rank: 18\", \"Fulham<br>Rank: 18\", \"Fulham<br>Rank: 11\", \"Fulham<br>Rank: 13\", \"Fulham<br>Rank: 15\", \"Fulham<br>Rank: 15\", \"Fulham<br>Rank: 17\", \"Fulham<br>Rank: 17\"], \"x\": [1, 2, 3, 4, 5, 6, 7, 8], \"y\": [18, 18, 11, 13, 15, 15, 17, 17], \"type\": \"scatter\", \"uid\": \"688c79f8-d4cf-11e8-8ed9-acde48001122\"}, {\"hoverinfo\": \"text\", \"line\": {\"width\": 1.0}, \"marker\": {\"opacity\": 0.5, \"size\": 9}, \"mode\": \"lines+markers\", \"name\": \"Huddersfield\", \"text\": [\"Huddersfield<br>Rank: 19\", \"Huddersfield<br>Rank: 20\", \"Huddersfield<br>Rank: 19\", \"Huddersfield<br>Rank: 17\", \"Huddersfield<br>Rank: 18\", \"Huddersfield<br>Rank: 19\", \"Huddersfield<br>Rank: 20\", \"Huddersfield<br>Rank: 18\"], \"x\": [1, 2, 3, 4, 5, 6, 7, 8], \"y\": [19, 20, 19, 17, 18, 19, 20, 18], \"type\": \"scatter\", \"uid\": \"688c7a70-d4cf-11e8-845b-acde48001122\"}, {\"hoverinfo\": \"text\", \"line\": {\"width\": 1.0}, \"marker\": {\"opacity\": 0.5, \"size\": 9}, \"mode\": \"lines+markers\", \"name\": \"Leicester City\", \"text\": [\"Leicester City<br>Rank: 13\", \"Leicester City<br>Rank: 8\", \"Leicester City<br>Rank: 7\", \"Leicester City<br>Rank: 8\", \"Leicester City<br>Rank: 11\", \"Leicester City<br>Rank: 9\", \"Leicester City<br>Rank: 8\", \"Leicester City<br>Rank: 10\"], \"x\": [1, 2, 3, 4, 5, 6, 7, 8], \"y\": [13, 8, 7, 8, 11, 9, 8, 10], \"type\": \"scatter\", \"uid\": \"688c7af4-d4cf-11e8-8fc4-acde48001122\"}, {\"hoverinfo\": \"text\", \"line\": {\"width\": 1.0}, \"marker\": {\"opacity\": 0.5, \"size\": 9}, \"mode\": \"lines+markers\", \"name\": \"Liverpool\", \"text\": [\"Liverpool<br>Rank: 1\", \"Liverpool<br>Rank: 2\", \"Liverpool<br>Rank: 1\", \"Liverpool<br>Rank: 1\", \"Liverpool<br>Rank: 2\", \"Liverpool<br>Rank: 1\", \"Liverpool<br>Rank: 2\", \"Liverpool<br>Rank: 3\"], \"x\": [1, 2, 3, 4, 5, 6, 7, 8], \"y\": [1, 2, 1, 1, 2, 1, 2, 3], \"type\": \"scatter\", \"uid\": \"688c7b74-d4cf-11e8-9122-acde48001122\"}, {\"hoverinfo\": \"text\", \"line\": {\"width\": 1.0}, \"marker\": {\"opacity\": 0.5, \"size\": 9}, \"mode\": \"lines+markers\", \"name\": \"Manchester City\", \"text\": [\"Manchester City<br>Rank: 3\", \"Manchester City<br>Rank: 1\", \"Manchester City<br>Rank: 5\", \"Manchester City<br>Rank: 4\", \"Manchester City<br>Rank: 3\", \"Manchester City<br>Rank: 2\", \"Manchester City<br>Rank: 1\", \"Manchester City<br>Rank: 1\"], \"x\": [1, 2, 3, 4, 5, 6, 7, 8], \"y\": [3, 1, 5, 4, 3, 2, 1, 1], \"type\": \"scatter\", \"uid\": \"688c7bf6-d4cf-11e8-a9bd-acde48001122\"}, {\"hoverinfo\": \"text\", \"line\": {\"width\": 1.0}, \"marker\": {\"opacity\": 0.5, \"size\": 9}, \"mode\": \"lines+markers\", \"name\": \"Manchester Utd\", \"text\": [\"Manchester Utd<br>Rank: 7\", \"Manchester Utd<br>Rank: 9\", \"Manchester Utd<br>Rank: 13\", \"Manchester Utd<br>Rank: 10\", \"Manchester Utd<br>Rank: 8\", \"Manchester Utd<br>Rank: 7\", \"Manchester Utd<br>Rank: 10\", \"Manchester Utd<br>Rank: 8\"], \"x\": [1, 2, 3, 4, 5, 6, 7, 8], \"y\": [7, 9, 13, 10, 8, 7, 10, 8], \"type\": \"scatter\", \"uid\": \"688c7c78-d4cf-11e8-aacb-acde48001122\"}, {\"hoverinfo\": \"text\", \"line\": {\"width\": 1.0}, \"marker\": {\"opacity\": 0.5, \"size\": 9}, \"mode\": \"lines+markers\", \"name\": \"Newcastle Utd\", \"text\": [\"Newcastle Utd<br>Rank: 14\", \"Newcastle Utd<br>Rank: 12\", \"Newcastle Utd<br>Rank: 16\", \"Newcastle Utd<br>Rank: 18\", \"Newcastle Utd<br>Rank: 19\", \"Newcastle Utd<br>Rank: 18\", \"Newcastle Utd<br>Rank: 18\", \"Newcastle Utd<br>Rank: 19\"], \"x\": [1, 2, 3, 4, 5, 6, 7, 8], \"y\": [14, 12, 16, 18, 19, 18, 18, 19], \"type\": \"scatter\", \"uid\": \"688c7cfa-d4cf-11e8-9a22-acde48001122\"}, {\"hoverinfo\": \"text\", \"line\": {\"width\": 1.0}, \"marker\": {\"opacity\": 0.5, \"size\": 9}, \"mode\": \"lines+markers\", \"name\": \"Southampton\", \"text\": [\"Southampton<br>Rank: 12\", \"Southampton<br>Rank: 13\", \"Southampton<br>Rank: 17\", \"Southampton<br>Rank: 12\", \"Southampton<br>Rank: 13\", \"Southampton<br>Rank: 14\", \"Southampton<br>Rank: 16\", \"Southampton<br>Rank: 16\"], \"x\": [1, 2, 3, 4, 5, 6, 7, 8], \"y\": [12, 13, 17, 12, 13, 14, 16, 16], \"type\": \"scatter\", \"uid\": \"688c7d74-d4cf-11e8-98ed-acde48001122\"}, {\"hoverinfo\": \"text\", \"line\": {\"width\": 1.0}, \"marker\": {\"opacity\": 0.5, \"size\": 9}, \"mode\": \"lines+markers\", \"name\": \"Tottenham\", \"text\": [\"Tottenham<br>Rank: 8\", \"Tottenham<br>Rank: 5\", \"Tottenham<br>Rank: 2\", \"Tottenham<br>Rank: 5\", \"Tottenham<br>Rank: 6\", \"Tottenham<br>Rank: 5\", \"Tottenham<br>Rank: 4\", \"Tottenham<br>Rank: 5\"], \"x\": [1, 2, 3, 4, 5, 6, 7, 8], \"y\": [8, 5, 2, 5, 6, 5, 4, 5], \"type\": \"scatter\", \"uid\": \"688c7dfe-d4cf-11e8-af98-acde48001122\"}, {\"hoverinfo\": \"text\", \"line\": {\"width\": 1.0}, \"marker\": {\"opacity\": 0.5, \"size\": 9}, \"mode\": \"lines+markers\", \"name\": \"Watford\", \"text\": [\"Watford<br>Rank: 6\", \"Watford<br>Rank: 4\", \"Watford<br>Rank: 4\", \"Watford<br>Rank: 3\", \"Watford<br>Rank: 4\", \"Watford<br>Rank: 4\", \"Watford<br>Rank: 6\", \"Watford<br>Rank: 9\"], \"x\": [1, 2, 3, 4, 5, 6, 7, 8], \"y\": [6, 4, 4, 3, 4, 4, 6, 9], \"type\": \"scatter\", \"uid\": \"688c7e80-d4cf-11e8-9c42-acde48001122\"}, {\"hoverinfo\": \"text\", \"line\": {\"width\": 1.0}, \"marker\": {\"opacity\": 0.5, \"size\": 9}, \"mode\": \"lines+markers\", \"name\": \"West Ham Utd\", \"text\": [\"West Ham Utd<br>Rank: 20\", \"West Ham Utd<br>Rank: 19\", \"West Ham Utd<br>Rank: 20\", \"West Ham Utd<br>Rank: 20\", \"West Ham Utd<br>Rank: 16\", \"West Ham Utd<br>Rank: 17\", \"West Ham Utd<br>Rank: 14\", \"West Ham Utd<br>Rank: 15\"], \"x\": [1, 2, 3, 4, 5, 6, 7, 8], \"y\": [20, 19, 20, 20, 16, 17, 14, 15], \"type\": \"scatter\", \"uid\": \"688c7ef8-d4cf-11e8-a8e1-acde48001122\"}, {\"hoverinfo\": \"text\", \"line\": {\"width\": 1.0}, \"marker\": {\"opacity\": 0.5, \"size\": 9}, \"mode\": \"lines+markers\", \"name\": \"Wolves\", \"text\": [\"Wolves<br>Rank: 10\", \"Wolves<br>Rank: 14\", \"Wolves<br>Rank: 14\", \"Wolves<br>Rank: 11\", \"Wolves<br>Rank: 9\", \"Wolves<br>Rank: 10\", \"Wolves<br>Rank: 9\", \"Wolves<br>Rank: 7\"], \"x\": [1, 2, 3, 4, 5, 6, 7, 8], \"y\": [10, 14, 14, 11, 9, 10, 9, 7], \"type\": \"scatter\", \"uid\": \"688c7f70-d4cf-11e8-a339-acde48001122\"}], {\"hovermode\": \"closest\", \"legend\": {\"traceorder\": \"grouped\"}, \"title\": \"Team Standing by Week Season 18/19\", \"xaxis\": {\"range\": [0.8, 9.2], \"title\": \"Matchday (Week)\"}, \"yaxis\": {\"autorange\": \"reversed\", \"range\": [0.5, 20.5], \"tickvals\": [5, 10, 15, 20], \"title\": \"Team Standing\", \"zeroline\": false}}, {\"showLink\": true, \"linkText\": \"Export to plot.ly\"})});</script>"
      ]
     },
     "metadata": {},
     "output_type": "display_data"
    }
   ],
   "source": [
    "teams = sorted(set(matchday['Team']))\n",
    "additional_trace = go.Scatter(x=[15], y=[21], marker=dict(color='white'), showlegend=False, hoverinfo='none')\n",
    "additional_trace2 = go.Scatter(x=[15], y=[0.9], marker=dict(color='white'), showlegend=False, hoverinfo='none')\n",
    "\n",
    "data = [additional_trace, additional_trace2]\n",
    "for team in teams:\n",
    "    team_data = dict(\n",
    "            x = matchday.loc[matchday['Team'] == team, 'Matchday'],\n",
    "            y = matchday.loc[matchday['Team'] == team, 'Rank'],\n",
    "            name = team,\n",
    "            mode = 'lines+markers',\n",
    "            text = matchday.loc[matchday['Team'] == team, 'Team'] + '<br>' +\n",
    "                'Rank: ' + matchday.loc[matchday['Team'] == team, 'Rank'].apply(str),\n",
    "            marker = dict(\n",
    "                    size = 9,\n",
    "                    opacity = 0.5),\n",
    "            line = dict(width=1.0),\n",
    "            type = 'scatter',\n",
    "            hoverinfo = 'text',\n",
    "        )\n",
    "    data.append(team_data)\n",
    "\n",
    "    \n",
    "layout = go.Layout(\n",
    "    title = 'Team Standing by Week Season 18/19',\n",
    "    yaxis = dict(\n",
    "        title ='Team Standing',\n",
    "        range = [0.5, 20.5],\n",
    "        autorange = 'reversed',\n",
    "        zeroline = False,\n",
    "        tickvals = [5, 10, 15, 20]\n",
    "    ),\n",
    "    xaxis = dict(\n",
    "        title = 'Matchday (Week)',\n",
    "        range = [.8, 9.2],\n",
    "        \n",
    "    ),\n",
    "    hovermode = 'closest',\n",
    "    legend = dict(traceorder = 'grouped')\n",
    "\n",
    ")\n",
    "\n",
    "fig = go.Figure(data = data, layout = layout)\n",
    "iplot(fig)"
   ]
  },
  {
   "cell_type": "code",
   "execution_count": null,
   "metadata": {},
   "outputs": [],
   "source": []
  },
  {
   "cell_type": "code",
   "execution_count": null,
   "metadata": {},
   "outputs": [],
   "source": []
  }
 ],
 "metadata": {
  "kernelspec": {
   "display_name": "Python 3",
   "language": "python",
   "name": "python3"
  },
  "language_info": {
   "codemirror_mode": {
    "name": "ipython",
    "version": 3
   },
   "file_extension": ".py",
   "mimetype": "text/x-python",
   "name": "python",
   "nbconvert_exporter": "python",
   "pygments_lexer": "ipython3",
   "version": "3.6.5"
  }
 },
 "nbformat": 4,
 "nbformat_minor": 2
}
