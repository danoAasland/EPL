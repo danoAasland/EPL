{
 "cells": [
  {
   "cell_type": "code",
   "execution_count": 15,
   "metadata": {},
   "outputs": [],
   "source": [
    "import pandas as pd\n",
    "from sklearn.model_selection import train_test_split\n",
    "from sklearn.linear_model import LogisticRegression\n",
    "from sklearn.ensemble import RandomForestClassifier\n",
    "from sklearn.neighbors import KNeighborsClassifier\n",
    "from sklearn.neural_network import MLPClassifier\n",
    "from sklearn.preprocessing import StandardScaler  \n"
   ]
  },
  {
   "cell_type": "code",
   "execution_count": 4,
   "metadata": {},
   "outputs": [],
   "source": [
    "# data from three different sources use different names for teams. \n",
    "# manually making a dictionary to rename teams.\n",
    "team_dict = {\n",
    "            'Arsenal FC': 'Arsenal',\n",
    "            'Burnley FC': 'Burnley',\n",
    "            'Liverpool FC': 'Liverpool',\n",
    "            'Everton FC': 'Everton',\n",
    "            'Fulham FC': 'Fulham',\n",
    "            'Southampton FC': 'Southampton',\n",
    "            'Chelsea FC': 'Chelsea',\n",
    "            'West Bromwich Albion': 'West Bromwich',\n",
    "            'Manchester United': 'Manchester Utd',\n",
    "            'Man United': 'Manchester Utd',\n",
    "            'Man City': 'Manchester City', \n",
    "            'Newcastle': 'Newcastle Utd',\n",
    "            'Newcastle United': 'Newcastle Utd',\n",
    "            'West Ham United': 'West Ham Utd', \n",
    "            'Tottenham Hotspur': 'Tottenham',\n",
    "            'Queens Park Rangers': 'QP Rangers',\n",
    "            'Watford FC': 'Watford',\n",
    "            'AFC Bournemouth': 'Bournemouth',\n",
    "            'Sunderland AFC': 'Sunderland',\n",
    "            'Middlesbrough FC': 'Middlesbrough',\n",
    "            'Brighton & Hove Albion': 'Brighton & Hove',\n",
    "            'Huddersfield Town': 'Huddersfield',\n",
    "            'QPR': 'QP Rangers',\n",
    "            'Cardiff': 'Cardiff City',\n",
    "            'Hull': 'Hull City',\n",
    "            'Norwich': 'Norwich City',\n",
    "            'Stoke': 'Stoke City',\n",
    "            'Swansea': 'Swansea City',\n",
    "            'West Brom': 'West Bromwich',\n",
    "            'West Ham': 'West Ham Utd'\n",
    "            }"
   ]
  },
  {
   "cell_type": "code",
   "execution_count": 5,
   "metadata": {},
   "outputs": [],
   "source": [
    "# Current season Roster Power Index(RPI) from PES Database.\n",
    "# Each data is used to predict each season.\n",
    "# For example, use pes14 to predict (train) 14/15 season.\n",
    "# Merge pes14 data with epl_table_1314 table in order to predict EPL 14/15 season.\n",
    "pes14 = pd.read_csv('./Data/PES14.csv')\n",
    "pes15 = pd.read_csv('./Data/PES15.csv')\n",
    "pes16 = pd.read_csv('./Data/PES16.csv')\n",
    "pes17 = pd.read_csv('./Data/PES17.csv')\n",
    "pes18 = pd.read_csv('./Data/PES18.csv')\n",
    "pes19 = pd.read_csv('./Data/PES19.csv')"
   ]
  },
  {
   "cell_type": "code",
   "execution_count": 6,
   "metadata": {},
   "outputs": [],
   "source": [
    "# Past season RPIs and Match Power Index(MPI)from past season.\n",
    "epl_table_1314 = pd.read_csv('./Data/epl_table_1314.csv')\n",
    "epl_table_1415 = pd.read_csv('./Data/epl_table_1415.csv')\n",
    "epl_table_1516 = pd.read_csv('./Data/epl_table_1516.csv')\n",
    "epl_table_1617 = pd.read_csv('./Data/epl_table_1617.csv')\n",
    "epl_table_1718 = pd.read_csv('./Data/epl_table_1718.csv')"
   ]
  },
  {
   "cell_type": "code",
   "execution_count": 7,
   "metadata": {},
   "outputs": [],
   "source": [
    "# Merge two RPIs.\n",
    "pr_14 = pd.merge(pes14, epl_table_1314, on='Team', how='outer').sort_values(by='Team')\n",
    "pr_15 = pd.merge(pes15, epl_table_1415, on='Team', how='outer').sort_values(by='Team')\n",
    "pr_16 = pd.merge(pes16, epl_table_1516, on='Team', how='outer').sort_values(by='Team')\n",
    "pr_17 = pd.merge(pes17, epl_table_1617, on='Team', how='outer').sort_values(by='Team')\n",
    "pr_18 = pd.merge(pes18, epl_table_1718, on='Team', how='outer').sort_values(by='Team')"
   ]
  },
  {
   "cell_type": "code",
   "execution_count": 8,
   "metadata": {},
   "outputs": [],
   "source": [
    "# Load EPL fixtures.\n",
    "epl_detail_1314 = pd.read_csv('./Data/epl1314.csv')\n",
    "epl_detail_1415 = pd.read_csv('./Data/epl1415.csv')\n",
    "epl_detail_1516 = pd.read_csv('./Data/epl1516.csv')\n",
    "epl_detail_1617 = pd.read_csv('./Data/epl1617.csv')\n",
    "epl_detail_1718 = pd.read_csv('./Data/epl1718.csv')"
   ]
  },
  {
   "cell_type": "code",
   "execution_count": 9,
   "metadata": {},
   "outputs": [],
   "source": [
    "# Create columns to merge with EPL fixture dataframes.\n",
    "new_cols = ['HtOff', 'HtDef', 'AtOff', 'AtDef', 'HtPesOvr', 'AtPesOvr', \n",
    "            'HtPesDef', 'HtPesMid', 'HtPesOff', 'AtPesDef', 'AtPesMid', 'AtPesOff',\n",
    "            'HtPesPhy', 'HtPesSpd', 'AtPesPhy', 'AtPesSpd']\n",
    "\n",
    "def detail_df(epl_detail_data):\n",
    "    '''\n",
    "    Take Home, away teams and the result from fixture dataframes.\n",
    "    '''\n",
    "    epl_detail_data = epl_detail_data[['HomeTeam', 'AwayTeam', 'FTR']]\n",
    "    epl_detail_data = epl_detail_data.reindex(columns=epl_detail_data.columns.tolist() + new_cols)\n",
    "    epl_detail_data = epl_detail_data.replace(team_dict)\n",
    "    \n",
    "    return epl_detail_data\n",
    "\n",
    "epl_detail_1314 = detail_df(epl_detail_1314)\n",
    "epl_detail_1415 = detail_df(epl_detail_1415)\n",
    "epl_detail_1516 = detail_df(epl_detail_1516)\n",
    "epl_detail_1617 = detail_df(epl_detail_1617)\n",
    "epl_detail_1718 = detail_df(epl_detail_1718)\n"
   ]
  },
  {
   "cell_type": "code",
   "execution_count": 11,
   "metadata": {},
   "outputs": [],
   "source": [
    "def fill_df(epl_detail_data, pes_data):\n",
    "    '''\n",
    "    Pass RPIs to fixture dataframe.\n",
    "    IndexError will be ignored.\n",
    "    The model ignores relegation and promotion of teams.\n",
    "    '''\n",
    "    for team in epl_detail_data['HomeTeam']:\n",
    "        try:\n",
    "            ht_off = pes_data.loc[pes_data['Team'] == team, 'H_Att'].values[0] \n",
    "            ht_def = pes_data.loc[pes_data['Team'] == team, 'H_Def'].values[0]\n",
    "            at_off = pes_data.loc[pes_data['Team'] == team, 'A_Att'].values[0]\n",
    "            at_def = pes_data.loc[pes_data['Team'] == team, 'A_Def'].values[0]\n",
    "            pes_ovr = pes_data.loc[pes_data['Team'] == team, 'Ovr'].values[0]\n",
    "            pes_off = pes_data.loc[pes_data['Team'] == team, 'Fwd'].values[0]\n",
    "            pes_def = pes_data.loc[pes_data['Team'] == team, 'Def'].values[0]\n",
    "            pes_mid = pes_data.loc[pes_data['Team'] == team, 'Mid'].values[0]\n",
    "            pes_spd = pes_data.loc[pes_data['Team'] == team, 'Spd'].values[0]\n",
    "            pes_phy = pes_data.loc[pes_data['Team'] == team, 'Phy'].values[0]\n",
    "            epl_detail_data.loc[epl_detail_data['HomeTeam'] == team, 'HtOff'] = ht_off\n",
    "            epl_detail_data.loc[epl_detail_data['HomeTeam'] == team, 'HtDef'] = ht_def\n",
    "            epl_detail_data.loc[epl_detail_data['AwayTeam'] == team, 'AtOff'] = at_off\n",
    "            epl_detail_data.loc[epl_detail_data['AwayTeam'] == team, 'AtDef'] = at_def\n",
    "            epl_detail_data.loc[epl_detail_data['HomeTeam'] == team, 'HtPesOvr'] = pes_ovr\n",
    "            epl_detail_data.loc[epl_detail_data['AwayTeam'] == team, 'AtPesOvr'] = pes_ovr\n",
    "            epl_detail_data.loc[epl_detail_data['HomeTeam'] == team, 'HtPesOff'] = pes_off\n",
    "            epl_detail_data.loc[epl_detail_data['AwayTeam'] == team, 'AtPesOff'] = pes_off\n",
    "            epl_detail_data.loc[epl_detail_data['HomeTeam'] == team, 'HtPesDef'] = pes_def\n",
    "            epl_detail_data.loc[epl_detail_data['AwayTeam'] == team, 'AtPesDef'] = pes_def\n",
    "            epl_detail_data.loc[epl_detail_data['HomeTeam'] == team, 'HtPesMid'] = pes_mid\n",
    "            epl_detail_data.loc[epl_detail_data['AwayTeam'] == team, 'AtPesMid'] = pes_mid\n",
    "            epl_detail_data.loc[epl_detail_data['HomeTeam'] == team, 'HtPesSpd'] = pes_spd\n",
    "            epl_detail_data.loc[epl_detail_data['AwayTeam'] == team, 'AtPesSpd'] = pes_spd\n",
    "            epl_detail_data.loc[epl_detail_data['HomeTeam'] == team, 'HtPesPhy'] = pes_phy\n",
    "            epl_detail_data.loc[epl_detail_data['AwayTeam'] == team, 'AtPesPhy'] = pes_phy\n",
    "        \n",
    "        except IndexError:\n",
    "            pass\n",
    "            \n",
    "fill_df(epl_detail_1314, pr_14)\n",
    "fill_df(epl_detail_1415, pr_15)\n",
    "fill_df(epl_detail_1516, pr_16)\n",
    "fill_df(epl_detail_1617, pr_17)\n",
    "fill_df(epl_detail_1718, pr_18)"
   ]
  },
  {
   "cell_type": "code",
   "execution_count": 13,
   "metadata": {},
   "outputs": [],
   "source": [
    "# Final model.\n",
    "model_df = pd.concat([epl_detail_1314, epl_detail_1415, epl_detail_1516, epl_detail_1617, epl_detail_1718])\n",
    "\n",
    "# Drop NAs from promotion/relegation.\n",
    "model_df = model_df.dropna()"
   ]
  },
  {
   "cell_type": "code",
   "execution_count": 24,
   "metadata": {},
   "outputs": [],
   "source": [
    "X = model_df[new_cols]\n",
    "y = model_df['FTR']"
   ]
  },
  {
   "cell_type": "code",
   "execution_count": 25,
   "metadata": {},
   "outputs": [],
   "source": [
    "X_train, X_test, y_train, y_test = train_test_split(X, y, random_state=42, test_size = .33)"
   ]
  },
  {
   "cell_type": "code",
   "execution_count": 26,
   "metadata": {},
   "outputs": [],
   "source": [
    "# scaler = StandardScaler()  \n",
    "# scaler.fit(X_train)  \n",
    "# X_train = scaler.transform(X_train)  \n",
    "# X_test = scaler.transform(X_test) \n",
    "\n",
    "knn = KNeighborsClassifier()\n",
    "lr = LogisticRegression(random_state=42)\n",
    "rf = RandomForestClassifier(random_state=42)\n",
    "clf = MLPClassifier(random_state=42)\n",
    " \n",
    "knn.fit(X_train, y_train)\n",
    "lr.fit(X_train, y_train)\n",
    "rf.fit(X_train, y_train)\n",
    "clf.fit(X_train, y_train);"
   ]
  },
  {
   "cell_type": "code",
   "execution_count": 27,
   "metadata": {},
   "outputs": [
    {
     "name": "stdout",
     "output_type": "stream",
     "text": [
      "0.504424778761062\n",
      "0.5734513274336284\n",
      "0.49557522123893805\n",
      "0.431858407079646\n"
     ]
    }
   ],
   "source": [
    "print(knn.score(X_test, y_test))\n",
    "print(lr.score(X_test, y_test))\n",
    "print(rf.score(X_test, y_test))\n",
    "print(clf.score(X_test, y_test))"
   ]
  },
  {
   "cell_type": "code",
   "execution_count": null,
   "metadata": {},
   "outputs": [],
   "source": []
  }
 ],
 "metadata": {
  "kernelspec": {
   "display_name": "Python 3",
   "language": "python",
   "name": "python3"
  },
  "language_info": {
   "codemirror_mode": {
    "name": "ipython",
    "version": 3
   },
   "file_extension": ".py",
   "mimetype": "text/x-python",
   "name": "python",
   "nbconvert_exporter": "python",
   "pygments_lexer": "ipython3",
   "version": "3.6.5"
  }
 },
 "nbformat": 4,
 "nbformat_minor": 2
}
