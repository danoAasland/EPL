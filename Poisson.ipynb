{
 "cells": [
  {
   "cell_type": "code",
   "execution_count": 1,
   "metadata": {},
   "outputs": [],
   "source": [
    "import pandas as pd\n",
    "import numpy as np\n",
    "import matplotlib.pyplot as plt\n",
    "from scipy.stats import poisson"
   ]
  },
  {
   "cell_type": "code",
   "execution_count": 3,
   "metadata": {},
   "outputs": [],
   "source": [
    "table_13 = pd.read_csv('./Data/epl_table_1314.csv')\n",
    "table_14 = pd.read_csv('./Data/epl_table_1415.csv')\n",
    "table_15 = pd.read_csv('./Data/epl_table_1516.csv')\n",
    "table_16 = pd.read_csv('./Data/epl_table_1617.csv')\n",
    "table_17 = pd.read_csv('./Data/epl_table_1718.csv')"
   ]
  },
  {
   "cell_type": "code",
   "execution_count": 8,
   "metadata": {},
   "outputs": [],
   "source": [
    "# Season fixture\n",
    "epl_detail_1314 = pd.read_csv('./Data/epl1314.csv')\n",
    "epl_detail_1415 = pd.read_csv('./Data/epl1415.csv')\n",
    "epl_detail_1516 = pd.read_csv('./Data/epl1516.csv')\n",
    "epl_detail_1617 = pd.read_csv('./Data/epl1617.csv')\n",
    "epl_detail_1718 = pd.read_csv('./Data/epl1718.csv')\n",
    "epl_detail_1819 = pd.read_csv('./Data/epl1819.csv')"
   ]
  },
  {
   "cell_type": "code",
   "execution_count": 15,
   "metadata": {},
   "outputs": [
    {
     "data": {
      "text/html": [
       "<div>\n",
       "<style scoped>\n",
       "    .dataframe tbody tr th:only-of-type {\n",
       "        vertical-align: middle;\n",
       "    }\n",
       "\n",
       "    .dataframe tbody tr th {\n",
       "        vertical-align: top;\n",
       "    }\n",
       "\n",
       "    .dataframe thead th {\n",
       "        text-align: right;\n",
       "    }\n",
       "</style>\n",
       "<table border=\"1\" class=\"dataframe\">\n",
       "  <thead>\n",
       "    <tr style=\"text-align: right;\">\n",
       "      <th></th>\n",
       "      <th>HomeTeam</th>\n",
       "      <th>AwayTeam</th>\n",
       "    </tr>\n",
       "  </thead>\n",
       "  <tbody>\n",
       "    <tr>\n",
       "      <th>0</th>\n",
       "      <td>Arsenal</td>\n",
       "      <td>Aston Villa</td>\n",
       "    </tr>\n",
       "    <tr>\n",
       "      <th>1</th>\n",
       "      <td>Liverpool</td>\n",
       "      <td>Stoke</td>\n",
       "    </tr>\n",
       "  </tbody>\n",
       "</table>\n",
       "</div>"
      ],
      "text/plain": [
       "    HomeTeam     AwayTeam\n",
       "0    Arsenal  Aston Villa\n",
       "1  Liverpool        Stoke"
      ]
     },
     "execution_count": 15,
     "metadata": {},
     "output_type": "execute_result"
    }
   ],
   "source": [
    "epl_detail_1314[['HomeTeam', 'AwayTeam']].head(2)"
   ]
  },
  {
   "cell_type": "code",
   "execution_count": 14,
   "metadata": {},
   "outputs": [
    {
     "data": {
      "text/html": [
       "<div>\n",
       "<style scoped>\n",
       "    .dataframe tbody tr th:only-of-type {\n",
       "        vertical-align: middle;\n",
       "    }\n",
       "\n",
       "    .dataframe tbody tr th {\n",
       "        vertical-align: top;\n",
       "    }\n",
       "\n",
       "    .dataframe thead th {\n",
       "        text-align: right;\n",
       "    }\n",
       "</style>\n",
       "<table border=\"1\" class=\"dataframe\">\n",
       "  <thead>\n",
       "    <tr style=\"text-align: right;\">\n",
       "      <th></th>\n",
       "      <th>Team</th>\n",
       "      <th>H_Att</th>\n",
       "      <th>H_Def</th>\n",
       "      <th>A_Att</th>\n",
       "      <th>A_Def</th>\n",
       "      <th>HGF</th>\n",
       "      <th>HGA</th>\n",
       "      <th>AGA</th>\n",
       "      <th>AGF</th>\n",
       "    </tr>\n",
       "  </thead>\n",
       "  <tbody>\n",
       "    <tr>\n",
       "      <th>0</th>\n",
       "      <td>Arsenal</td>\n",
       "      <td>1.204013</td>\n",
       "      <td>0.484581</td>\n",
       "      <td>1.409692</td>\n",
       "      <td>1.003344</td>\n",
       "      <td>36</td>\n",
       "      <td>11</td>\n",
       "      <td>30</td>\n",
       "      <td>32</td>\n",
       "    </tr>\n",
       "    <tr>\n",
       "      <th>1</th>\n",
       "      <td>Aston Villa</td>\n",
       "      <td>0.735786</td>\n",
       "      <td>1.277533</td>\n",
       "      <td>0.748899</td>\n",
       "      <td>1.070234</td>\n",
       "      <td>22</td>\n",
       "      <td>29</td>\n",
       "      <td>32</td>\n",
       "      <td>17</td>\n",
       "    </tr>\n",
       "  </tbody>\n",
       "</table>\n",
       "</div>"
      ],
      "text/plain": [
       "          Team     H_Att     H_Def     A_Att     A_Def  HGF  HGA  AGA  AGF\n",
       "0      Arsenal  1.204013  0.484581  1.409692  1.003344   36   11   30   32\n",
       "1  Aston Villa  0.735786  1.277533  0.748899  1.070234   22   29   32   17"
      ]
     },
     "execution_count": 14,
     "metadata": {},
     "output_type": "execute_result"
    }
   ],
   "source": [
    "table_13[['Team','H_Att', 'H_Def', 'A_Att', 'A_Def', 'HGF', 'HGA', 'AGA', 'AGF']].head(2)"
   ]
  },
  {
   "cell_type": "code",
   "execution_count": null,
   "metadata": {},
   "outputs": [],
   "source": [
    "def fill_df(epl_detail_data, pes_data):\n",
    "    '''\n",
    "    Pass RPIs to fixture dataframe.\n",
    "    IndexError will be ignored.\n",
    "    The model ignores relegation and promotion of teams.\n",
    "    '''\n",
    "    for team in epl_detail_data['HomeTeam']:\n",
    "        try:\n",
    "            ht_off = pes_data.loc[pes_data['Team'] == team, 'H_Att'].values[0] \n",
    "            ht_def = pes_data.loc[pes_data['Team'] == team, 'H_Def'].values[0]\n",
    "            at_off = pes_data.loc[pes_data['Team'] == team, 'A_Att'].values[0]\n",
    "            at_def = pes_data.loc[pes_data['Team'] == team, 'A_Def'].values[0]\n",
    "            \n",
    "            \n",
    "        \n",
    "        except IndexError:\n",
    "            pass\n",
    "        \n",
    "    return epl_detail_data"
   ]
  },
  {
   "cell_type": "code",
   "execution_count": 10,
   "metadata": {},
   "outputs": [
    {
     "name": "stdout",
     "output_type": "stream",
     "text": [
      "1.1617672944904067 2.1516345930906566\n"
     ]
    }
   ],
   "source": [
    "def score_percentage(dataframe, hometeam, awayteam):\n",
    "    home_avg = dataframe['HGF'].sum()/380\n",
    "    away_avg = dataframe['HGA'].sum()/380\n",
    "    \n",
    "    home_score = float(dataframe[dataframe['Team'] == hometeam]['H_Att']) * float(dataframe[dataframe['Team'] == awayteam]['A_Def']) * home_avg\n",
    "    away_score = float(dataframe[dataframe['Team'] == awayteam]['A_Att']) * float(dataframe[dataframe['Team'] == hometeam]['H_Def']) * away_avg\n",
    "    print(home_score, away_score)\n",
    "    score = []\n",
    "    # maximum score for a team is 5\n",
    "    for goals in range(0, 6):\n",
    "        scores = {}\n",
    "        scores['Home'] = (poisson.pmf(goals, home_score) * 100) # Hometeam score\n",
    "        scores['Away'] = (poisson.pmf(goals, away_score) * 100) # away score\n",
    "\n",
    "        if len(scores) == 2:\n",
    "                    score.append(scores)\n",
    "    score = pd.DataFrame(score, columns=(['Home', 'Away']))\n",
    "    return score\n",
    "    \n",
    "score = score_percentage(table_13, 'Aston Villa', 'Arsenal')"
   ]
  },
  {
   "cell_type": "code",
   "execution_count": 11,
   "metadata": {},
   "outputs": [
    {
     "data": {
      "text/html": [
       "<div>\n",
       "<style scoped>\n",
       "    .dataframe tbody tr th:only-of-type {\n",
       "        vertical-align: middle;\n",
       "    }\n",
       "\n",
       "    .dataframe tbody tr th {\n",
       "        vertical-align: top;\n",
       "    }\n",
       "\n",
       "    .dataframe thead th {\n",
       "        text-align: right;\n",
       "    }\n",
       "</style>\n",
       "<table border=\"1\" class=\"dataframe\">\n",
       "  <thead>\n",
       "    <tr style=\"text-align: right;\">\n",
       "      <th></th>\n",
       "      <th>Home</th>\n",
       "      <th>Away</th>\n",
       "    </tr>\n",
       "  </thead>\n",
       "  <tbody>\n",
       "    <tr>\n",
       "      <th>0</th>\n",
       "      <td>31.293265</td>\n",
       "      <td>11.629391</td>\n",
       "    </tr>\n",
       "    <tr>\n",
       "      <th>1</th>\n",
       "      <td>36.355492</td>\n",
       "      <td>25.022200</td>\n",
       "    </tr>\n",
       "    <tr>\n",
       "      <th>2</th>\n",
       "      <td>21.118311</td>\n",
       "      <td>26.919315</td>\n",
       "    </tr>\n",
       "    <tr>\n",
       "      <th>3</th>\n",
       "      <td>8.178187</td>\n",
       "      <td>19.306843</td>\n",
       "    </tr>\n",
       "    <tr>\n",
       "      <th>4</th>\n",
       "      <td>2.375288</td>\n",
       "      <td>10.385318</td>\n",
       "    </tr>\n",
       "    <tr>\n",
       "      <th>5</th>\n",
       "      <td>0.551906</td>\n",
       "      <td>4.469082</td>\n",
       "    </tr>\n",
       "  </tbody>\n",
       "</table>\n",
       "</div>"
      ],
      "text/plain": [
       "        Home       Away\n",
       "0  31.293265  11.629391\n",
       "1  36.355492  25.022200\n",
       "2  21.118311  26.919315\n",
       "3   8.178187  19.306843\n",
       "4   2.375288  10.385318\n",
       "5   0.551906   4.469082"
      ]
     },
     "execution_count": 11,
     "metadata": {},
     "output_type": "execute_result"
    }
   ],
   "source": [
    "score"
   ]
  },
  {
   "cell_type": "code",
   "execution_count": 12,
   "metadata": {},
   "outputs": [
    {
     "data": {
      "text/plain": [
       "(99.8724483585423, 97.73214927723953)"
      ]
     },
     "execution_count": 12,
     "metadata": {},
     "output_type": "execute_result"
    }
   ],
   "source": [
    "score.Home.sum(), score.Away.sum()"
   ]
  },
  {
   "cell_type": "code",
   "execution_count": 13,
   "metadata": {},
   "outputs": [],
   "source": [
    "# % of home team winning\n",
    "# home score > away score\n",
    "# home[1] * away[0]\n",
    "# home[2] * away[0] + home[2] * away[1]\n",
    "# home[3] * away[0] + home[3] * away[1] + home[3] * away[2]\n",
    "# home[4] * away[0] + home[4] * away[1] + home[4] * away[2] + home[4] * away[3]\n",
    "# home[5] * away[0] + home[5] * away[1] + home[5] * away[2] + home[5] * away[3]+  home[5] * away[4]\n",
    "home_w = 0\n",
    "away_w = 0\n",
    "draw = 0\n",
    "for home in range(1, len(score)):\n",
    "    for away in range(0, home):\n",
    "        home_w += (score['Home'][home] * score['Away'][away] / 10000)\n",
    "\n",
    "for away in range(1, len(score)):\n",
    "    for home in range(0, away):\n",
    "        away_w += (score['Home'][home] * score['Away'][away] / 10000)\n",
    "\n",
    "for home in range(0, len(score)):\n",
    "    away = home\n",
    "    draw += (score['Home'][home] * score['Away'][away] / 10000)\n"
   ]
  },
  {
   "cell_type": "code",
   "execution_count": 14,
   "metadata": {},
   "outputs": [
    {
     "data": {
      "text/plain": [
       "(0.1965037658716798, 0.5768575313544966, 0.2027136059398688)"
      ]
     },
     "execution_count": 14,
     "metadata": {},
     "output_type": "execute_result"
    }
   ],
   "source": [
    "# should get all percentage and average 38 games\n",
    "home_w, away_w, draw"
   ]
  },
  {
   "cell_type": "code",
   "execution_count": 16,
   "metadata": {},
   "outputs": [
    {
     "data": {
      "text/plain": [
       "0.9667049816826642"
      ]
     },
     "execution_count": 16,
     "metadata": {},
     "output_type": "execute_result"
    }
   ],
   "source": [
    "home_w + away_w + draw"
   ]
  },
  {
   "cell_type": "code",
   "execution_count": null,
   "metadata": {},
   "outputs": [],
   "source": []
  }
 ],
 "metadata": {
  "kernelspec": {
   "display_name": "Python 3",
   "language": "python",
   "name": "python3"
  },
  "language_info": {
   "codemirror_mode": {
    "name": "ipython",
    "version": 3
   },
   "file_extension": ".py",
   "mimetype": "text/x-python",
   "name": "python",
   "nbconvert_exporter": "python",
   "pygments_lexer": "ipython3",
   "version": "3.6.5"
  }
 },
 "nbformat": 4,
 "nbformat_minor": 2
}
