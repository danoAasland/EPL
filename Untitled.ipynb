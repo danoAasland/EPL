{
 "cells": [
  {
   "cell_type": "code",
   "execution_count": 1,
   "metadata": {},
   "outputs": [],
   "source": [
    "import pandas as pd\n",
    "import numpy as np\n",
    "import matplotlib.pyplot as plt\n",
    "from scipy.stats import poisson"
   ]
  },
  {
   "cell_type": "code",
   "execution_count": 2,
   "metadata": {},
   "outputs": [],
   "source": [
    "df = pd.read_csv('./Data/epl1314.csv')\n",
    "table_13 = pd.read_csv('./Data/epl_table_1516.csv')"
   ]
  },
  {
   "cell_type": "code",
   "execution_count": 3,
   "metadata": {},
   "outputs": [
    {
     "data": {
      "text/html": [
       "<div>\n",
       "<style scoped>\n",
       "    .dataframe tbody tr th:only-of-type {\n",
       "        vertical-align: middle;\n",
       "    }\n",
       "\n",
       "    .dataframe tbody tr th {\n",
       "        vertical-align: top;\n",
       "    }\n",
       "\n",
       "    .dataframe thead th {\n",
       "        text-align: right;\n",
       "    }\n",
       "</style>\n",
       "<table border=\"1\" class=\"dataframe\">\n",
       "  <thead>\n",
       "    <tr style=\"text-align: right;\">\n",
       "      <th></th>\n",
       "      <th>Team</th>\n",
       "      <th>H_Att</th>\n",
       "      <th>H_Def</th>\n",
       "      <th>A_Att</th>\n",
       "      <th>A_Def</th>\n",
       "    </tr>\n",
       "  </thead>\n",
       "  <tbody>\n",
       "    <tr>\n",
       "      <th>0</th>\n",
       "      <td>Arsenal</td>\n",
       "      <td>1.093474</td>\n",
       "      <td>0.479303</td>\n",
       "      <td>1.481481</td>\n",
       "      <td>0.881834</td>\n",
       "    </tr>\n",
       "    <tr>\n",
       "      <th>1</th>\n",
       "      <td>Aston Villa</td>\n",
       "      <td>0.493827</td>\n",
       "      <td>1.525054</td>\n",
       "      <td>0.566449</td>\n",
       "      <td>1.446208</td>\n",
       "    </tr>\n",
       "    <tr>\n",
       "      <th>2</th>\n",
       "      <td>Bournemouth</td>\n",
       "      <td>0.811287</td>\n",
       "      <td>1.481481</td>\n",
       "      <td>0.958606</td>\n",
       "      <td>1.164021</td>\n",
       "    </tr>\n",
       "    <tr>\n",
       "      <th>3</th>\n",
       "      <td>Chelsea</td>\n",
       "      <td>1.128748</td>\n",
       "      <td>1.307190</td>\n",
       "      <td>1.176471</td>\n",
       "      <td>0.811287</td>\n",
       "    </tr>\n",
       "    <tr>\n",
       "      <th>4</th>\n",
       "      <td>Crystal Palace</td>\n",
       "      <td>0.670194</td>\n",
       "      <td>1.002179</td>\n",
       "      <td>0.871460</td>\n",
       "      <td>0.987654</td>\n",
       "    </tr>\n",
       "    <tr>\n",
       "      <th>5</th>\n",
       "      <td>Everton</td>\n",
       "      <td>1.234568</td>\n",
       "      <td>1.307190</td>\n",
       "      <td>1.045752</td>\n",
       "      <td>0.881834</td>\n",
       "    </tr>\n",
       "    <tr>\n",
       "      <th>6</th>\n",
       "      <td>Leicester City</td>\n",
       "      <td>1.234568</td>\n",
       "      <td>0.784314</td>\n",
       "      <td>1.437908</td>\n",
       "      <td>0.634921</td>\n",
       "    </tr>\n",
       "    <tr>\n",
       "      <th>7</th>\n",
       "      <td>Liverpool</td>\n",
       "      <td>1.164021</td>\n",
       "      <td>0.958606</td>\n",
       "      <td>1.307190</td>\n",
       "      <td>0.987654</td>\n",
       "    </tr>\n",
       "    <tr>\n",
       "      <th>8</th>\n",
       "      <td>Manchester City</td>\n",
       "      <td>1.657848</td>\n",
       "      <td>0.915033</td>\n",
       "      <td>1.045752</td>\n",
       "      <td>0.705467</td>\n",
       "    </tr>\n",
       "    <tr>\n",
       "      <th>9</th>\n",
       "      <td>Manchester Utd</td>\n",
       "      <td>0.952381</td>\n",
       "      <td>0.392157</td>\n",
       "      <td>0.958606</td>\n",
       "      <td>0.917108</td>\n",
       "    </tr>\n",
       "    <tr>\n",
       "      <th>10</th>\n",
       "      <td>Newcastle Utd</td>\n",
       "      <td>1.128748</td>\n",
       "      <td>1.045752</td>\n",
       "      <td>0.522876</td>\n",
       "      <td>1.446208</td>\n",
       "    </tr>\n",
       "    <tr>\n",
       "      <th>11</th>\n",
       "      <td>Norwich City</td>\n",
       "      <td>0.917108</td>\n",
       "      <td>1.307190</td>\n",
       "      <td>0.566449</td>\n",
       "      <td>1.305115</td>\n",
       "    </tr>\n",
       "    <tr>\n",
       "      <th>12</th>\n",
       "      <td>Southampton</td>\n",
       "      <td>1.375661</td>\n",
       "      <td>0.958606</td>\n",
       "      <td>0.871460</td>\n",
       "      <td>0.670194</td>\n",
       "    </tr>\n",
       "    <tr>\n",
       "      <th>13</th>\n",
       "      <td>Stoke City</td>\n",
       "      <td>0.776014</td>\n",
       "      <td>1.045752</td>\n",
       "      <td>0.827887</td>\n",
       "      <td>1.093474</td>\n",
       "    </tr>\n",
       "    <tr>\n",
       "      <th>14</th>\n",
       "      <td>Sunderland</td>\n",
       "      <td>0.811287</td>\n",
       "      <td>0.871460</td>\n",
       "      <td>1.089325</td>\n",
       "      <td>1.481481</td>\n",
       "    </tr>\n",
       "    <tr>\n",
       "      <th>15</th>\n",
       "      <td>Swansea City</td>\n",
       "      <td>0.705467</td>\n",
       "      <td>0.871460</td>\n",
       "      <td>0.958606</td>\n",
       "      <td>1.128748</td>\n",
       "    </tr>\n",
       "    <tr>\n",
       "      <th>16</th>\n",
       "      <td>Tottenham</td>\n",
       "      <td>1.234568</td>\n",
       "      <td>0.653595</td>\n",
       "      <td>1.481481</td>\n",
       "      <td>0.705467</td>\n",
       "    </tr>\n",
       "    <tr>\n",
       "      <th>17</th>\n",
       "      <td>Watford</td>\n",
       "      <td>0.705467</td>\n",
       "      <td>0.827887</td>\n",
       "      <td>0.871460</td>\n",
       "      <td>1.093474</td>\n",
       "    </tr>\n",
       "    <tr>\n",
       "      <th>18</th>\n",
       "      <td>West Bromwich</td>\n",
       "      <td>0.705467</td>\n",
       "      <td>1.132898</td>\n",
       "      <td>0.610022</td>\n",
       "      <td>0.776014</td>\n",
       "    </tr>\n",
       "    <tr>\n",
       "      <th>19</th>\n",
       "      <td>West Ham Utd</td>\n",
       "      <td>1.199295</td>\n",
       "      <td>1.132898</td>\n",
       "      <td>1.350763</td>\n",
       "      <td>0.881834</td>\n",
       "    </tr>\n",
       "  </tbody>\n",
       "</table>\n",
       "</div>"
      ],
      "text/plain": [
       "               Team     H_Att     H_Def     A_Att     A_Def\n",
       "0           Arsenal  1.093474  0.479303  1.481481  0.881834\n",
       "1       Aston Villa  0.493827  1.525054  0.566449  1.446208\n",
       "2       Bournemouth  0.811287  1.481481  0.958606  1.164021\n",
       "3           Chelsea  1.128748  1.307190  1.176471  0.811287\n",
       "4    Crystal Palace  0.670194  1.002179  0.871460  0.987654\n",
       "5           Everton  1.234568  1.307190  1.045752  0.881834\n",
       "6    Leicester City  1.234568  0.784314  1.437908  0.634921\n",
       "7         Liverpool  1.164021  0.958606  1.307190  0.987654\n",
       "8   Manchester City  1.657848  0.915033  1.045752  0.705467\n",
       "9    Manchester Utd  0.952381  0.392157  0.958606  0.917108\n",
       "10    Newcastle Utd  1.128748  1.045752  0.522876  1.446208\n",
       "11     Norwich City  0.917108  1.307190  0.566449  1.305115\n",
       "12      Southampton  1.375661  0.958606  0.871460  0.670194\n",
       "13       Stoke City  0.776014  1.045752  0.827887  1.093474\n",
       "14       Sunderland  0.811287  0.871460  1.089325  1.481481\n",
       "15     Swansea City  0.705467  0.871460  0.958606  1.128748\n",
       "16        Tottenham  1.234568  0.653595  1.481481  0.705467\n",
       "17          Watford  0.705467  0.827887  0.871460  1.093474\n",
       "18    West Bromwich  0.705467  1.132898  0.610022  0.776014\n",
       "19     West Ham Utd  1.199295  1.132898  1.350763  0.881834"
      ]
     },
     "execution_count": 3,
     "metadata": {},
     "output_type": "execute_result"
    }
   ],
   "source": [
    "table_13[['Team','H_Att', 'H_Def', 'A_Att', 'A_Def']]"
   ]
  },
  {
   "cell_type": "code",
   "execution_count": 11,
   "metadata": {},
   "outputs": [
    {
     "name": "stdout",
     "output_type": "stream",
     "text": [
      "2.3596027104799036 0.32794404311432174\n"
     ]
    }
   ],
   "source": [
    "def score_percentage(dataframe, hometeam, awayteam):\n",
    "    home_avg = dataframe['HGF'].sum()/380\n",
    "    away_avg = dataframe['HGA'].sum()/380\n",
    "    \n",
    "    home_score = float(dataframe[dataframe['Team'] == hometeam]['H_Att']) * float(dataframe[dataframe['Team'] == awayteam]['A_Def']) * home_avg\n",
    "    away_score = float(dataframe[dataframe['Team'] == awayteam]['A_Att']) * float(dataframe[dataframe['Team'] == hometeam]['H_Def']) * away_avg\n",
    "    print(home_score, away_score)\n",
    "    score = []\n",
    "    # maximum score for a team is 5\n",
    "    for goals in range(0, 6):\n",
    "        scores = {}\n",
    "        scores['Home'] = (poisson.pmf(goals, home_score) * 100) # Hometeam score\n",
    "        scores['Away'] = (poisson.pmf(goals, away_score) * 100) # away score\n",
    "\n",
    "        if len(scores) == 2:\n",
    "                    score.append(scores)\n",
    "    score = pd.DataFrame(score, columns=(['Home', 'Away']))\n",
    "    return score\n",
    "    \n",
    "score = score_percentage(table_13, 'Arsenal', 'Aston Villa')"
   ]
  },
  {
   "cell_type": "code",
   "execution_count": 12,
   "metadata": {},
   "outputs": [
    {
     "data": {
      "text/html": [
       "<div>\n",
       "<style scoped>\n",
       "    .dataframe tbody tr th:only-of-type {\n",
       "        vertical-align: middle;\n",
       "    }\n",
       "\n",
       "    .dataframe tbody tr th {\n",
       "        vertical-align: top;\n",
       "    }\n",
       "\n",
       "    .dataframe thead th {\n",
       "        text-align: right;\n",
       "    }\n",
       "</style>\n",
       "<table border=\"1\" class=\"dataframe\">\n",
       "  <thead>\n",
       "    <tr style=\"text-align: right;\">\n",
       "      <th></th>\n",
       "      <th>Home</th>\n",
       "      <th>Away</th>\n",
       "    </tr>\n",
       "  </thead>\n",
       "  <tbody>\n",
       "    <tr>\n",
       "      <th>0</th>\n",
       "      <td>9.445774</td>\n",
       "      <td>72.040333</td>\n",
       "    </tr>\n",
       "    <tr>\n",
       "      <th>1</th>\n",
       "      <td>22.288275</td>\n",
       "      <td>23.625198</td>\n",
       "    </tr>\n",
       "    <tr>\n",
       "      <th>2</th>\n",
       "      <td>26.295737</td>\n",
       "      <td>3.873871</td>\n",
       "    </tr>\n",
       "    <tr>\n",
       "      <th>3</th>\n",
       "      <td>20.682497</td>\n",
       "      <td>0.423471</td>\n",
       "    </tr>\n",
       "    <tr>\n",
       "      <th>4</th>\n",
       "      <td>12.200619</td>\n",
       "      <td>0.034719</td>\n",
       "    </tr>\n",
       "    <tr>\n",
       "      <th>5</th>\n",
       "      <td>5.757723</td>\n",
       "      <td>0.002277</td>\n",
       "    </tr>\n",
       "  </tbody>\n",
       "</table>\n",
       "</div>"
      ],
      "text/plain": [
       "        Home       Away\n",
       "0   9.445774  72.040333\n",
       "1  22.288275  23.625198\n",
       "2  26.295737   3.873871\n",
       "3  20.682497   0.423471\n",
       "4  12.200619   0.034719\n",
       "5   5.757723   0.002277"
      ]
     },
     "execution_count": 12,
     "metadata": {},
     "output_type": "execute_result"
    }
   ],
   "source": [
    "score"
   ]
  },
  {
   "cell_type": "code",
   "execution_count": 13,
   "metadata": {},
   "outputs": [
    {
     "data": {
      "text/plain": [
       "(96.67062436446729, 99.99986945755062)"
      ]
     },
     "execution_count": 13,
     "metadata": {},
     "output_type": "execute_result"
    }
   ],
   "source": [
    "score.Home.sum(), score.Away.sum()"
   ]
  },
  {
   "cell_type": "code",
   "execution_count": 14,
   "metadata": {},
   "outputs": [],
   "source": [
    "# % of home team winning\n",
    "# home score > away score\n",
    "# home[1] * away[0]\n",
    "# home[2] * away[0] + home[2] * away[1]\n",
    "# home[3] * away[0] + home[3] * away[1] + home[3] * away[2]\n",
    "# home[4] * away[0] + home[4] * away[1] + home[4] * away[2] + home[4] * away[3]\n",
    "# home[5] * away[0] + home[5] * away[1] + home[5] * away[2] + home[5] * away[3]+  home[5] * away[4]\n",
    "home_w = 0\n",
    "away_w = 0\n",
    "draw = 0\n",
    "for home in range(1, len(score)):\n",
    "    for away in range(0, home):\n",
    "        home_w += (score['Home'][home] * score['Away'][away] / 10000)\n",
    "\n",
    "for away in range(1, len(score)):\n",
    "    for home in range(0, away):\n",
    "        away_w += (score['Home'][home] * score['Away'][away] / 10000)\n",
    "\n",
    "for home in range(0, len(score)):\n",
    "    away = home\n",
    "    draw += (score['Home'][home] * score['Away'][away] / 10000)\n"
   ]
  },
  {
   "cell_type": "code",
   "execution_count": 15,
   "metadata": {},
   "outputs": [
    {
     "data": {
      "text/plain": [
       "(0.7975341087134129, 0.03736056594967404, 0.13181030701957722)"
      ]
     },
     "execution_count": 15,
     "metadata": {},
     "output_type": "execute_result"
    }
   ],
   "source": [
    "# should get all percentage and average 38 games\n",
    "home_w, away_w, draw"
   ]
  },
  {
   "cell_type": "code",
   "execution_count": 16,
   "metadata": {},
   "outputs": [
    {
     "data": {
      "text/plain": [
       "0.9667049816826642"
      ]
     },
     "execution_count": 16,
     "metadata": {},
     "output_type": "execute_result"
    }
   ],
   "source": [
    "home_w + away_w + draw"
   ]
  },
  {
   "cell_type": "code",
   "execution_count": null,
   "metadata": {},
   "outputs": [],
   "source": []
  }
 ],
 "metadata": {
  "kernelspec": {
   "display_name": "Python 3",
   "language": "python",
   "name": "python3"
  },
  "language_info": {
   "codemirror_mode": {
    "name": "ipython",
    "version": 3
   },
   "file_extension": ".py",
   "mimetype": "text/x-python",
   "name": "python",
   "nbconvert_exporter": "python",
   "pygments_lexer": "ipython3",
   "version": "3.6.5"
  }
 },
 "nbformat": 4,
 "nbformat_minor": 2
}
