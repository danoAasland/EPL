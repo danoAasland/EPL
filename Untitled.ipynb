{
 "cells": [
  {
   "cell_type": "code",
   "execution_count": 2,
   "metadata": {},
   "outputs": [],
   "source": [
    "import pandas as pd\n",
    "import numpy as np\n",
    "import matplotlib.pyplot as plt\n",
    "from scipy.stats import poisson"
   ]
  },
  {
   "cell_type": "code",
   "execution_count": 3,
   "metadata": {},
   "outputs": [],
   "source": [
    "df = pd.read_csv('./Data/epl1314.csv')\n",
    "table_13 = pd.read_csv('./Data/epl_table_1314.csv')"
   ]
  },
  {
   "cell_type": "code",
   "execution_count": 4,
   "metadata": {},
   "outputs": [
    {
     "data": {
      "text/html": [
       "<div>\n",
       "<style scoped>\n",
       "    .dataframe tbody tr th:only-of-type {\n",
       "        vertical-align: middle;\n",
       "    }\n",
       "\n",
       "    .dataframe tbody tr th {\n",
       "        vertical-align: top;\n",
       "    }\n",
       "\n",
       "    .dataframe thead th {\n",
       "        text-align: right;\n",
       "    }\n",
       "</style>\n",
       "<table border=\"1\" class=\"dataframe\">\n",
       "  <thead>\n",
       "    <tr style=\"text-align: right;\">\n",
       "      <th></th>\n",
       "      <th>Team</th>\n",
       "      <th>H_Att</th>\n",
       "      <th>H_Def</th>\n",
       "      <th>A_Att</th>\n",
       "      <th>A_Def</th>\n",
       "    </tr>\n",
       "  </thead>\n",
       "  <tbody>\n",
       "    <tr>\n",
       "      <th>0</th>\n",
       "      <td>Arsenal</td>\n",
       "      <td>1.204013</td>\n",
       "      <td>0.484581</td>\n",
       "      <td>1.409692</td>\n",
       "      <td>1.003344</td>\n",
       "    </tr>\n",
       "    <tr>\n",
       "      <th>1</th>\n",
       "      <td>Aston Villa</td>\n",
       "      <td>0.735786</td>\n",
       "      <td>1.277533</td>\n",
       "      <td>0.748899</td>\n",
       "      <td>1.070234</td>\n",
       "    </tr>\n",
       "    <tr>\n",
       "      <th>2</th>\n",
       "      <td>Cardiff City</td>\n",
       "      <td>0.668896</td>\n",
       "      <td>1.541850</td>\n",
       "      <td>0.528634</td>\n",
       "      <td>1.304348</td>\n",
       "    </tr>\n",
       "    <tr>\n",
       "      <th>3</th>\n",
       "      <td>Chelsea</td>\n",
       "      <td>1.438127</td>\n",
       "      <td>0.484581</td>\n",
       "      <td>1.233480</td>\n",
       "      <td>0.535117</td>\n",
       "    </tr>\n",
       "    <tr>\n",
       "      <th>4</th>\n",
       "      <td>Crystal Palace</td>\n",
       "      <td>0.602007</td>\n",
       "      <td>1.013216</td>\n",
       "      <td>0.660793</td>\n",
       "      <td>0.836120</td>\n",
       "    </tr>\n",
       "    <tr>\n",
       "      <th>5</th>\n",
       "      <td>Everton</td>\n",
       "      <td>1.270903</td>\n",
       "      <td>0.837004</td>\n",
       "      <td>1.013216</td>\n",
       "      <td>0.668896</td>\n",
       "    </tr>\n",
       "    <tr>\n",
       "      <th>6</th>\n",
       "      <td>Fulham</td>\n",
       "      <td>0.802676</td>\n",
       "      <td>1.674009</td>\n",
       "      <td>0.704846</td>\n",
       "      <td>1.571906</td>\n",
       "    </tr>\n",
       "    <tr>\n",
       "      <th>7</th>\n",
       "      <td>Hull City</td>\n",
       "      <td>0.668896</td>\n",
       "      <td>0.925110</td>\n",
       "      <td>0.792952</td>\n",
       "      <td>1.070234</td>\n",
       "    </tr>\n",
       "    <tr>\n",
       "      <th>8</th>\n",
       "      <td>Liverpool</td>\n",
       "      <td>1.772575</td>\n",
       "      <td>0.792952</td>\n",
       "      <td>2.114537</td>\n",
       "      <td>1.070234</td>\n",
       "    </tr>\n",
       "    <tr>\n",
       "      <th>9</th>\n",
       "      <td>Manchester City</td>\n",
       "      <td>2.107023</td>\n",
       "      <td>0.572687</td>\n",
       "      <td>1.718062</td>\n",
       "      <td>0.802676</td>\n",
       "    </tr>\n",
       "    <tr>\n",
       "      <th>10</th>\n",
       "      <td>Manchester Utd</td>\n",
       "      <td>0.969900</td>\n",
       "      <td>0.925110</td>\n",
       "      <td>1.541850</td>\n",
       "      <td>0.735786</td>\n",
       "    </tr>\n",
       "    <tr>\n",
       "      <th>11</th>\n",
       "      <td>Newcastle Utd</td>\n",
       "      <td>0.769231</td>\n",
       "      <td>1.233480</td>\n",
       "      <td>0.881057</td>\n",
       "      <td>1.036789</td>\n",
       "    </tr>\n",
       "    <tr>\n",
       "      <th>12</th>\n",
       "      <td>Norwich City</td>\n",
       "      <td>0.568562</td>\n",
       "      <td>0.792952</td>\n",
       "      <td>0.484581</td>\n",
       "      <td>1.471572</td>\n",
       "    </tr>\n",
       "    <tr>\n",
       "      <th>13</th>\n",
       "      <td>Southampton</td>\n",
       "      <td>1.070234</td>\n",
       "      <td>1.013216</td>\n",
       "      <td>0.969163</td>\n",
       "      <td>0.769231</td>\n",
       "    </tr>\n",
       "    <tr>\n",
       "      <th>14</th>\n",
       "      <td>Stoke City</td>\n",
       "      <td>0.903010</td>\n",
       "      <td>0.748899</td>\n",
       "      <td>0.792952</td>\n",
       "      <td>1.170569</td>\n",
       "    </tr>\n",
       "    <tr>\n",
       "      <th>15</th>\n",
       "      <td>Sunderland</td>\n",
       "      <td>0.702341</td>\n",
       "      <td>1.189427</td>\n",
       "      <td>0.881057</td>\n",
       "      <td>1.103679</td>\n",
       "    </tr>\n",
       "    <tr>\n",
       "      <th>16</th>\n",
       "      <td>Swansea City</td>\n",
       "      <td>1.103679</td>\n",
       "      <td>1.145374</td>\n",
       "      <td>0.925110</td>\n",
       "      <td>0.936455</td>\n",
       "    </tr>\n",
       "    <tr>\n",
       "      <th>17</th>\n",
       "      <td>Tottenham</td>\n",
       "      <td>1.003344</td>\n",
       "      <td>1.013216</td>\n",
       "      <td>1.101322</td>\n",
       "      <td>0.936455</td>\n",
       "    </tr>\n",
       "    <tr>\n",
       "      <th>18</th>\n",
       "      <td>West Bromwich</td>\n",
       "      <td>0.802676</td>\n",
       "      <td>1.189427</td>\n",
       "      <td>0.837004</td>\n",
       "      <td>1.070234</td>\n",
       "    </tr>\n",
       "    <tr>\n",
       "      <th>19</th>\n",
       "      <td>West Ham Utd</td>\n",
       "      <td>0.836120</td>\n",
       "      <td>1.145374</td>\n",
       "      <td>0.660793</td>\n",
       "      <td>0.836120</td>\n",
       "    </tr>\n",
       "  </tbody>\n",
       "</table>\n",
       "</div>"
      ],
      "text/plain": [
       "               Team     H_Att     H_Def     A_Att     A_Def\n",
       "0           Arsenal  1.204013  0.484581  1.409692  1.003344\n",
       "1       Aston Villa  0.735786  1.277533  0.748899  1.070234\n",
       "2      Cardiff City  0.668896  1.541850  0.528634  1.304348\n",
       "3           Chelsea  1.438127  0.484581  1.233480  0.535117\n",
       "4    Crystal Palace  0.602007  1.013216  0.660793  0.836120\n",
       "5           Everton  1.270903  0.837004  1.013216  0.668896\n",
       "6            Fulham  0.802676  1.674009  0.704846  1.571906\n",
       "7         Hull City  0.668896  0.925110  0.792952  1.070234\n",
       "8         Liverpool  1.772575  0.792952  2.114537  1.070234\n",
       "9   Manchester City  2.107023  0.572687  1.718062  0.802676\n",
       "10   Manchester Utd  0.969900  0.925110  1.541850  0.735786\n",
       "11    Newcastle Utd  0.769231  1.233480  0.881057  1.036789\n",
       "12     Norwich City  0.568562  0.792952  0.484581  1.471572\n",
       "13      Southampton  1.070234  1.013216  0.969163  0.769231\n",
       "14       Stoke City  0.903010  0.748899  0.792952  1.170569\n",
       "15       Sunderland  0.702341  1.189427  0.881057  1.103679\n",
       "16     Swansea City  1.103679  1.145374  0.925110  0.936455\n",
       "17        Tottenham  1.003344  1.013216  1.101322  0.936455\n",
       "18    West Bromwich  0.802676  1.189427  0.837004  1.070234\n",
       "19     West Ham Utd  0.836120  1.145374  0.660793  0.836120"
      ]
     },
     "execution_count": 4,
     "metadata": {},
     "output_type": "execute_result"
    }
   ],
   "source": [
    "table_13[['Team','H_Att', 'H_Def', 'A_Att', 'A_Def']]"
   ]
  },
  {
   "cell_type": "code",
   "execution_count": 10,
   "metadata": {},
   "outputs": [
    {
     "name": "stdout",
     "output_type": "stream",
     "text": [
      "1.1617672944904067 2.1516345930906566\n"
     ]
    }
   ],
   "source": [
    "def score_percentage(dataframe, hometeam, awayteam):\n",
    "    home_avg = dataframe['HGF'].sum()/380\n",
    "    away_avg = dataframe['HGA'].sum()/380\n",
    "    \n",
    "    home_score = float(dataframe[dataframe['Team'] == hometeam]['H_Att']) * float(dataframe[dataframe['Team'] == awayteam]['A_Def']) * home_avg\n",
    "    away_score = float(dataframe[dataframe['Team'] == awayteam]['A_Att']) * float(dataframe[dataframe['Team'] == hometeam]['H_Def']) * away_avg\n",
    "    print(home_score, away_score)\n",
    "    score = []\n",
    "    # maximum score for a team is 5\n",
    "    for goals in range(0, 6):\n",
    "        scores = {}\n",
    "        scores['Home'] = (poisson.pmf(goals, home_score) * 100) # Hometeam score\n",
    "        scores['Away'] = (poisson.pmf(goals, away_score) * 100) # away score\n",
    "\n",
    "        if len(scores) == 2:\n",
    "                    score.append(scores)\n",
    "    score = pd.DataFrame(score, columns=(['Home', 'Away']))\n",
    "    return score\n",
    "    \n",
    "score = score_percentage(table_13, 'Aston Villa', 'Arsenal')"
   ]
  },
  {
   "cell_type": "code",
   "execution_count": 11,
   "metadata": {},
   "outputs": [
    {
     "data": {
      "text/html": [
       "<div>\n",
       "<style scoped>\n",
       "    .dataframe tbody tr th:only-of-type {\n",
       "        vertical-align: middle;\n",
       "    }\n",
       "\n",
       "    .dataframe tbody tr th {\n",
       "        vertical-align: top;\n",
       "    }\n",
       "\n",
       "    .dataframe thead th {\n",
       "        text-align: right;\n",
       "    }\n",
       "</style>\n",
       "<table border=\"1\" class=\"dataframe\">\n",
       "  <thead>\n",
       "    <tr style=\"text-align: right;\">\n",
       "      <th></th>\n",
       "      <th>Home</th>\n",
       "      <th>Away</th>\n",
       "    </tr>\n",
       "  </thead>\n",
       "  <tbody>\n",
       "    <tr>\n",
       "      <th>0</th>\n",
       "      <td>31.293265</td>\n",
       "      <td>11.629391</td>\n",
       "    </tr>\n",
       "    <tr>\n",
       "      <th>1</th>\n",
       "      <td>36.355492</td>\n",
       "      <td>25.022200</td>\n",
       "    </tr>\n",
       "    <tr>\n",
       "      <th>2</th>\n",
       "      <td>21.118311</td>\n",
       "      <td>26.919315</td>\n",
       "    </tr>\n",
       "    <tr>\n",
       "      <th>3</th>\n",
       "      <td>8.178187</td>\n",
       "      <td>19.306843</td>\n",
       "    </tr>\n",
       "    <tr>\n",
       "      <th>4</th>\n",
       "      <td>2.375288</td>\n",
       "      <td>10.385318</td>\n",
       "    </tr>\n",
       "    <tr>\n",
       "      <th>5</th>\n",
       "      <td>0.551906</td>\n",
       "      <td>4.469082</td>\n",
       "    </tr>\n",
       "  </tbody>\n",
       "</table>\n",
       "</div>"
      ],
      "text/plain": [
       "        Home       Away\n",
       "0  31.293265  11.629391\n",
       "1  36.355492  25.022200\n",
       "2  21.118311  26.919315\n",
       "3   8.178187  19.306843\n",
       "4   2.375288  10.385318\n",
       "5   0.551906   4.469082"
      ]
     },
     "execution_count": 11,
     "metadata": {},
     "output_type": "execute_result"
    }
   ],
   "source": [
    "score"
   ]
  },
  {
   "cell_type": "code",
   "execution_count": 12,
   "metadata": {},
   "outputs": [
    {
     "data": {
      "text/plain": [
       "(99.8724483585423, 97.73214927723953)"
      ]
     },
     "execution_count": 12,
     "metadata": {},
     "output_type": "execute_result"
    }
   ],
   "source": [
    "score.Home.sum(), score.Away.sum()"
   ]
  },
  {
   "cell_type": "code",
   "execution_count": 13,
   "metadata": {},
   "outputs": [],
   "source": [
    "# % of home team winning\n",
    "# home score > away score\n",
    "# home[1] * away[0]\n",
    "# home[2] * away[0] + home[2] * away[1]\n",
    "# home[3] * away[0] + home[3] * away[1] + home[3] * away[2]\n",
    "# home[4] * away[0] + home[4] * away[1] + home[4] * away[2] + home[4] * away[3]\n",
    "# home[5] * away[0] + home[5] * away[1] + home[5] * away[2] + home[5] * away[3]+  home[5] * away[4]\n",
    "home_w = 0\n",
    "away_w = 0\n",
    "draw = 0\n",
    "for home in range(1, len(score)):\n",
    "    for away in range(0, home):\n",
    "        home_w += (score['Home'][home] * score['Away'][away] / 10000)\n",
    "\n",
    "for away in range(1, len(score)):\n",
    "    for home in range(0, away):\n",
    "        away_w += (score['Home'][home] * score['Away'][away] / 10000)\n",
    "\n",
    "for home in range(0, len(score)):\n",
    "    away = home\n",
    "    draw += (score['Home'][home] * score['Away'][away] / 10000)\n"
   ]
  },
  {
   "cell_type": "code",
   "execution_count": 14,
   "metadata": {},
   "outputs": [
    {
     "data": {
      "text/plain": [
       "(0.1965037658716798, 0.5768575313544966, 0.2027136059398688)"
      ]
     },
     "execution_count": 14,
     "metadata": {},
     "output_type": "execute_result"
    }
   ],
   "source": [
    "# should get all percentage and average 38 games\n",
    "home_w, away_w, draw"
   ]
  },
  {
   "cell_type": "code",
   "execution_count": 16,
   "metadata": {},
   "outputs": [
    {
     "data": {
      "text/plain": [
       "0.9667049816826642"
      ]
     },
     "execution_count": 16,
     "metadata": {},
     "output_type": "execute_result"
    }
   ],
   "source": [
    "home_w + away_w + draw"
   ]
  },
  {
   "cell_type": "code",
   "execution_count": null,
   "metadata": {},
   "outputs": [],
   "source": []
  }
 ],
 "metadata": {
  "kernelspec": {
   "display_name": "Python 3",
   "language": "python",
   "name": "python3"
  },
  "language_info": {
   "codemirror_mode": {
    "name": "ipython",
    "version": 3
   },
   "file_extension": ".py",
   "mimetype": "text/x-python",
   "name": "python",
   "nbconvert_exporter": "python",
   "pygments_lexer": "ipython3",
   "version": "3.6.5"
  }
 },
 "nbformat": 4,
 "nbformat_minor": 2
}
